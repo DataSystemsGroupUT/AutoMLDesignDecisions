{
 "cells": [
  {
   "cell_type": "code",
   "execution_count": 1,
   "metadata": {},
   "outputs": [],
   "source": [
    "import pandas as pd\n",
    "import subprocess\n",
    "import argparse\n",
    "import os\n",
    "import glob\n",
    "import signal\n",
    "import datetime\n",
    "import time\n",
    "\n",
    "    \n",
    "def read_dataset(path):\n",
    "    # All datasets available\n",
    "    files_dirs = glob.glob(path + \"/*.csv\")\n",
    "    files_dirs.sort()\n",
    "    return (files_dirs)"
   ]
  },
  {
   "cell_type": "code",
   "execution_count": 3,
   "metadata": {},
   "outputs": [],
   "source": [
    "files = read_dataset(\"C:/Users/s-moh/0-Labwork/Benchmark Experiments/splits\")\n",
    "#print(files)"
   ]
  },
  {
   "cell_type": "code",
   "execution_count": 6,
   "metadata": {},
   "outputs": [
    {
     "name": "stdout",
     "output_type": "stream",
     "text": [
      "Collecting azureml-sdk[automl,notebooks]\n",
      "  Using cached https://files.pythonhosted.org/packages/f5/e7/fd6905da13ef9fe42ffc49ecbb7f0091cadd865ca9b610df136535f1fe73/azureml_sdk-1.0.30-py3-none-any.whl\n",
      "Requirement already satisfied: azureml-pipeline==1.0.30.* in c:\\users\\s-moh\\anaconda3\\lib\\site-packages (from azureml-sdk[automl,notebooks]) (1.0.30)\n",
      "Requirement already satisfied: azureml-core==1.0.30.* in c:\\users\\s-moh\\anaconda3\\lib\\site-packages (from azureml-sdk[automl,notebooks]) (1.0.30)\n",
      "Requirement already satisfied: azureml-train==1.0.30.* in c:\\users\\s-moh\\anaconda3\\lib\\site-packages (from azureml-sdk[automl,notebooks]) (1.0.30)\n",
      "Requirement already satisfied: azureml-dataprep<1.2.0,>=1.1.1 in c:\\users\\s-moh\\anaconda3\\lib\\site-packages (from azureml-sdk[automl,notebooks]) (1.1.2)\n",
      "Collecting azureml-train-automl==1.0.30.*; extra == \"automl\" (from azureml-sdk[automl,notebooks])\n",
      "  Using cached https://files.pythonhosted.org/packages/73/ab/e149178e85763a2308ba01876b61f1e60406c6e41345a08500829c5ed517/azureml_train_automl-1.0.30-py3-none-any.whl\n",
      "Collecting azureml-widgets==1.0.30.*; extra == \"notebooks\" (from azureml-sdk[automl,notebooks])\n",
      "  Using cached https://files.pythonhosted.org/packages/ee/f1/1c7fd6d379263cb6ab44ca7ce47b9f1ef77c3ab3c0425ea6d0110f02434f/azureml_widgets-1.0.30-py3-none-any.whl\n",
      "Collecting azureml-contrib-notebook==1.0.30.*; extra == \"notebooks\" (from azureml-sdk[automl,notebooks])\n",
      "  Using cached https://files.pythonhosted.org/packages/2f/31/84435671c5d45a2c46008bdade94cdce07fb86973a1a4d53200dfcf98c8e/azureml_contrib_notebook-1.0.30-py2.py3-none-any.whl\n",
      "Requirement already satisfied: azureml-pipeline-core==1.0.30.* in c:\\users\\s-moh\\anaconda3\\lib\\site-packages (from azureml-pipeline==1.0.30.*->azureml-sdk[automl,notebooks]) (1.0.30)\n",
      "Requirement already satisfied: azureml-pipeline-steps==1.0.30.* in c:\\users\\s-moh\\anaconda3\\lib\\site-packages (from azureml-pipeline==1.0.30.*->azureml-sdk[automl,notebooks]) (1.0.30)\n",
      "Requirement already satisfied: azure-graphrbac>=0.40.0 in c:\\users\\s-moh\\anaconda3\\lib\\site-packages (from azureml-core==1.0.30.*->azureml-sdk[automl,notebooks]) (0.61.0)\n",
      "Requirement already satisfied: six>=1.11.0 in c:\\users\\s-moh\\anaconda3\\lib\\site-packages (from azureml-core==1.0.30.*->azureml-sdk[automl,notebooks]) (1.12.0)\n",
      "Requirement already satisfied: pathspec in c:\\users\\s-moh\\anaconda3\\lib\\site-packages (from azureml-core==1.0.30.*->azureml-sdk[automl,notebooks]) (0.5.9)\n",
      "Requirement already satisfied: msrest>=0.5.1 in c:\\users\\s-moh\\anaconda3\\lib\\site-packages (from azureml-core==1.0.30.*->azureml-sdk[automl,notebooks]) (0.6.6)\n",
      "Requirement already satisfied: jmespath in c:\\users\\s-moh\\anaconda3\\lib\\site-packages (from azureml-core==1.0.30.*->azureml-sdk[automl,notebooks]) (0.9.4)\n",
      "Requirement already satisfied: azure-mgmt-resource>=1.2.1 in c:\\users\\s-moh\\anaconda3\\lib\\site-packages (from azureml-core==1.0.30.*->azureml-sdk[automl,notebooks]) (2.1.0)\n",
      "Requirement already satisfied: SecretStorage in c:\\users\\s-moh\\anaconda3\\lib\\site-packages (from azureml-core==1.0.30.*->azureml-sdk[automl,notebooks]) (3.1.1)\n",
      "Requirement already satisfied: docker in c:\\users\\s-moh\\anaconda3\\lib\\site-packages (from azureml-core==1.0.30.*->azureml-sdk[automl,notebooks]) (3.7.2)\n",
      "Requirement already satisfied: cryptography!=1.9,!=2.0.*,!=2.1.*,!=2.2.* in c:\\users\\s-moh\\anaconda3\\lib\\site-packages (from azureml-core==1.0.30.*->azureml-sdk[automl,notebooks]) (2.5)\n",
      "Requirement already satisfied: pyopenssl in c:\\users\\s-moh\\anaconda3\\lib\\site-packages (from azureml-core==1.0.30.*->azureml-sdk[automl,notebooks]) (19.0.0)\n",
      "Requirement already satisfied: jsonpickle in c:\\users\\s-moh\\anaconda3\\lib\\site-packages (from azureml-core==1.0.30.*->azureml-sdk[automl,notebooks]) (1.1)\n",
      "Requirement already satisfied: paramiko>=2.0.8 in c:\\users\\s-moh\\anaconda3\\lib\\site-packages (from azureml-core==1.0.30.*->azureml-sdk[automl,notebooks]) (2.4.2)\n",
      "Requirement already satisfied: azure-common>=1.1.12 in c:\\users\\s-moh\\anaconda3\\lib\\site-packages (from azureml-core==1.0.30.*->azureml-sdk[automl,notebooks]) (1.1.19)\n",
      "Requirement already satisfied: python-dateutil>=2.7.3 in c:\\users\\s-moh\\anaconda3\\lib\\site-packages (from azureml-core==1.0.30.*->azureml-sdk[automl,notebooks]) (2.7.5)\n",
      "Requirement already satisfied: azure-mgmt-authorization>=0.40.0 in c:\\users\\s-moh\\anaconda3\\lib\\site-packages (from azureml-core==1.0.30.*->azureml-sdk[automl,notebooks]) (0.51.1)\n",
      "Requirement already satisfied: ruamel.yaml<=0.15.89,>=0.15.35 in c:\\users\\s-moh\\anaconda3\\lib\\site-packages (from azureml-core==1.0.30.*->azureml-sdk[automl,notebooks]) (0.15.89)\n",
      "Requirement already satisfied: requests>=2.19.1 in c:\\users\\s-moh\\anaconda3\\lib\\site-packages (from azureml-core==1.0.30.*->azureml-sdk[automl,notebooks]) (2.21.0)\n",
      "Requirement already satisfied: ndg-httpsclient in c:\\users\\s-moh\\anaconda3\\lib\\site-packages (from azureml-core==1.0.30.*->azureml-sdk[automl,notebooks]) (0.5.1)\n",
      "Requirement already satisfied: backports.tempfile in c:\\users\\s-moh\\anaconda3\\lib\\site-packages (from azureml-core==1.0.30.*->azureml-sdk[automl,notebooks]) (1.0)\n",
      "Requirement already satisfied: msrestazure>=0.4.33 in c:\\users\\s-moh\\anaconda3\\lib\\site-packages (from azureml-core==1.0.30.*->azureml-sdk[automl,notebooks]) (0.6.0)\n",
      "Requirement already satisfied: adal>=1.2.0 in c:\\users\\s-moh\\anaconda3\\lib\\site-packages (from azureml-core==1.0.30.*->azureml-sdk[automl,notebooks]) (1.2.1)\n",
      "Requirement already satisfied: azure-mgmt-containerregistry>=2.0.0 in c:\\users\\s-moh\\anaconda3\\lib\\site-packages (from azureml-core==1.0.30.*->azureml-sdk[automl,notebooks]) (2.7.0)\n",
      "Requirement already satisfied: contextlib2 in c:\\users\\s-moh\\anaconda3\\lib\\site-packages (from azureml-core==1.0.30.*->azureml-sdk[automl,notebooks]) (0.5.5)\n",
      "Requirement already satisfied: pytz in c:\\users\\s-moh\\anaconda3\\lib\\site-packages (from azureml-core==1.0.30.*->azureml-sdk[automl,notebooks]) (2018.9)\n",
      "Requirement already satisfied: azure-mgmt-storage>=1.5.0 in c:\\users\\s-moh\\anaconda3\\lib\\site-packages (from azureml-core==1.0.30.*->azureml-sdk[automl,notebooks]) (3.1.1)\n",
      "Requirement already satisfied: urllib3>=1.23 in c:\\users\\s-moh\\anaconda3\\lib\\site-packages (from azureml-core==1.0.30.*->azureml-sdk[automl,notebooks]) (1.24.1)\n",
      "Requirement already satisfied: azure-mgmt-keyvault>=0.40.0 in c:\\users\\s-moh\\anaconda3\\lib\\site-packages (from azureml-core==1.0.30.*->azureml-sdk[automl,notebooks]) (1.1.0)\n",
      "Requirement already satisfied: PyJWT in c:\\users\\s-moh\\anaconda3\\lib\\site-packages (from azureml-core==1.0.30.*->azureml-sdk[automl,notebooks]) (1.7.1)\n",
      "Requirement already satisfied: azureml-train-core==1.0.30.* in c:\\users\\s-moh\\anaconda3\\lib\\site-packages (from azureml-train==1.0.30.*->azureml-sdk[automl,notebooks]) (1.0.30)\n",
      "Requirement already satisfied: dotnetcore2==2.1.8 in c:\\users\\s-moh\\anaconda3\\lib\\site-packages (from azureml-dataprep<1.2.0,>=1.1.1->azureml-sdk[automl,notebooks]) (2.1.8)\n",
      "Requirement already satisfied: azureml-dataprep-native<13.0.0,>=12.0.1 in c:\\users\\s-moh\\anaconda3\\lib\\site-packages (from azureml-dataprep<1.2.0,>=1.1.1->azureml-sdk[automl,notebooks]) (12.0.1)\n",
      "Requirement already satisfied: pandas<=0.23.4,>=0.21.0 in c:\\users\\s-moh\\anaconda3\\lib\\site-packages (from azureml-train-automl==1.0.30.*; extra == \"automl\"->azureml-sdk[automl,notebooks]) (0.23.4)\n",
      "Collecting lightgbm<=2.2.1,>=2.0.11 (from azureml-train-automl==1.0.30.*; extra == \"automl\"->azureml-sdk[automl,notebooks])\n",
      "  Using cached https://files.pythonhosted.org/packages/63/0a/0aa1e3afe54b75bceac1c85f534cf8a73036975296d439c699fbe4f48aa4/lightgbm-2.2.1-py2.py3-none-win_amd64.whl\n",
      "Collecting skl2onnx==1.4.5; python_version < \"3.7\" (from azureml-train-automl==1.0.30.*; extra == \"automl\"->azureml-sdk[automl,notebooks])\n",
      "  Using cached https://files.pythonhosted.org/packages/a2/17/99dcc4c5881fbbf73151c2e66cfe2b3ad0664e114f0f06d987c2c21afb86/skl2onnx-1.4.5-py2.py3-none-any.whl\n",
      "Collecting onnxmltools==1.4.0; python_version < \"3.7\" (from azureml-train-automl==1.0.30.*; extra == \"automl\"->azureml-sdk[automl,notebooks])\n",
      "  Using cached https://files.pythonhosted.org/packages/6f/0d/83201824e7693b63eac297e294cfa8af69f70b1b56492d40d580ba44bb6a/onnxmltools-1.4.0-py2.py3-none-any.whl\n",
      "Collecting resource>=0.1.8 (from azureml-train-automl==1.0.30.*; extra == \"automl\"->azureml-sdk[automl,notebooks])\n",
      "  Using cached https://files.pythonhosted.org/packages/34/ad/9cd037c01c075f9a273c23557f8e71195d773d59d3881bbb26011d396c8b/Resource-0.2.1-py2.py3-none-any.whl\n",
      "Collecting wheel==0.30.0 (from azureml-train-automl==1.0.30.*; extra == \"automl\"->azureml-sdk[automl,notebooks])\n",
      "  Using cached https://files.pythonhosted.org/packages/0c/80/16a85b47702a1f47a63c104c91abdd0a6704ee8ae3b4ce4afc49bc39f9d9/wheel-0.30.0-py2.py3-none-any.whl\n",
      "Requirement already satisfied: numpy<=1.16.2,>=1.11.0 in c:\\users\\s-moh\\anaconda3\\lib\\site-packages (from azureml-train-automl==1.0.30.*; extra == \"automl\"->azureml-sdk[automl,notebooks]) (1.15.4)\n",
      "Requirement already satisfied: scikit-learn<=0.20.3,>=0.19.0 in c:\\users\\s-moh\\anaconda3\\lib\\site-packages (from azureml-train-automl==1.0.30.*; extra == \"automl\"->azureml-sdk[automl,notebooks]) (0.20.2)\n",
      "Requirement already satisfied: scipy<=1.1.0,>=1.0.0 in c:\\users\\s-moh\\anaconda3\\lib\\site-packages (from azureml-train-automl==1.0.30.*; extra == \"automl\"->azureml-sdk[automl,notebooks]) (1.1.0)\n",
      "Requirement already satisfied: gensim in c:\\users\\s-moh\\anaconda3\\lib\\site-packages (from azureml-train-automl==1.0.30.*; extra == \"automl\"->azureml-sdk[automl,notebooks]) (3.7.2)\n",
      "Requirement already satisfied: dill>=0.2.8 in c:\\users\\s-moh\\anaconda3\\lib\\site-packages (from azureml-train-automl==1.0.30.*; extra == \"automl\"->azureml-sdk[automl,notebooks]) (0.2.9)\n",
      "Collecting sklearn-pandas<=1.7.0,>=1.4.0 (from azureml-train-automl==1.0.30.*; extra == \"automl\"->azureml-sdk[automl,notebooks])\n",
      "  Using cached https://files.pythonhosted.org/packages/7e/9c/c94f46b40b86d2c77c46c4c1b858fc66c117b4390665eca28f2e0812db45/sklearn_pandas-1.7.0-py2.py3-none-any.whl\n",
      "Requirement already satisfied: azureml-telemetry==1.0.30.* in c:\\users\\s-moh\\anaconda3\\lib\\site-packages (from azureml-train-automl==1.0.30.*; extra == \"automl\"->azureml-sdk[automl,notebooks]) (1.0.30)\n",
      "Requirement already satisfied: ipywidgets>=7.0.0 in c:\\users\\s-moh\\anaconda3\\lib\\site-packages (from azureml-widgets==1.0.30.*; extra == \"notebooks\"->azureml-sdk[automl,notebooks]) (7.4.2)\n",
      "Requirement already satisfied: ipython in c:\\users\\s-moh\\anaconda3\\lib\\site-packages (from azureml-contrib-notebook==1.0.30.*; extra == \"notebooks\"->azureml-sdk[automl,notebooks]) (7.2.0)\n",
      "Requirement already satisfied: certifi in c:\\users\\s-moh\\anaconda3\\lib\\site-packages (from azureml-pipeline-steps==1.0.30.*->azureml-pipeline==1.0.30.*->azureml-sdk[automl,notebooks]) (2019.3.9)\n",
      "Requirement already satisfied: isodate>=0.6.0 in c:\\users\\s-moh\\anaconda3\\lib\\site-packages (from msrest>=0.5.1->azureml-core==1.0.30.*->azureml-sdk[automl,notebooks]) (0.6.0)\n",
      "Requirement already satisfied: requests-oauthlib>=0.5.0 in c:\\users\\s-moh\\anaconda3\\lib\\site-packages (from msrest>=0.5.1->azureml-core==1.0.30.*->azureml-sdk[automl,notebooks]) (1.2.0)\n",
      "Requirement already satisfied: jeepney in c:\\users\\s-moh\\anaconda3\\lib\\site-packages (from SecretStorage->azureml-core==1.0.30.*->azureml-sdk[automl,notebooks]) (0.4)\n",
      "Requirement already satisfied: docker-pycreds>=0.4.0 in c:\\users\\s-moh\\anaconda3\\lib\\site-packages (from docker->azureml-core==1.0.30.*->azureml-sdk[automl,notebooks]) (0.4.0)\n",
      "Requirement already satisfied: websocket-client>=0.32.0 in c:\\users\\s-moh\\anaconda3\\lib\\site-packages (from docker->azureml-core==1.0.30.*->azureml-sdk[automl,notebooks]) (0.56.0)\n",
      "Requirement already satisfied: pypiwin32==223; sys_platform == \"win32\" and python_version >= \"3.6\" in c:\\users\\s-moh\\anaconda3\\lib\\site-packages (from docker->azureml-core==1.0.30.*->azureml-sdk[automl,notebooks]) (223)\n",
      "Requirement already satisfied: cffi!=1.11.3,>=1.8 in c:\\users\\s-moh\\anaconda3\\lib\\site-packages (from cryptography!=1.9,!=2.0.*,!=2.1.*,!=2.2.*->azureml-core==1.0.30.*->azureml-sdk[automl,notebooks]) (1.11.5)\n",
      "Requirement already satisfied: asn1crypto>=0.21.0 in c:\\users\\s-moh\\anaconda3\\lib\\site-packages (from cryptography!=1.9,!=2.0.*,!=2.1.*,!=2.2.*->azureml-core==1.0.30.*->azureml-sdk[automl,notebooks]) (0.24.0)\n",
      "Requirement already satisfied: bcrypt>=3.1.3 in c:\\users\\s-moh\\anaconda3\\lib\\site-packages (from paramiko>=2.0.8->azureml-core==1.0.30.*->azureml-sdk[automl,notebooks]) (3.1.6)\n",
      "Requirement already satisfied: pynacl>=1.0.1 in c:\\users\\s-moh\\anaconda3\\lib\\site-packages (from paramiko>=2.0.8->azureml-core==1.0.30.*->azureml-sdk[automl,notebooks]) (1.3.0)\n",
      "Requirement already satisfied: pyasn1>=0.1.7 in c:\\users\\s-moh\\anaconda3\\lib\\site-packages (from paramiko>=2.0.8->azureml-core==1.0.30.*->azureml-sdk[automl,notebooks]) (0.4.5)\n",
      "Requirement already satisfied: idna<2.9,>=2.5 in c:\\users\\s-moh\\anaconda3\\lib\\site-packages (from requests>=2.19.1->azureml-core==1.0.30.*->azureml-sdk[automl,notebooks]) (2.8)\n",
      "Requirement already satisfied: chardet<3.1.0,>=3.0.2 in c:\\users\\s-moh\\anaconda3\\lib\\site-packages (from requests>=2.19.1->azureml-core==1.0.30.*->azureml-sdk[automl,notebooks]) (3.0.4)\n",
      "Requirement already satisfied: backports.weakref in c:\\users\\s-moh\\anaconda3\\lib\\site-packages (from backports.tempfile->azureml-core==1.0.30.*->azureml-sdk[automl,notebooks]) (1.0.post1)\n",
      "Requirement already satisfied: azure-mgmt-nspkg>=2.0.0 in c:\\users\\s-moh\\anaconda3\\lib\\site-packages (from azure-mgmt-keyvault>=0.40.0->azureml-core==1.0.30.*->azureml-sdk[automl,notebooks]) (3.0.2)\n",
      "Requirement already satisfied: azureml-train-restclients-hyperdrive==1.0.30.* in c:\\users\\s-moh\\anaconda3\\lib\\site-packages (from azureml-train-core==1.0.30.*->azureml-train==1.0.30.*->azureml-sdk[automl,notebooks]) (1.0.30)\n",
      "Requirement already satisfied: distro>=1.2.0 in c:\\users\\s-moh\\anaconda3\\lib\\site-packages (from dotnetcore2==2.1.8->azureml-dataprep<1.2.0,>=1.1.1->azureml-sdk[automl,notebooks]) (1.4.0)\n",
      "Collecting onnx (from skl2onnx==1.4.5; python_version < \"3.7\"->azureml-train-automl==1.0.30.*; extra == \"automl\"->azureml-sdk[automl,notebooks])\n",
      "  Using cached https://files.pythonhosted.org/packages/3f/41/9aa92855b551022b11e6684d0f2e24eafed6899424f8c932d9be336a8fa7/onnx-1.5.0-cp36-cp36m-win_amd64.whl\n",
      "Requirement already satisfied: protobuf in c:\\users\\s-moh\\anaconda3\\lib\\site-packages (from skl2onnx==1.4.5; python_version < \"3.7\"->azureml-train-automl==1.0.30.*; extra == \"automl\"->azureml-sdk[automl,notebooks]) (3.6.1)\n",
      "Collecting keras2onnx (from onnxmltools==1.4.0; python_version < \"3.7\"->azureml-train-automl==1.0.30.*; extra == \"automl\"->azureml-sdk[automl,notebooks])\n",
      "  Using cached https://files.pythonhosted.org/packages/d8/17/c1583b741af6400abfd4e6497689acee1b01dc53955321d703a7b5348bd4/keras2onnx-1.4.0-py3-none-any.whl\n",
      "Collecting JsonForm>=0.0.2 (from resource>=0.1.8->azureml-train-automl==1.0.30.*; extra == \"automl\"->azureml-sdk[automl,notebooks])\n",
      "Collecting JsonSir>=0.0.2 (from resource>=0.1.8->azureml-train-automl==1.0.30.*; extra == \"automl\"->azureml-sdk[automl,notebooks])\n",
      "Collecting python-easyconfig>=0.1.0 (from resource>=0.1.8->azureml-train-automl==1.0.30.*; extra == \"automl\"->azureml-sdk[automl,notebooks])\n",
      "  Using cached https://files.pythonhosted.org/packages/b1/86/1138081cca360a02066eedaf301d0f358c35e0e0d67572acf9d6354edca9/Python_EasyConfig-0.1.7-py2.py3-none-any.whl\n",
      "Requirement already satisfied: smart-open>=1.7.0 in c:\\users\\s-moh\\anaconda3\\lib\\site-packages (from gensim->azureml-train-automl==1.0.30.*; extra == \"automl\"->azureml-sdk[automl,notebooks]) (1.8.3)\n",
      "Requirement already satisfied: applicationinsights in c:\\users\\s-moh\\anaconda3\\lib\\site-packages (from azureml-telemetry==1.0.30.*->azureml-train-automl==1.0.30.*; extra == \"automl\"->azureml-sdk[automl,notebooks]) (0.11.9)\n",
      "Requirement already satisfied: traitlets>=4.3.1 in c:\\users\\s-moh\\anaconda3\\lib\\site-packages (from ipywidgets>=7.0.0->azureml-widgets==1.0.30.*; extra == \"notebooks\"->azureml-sdk[automl,notebooks]) (4.3.2)\n",
      "Requirement already satisfied: ipykernel>=4.5.1 in c:\\users\\s-moh\\anaconda3\\lib\\site-packages (from ipywidgets>=7.0.0->azureml-widgets==1.0.30.*; extra == \"notebooks\"->azureml-sdk[automl,notebooks]) (5.1.0)\n",
      "Requirement already satisfied: nbformat>=4.2.0 in c:\\users\\s-moh\\anaconda3\\lib\\site-packages (from ipywidgets>=7.0.0->azureml-widgets==1.0.30.*; extra == \"notebooks\"->azureml-sdk[automl,notebooks]) (4.4.0)\n",
      "Requirement already satisfied: widgetsnbextension~=3.4.0 in c:\\users\\s-moh\\anaconda3\\lib\\site-packages (from ipywidgets>=7.0.0->azureml-widgets==1.0.30.*; extra == \"notebooks\"->azureml-sdk[automl,notebooks]) (3.4.2)\n",
      "Requirement already satisfied: colorama; sys_platform == \"win32\" in c:\\users\\s-moh\\anaconda3\\lib\\site-packages (from ipython->azureml-contrib-notebook==1.0.30.*; extra == \"notebooks\"->azureml-sdk[automl,notebooks]) (0.4.1)\n",
      "Requirement already satisfied: prompt-toolkit<2.1.0,>=2.0.0 in c:\\users\\s-moh\\anaconda3\\lib\\site-packages (from ipython->azureml-contrib-notebook==1.0.30.*; extra == \"notebooks\"->azureml-sdk[automl,notebooks]) (2.0.8)\n",
      "Requirement already satisfied: pygments in c:\\users\\s-moh\\anaconda3\\lib\\site-packages (from ipython->azureml-contrib-notebook==1.0.30.*; extra == \"notebooks\"->azureml-sdk[automl,notebooks]) (2.3.1)\n",
      "Requirement already satisfied: backcall in c:\\users\\s-moh\\anaconda3\\lib\\site-packages (from ipython->azureml-contrib-notebook==1.0.30.*; extra == \"notebooks\"->azureml-sdk[automl,notebooks]) (0.1.0)\n",
      "Requirement already satisfied: decorator in c:\\users\\s-moh\\anaconda3\\lib\\site-packages (from ipython->azureml-contrib-notebook==1.0.30.*; extra == \"notebooks\"->azureml-sdk[automl,notebooks]) (4.3.2)\n",
      "Requirement already satisfied: setuptools>=18.5 in c:\\users\\s-moh\\anaconda3\\lib\\site-packages (from ipython->azureml-contrib-notebook==1.0.30.*; extra == \"notebooks\"->azureml-sdk[automl,notebooks]) (40.7.3)\n",
      "Requirement already satisfied: jedi>=0.10 in c:\\users\\s-moh\\anaconda3\\lib\\site-packages (from ipython->azureml-contrib-notebook==1.0.30.*; extra == \"notebooks\"->azureml-sdk[automl,notebooks]) (0.13.2)\n",
      "Requirement already satisfied: pickleshare in c:\\users\\s-moh\\anaconda3\\lib\\site-packages (from ipython->azureml-contrib-notebook==1.0.30.*; extra == \"notebooks\"->azureml-sdk[automl,notebooks]) (0.7.5)\n",
      "Requirement already satisfied: oauthlib>=3.0.0 in c:\\users\\s-moh\\anaconda3\\lib\\site-packages (from requests-oauthlib>=0.5.0->msrest>=0.5.1->azureml-core==1.0.30.*->azureml-sdk[automl,notebooks]) (3.0.1)\n",
      "Requirement already satisfied: pywin32>=223 in c:\\users\\s-moh\\anaconda3\\lib\\site-packages (from pypiwin32==223; sys_platform == \"win32\" and python_version >= \"3.6\"->docker->azureml-core==1.0.30.*->azureml-sdk[automl,notebooks]) (223)\n",
      "Requirement already satisfied: pycparser in c:\\users\\s-moh\\anaconda3\\lib\\site-packages (from cffi!=1.11.3,>=1.8->cryptography!=1.9,!=2.0.*,!=2.1.*,!=2.2.*->azureml-core==1.0.30.*->azureml-sdk[automl,notebooks]) (2.19)\n",
      "Requirement already satisfied: azure-nspkg>=3.0.0 in c:\\users\\s-moh\\anaconda3\\lib\\site-packages (from azure-mgmt-nspkg>=2.0.0->azure-mgmt-keyvault>=0.40.0->azureml-core==1.0.30.*->azureml-sdk[automl,notebooks]) (3.0.2)\n",
      "Collecting typing>=3.6.4 (from onnx->skl2onnx==1.4.5; python_version < \"3.7\"->azureml-train-automl==1.0.30.*; extra == \"automl\"->azureml-sdk[automl,notebooks])\n",
      "  Using cached https://files.pythonhosted.org/packages/4a/bd/eee1157fc2d8514970b345d69cb9975dcd1e42cd7e61146ed841f6e68309/typing-3.6.6-py3-none-any.whl\n",
      "Collecting typing-extensions>=3.6.2.1 (from onnx->skl2onnx==1.4.5; python_version < \"3.7\"->azureml-train-automl==1.0.30.*; extra == \"automl\"->azureml-sdk[automl,notebooks])\n",
      "  Using cached https://files.pythonhosted.org/packages/0f/62/c66e553258c37c33f9939abb2dd8d2481803d860ff68e635466f12aa7efa/typing_extensions-3.7.2-py3-none-any.whl\n",
      "Collecting onnxconverter-common>=1.4.0 (from keras2onnx->onnxmltools==1.4.0; python_version < \"3.7\"->azureml-train-automl==1.0.30.*; extra == \"automl\"->azureml-sdk[automl,notebooks])\n",
      "  Using cached https://files.pythonhosted.org/packages/c3/55/9ab35fd105e568cbf2164a035ebd09f37d5a3be75d9a9a56369826bb7f80/onnxconverter_common-1.4.1-py2.py3-none-any.whl\n",
      "Requirement already satisfied: keras in c:\\users\\s-moh\\anaconda3\\lib\\site-packages (from keras2onnx->onnxmltools==1.4.0; python_version < \"3.7\"->azureml-train-automl==1.0.30.*; extra == \"automl\"->azureml-sdk[automl,notebooks]) (2.2.4)\n",
      "Requirement already satisfied: jsonschema in c:\\users\\s-moh\\anaconda3\\lib\\site-packages (from JsonForm>=0.0.2->resource>=0.1.8->azureml-train-automl==1.0.30.*; extra == \"automl\"->azureml-sdk[automl,notebooks]) (2.6.0)\n",
      "Requirement already satisfied: PyYAML in c:\\users\\s-moh\\anaconda3\\lib\\site-packages (from python-easyconfig>=0.1.0->resource>=0.1.8->azureml-train-automl==1.0.30.*; extra == \"automl\"->azureml-sdk[automl,notebooks]) (3.13)\n",
      "Requirement already satisfied: boto3 in c:\\users\\s-moh\\anaconda3\\lib\\site-packages (from smart-open>=1.7.0->gensim->azureml-train-automl==1.0.30.*; extra == \"automl\"->azureml-sdk[automl,notebooks]) (1.9.136)\n",
      "Requirement already satisfied: boto>=2.32 in c:\\users\\s-moh\\anaconda3\\lib\\site-packages (from smart-open>=1.7.0->gensim->azureml-train-automl==1.0.30.*; extra == \"automl\"->azureml-sdk[automl,notebooks]) (2.49.0)\n",
      "Requirement already satisfied: ipython_genutils in c:\\users\\s-moh\\anaconda3\\lib\\site-packages (from traitlets>=4.3.1->ipywidgets>=7.0.0->azureml-widgets==1.0.30.*; extra == \"notebooks\"->azureml-sdk[automl,notebooks]) (0.2.0)\n",
      "Requirement already satisfied: tornado>=4.2 in c:\\users\\s-moh\\anaconda3\\lib\\site-packages (from ipykernel>=4.5.1->ipywidgets>=7.0.0->azureml-widgets==1.0.30.*; extra == \"notebooks\"->azureml-sdk[automl,notebooks]) (5.1.1)\n",
      "Requirement already satisfied: jupyter-client in c:\\users\\s-moh\\anaconda3\\lib\\site-packages (from ipykernel>=4.5.1->ipywidgets>=7.0.0->azureml-widgets==1.0.30.*; extra == \"notebooks\"->azureml-sdk[automl,notebooks]) (5.2.4)\n",
      "Requirement already satisfied: jupyter_core in c:\\users\\s-moh\\anaconda3\\lib\\site-packages (from nbformat>=4.2.0->ipywidgets>=7.0.0->azureml-widgets==1.0.30.*; extra == \"notebooks\"->azureml-sdk[automl,notebooks]) (4.4.0)\n",
      "Requirement already satisfied: notebook>=4.4.1 in c:\\users\\s-moh\\anaconda3\\lib\\site-packages (from widgetsnbextension~=3.4.0->ipywidgets>=7.0.0->azureml-widgets==1.0.30.*; extra == \"notebooks\"->azureml-sdk[automl,notebooks]) (5.7.4)\n",
      "Requirement already satisfied: wcwidth in c:\\users\\s-moh\\anaconda3\\lib\\site-packages (from prompt-toolkit<2.1.0,>=2.0.0->ipython->azureml-contrib-notebook==1.0.30.*; extra == \"notebooks\"->azureml-sdk[automl,notebooks]) (0.1.7)\n",
      "Requirement already satisfied: parso>=0.3.0 in c:\\users\\s-moh\\anaconda3\\lib\\site-packages (from jedi>=0.10->ipython->azureml-contrib-notebook==1.0.30.*; extra == \"notebooks\"->azureml-sdk[automl,notebooks]) (0.3.2)\n",
      "Requirement already satisfied: h5py in c:\\users\\s-moh\\anaconda3\\lib\\site-packages (from keras->keras2onnx->onnxmltools==1.4.0; python_version < \"3.7\"->azureml-train-automl==1.0.30.*; extra == \"automl\"->azureml-sdk[automl,notebooks]) (2.8.0)\n",
      "Requirement already satisfied: keras-preprocessing>=1.0.5 in c:\\users\\s-moh\\anaconda3\\lib\\site-packages (from keras->keras2onnx->onnxmltools==1.4.0; python_version < \"3.7\"->azureml-train-automl==1.0.30.*; extra == \"automl\"->azureml-sdk[automl,notebooks]) (1.0.9)\n",
      "Requirement already satisfied: keras-applications>=1.0.6 in c:\\users\\s-moh\\anaconda3\\lib\\site-packages (from keras->keras2onnx->onnxmltools==1.4.0; python_version < \"3.7\"->azureml-train-automl==1.0.30.*; extra == \"automl\"->azureml-sdk[automl,notebooks]) (1.0.7)\n",
      "Requirement already satisfied: s3transfer<0.3.0,>=0.2.0 in c:\\users\\s-moh\\anaconda3\\lib\\site-packages (from boto3->smart-open>=1.7.0->gensim->azureml-train-automl==1.0.30.*; extra == \"automl\"->azureml-sdk[automl,notebooks]) (0.2.0)\n",
      "Requirement already satisfied: botocore<1.13.0,>=1.12.136 in c:\\users\\s-moh\\anaconda3\\lib\\site-packages (from boto3->smart-open>=1.7.0->gensim->azureml-train-automl==1.0.30.*; extra == \"automl\"->azureml-sdk[automl,notebooks]) (1.12.136)\n",
      "Requirement already satisfied: pyzmq>=13 in c:\\users\\s-moh\\anaconda3\\lib\\site-packages (from jupyter-client->ipykernel>=4.5.1->ipywidgets>=7.0.0->azureml-widgets==1.0.30.*; extra == \"notebooks\"->azureml-sdk[automl,notebooks]) (17.1.2)\n",
      "Requirement already satisfied: terminado>=0.8.1 in c:\\users\\s-moh\\anaconda3\\lib\\site-packages (from notebook>=4.4.1->widgetsnbextension~=3.4.0->ipywidgets>=7.0.0->azureml-widgets==1.0.30.*; extra == \"notebooks\"->azureml-sdk[automl,notebooks]) (0.8.1)\n",
      "Requirement already satisfied: nbconvert in c:\\users\\s-moh\\anaconda3\\lib\\site-packages (from notebook>=4.4.1->widgetsnbextension~=3.4.0->ipywidgets>=7.0.0->azureml-widgets==1.0.30.*; extra == \"notebooks\"->azureml-sdk[automl,notebooks]) (5.4.0)\n",
      "Requirement already satisfied: prometheus-client in c:\\users\\s-moh\\anaconda3\\lib\\site-packages (from notebook>=4.4.1->widgetsnbextension~=3.4.0->ipywidgets>=7.0.0->azureml-widgets==1.0.30.*; extra == \"notebooks\"->azureml-sdk[automl,notebooks]) (0.5.0)\n",
      "Requirement already satisfied: jinja2 in c:\\users\\s-moh\\anaconda3\\lib\\site-packages (from notebook>=4.4.1->widgetsnbextension~=3.4.0->ipywidgets>=7.0.0->azureml-widgets==1.0.30.*; extra == \"notebooks\"->azureml-sdk[automl,notebooks]) (2.10)\n",
      "Requirement already satisfied: Send2Trash in c:\\users\\s-moh\\anaconda3\\lib\\site-packages (from notebook>=4.4.1->widgetsnbextension~=3.4.0->ipywidgets>=7.0.0->azureml-widgets==1.0.30.*; extra == \"notebooks\"->azureml-sdk[automl,notebooks]) (1.5.0)\n",
      "Requirement already satisfied: docutils>=0.10 in c:\\users\\s-moh\\anaconda3\\lib\\site-packages (from botocore<1.13.0,>=1.12.136->boto3->smart-open>=1.7.0->gensim->azureml-train-automl==1.0.30.*; extra == \"automl\"->azureml-sdk[automl,notebooks]) (0.14)\n",
      "Requirement already satisfied: mistune>=0.8.1 in c:\\users\\s-moh\\anaconda3\\lib\\site-packages (from nbconvert->notebook>=4.4.1->widgetsnbextension~=3.4.0->ipywidgets>=7.0.0->azureml-widgets==1.0.30.*; extra == \"notebooks\"->azureml-sdk[automl,notebooks]) (0.8.4)\n",
      "Requirement already satisfied: entrypoints>=0.2.2 in c:\\users\\s-moh\\anaconda3\\lib\\site-packages (from nbconvert->notebook>=4.4.1->widgetsnbextension~=3.4.0->ipywidgets>=7.0.0->azureml-widgets==1.0.30.*; extra == \"notebooks\"->azureml-sdk[automl,notebooks]) (0.3)\n",
      "Requirement already satisfied: bleach in c:\\users\\s-moh\\anaconda3\\lib\\site-packages (from nbconvert->notebook>=4.4.1->widgetsnbextension~=3.4.0->ipywidgets>=7.0.0->azureml-widgets==1.0.30.*; extra == \"notebooks\"->azureml-sdk[automl,notebooks]) (3.1.0)\n",
      "Requirement already satisfied: pandocfilters>=1.4.1 in c:\\users\\s-moh\\anaconda3\\lib\\site-packages (from nbconvert->notebook>=4.4.1->widgetsnbextension~=3.4.0->ipywidgets>=7.0.0->azureml-widgets==1.0.30.*; extra == \"notebooks\"->azureml-sdk[automl,notebooks]) (1.4.2)\n",
      "Requirement already satisfied: testpath in c:\\users\\s-moh\\anaconda3\\lib\\site-packages (from nbconvert->notebook>=4.4.1->widgetsnbextension~=3.4.0->ipywidgets>=7.0.0->azureml-widgets==1.0.30.*; extra == \"notebooks\"->azureml-sdk[automl,notebooks]) (0.4.2)\n",
      "Requirement already satisfied: defusedxml in c:\\users\\s-moh\\anaconda3\\lib\\site-packages (from nbconvert->notebook>=4.4.1->widgetsnbextension~=3.4.0->ipywidgets>=7.0.0->azureml-widgets==1.0.30.*; extra == \"notebooks\"->azureml-sdk[automl,notebooks]) (0.5.0)\n",
      "Requirement already satisfied: MarkupSafe>=0.23 in c:\\users\\s-moh\\anaconda3\\lib\\site-packages (from jinja2->notebook>=4.4.1->widgetsnbextension~=3.4.0->ipywidgets>=7.0.0->azureml-widgets==1.0.30.*; extra == \"notebooks\"->azureml-sdk[automl,notebooks]) (1.1.0)\n",
      "Requirement already satisfied: webencodings in c:\\users\\s-moh\\anaconda3\\lib\\site-packages (from bleach->nbconvert->notebook>=4.4.1->widgetsnbextension~=3.4.0->ipywidgets>=7.0.0->azureml-widgets==1.0.30.*; extra == \"notebooks\"->azureml-sdk[automl,notebooks]) (0.5.1)\n",
      "Installing collected packages: lightgbm, typing, typing-extensions, onnx, skl2onnx, onnxconverter-common, keras2onnx, onnxmltools, JsonForm, JsonSir, python-easyconfig, resource, wheel, sklearn-pandas, azureml-train-automl, azureml-widgets, azureml-contrib-notebook, azureml-sdk\n",
      "  Found existing installation: wheel 0.32.3\n",
      "    Uninstalling wheel-0.32.3:\n",
      "      Successfully uninstalled wheel-0.32.3\n",
      "Successfully installed JsonForm-0.0.2 JsonSir-0.0.2 azureml-contrib-notebook-1.0.30 azureml-sdk-1.0.30 azureml-train-automl-1.0.30 azureml-widgets-1.0.30 keras2onnx-1.4.0 lightgbm-2.2.1 onnx-1.5.0 onnxconverter-common-1.4.1 onnxmltools-1.4.0 python-easyconfig-0.1.7 resource-0.2.1 skl2onnx-1.4.5 sklearn-pandas-1.7.0 typing-3.6.6 typing-extensions-3.7.2 wheel-0.30.0\n"
     ]
    }
   ],
   "source": [
    "#install azure sdk\n",
    "!pip install azureml-sdk[automl,notebooks]"
   ]
  },
  {
   "cell_type": "code",
   "execution_count": 7,
   "metadata": {},
   "outputs": [],
   "source": [
    "import azureml.core\n",
    "from azureml.core.workspace import Workspace\n",
    "import logging"
   ]
  },
  {
   "cell_type": "code",
   "execution_count": 10,
   "metadata": {},
   "outputs": [
    {
     "ename": "ImportError",
     "evalue": "cannot import name 'NotebookFormatter'",
     "output_type": "error",
     "traceback": [
      "\u001b[1;31m---------------------------------------------------------------------------\u001b[0m",
      "\u001b[1;31mImportError\u001b[0m                               Traceback (most recent call last)",
      "\u001b[1;32m~\\Anaconda3\\lib\\site-packages\\IPython\\core\\formatters.py\u001b[0m in \u001b[0;36m__call__\u001b[1;34m(self, obj)\u001b[0m\n\u001b[0;32m    343\u001b[0m             \u001b[0mmethod\u001b[0m \u001b[1;33m=\u001b[0m \u001b[0mget_real_method\u001b[0m\u001b[1;33m(\u001b[0m\u001b[0mobj\u001b[0m\u001b[1;33m,\u001b[0m \u001b[0mself\u001b[0m\u001b[1;33m.\u001b[0m\u001b[0mprint_method\u001b[0m\u001b[1;33m)\u001b[0m\u001b[1;33m\u001b[0m\u001b[1;33m\u001b[0m\u001b[0m\n\u001b[0;32m    344\u001b[0m             \u001b[1;32mif\u001b[0m \u001b[0mmethod\u001b[0m \u001b[1;32mis\u001b[0m \u001b[1;32mnot\u001b[0m \u001b[1;32mNone\u001b[0m\u001b[1;33m:\u001b[0m\u001b[1;33m\u001b[0m\u001b[1;33m\u001b[0m\u001b[0m\n\u001b[1;32m--> 345\u001b[1;33m                 \u001b[1;32mreturn\u001b[0m \u001b[0mmethod\u001b[0m\u001b[1;33m(\u001b[0m\u001b[1;33m)\u001b[0m\u001b[1;33m\u001b[0m\u001b[1;33m\u001b[0m\u001b[0m\n\u001b[0m\u001b[0;32m    346\u001b[0m             \u001b[1;32mreturn\u001b[0m \u001b[1;32mNone\u001b[0m\u001b[1;33m\u001b[0m\u001b[1;33m\u001b[0m\u001b[0m\n\u001b[0;32m    347\u001b[0m         \u001b[1;32melse\u001b[0m\u001b[1;33m:\u001b[0m\u001b[1;33m\u001b[0m\u001b[1;33m\u001b[0m\u001b[0m\n",
      "\u001b[1;32m~\\Anaconda3\\lib\\site-packages\\pandas\\core\\frame.py\u001b[0m in \u001b[0;36m_repr_html_\u001b[1;34m(self)\u001b[0m\n\u001b[0;32m    672\u001b[0m         \u001b[1;31m# qtconsole doesn't report its line width, and also\u001b[0m\u001b[1;33m\u001b[0m\u001b[1;33m\u001b[0m\u001b[1;33m\u001b[0m\u001b[0m\n\u001b[0;32m    673\u001b[0m         \u001b[1;31m# behaves badly when outputting an HTML table\u001b[0m\u001b[1;33m\u001b[0m\u001b[1;33m\u001b[0m\u001b[1;33m\u001b[0m\u001b[0m\n\u001b[1;32m--> 674\u001b[1;33m         \u001b[1;31m# that doesn't fit the window, so disable it.\u001b[0m\u001b[1;33m\u001b[0m\u001b[1;33m\u001b[0m\u001b[1;33m\u001b[0m\u001b[0m\n\u001b[0m\u001b[0;32m    675\u001b[0m         \u001b[1;31m# XXX: In IPython 3.x and above, the Qt console will not attempt to\u001b[0m\u001b[1;33m\u001b[0m\u001b[1;33m\u001b[0m\u001b[1;33m\u001b[0m\u001b[0m\n\u001b[0;32m    676\u001b[0m         \u001b[1;31m# display HTML, so this check can be removed when support for\u001b[0m\u001b[1;33m\u001b[0m\u001b[1;33m\u001b[0m\u001b[1;33m\u001b[0m\u001b[0m\n",
      "\u001b[1;32m~\\Anaconda3\\lib\\site-packages\\pandas\\core\\frame.py\u001b[0m in \u001b[0;36mto_html\u001b[1;34m(self, buf, columns, col_space, header, index, na_rep, formatters, float_format, sparsify, index_names, justify, max_rows, max_cols, show_dimensions, decimal, bold_rows, classes, escape, notebook, border, table_id, render_links)\u001b[0m\n\u001b[0;32m   2263\u001b[0m             \u001b[0msize_qualifier\u001b[0m \u001b[1;33m=\u001b[0m \u001b[1;34m''\u001b[0m\u001b[1;33m\u001b[0m\u001b[1;33m\u001b[0m\u001b[0m\n\u001b[0;32m   2264\u001b[0m             \u001b[1;32mif\u001b[0m \u001b[0mmemory_usage\u001b[0m \u001b[1;33m==\u001b[0m \u001b[1;34m'deep'\u001b[0m\u001b[1;33m:\u001b[0m\u001b[1;33m\u001b[0m\u001b[1;33m\u001b[0m\u001b[0m\n\u001b[1;32m-> 2265\u001b[1;33m                 \u001b[0mdeep\u001b[0m \u001b[1;33m=\u001b[0m \u001b[1;32mTrue\u001b[0m\u001b[1;33m\u001b[0m\u001b[1;33m\u001b[0m\u001b[0m\n\u001b[0m\u001b[0;32m   2266\u001b[0m             \u001b[1;32melse\u001b[0m\u001b[1;33m:\u001b[0m\u001b[1;33m\u001b[0m\u001b[1;33m\u001b[0m\u001b[0m\n\u001b[0;32m   2267\u001b[0m                 \u001b[1;31m# size_qualifier is just a best effort; not guaranteed to catch\u001b[0m\u001b[1;33m\u001b[0m\u001b[1;33m\u001b[0m\u001b[1;33m\u001b[0m\u001b[0m\n",
      "\u001b[1;32m~\\Anaconda3\\lib\\site-packages\\pandas\\io\\formats\\format.py\u001b[0m in \u001b[0;36mto_html\u001b[1;34m(self, classes, notebook, border)\u001b[0m\n\u001b[0;32m    725\u001b[0m         \u001b[0mvalues_to_format\u001b[0m \u001b[1;33m=\u001b[0m \u001b[0mframe\u001b[0m\u001b[1;33m.\u001b[0m\u001b[0miloc\u001b[0m\u001b[1;33m[\u001b[0m\u001b[1;33m:\u001b[0m\u001b[1;33m,\u001b[0m \u001b[0mi\u001b[0m\u001b[1;33m]\u001b[0m\u001b[1;33m.\u001b[0m\u001b[0m_formatting_values\u001b[0m\u001b[1;33m(\u001b[0m\u001b[1;33m)\u001b[0m\u001b[1;33m\u001b[0m\u001b[1;33m\u001b[0m\u001b[0m\n\u001b[0;32m    726\u001b[0m         return format_array(values_to_format, formatter,\n\u001b[1;32m--> 727\u001b[1;33m                             \u001b[0mfloat_format\u001b[0m\u001b[1;33m=\u001b[0m\u001b[0mself\u001b[0m\u001b[1;33m.\u001b[0m\u001b[0mfloat_format\u001b[0m\u001b[1;33m,\u001b[0m \u001b[0mna_rep\u001b[0m\u001b[1;33m=\u001b[0m\u001b[0mself\u001b[0m\u001b[1;33m.\u001b[0m\u001b[0mna_rep\u001b[0m\u001b[1;33m,\u001b[0m\u001b[1;33m\u001b[0m\u001b[1;33m\u001b[0m\u001b[0m\n\u001b[0m\u001b[0;32m    728\u001b[0m                             space=self.col_space, decimal=self.decimal)\n\u001b[0;32m    729\u001b[0m \u001b[1;33m\u001b[0m\u001b[0m\n",
      "\u001b[1;31mImportError\u001b[0m: cannot import name 'NotebookFormatter'"
     ]
    },
    {
     "data": {
      "text/plain": [
       "                                                       \n",
       "SDK version        1.0.30                              \n",
       "Subscription ID    74cffcc5-2ddc-4ec4-a45e-2b1b010a0af7\n",
       "Workspace          automl-benchmark                    \n",
       "Resource Group     automl-benchmark                    \n",
       "Location           northeurope                         \n",
       "Project Directory  ./automl-benchmark                  "
      ]
     },
     "execution_count": 10,
     "metadata": {},
     "output_type": "execute_result"
    }
   ],
   "source": [
    "ws = Workspace.from_config()\n",
    "# choose a name for the run history container in the workspace\n",
    "experiment_name = 'automl-benchmark'\n",
    "# project folder\n",
    "project_folder = './automl-benchmark'\n",
    "\n",
    "output = {}\n",
    "output['SDK version'] = azureml.core.VERSION\n",
    "output['Subscription ID'] = ws.subscription_id\n",
    "output['Workspace'] = ws.name\n",
    "output['Resource Group'] = ws.resource_group\n",
    "output['Location'] = ws.location\n",
    "output['Project Directory'] = project_folder\n",
    "pd.set_option('display.max_colwidth', -1)\n",
    "pd.DataFrame(data = output, index=['']).T"
   ]
  },
  {
   "cell_type": "code",
   "execution_count": null,
   "metadata": {},
   "outputs": [],
   "source": [
    "import azureml.dataprep as dprep\n",
    "\n",
    "file_path = os.path.join(os.getcwd(), \"dflows.dprep\")\n",
    "dflow_prepared = dprep.Dataflow.open(file_path)\n",
    "dflow_prepared.get_profile()"
   ]
  },
  {
   "cell_type": "code",
   "execution_count": 12,
   "metadata": {},
   "outputs": [],
   "source": [
    "automl_settings = {\n",
    "    \"iteration_timeout_minutes\" : 10,\n",
    "    \"iterations\" : 30,\n",
    "    \"primary_metric\" : 'accuracy',\n",
    "    \"preprocess\" : True,\n",
    "    \"verbosity\" : logging.INFO,\n",
    "    \"n_cross_validations\": 5\n",
    "}"
   ]
  },
  {
   "cell_type": "code",
   "execution_count": 13,
   "metadata": {},
   "outputs": [
    {
     "ename": "NameError",
     "evalue": "name 'X_train' is not defined",
     "output_type": "error",
     "traceback": [
      "\u001b[1;31m---------------------------------------------------------------------------\u001b[0m",
      "\u001b[1;31mNameError\u001b[0m                                 Traceback (most recent call last)",
      "\u001b[1;32m<ipython-input-13-8d2b11784b55>\u001b[0m in \u001b[0;36m<module>\u001b[1;34m\u001b[0m\n\u001b[0;32m      5\u001b[0m                              \u001b[0mdebug_log\u001b[0m \u001b[1;33m=\u001b[0m \u001b[1;34m'automated_ml_errors.log'\u001b[0m\u001b[1;33m,\u001b[0m\u001b[1;33m\u001b[0m\u001b[1;33m\u001b[0m\u001b[0m\n\u001b[0;32m      6\u001b[0m                              \u001b[0mpath\u001b[0m \u001b[1;33m=\u001b[0m \u001b[0mproject_folder\u001b[0m\u001b[1;33m,\u001b[0m\u001b[1;33m\u001b[0m\u001b[1;33m\u001b[0m\u001b[0m\n\u001b[1;32m----> 7\u001b[1;33m                              \u001b[0mX\u001b[0m \u001b[1;33m=\u001b[0m \u001b[0mX_train\u001b[0m\u001b[1;33m.\u001b[0m\u001b[0mvalues\u001b[0m\u001b[1;33m,\u001b[0m\u001b[1;33m\u001b[0m\u001b[1;33m\u001b[0m\u001b[0m\n\u001b[0m\u001b[0;32m      8\u001b[0m                              \u001b[0my\u001b[0m \u001b[1;33m=\u001b[0m \u001b[0my_train\u001b[0m\u001b[1;33m.\u001b[0m\u001b[0mvalues\u001b[0m\u001b[1;33m.\u001b[0m\u001b[0mflatten\u001b[0m\u001b[1;33m(\u001b[0m\u001b[1;33m)\u001b[0m\u001b[1;33m,\u001b[0m\u001b[1;33m\u001b[0m\u001b[1;33m\u001b[0m\u001b[0m\n\u001b[0;32m      9\u001b[0m                              **automl_settings)\n",
      "\u001b[1;31mNameError\u001b[0m: name 'X_train' is not defined"
     ]
    }
   ],
   "source": [
    "from azureml.train.automl import AutoMLConfig\n",
    "\n",
    "# local compute\n",
    "automated_ml_config = AutoMLConfig(task = 'classification',\n",
    "                             debug_log = 'automated_ml_errors.log',\n",
    "                             path = project_folder,\n",
    "                             X = X_train.values,\n",
    "                             y = y_train.values.flatten(),\n",
    "                             **automl_settings)"
   ]
  },
  {
   "cell_type": "code",
   "execution_count": null,
   "metadata": {},
   "outputs": [],
   "source": [
    "from azureml.core.experiment import Experiment\n",
    "experiment=Experiment(ws, experiment_name)\n",
    "local_run = experiment.submit(automated_ml_config, show_output=True)\n",
    "best_run, fitted_model = local_run.get_output()\n",
    "y_predict = fitted_model.predict(X_test.values)"
   ]
  },
  {
   "cell_type": "code",
   "execution_count": null,
   "metadata": {},
   "outputs": [],
   "source": [
    "for f in range(0, length(files), 2):\n",
    "    train_data = pd.read_csv(files[f+1])\n",
    "    train_data.rename(columns={data.columns[data.shape[1] - 1]: \"class\" }, inplace = True)\n",
    "    test_data = pd.read_csv(files[f])\n",
    "    test_data.rename(columns={data.columns[data.shape[1] - 1]: \"class\" }, inplace = True)\n",
    "    \n",
    "    y_train = train_data['class']\n",
    "    y_test = test_data['class']\n",
    "    X_train = train_data.drop(['class'], axis = 1)\n",
    "    X_test = test_data.drop(['class'], axis = 1)\n",
    "    \n",
    "    break"
   ]
  }
 ],
 "metadata": {
  "kernelspec": {
   "display_name": "Python 3",
   "language": "python",
   "name": "python3"
  },
  "language_info": {
   "codemirror_mode": {
    "name": "ipython",
    "version": 3
   },
   "file_extension": ".py",
   "mimetype": "text/x-python",
   "name": "python",
   "nbconvert_exporter": "python",
   "pygments_lexer": "ipython3",
   "version": "3.6.8"
  }
 },
 "nbformat": 4,
 "nbformat_minor": 2
}
