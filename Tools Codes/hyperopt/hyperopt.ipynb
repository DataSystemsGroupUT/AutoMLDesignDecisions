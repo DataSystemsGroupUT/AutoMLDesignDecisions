{
 "cells": [
  {
   "cell_type": "code",
   "execution_count": 1,
   "metadata": {},
   "outputs": [
    {
     "name": "stdout",
     "output_type": "stream",
     "text": [
      "WARN: OMP_NUM_THREADS=None =>\n",
      "... If you are using openblas if you are using openblas set OMP_NUM_THREADS=1 or risk subprocess calls hanging indefinitely\n"
     ]
    }
   ],
   "source": [
    "from sklearn.datasets import fetch_mldata\n",
    "from hpsklearn.estimator import hyperopt_estimator\n",
    "import numpy as np\n",
    "import pandas as pd\n",
    "import argparse\n",
    "import os\n",
    "import glob\n",
    "import signal\n",
    "import datetime\n",
    "import time"
   ]
  },
  {
   "cell_type": "code",
   "execution_count": 8,
   "metadata": {},
   "outputs": [],
   "source": [
    "def hyperOpt(X_train, y_train, X_test, y_test):    \n",
    "    timebud = 10 * 60\n",
    "    # Create the estimator object\n",
    "    #estim = HyperoptEstimator(max_evals = 1000, time_budget = timebud)\n",
    "    estim = hyperopt_estimator(max_evals = 1000, time_budget = timebud, trial_timeout = 0.2 * timebud)\n",
    "    print('HELLO')\n",
    "    # Search the space of classifiers and preprocessing steps and their\n",
    "    # respective hyperparameters in sklearn to fit a model to the data\n",
    "    t1 = time.time()\n",
    "    estim.fit(X_train.values, y_train)\n",
    "    t2 = time.time()\n",
    "\n",
    "    # Make a prediction using the optimized model\n",
    "    #prediction = estim.predict(X_test)\n",
    "\n",
    "    # Report the accuracy of the classifier on a given set of data\n",
    "    score = estim.score(X_test.values, y_test)\n",
    "\n",
    "    # Return instances of the classifier and preprocessing steps\n",
    "    #model = estim.best_model()\n",
    "    return score, t2 - t1\n",
    "    #print('score:', score, ' --- time:', t2 - t1)"
   ]
  },
  {
   "cell_type": "code",
   "execution_count": 9,
   "metadata": {},
   "outputs": [
    {
     "name": "stdout",
     "output_type": "stream",
     "text": [
      "File:  C:/Users/s-moh/0-Labwork/Benchmark Experiments/datasets/0\\Amazon_train.csv\n",
      "HELLO\n",
      "100%|█████████████████████████████████████████████████████| 1/1 [00:04<00:00,  4.95s/it, best loss: 0.7733333333333333]\n",
      "100%|████████████████████████████████████████████████████| 1/1 [02:01<00:00, 121.91s/it, best loss: 0.7733333333333333]\n",
      "100%|█████████████████████████████████████████████████████| 1/1 [00:05<00:00,  5.57s/it, best loss: 0.6888888888888889]\n",
      "100%|█████████████████████████████████████████████████████| 1/1 [00:02<00:00,  2.87s/it, best loss: 0.6888888888888889]\n",
      "100%|████████████████████████████████████████████████████| 1/1 [00:16<00:00, 16.74s/it, best loss: 0.28888888888888886]\n",
      "100%|████████████████████████████████████████████████████| 1/1 [00:21<00:00, 21.22s/it, best loss: 0.28888888888888886]\n",
      "100%|████████████████████████████████████████████████████| 1/1 [00:03<00:00,  3.58s/it, best loss: 0.28888888888888886]\n",
      "100%|████████████████████████████████████████████████████| 1/1 [00:02<00:00,  2.46s/it, best loss: 0.28888888888888886]\n",
      "100%|████████████████████████████████████████████████████| 1/1 [00:04<00:00,  4.18s/it, best loss: 0.28888888888888886]\n",
      "100%|████████████████████████████████████████████████████| 1/1 [00:06<00:00,  6.92s/it, best loss: 0.28888888888888886]\n",
      "100%|████████████████████████████████████████████████████| 1/1 [01:32<00:00, 92.53s/it, best loss: 0.28888888888888886]\n",
      "100%|████████████████████████████████████████████████████| 1/1 [00:19<00:00, 19.12s/it, best loss: 0.28888888888888886]\n",
      "100%|████████████████████████████████████████████████████| 1/1 [00:02<00:00,  2.47s/it, best loss: 0.28888888888888886]\n",
      "100%|████████████████████████████████████████████████████| 1/1 [00:03<00:00,  3.81s/it, best loss: 0.28888888888888886]\n",
      "100%|████████████████████████████████████████████████████| 1/1 [00:02<00:00,  2.40s/it, best loss: 0.28888888888888886]\n",
      "100%|████████████████████████████████████████████████████| 1/1 [00:02<00:00,  2.68s/it, best loss: 0.28888888888888886]\n",
      "100%|████████████████████████████████████████████████████| 1/1 [00:02<00:00,  2.09s/it, best loss: 0.28888888888888886]\n",
      "100%|████████████████████████████████████████████████████| 1/1 [00:07<00:00,  7.88s/it, best loss: 0.28888888888888886]\n",
      "100%|████████████████████████████████████████████████████| 1/1 [00:07<00:00,  7.19s/it, best loss: 0.28888888888888886]\n",
      "100%|███████████████████████████████████████████████████| 1/1 [02:01<00:00, 121.85s/it, best loss: 0.28888888888888886]\n",
      "100%|████████████████████████████████████████████████████| 1/1 [01:17<00:00, 77.71s/it, best loss: 0.28888888888888886]\n",
      "100%|███████████████████████████████████████████████████| 1/1 [02:02<00:00, 122.52s/it, best loss: 0.28888888888888886]\n"
     ]
    },
    {
     "name": "stderr",
     "output_type": "stream",
     "text": [
      "C:\\Users\\s-moh\\Anaconda3\\lib\\site-packages\\sklearn\\utils\\validation.py:595: DataConversionWarning: Data with input dtype int64 was converted to float64 by MinMaxScaler.\n",
      "  warnings.warn(msg, DataConversionWarning)\n",
      "C:\\Users\\s-moh\\Anaconda3\\lib\\site-packages\\sklearn\\utils\\validation.py:595: DataConversionWarning: Data with input dtype int64 was converted to float64 by MinMaxScaler.\n",
      "  warnings.warn(msg, DataConversionWarning)\n"
     ]
    },
    {
     "name": "stdout",
     "output_type": "stream",
     "text": [
      "Accuracy:  0.7386666666666667  --- Time: 671.6722767353058\n"
     ]
    }
   ],
   "source": [
    "files_dirs = glob.glob(\"C:/Users/s-moh/0-Labwork/Benchmark Experiments/datasets/0/*.csv\")\n",
    "files_dirs.sort()\n",
    "#print(files_dirs)\n",
    "for file in range(4, len(files_dirs), 2):\n",
    "    f1 = files_dirs[file+1]\n",
    "    data = pd.read_csv(f1)\n",
    "    y_train = data.iloc[:,-1]\n",
    "    X_train = data.drop(data.columns[len(data.columns)-1], axis = 1)\n",
    "    f2 = files_dirs[file]\n",
    "    data = pd.read_csv(f2)\n",
    "    y_test = data.iloc[:,-1]\n",
    "    X_test = data.drop(data.columns[len(data.columns)-1], axis = 1)\n",
    "    \n",
    "    print('File: ', f1)\n",
    "    try:\n",
    "        acc, tim = hyperOpt(X_train, y_train, X_test, y_test)\n",
    "    except:\n",
    "        acc = 0\n",
    "        tim = 0\n",
    "        pass\n",
    "    print('Accuracy: ', acc, ' --- Time:', tim)\n",
    "    #if(file > 20):\n",
    "    break"
   ]
  },
  {
   "cell_type": "code",
   "execution_count": null,
   "metadata": {},
   "outputs": [],
   "source": []
  }
 ],
 "metadata": {
  "kernelspec": {
   "display_name": "Python 3",
   "language": "python",
   "name": "python3"
  },
  "language_info": {
   "codemirror_mode": {
    "name": "ipython",
    "version": 3
   },
   "file_extension": ".py",
   "mimetype": "text/x-python",
   "name": "python",
   "nbconvert_exporter": "python",
   "pygments_lexer": "ipython3",
   "version": "3.6.8"
  }
 },
 "nbformat": 4,
 "nbformat_minor": 2
}
