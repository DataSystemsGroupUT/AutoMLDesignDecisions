{
 "cells": [
  {
   "cell_type": "code",
   "execution_count": 1,
   "metadata": {},
   "outputs": [],
   "source": [
    "import pandas as pd\n",
    "import numpy as np\n",
    "import researchpy as rp\n",
    "import seaborn as sns\n",
    "import os\n",
    "import ast\n",
    "\n",
    "import statsmodels.api as sm\n",
    "from statsmodels.formula.api import ols\n",
    "import statsmodels.stats.multicomp\n"
   ]
  },
  {
   "cell_type": "markdown",
   "metadata": {},
   "source": [
    "# Analysis <font color=blue>after </font> combining RF, DT and SVM into 1C"
   ]
  },
  {
   "cell_type": "code",
   "execution_count": 2,
   "metadata": {},
   "outputs": [
    {
     "name": "stderr",
     "output_type": "stream",
     "text": [
      "C:\\Users\\HassanEldeeb\\Anaconda3\\lib\\site-packages\\pandas\\core\\frame.py:4223: SettingWithCopyWarning: \n",
      "A value is trying to be set on a copy of a slice from a DataFrame\n",
      "\n",
      "See the caveats in the documentation: http://pandas.pydata.org/pandas-docs/stable/user_guide/indexing.html#returning-a-view-versus-a-copy\n",
      "  return super().rename(**kwargs)\n",
      "C:\\Users\\HassanEldeeb\\Anaconda3\\lib\\site-packages\\ipykernel_launcher.py:33: SettingWithCopyWarning: \n",
      "A value is trying to be set on a copy of a slice from a DataFrame.\n",
      "Try using .loc[row_indexer,col_indexer] = value instead\n",
      "\n",
      "See the caveats in the documentation: http://pandas.pydata.org/pandas-docs/stable/user_guide/indexing.html#returning-a-view-versus-a-copy\n",
      "C:\\Users\\HassanEldeeb\\Anaconda3\\lib\\site-packages\\ipykernel_launcher.py:34: SettingWithCopyWarning: \n",
      "A value is trying to be set on a copy of a slice from a DataFrame.\n",
      "Try using .loc[row_indexer,col_indexer] = value instead\n",
      "\n",
      "See the caveats in the documentation: http://pandas.pydata.org/pandas-docs/stable/user_guide/indexing.html#returning-a-view-versus-a-copy\n"
     ]
    },
    {
     "data": {
      "text/html": [
       "<div>\n",
       "<style scoped>\n",
       "    .dataframe tbody tr th:only-of-type {\n",
       "        vertical-align: middle;\n",
       "    }\n",
       "\n",
       "    .dataframe tbody tr th {\n",
       "        vertical-align: top;\n",
       "    }\n",
       "\n",
       "    .dataframe thead th {\n",
       "        text-align: right;\n",
       "    }\n",
       "</style>\n",
       "<table border=\"1\" class=\"dataframe\">\n",
       "  <thead>\n",
       "    <tr style=\"text-align: right;\">\n",
       "      <th></th>\n",
       "      <th>accuracy</th>\n",
       "      <th>dataset</th>\n",
       "      <th>f1score</th>\n",
       "      <th>methods</th>\n",
       "      <th>model</th>\n",
       "      <th>precision</th>\n",
       "      <th>recall</th>\n",
       "      <th>time_budget</th>\n",
       "    </tr>\n",
       "  </thead>\n",
       "  <tbody>\n",
       "    <tr>\n",
       "      <td>0</td>\n",
       "      <td>0.949153</td>\n",
       "      <td>AP_Breast_Lung</td>\n",
       "      <td>0.911765</td>\n",
       "      <td>3C</td>\n",
       "      <td></td>\n",
       "      <td>0.911765</td>\n",
       "      <td>0.911765</td>\n",
       "      <td>10</td>\n",
       "    </tr>\n",
       "    <tr>\n",
       "      <td>4</td>\n",
       "      <td>0.947368</td>\n",
       "      <td>audiology</td>\n",
       "      <td>0.918919</td>\n",
       "      <td>3C</td>\n",
       "      <td></td>\n",
       "      <td>0.944444</td>\n",
       "      <td>0.894737</td>\n",
       "      <td>10</td>\n",
       "    </tr>\n",
       "    <tr>\n",
       "      <td>5</td>\n",
       "      <td>0.700000</td>\n",
       "      <td>dataset_31_credit-g</td>\n",
       "      <td>0.788732</td>\n",
       "      <td>3C</td>\n",
       "      <td></td>\n",
       "      <td>0.782123</td>\n",
       "      <td>0.795455</td>\n",
       "      <td>10</td>\n",
       "    </tr>\n",
       "    <tr>\n",
       "      <td>7</td>\n",
       "      <td>0.900807</td>\n",
       "      <td>gina_agnostic</td>\n",
       "      <td>0.892500</td>\n",
       "      <td>3C</td>\n",
       "      <td></td>\n",
       "      <td>0.915385</td>\n",
       "      <td>0.870732</td>\n",
       "      <td>10</td>\n",
       "    </tr>\n",
       "    <tr>\n",
       "      <td>8</td>\n",
       "      <td>0.965974</td>\n",
       "      <td>hiva_agnostic</td>\n",
       "      <td>0.333333</td>\n",
       "      <td>3C</td>\n",
       "      <td></td>\n",
       "      <td>0.692308</td>\n",
       "      <td>0.219512</td>\n",
       "      <td>10</td>\n",
       "    </tr>\n",
       "    <tr>\n",
       "      <td>...</td>\n",
       "      <td>...</td>\n",
       "      <td>...</td>\n",
       "      <td>...</td>\n",
       "      <td>...</td>\n",
       "      <td>...</td>\n",
       "      <td>...</td>\n",
       "      <td>...</td>\n",
       "      <td>...</td>\n",
       "    </tr>\n",
       "    <tr>\n",
       "      <td>891</td>\n",
       "      <td>0.597500</td>\n",
       "      <td>wine-quality-red</td>\n",
       "      <td>0.597500</td>\n",
       "      <td>SVC</td>\n",
       "      <td></td>\n",
       "      <td>0.597500</td>\n",
       "      <td>0.597500</td>\n",
       "      <td>60</td>\n",
       "    </tr>\n",
       "    <tr>\n",
       "      <td>895</td>\n",
       "      <td>0.395026</td>\n",
       "      <td>eye_movements</td>\n",
       "      <td>0.395026</td>\n",
       "      <td>SVC</td>\n",
       "      <td></td>\n",
       "      <td>0.395026</td>\n",
       "      <td>0.395026</td>\n",
       "      <td>60</td>\n",
       "    </tr>\n",
       "    <tr>\n",
       "      <td>897</td>\n",
       "      <td>0.645570</td>\n",
       "      <td>solar-flare_1</td>\n",
       "      <td>0.645570</td>\n",
       "      <td>SVC</td>\n",
       "      <td></td>\n",
       "      <td>0.645570</td>\n",
       "      <td>0.645570</td>\n",
       "      <td>60</td>\n",
       "    </tr>\n",
       "    <tr>\n",
       "      <td>898</td>\n",
       "      <td>0.166667</td>\n",
       "      <td>umistfacescropped</td>\n",
       "      <td>0.166667</td>\n",
       "      <td>SVC</td>\n",
       "      <td></td>\n",
       "      <td>0.166667</td>\n",
       "      <td>0.166667</td>\n",
       "      <td>60</td>\n",
       "    </tr>\n",
       "    <tr>\n",
       "      <td>899</td>\n",
       "      <td>0.597500</td>\n",
       "      <td>wine-quality-red</td>\n",
       "      <td>0.597500</td>\n",
       "      <td>SVC</td>\n",
       "      <td></td>\n",
       "      <td>0.597500</td>\n",
       "      <td>0.597500</td>\n",
       "      <td>60</td>\n",
       "    </tr>\n",
       "  </tbody>\n",
       "</table>\n",
       "<p>524 rows × 8 columns</p>\n",
       "</div>"
      ],
      "text/plain": [
       "     accuracy              dataset   f1score methods model  precision  \\\n",
       "0    0.949153       AP_Breast_Lung  0.911765      3C         0.911765   \n",
       "4    0.947368            audiology  0.918919      3C         0.944444   \n",
       "5    0.700000  dataset_31_credit-g  0.788732      3C         0.782123   \n",
       "7    0.900807        gina_agnostic  0.892500      3C         0.915385   \n",
       "8    0.965974        hiva_agnostic  0.333333      3C         0.692308   \n",
       "..        ...                  ...       ...     ...   ...        ...   \n",
       "891  0.597500     wine-quality-red  0.597500     SVC         0.597500   \n",
       "895  0.395026        eye_movements  0.395026     SVC         0.395026   \n",
       "897  0.645570        solar-flare_1  0.645570     SVC         0.645570   \n",
       "898  0.166667    umistfacescropped  0.166667     SVC         0.166667   \n",
       "899  0.597500     wine-quality-red  0.597500     SVC         0.597500   \n",
       "\n",
       "       recall time_budget  \n",
       "0    0.911765          10  \n",
       "4    0.894737          10  \n",
       "5    0.795455          10  \n",
       "7    0.870732          10  \n",
       "8    0.219512          10  \n",
       "..        ...         ...  \n",
       "891  0.597500          60  \n",
       "895  0.395026          60  \n",
       "897  0.645570          60  \n",
       "898  0.166667          60  \n",
       "899  0.597500          60  \n",
       "\n",
       "[524 rows x 8 columns]"
      ]
     },
     "execution_count": 2,
     "metadata": {},
     "output_type": "execute_result"
    }
   ],
   "source": [
    "def get_class (model):\n",
    "    if isinstance(model, str):\n",
    "        model = '{' +'}'.join('{'.join(model.split('{')[1:]).split('}')[0:1]) + '}'\n",
    "        m = ast.literal_eval(model)\n",
    "        if 'classifier:__choice__' in m:\n",
    "            classifier = m['classifier:__choice__']\n",
    "        else:\n",
    "            classifier = ''\n",
    "        return classifier\n",
    "    else:\n",
    "        return ''\n",
    "\n",
    "\n",
    "def parse_tpot(directory):\n",
    "    result = pd.DataFrame(columns=['dataset', 'accuracy', 'model', 'precision', 'recall', 'f1score', 'time_budget', 'methods'])\n",
    "    for subdir, dirs, files in os.walk(directory):\n",
    "        for file in files:\n",
    "            if file.endswith('.csv'):\n",
    "                method = file.split('.')[0].split('_')[2]\n",
    "                time_budget = file.split('.')[0].split('_')[3]\n",
    "                run = []\n",
    "                sub_result = pd.read_csv(os.path.join(subdir, file))\n",
    "                sub_result.rename(columns={'Unnamed: 0': 'dataset'}, inplace = True)\n",
    "                run.append(sub_result[['dataset', 'accuracy_1', 'model_1', 'precision_1', 'recall_1', 'f1score_1']])\n",
    "                run.append(sub_result[['dataset', 'accuracy_2', 'model_2', 'precision_2', 'recall_2', 'f1score_2']])\n",
    "                run.append(sub_result[['dataset', 'accuracy_3', 'model_3', 'precision_3', 'recall_3', 'f1score_3']])\n",
    "                for i in range(3):\n",
    "                    run[i].rename(columns={'accuracy_'+str(i+1): 'accuracy',\n",
    "                                           'model_'+str(i+1): 'model',\n",
    "                                           'precision_'+str(i+1): 'precision',\n",
    "                                           'recall_'+str(i+1): 'recall',\n",
    "                                           'f1score_'+str(i+1): 'f1score'}, inplace=True)\n",
    "                    run[i]['methods'] = str(method)\n",
    "                    run[i]['time_budget'] = int(time_budget)\n",
    "                    result = pd.concat([result, run[i]], axis=0, sort=True, ignore_index=True)\n",
    "    result.model = result.model.apply(get_class)\n",
    "    result = result[~np.isnan(result.f1score)]\n",
    "    return result\n",
    "#parse_tpot(r\"C:\\Users\\HassanEldeeb\\Documents\\GitHub\\AutoMLBenchmarking\\logs_search_space/\")"
   ]
  },
  {
   "cell_type": "code",
   "execution_count": 3,
   "metadata": {},
   "outputs": [
    {
     "name": "stderr",
     "output_type": "stream",
     "text": [
      "C:\\Users\\HassanEldeeb\\Anaconda3\\lib\\site-packages\\ipykernel_launcher.py:33: SettingWithCopyWarning: \n",
      "A value is trying to be set on a copy of a slice from a DataFrame.\n",
      "Try using .loc[row_indexer,col_indexer] = value instead\n",
      "\n",
      "See the caveats in the documentation: http://pandas.pydata.org/pandas-docs/stable/user_guide/indexing.html#returning-a-view-versus-a-copy\n",
      "C:\\Users\\HassanEldeeb\\Anaconda3\\lib\\site-packages\\ipykernel_launcher.py:34: SettingWithCopyWarning: \n",
      "A value is trying to be set on a copy of a slice from a DataFrame.\n",
      "Try using .loc[row_indexer,col_indexer] = value instead\n",
      "\n",
      "See the caveats in the documentation: http://pandas.pydata.org/pandas-docs/stable/user_guide/indexing.html#returning-a-view-versus-a-copy\n"
     ]
    },
    {
     "data": {
      "text/plain": [
       "(343, 4)"
      ]
     },
     "execution_count": 3,
     "metadata": {},
     "output_type": "execute_result"
    }
   ],
   "source": [
    "df = parse_tpot(r\"C:\\Users\\HassanEldeeb\\Documents\\GitHub\\AutoMLBenchmarking\\logs_search_space/\")\n",
    "df = df[['dataset', 'time_budget', 'methods', 'f1score']]\n",
    "df.methods = df.methods.replace(\"default\", \"fc\")\n",
    "df.methods = df.methods.replace(\"SVC\", \"1c\")\n",
    "df.methods = df.methods.replace(\"DT\", \"1c\")\n",
    "df.methods = df.methods.replace(\"RF\", \"1c\")\n",
    "fsIs_b = ['vowel', 'openml_phpJNxH0q', 'dataset_31_credit-g', 'dataset_40_sonar']\n",
    "fsIs_m = ['solar-flare_1', 'wine-quality-red', 'dataset_39_ecoli', 'synthetic_control']\n",
    "fsIl_b = ['AirlinesCodrnaAdult', 'MagicTelescope', 'electricity-normalized', 'phpmPOD5A']\n",
    "fsIl_m = ['pokerhand-normalized', 'eye_movements', 'avila-tr']\n",
    "flIs_b = ['audiology', 'arrhythmia', 'AP_Breast_Lung', 'AP_Omentum_Ovary']\n",
    "flIs_m = ['Amazon', 'umistfacescropped', 'phpGUrE90']\n",
    "flIl_b = ['gina_agnostic', 'hiva_agnostic', 'phpZrCzJR', 'phprAeXmK']\n",
    "flIl_m = ['KDDCup99', 'connect-4', 'dataset_60_waveform-5000', 'dataset_186_satimage']\n",
    "df_binary = df[df.dataset.isin(fsIs_b) | df.dataset.isin(fsIl_b) | df.dataset.isin(flIs_b) | df.dataset.isin(flIl_b)]\n",
    "df_multi = df[df.dataset.isin(fsIs_m) | df.dataset.isin(fsIl_m) | df.dataset.isin(flIs_m) | df.dataset.isin(flIl_m)]\n",
    "#df.drop(df[(df.methods=='fc') & ((df.time_budget==30) | (df.time_budget==10))].index, inplace=True)\n",
    "#df.drop(df[(df.methods=='3c') & ((df.time_budget==60) | (df.time_budget==10))].index, inplace=True)\n",
    "df=df_binary\n",
    "df.shape"
   ]
  },
  {
   "cell_type": "code",
   "execution_count": 4,
   "metadata": {},
   "outputs": [
    {
     "name": "stdout",
     "output_type": "stream",
     "text": [
      "\n",
      "\n"
     ]
    },
    {
     "data": {
      "text/html": [
       "<div>\n",
       "<style scoped>\n",
       "    .dataframe tbody tr th:only-of-type {\n",
       "        vertical-align: middle;\n",
       "    }\n",
       "\n",
       "    .dataframe tbody tr th {\n",
       "        vertical-align: top;\n",
       "    }\n",
       "\n",
       "    .dataframe thead th {\n",
       "        text-align: right;\n",
       "    }\n",
       "</style>\n",
       "<table border=\"1\" class=\"dataframe\">\n",
       "  <thead>\n",
       "    <tr style=\"text-align: right;\">\n",
       "      <th></th>\n",
       "      <th>Variable</th>\n",
       "      <th>N</th>\n",
       "      <th>Mean</th>\n",
       "      <th>SD</th>\n",
       "      <th>SE</th>\n",
       "      <th>95% Conf.</th>\n",
       "      <th>Interval</th>\n",
       "    </tr>\n",
       "  </thead>\n",
       "  <tbody>\n",
       "    <tr>\n",
       "      <td>0</td>\n",
       "      <td>f1score</td>\n",
       "      <td>343.0</td>\n",
       "      <td>0.72191</td>\n",
       "      <td>0.29389</td>\n",
       "      <td>0.015869</td>\n",
       "      <td>0.690698</td>\n",
       "      <td>0.753122</td>\n",
       "    </tr>\n",
       "  </tbody>\n",
       "</table>\n",
       "</div>"
      ],
      "text/plain": [
       "  Variable      N     Mean       SD        SE  95% Conf.  Interval\n",
       "0  f1score  343.0  0.72191  0.29389  0.015869   0.690698  0.753122"
      ]
     },
     "execution_count": 4,
     "metadata": {},
     "output_type": "execute_result"
    }
   ],
   "source": [
    "rp.summary_cont(df['f1score'])"
   ]
  },
  {
   "cell_type": "code",
   "execution_count": 5,
   "metadata": {},
   "outputs": [
    {
     "name": "stdout",
     "output_type": "stream",
     "text": [
      "\n",
      "\n"
     ]
    },
    {
     "data": {
      "text/html": [
       "<div>\n",
       "<style scoped>\n",
       "    .dataframe tbody tr th:only-of-type {\n",
       "        vertical-align: middle;\n",
       "    }\n",
       "\n",
       "    .dataframe tbody tr th {\n",
       "        vertical-align: top;\n",
       "    }\n",
       "\n",
       "    .dataframe thead th {\n",
       "        text-align: right;\n",
       "    }\n",
       "</style>\n",
       "<table border=\"1\" class=\"dataframe\">\n",
       "  <thead>\n",
       "    <tr style=\"text-align: right;\">\n",
       "      <th></th>\n",
       "      <th>N</th>\n",
       "      <th>Mean</th>\n",
       "      <th>SD</th>\n",
       "      <th>SE</th>\n",
       "      <th>95% Conf.</th>\n",
       "      <th>Interval</th>\n",
       "    </tr>\n",
       "    <tr>\n",
       "      <th>time_budget</th>\n",
       "      <th></th>\n",
       "      <th></th>\n",
       "      <th></th>\n",
       "      <th></th>\n",
       "      <th></th>\n",
       "      <th></th>\n",
       "    </tr>\n",
       "  </thead>\n",
       "  <tbody>\n",
       "    <tr>\n",
       "      <td>10</td>\n",
       "      <td>105</td>\n",
       "      <td>0.726433</td>\n",
       "      <td>0.290676</td>\n",
       "      <td>0.028367</td>\n",
       "      <td>0.670834</td>\n",
       "      <td>0.782032</td>\n",
       "    </tr>\n",
       "    <tr>\n",
       "      <td>30</td>\n",
       "      <td>112</td>\n",
       "      <td>0.719853</td>\n",
       "      <td>0.299978</td>\n",
       "      <td>0.028345</td>\n",
       "      <td>0.664296</td>\n",
       "      <td>0.775409</td>\n",
       "    </tr>\n",
       "    <tr>\n",
       "      <td>60</td>\n",
       "      <td>126</td>\n",
       "      <td>0.719970</td>\n",
       "      <td>0.293397</td>\n",
       "      <td>0.026138</td>\n",
       "      <td>0.668740</td>\n",
       "      <td>0.771200</td>\n",
       "    </tr>\n",
       "  </tbody>\n",
       "</table>\n",
       "</div>"
      ],
      "text/plain": [
       "               N      Mean        SD        SE  95% Conf.  Interval\n",
       "time_budget                                                        \n",
       "10           105  0.726433  0.290676  0.028367   0.670834  0.782032\n",
       "30           112  0.719853  0.299978  0.028345   0.664296  0.775409\n",
       "60           126  0.719970  0.293397  0.026138   0.668740  0.771200"
      ]
     },
     "execution_count": 5,
     "metadata": {},
     "output_type": "execute_result"
    }
   ],
   "source": [
    "rp.summary_cont(df.groupby(['time_budget']))['f1score']"
   ]
  },
  {
   "cell_type": "code",
   "execution_count": 6,
   "metadata": {},
   "outputs": [
    {
     "name": "stdout",
     "output_type": "stream",
     "text": [
      "\n",
      "\n"
     ]
    },
    {
     "data": {
      "text/html": [
       "<div>\n",
       "<style scoped>\n",
       "    .dataframe tbody tr th:only-of-type {\n",
       "        vertical-align: middle;\n",
       "    }\n",
       "\n",
       "    .dataframe tbody tr th {\n",
       "        vertical-align: top;\n",
       "    }\n",
       "\n",
       "    .dataframe thead th {\n",
       "        text-align: right;\n",
       "    }\n",
       "</style>\n",
       "<table border=\"1\" class=\"dataframe\">\n",
       "  <thead>\n",
       "    <tr style=\"text-align: right;\">\n",
       "      <th></th>\n",
       "      <th>N</th>\n",
       "      <th>Mean</th>\n",
       "      <th>SD</th>\n",
       "      <th>SE</th>\n",
       "      <th>95% Conf.</th>\n",
       "      <th>Interval</th>\n",
       "    </tr>\n",
       "    <tr>\n",
       "      <th>methods</th>\n",
       "      <th></th>\n",
       "      <th></th>\n",
       "      <th></th>\n",
       "      <th></th>\n",
       "      <th></th>\n",
       "      <th></th>\n",
       "    </tr>\n",
       "  </thead>\n",
       "  <tbody>\n",
       "    <tr>\n",
       "      <td>1c</td>\n",
       "      <td>190</td>\n",
       "      <td>0.635285</td>\n",
       "      <td>0.331348</td>\n",
       "      <td>0.024039</td>\n",
       "      <td>0.588170</td>\n",
       "      <td>0.682401</td>\n",
       "    </tr>\n",
       "    <tr>\n",
       "      <td>3C</td>\n",
       "      <td>69</td>\n",
       "      <td>0.831838</td>\n",
       "      <td>0.189870</td>\n",
       "      <td>0.022858</td>\n",
       "      <td>0.787037</td>\n",
       "      <td>0.876639</td>\n",
       "    </tr>\n",
       "    <tr>\n",
       "      <td>fc</td>\n",
       "      <td>84</td>\n",
       "      <td>0.827549</td>\n",
       "      <td>0.194506</td>\n",
       "      <td>0.021222</td>\n",
       "      <td>0.785953</td>\n",
       "      <td>0.869144</td>\n",
       "    </tr>\n",
       "  </tbody>\n",
       "</table>\n",
       "</div>"
      ],
      "text/plain": [
       "           N      Mean        SD        SE  95% Conf.  Interval\n",
       "methods                                                        \n",
       "1c       190  0.635285  0.331348  0.024039   0.588170  0.682401\n",
       "3C        69  0.831838  0.189870  0.022858   0.787037  0.876639\n",
       "fc        84  0.827549  0.194506  0.021222   0.785953  0.869144"
      ]
     },
     "execution_count": 6,
     "metadata": {},
     "output_type": "execute_result"
    }
   ],
   "source": [
    "rp.summary_cont(df.groupby(['methods']))['f1score']"
   ]
  },
  {
   "cell_type": "code",
   "execution_count": 7,
   "metadata": {},
   "outputs": [
    {
     "name": "stdout",
     "output_type": "stream",
     "text": [
      "\n",
      "\n"
     ]
    },
    {
     "data": {
      "text/html": [
       "<div>\n",
       "<style scoped>\n",
       "    .dataframe tbody tr th:only-of-type {\n",
       "        vertical-align: middle;\n",
       "    }\n",
       "\n",
       "    .dataframe tbody tr th {\n",
       "        vertical-align: top;\n",
       "    }\n",
       "\n",
       "    .dataframe thead th {\n",
       "        text-align: right;\n",
       "    }\n",
       "</style>\n",
       "<table border=\"1\" class=\"dataframe\">\n",
       "  <thead>\n",
       "    <tr style=\"text-align: right;\">\n",
       "      <th></th>\n",
       "      <th></th>\n",
       "      <th>N</th>\n",
       "      <th>Mean</th>\n",
       "      <th>SD</th>\n",
       "      <th>SE</th>\n",
       "      <th>95% Conf.</th>\n",
       "      <th>Interval</th>\n",
       "    </tr>\n",
       "    <tr>\n",
       "      <th>time_budget</th>\n",
       "      <th>methods</th>\n",
       "      <th></th>\n",
       "      <th></th>\n",
       "      <th></th>\n",
       "      <th></th>\n",
       "      <th></th>\n",
       "      <th></th>\n",
       "    </tr>\n",
       "  </thead>\n",
       "  <tbody>\n",
       "    <tr>\n",
       "      <td rowspan=\"3\" valign=\"top\">10</td>\n",
       "      <td>1c</td>\n",
       "      <td>57</td>\n",
       "      <td>0.648255</td>\n",
       "      <td>0.325113</td>\n",
       "      <td>0.043062</td>\n",
       "      <td>0.563853</td>\n",
       "      <td>0.732657</td>\n",
       "    </tr>\n",
       "    <tr>\n",
       "      <td>3C</td>\n",
       "      <td>23</td>\n",
       "      <td>0.832530</td>\n",
       "      <td>0.204386</td>\n",
       "      <td>0.042618</td>\n",
       "      <td>0.749000</td>\n",
       "      <td>0.916060</td>\n",
       "    </tr>\n",
       "    <tr>\n",
       "      <td>fc</td>\n",
       "      <td>25</td>\n",
       "      <td>0.807070</td>\n",
       "      <td>0.221663</td>\n",
       "      <td>0.044333</td>\n",
       "      <td>0.720178</td>\n",
       "      <td>0.893962</td>\n",
       "    </tr>\n",
       "    <tr>\n",
       "      <td rowspan=\"3\" valign=\"top\">30</td>\n",
       "      <td>1c</td>\n",
       "      <td>62</td>\n",
       "      <td>0.630576</td>\n",
       "      <td>0.339170</td>\n",
       "      <td>0.043075</td>\n",
       "      <td>0.546149</td>\n",
       "      <td>0.715002</td>\n",
       "    </tr>\n",
       "    <tr>\n",
       "      <td>3C</td>\n",
       "      <td>21</td>\n",
       "      <td>0.825612</td>\n",
       "      <td>0.197536</td>\n",
       "      <td>0.043106</td>\n",
       "      <td>0.741124</td>\n",
       "      <td>0.910099</td>\n",
       "    </tr>\n",
       "    <tr>\n",
       "      <td>fc</td>\n",
       "      <td>29</td>\n",
       "      <td>0.834136</td>\n",
       "      <td>0.196677</td>\n",
       "      <td>0.036522</td>\n",
       "      <td>0.762553</td>\n",
       "      <td>0.905720</td>\n",
       "    </tr>\n",
       "    <tr>\n",
       "      <td rowspan=\"3\" valign=\"top\">60</td>\n",
       "      <td>1c</td>\n",
       "      <td>71</td>\n",
       "      <td>0.628986</td>\n",
       "      <td>0.333819</td>\n",
       "      <td>0.039617</td>\n",
       "      <td>0.551337</td>\n",
       "      <td>0.706636</td>\n",
       "    </tr>\n",
       "    <tr>\n",
       "      <td>3C</td>\n",
       "      <td>25</td>\n",
       "      <td>0.836432</td>\n",
       "      <td>0.176854</td>\n",
       "      <td>0.035371</td>\n",
       "      <td>0.767105</td>\n",
       "      <td>0.905758</td>\n",
       "    </tr>\n",
       "    <tr>\n",
       "      <td>fc</td>\n",
       "      <td>30</td>\n",
       "      <td>0.838246</td>\n",
       "      <td>0.172466</td>\n",
       "      <td>0.031488</td>\n",
       "      <td>0.776530</td>\n",
       "      <td>0.899962</td>\n",
       "    </tr>\n",
       "  </tbody>\n",
       "</table>\n",
       "</div>"
      ],
      "text/plain": [
       "                      N      Mean        SD        SE  95% Conf.  Interval\n",
       "time_budget methods                                                       \n",
       "10          1c       57  0.648255  0.325113  0.043062   0.563853  0.732657\n",
       "            3C       23  0.832530  0.204386  0.042618   0.749000  0.916060\n",
       "            fc       25  0.807070  0.221663  0.044333   0.720178  0.893962\n",
       "30          1c       62  0.630576  0.339170  0.043075   0.546149  0.715002\n",
       "            3C       21  0.825612  0.197536  0.043106   0.741124  0.910099\n",
       "            fc       29  0.834136  0.196677  0.036522   0.762553  0.905720\n",
       "60          1c       71  0.628986  0.333819  0.039617   0.551337  0.706636\n",
       "            3C       25  0.836432  0.176854  0.035371   0.767105  0.905758\n",
       "            fc       30  0.838246  0.172466  0.031488   0.776530  0.899962"
      ]
     },
     "execution_count": 7,
     "metadata": {},
     "output_type": "execute_result"
    }
   ],
   "source": [
    "rp.summary_cont(df.groupby(['time_budget', 'methods']))['f1score']"
   ]
  },
  {
   "cell_type": "code",
   "execution_count": 8,
   "metadata": {},
   "outputs": [
    {
     "name": "stdout",
     "output_type": "stream",
     "text": [
      "Overall model F( 8, 334) =  5.121, p =  0.0000\n"
     ]
    }
   ],
   "source": [
    "    # Fits the model with the interaction term\n",
    "    # This will also automatically include the main effects for each factor\n",
    "    model = ols('f1score ~ C(time_budget)*C(methods)', df).fit()\n",
    "\n",
    "    # Seeing if the overall model is significant\n",
    "    print(f\"Overall model F({model.df_model: .0f},{model.df_resid: .0f}) = {model.fvalue: .3f}, p = {model.f_pvalue: .4f}\")"
   ]
  },
  {
   "cell_type": "code",
   "execution_count": 9,
   "metadata": {},
   "outputs": [
    {
     "data": {
      "text/html": [
       "<table class=\"simpletable\">\n",
       "<caption>OLS Regression Results</caption>\n",
       "<tr>\n",
       "  <th>Dep. Variable:</th>         <td>f1score</td>     <th>  R-squared:         </th> <td>   0.109</td>\n",
       "</tr>\n",
       "<tr>\n",
       "  <th>Model:</th>                   <td>OLS</td>       <th>  Adj. R-squared:    </th> <td>   0.088</td>\n",
       "</tr>\n",
       "<tr>\n",
       "  <th>Method:</th>             <td>Least Squares</td>  <th>  F-statistic:       </th> <td>   5.121</td>\n",
       "</tr>\n",
       "<tr>\n",
       "  <th>Date:</th>             <td>Fri, 01 Nov 2019</td> <th>  Prob (F-statistic):</th> <td>4.95e-06</td>\n",
       "</tr>\n",
       "<tr>\n",
       "  <th>Time:</th>                 <td>22:11:55</td>     <th>  Log-Likelihood:    </th> <td> -46.333</td>\n",
       "</tr>\n",
       "<tr>\n",
       "  <th>No. Observations:</th>      <td>   343</td>      <th>  AIC:               </th> <td>   110.7</td>\n",
       "</tr>\n",
       "<tr>\n",
       "  <th>Df Residuals:</th>          <td>   334</td>      <th>  BIC:               </th> <td>   145.2</td>\n",
       "</tr>\n",
       "<tr>\n",
       "  <th>Df Model:</th>              <td>     8</td>      <th>                     </th>     <td> </td>   \n",
       "</tr>\n",
       "<tr>\n",
       "  <th>Covariance Type:</th>      <td>nonrobust</td>    <th>                     </th>     <td> </td>   \n",
       "</tr>\n",
       "</table>\n",
       "<table class=\"simpletable\">\n",
       "<tr>\n",
       "                    <td></td>                       <th>coef</th>     <th>std err</th>      <th>t</th>      <th>P>|t|</th>  <th>[0.025</th>    <th>0.975]</th>  \n",
       "</tr>\n",
       "<tr>\n",
       "  <th>Intercept</th>                             <td>    0.6483</td> <td>    0.037</td> <td>   17.437</td> <td> 0.000</td> <td>    0.575</td> <td>    0.721</td>\n",
       "</tr>\n",
       "<tr>\n",
       "  <th>C(time_budget)[T.30]</th>                  <td>   -0.0177</td> <td>    0.052</td> <td>   -0.343</td> <td> 0.732</td> <td>   -0.119</td> <td>    0.084</td>\n",
       "</tr>\n",
       "<tr>\n",
       "  <th>C(time_budget)[T.60]</th>                  <td>   -0.0193</td> <td>    0.050</td> <td>   -0.386</td> <td> 0.700</td> <td>   -0.117</td> <td>    0.079</td>\n",
       "</tr>\n",
       "<tr>\n",
       "  <th>C(methods)[T.3C]</th>                      <td>    0.1843</td> <td>    0.069</td> <td>    2.658</td> <td> 0.008</td> <td>    0.048</td> <td>    0.321</td>\n",
       "</tr>\n",
       "<tr>\n",
       "  <th>C(methods)[T.fc]</th>                      <td>    0.1588</td> <td>    0.067</td> <td>    2.359</td> <td> 0.019</td> <td>    0.026</td> <td>    0.291</td>\n",
       "</tr>\n",
       "<tr>\n",
       "  <th>C(time_budget)[T.30]:C(methods)[T.3C]</th> <td>    0.0108</td> <td>    0.099</td> <td>    0.109</td> <td> 0.914</td> <td>   -0.184</td> <td>    0.206</td>\n",
       "</tr>\n",
       "<tr>\n",
       "  <th>C(time_budget)[T.60]:C(methods)[T.3C]</th> <td>    0.0232</td> <td>    0.095</td> <td>    0.243</td> <td> 0.808</td> <td>   -0.164</td> <td>    0.210</td>\n",
       "</tr>\n",
       "<tr>\n",
       "  <th>C(time_budget)[T.30]:C(methods)[T.fc]</th> <td>    0.0447</td> <td>    0.092</td> <td>    0.485</td> <td> 0.628</td> <td>   -0.137</td> <td>    0.226</td>\n",
       "</tr>\n",
       "<tr>\n",
       "  <th>C(time_budget)[T.60]:C(methods)[T.fc]</th> <td>    0.0504</td> <td>    0.091</td> <td>    0.555</td> <td> 0.579</td> <td>   -0.128</td> <td>    0.229</td>\n",
       "</tr>\n",
       "</table>\n",
       "<table class=\"simpletable\">\n",
       "<tr>\n",
       "  <th>Omnibus:</th>       <td>51.094</td> <th>  Durbin-Watson:     </th> <td>   2.187</td>\n",
       "</tr>\n",
       "<tr>\n",
       "  <th>Prob(Omnibus):</th> <td> 0.000</td> <th>  Jarque-Bera (JB):  </th> <td>  71.426</td>\n",
       "</tr>\n",
       "<tr>\n",
       "  <th>Skew:</th>          <td>-1.115</td> <th>  Prob(JB):          </th> <td>3.09e-16</td>\n",
       "</tr>\n",
       "<tr>\n",
       "  <th>Kurtosis:</th>      <td> 3.163</td> <th>  Cond. No.          </th> <td>    12.3</td>\n",
       "</tr>\n",
       "</table><br/><br/>Warnings:<br/>[1] Standard Errors assume that the covariance matrix of the errors is correctly specified."
      ],
      "text/plain": [
       "<class 'statsmodels.iolib.summary.Summary'>\n",
       "\"\"\"\n",
       "                            OLS Regression Results                            \n",
       "==============================================================================\n",
       "Dep. Variable:                f1score   R-squared:                       0.109\n",
       "Model:                            OLS   Adj. R-squared:                  0.088\n",
       "Method:                 Least Squares   F-statistic:                     5.121\n",
       "Date:                Fri, 01 Nov 2019   Prob (F-statistic):           4.95e-06\n",
       "Time:                        22:11:55   Log-Likelihood:                -46.333\n",
       "No. Observations:                 343   AIC:                             110.7\n",
       "Df Residuals:                     334   BIC:                             145.2\n",
       "Df Model:                           8                                         \n",
       "Covariance Type:            nonrobust                                         \n",
       "=========================================================================================================\n",
       "                                            coef    std err          t      P>|t|      [0.025      0.975]\n",
       "---------------------------------------------------------------------------------------------------------\n",
       "Intercept                                 0.6483      0.037     17.437      0.000       0.575       0.721\n",
       "C(time_budget)[T.30]                     -0.0177      0.052     -0.343      0.732      -0.119       0.084\n",
       "C(time_budget)[T.60]                     -0.0193      0.050     -0.386      0.700      -0.117       0.079\n",
       "C(methods)[T.3C]                          0.1843      0.069      2.658      0.008       0.048       0.321\n",
       "C(methods)[T.fc]                          0.1588      0.067      2.359      0.019       0.026       0.291\n",
       "C(time_budget)[T.30]:C(methods)[T.3C]     0.0108      0.099      0.109      0.914      -0.184       0.206\n",
       "C(time_budget)[T.60]:C(methods)[T.3C]     0.0232      0.095      0.243      0.808      -0.164       0.210\n",
       "C(time_budget)[T.30]:C(methods)[T.fc]     0.0447      0.092      0.485      0.628      -0.137       0.226\n",
       "C(time_budget)[T.60]:C(methods)[T.fc]     0.0504      0.091      0.555      0.579      -0.128       0.229\n",
       "==============================================================================\n",
       "Omnibus:                       51.094   Durbin-Watson:                   2.187\n",
       "Prob(Omnibus):                  0.000   Jarque-Bera (JB):               71.426\n",
       "Skew:                          -1.115   Prob(JB):                     3.09e-16\n",
       "Kurtosis:                       3.163   Cond. No.                         12.3\n",
       "==============================================================================\n",
       "\n",
       "Warnings:\n",
       "[1] Standard Errors assume that the covariance matrix of the errors is correctly specified.\n",
       "\"\"\""
      ]
     },
     "execution_count": 9,
     "metadata": {},
     "output_type": "execute_result"
    }
   ],
   "source": [
    "model.summary()"
   ]
  },
  {
   "cell_type": "code",
   "execution_count": 10,
   "metadata": {},
   "outputs": [
    {
     "data": {
      "text/html": [
       "<div>\n",
       "<style scoped>\n",
       "    .dataframe tbody tr th:only-of-type {\n",
       "        vertical-align: middle;\n",
       "    }\n",
       "\n",
       "    .dataframe tbody tr th {\n",
       "        vertical-align: top;\n",
       "    }\n",
       "\n",
       "    .dataframe thead th {\n",
       "        text-align: right;\n",
       "    }\n",
       "</style>\n",
       "<table border=\"1\" class=\"dataframe\">\n",
       "  <thead>\n",
       "    <tr style=\"text-align: right;\">\n",
       "      <th></th>\n",
       "      <th>sum_sq</th>\n",
       "      <th>df</th>\n",
       "      <th>F</th>\n",
       "      <th>PR(&gt;F)</th>\n",
       "    </tr>\n",
       "  </thead>\n",
       "  <tbody>\n",
       "    <tr>\n",
       "      <td>C(time_budget)</td>\n",
       "      <td>0.001045</td>\n",
       "      <td>2.0</td>\n",
       "      <td>0.006632</td>\n",
       "      <td>9.933903e-01</td>\n",
       "    </tr>\n",
       "    <tr>\n",
       "      <td>C(methods)</td>\n",
       "      <td>3.194879</td>\n",
       "      <td>2.0</td>\n",
       "      <td>20.277772</td>\n",
       "      <td>4.880336e-09</td>\n",
       "    </tr>\n",
       "    <tr>\n",
       "      <td>C(time_budget):C(methods)</td>\n",
       "      <td>0.029264</td>\n",
       "      <td>4.0</td>\n",
       "      <td>0.092868</td>\n",
       "      <td>9.846753e-01</td>\n",
       "    </tr>\n",
       "    <tr>\n",
       "      <td>Residual</td>\n",
       "      <td>26.311808</td>\n",
       "      <td>334.0</td>\n",
       "      <td>NaN</td>\n",
       "      <td>NaN</td>\n",
       "    </tr>\n",
       "  </tbody>\n",
       "</table>\n",
       "</div>"
      ],
      "text/plain": [
       "                              sum_sq     df          F        PR(>F)\n",
       "C(time_budget)              0.001045    2.0   0.006632  9.933903e-01\n",
       "C(methods)                  3.194879    2.0  20.277772  4.880336e-09\n",
       "C(time_budget):C(methods)   0.029264    4.0   0.092868  9.846753e-01\n",
       "Residual                   26.311808  334.0        NaN           NaN"
      ]
     },
     "execution_count": 10,
     "metadata": {},
     "output_type": "execute_result"
    }
   ],
   "source": [
    "# Creates the ANOVA table\n",
    "res = sm.stats.anova_lm(model, typ= 2)\n",
    "res"
   ]
  },
  {
   "cell_type": "code",
   "execution_count": 11,
   "metadata": {},
   "outputs": [
    {
     "name": "stdout",
     "output_type": "stream",
     "text": [
      "Overall model F( 4, 338) =  10.259, p =  0.0000\n"
     ]
    }
   ],
   "source": [
    "# Fits the model\n",
    "model2 = ols('f1score ~ C(time_budget)+ C(methods)', df).fit()\n",
    "\n",
    "print(f\"Overall model F({model2.df_model: .0f},{model2.df_resid: .0f}) = {model2.fvalue: .3f}, p = {model2.f_pvalue: .4f}\")"
   ]
  },
  {
   "cell_type": "code",
   "execution_count": 12,
   "metadata": {},
   "outputs": [
    {
     "data": {
      "text/html": [
       "<table class=\"simpletable\">\n",
       "<caption>OLS Regression Results</caption>\n",
       "<tr>\n",
       "  <th>Dep. Variable:</th>         <td>f1score</td>     <th>  R-squared:         </th> <td>   0.108</td>\n",
       "</tr>\n",
       "<tr>\n",
       "  <th>Model:</th>                   <td>OLS</td>       <th>  Adj. R-squared:    </th> <td>   0.098</td>\n",
       "</tr>\n",
       "<tr>\n",
       "  <th>Method:</th>             <td>Least Squares</td>  <th>  F-statistic:       </th> <td>   10.26</td>\n",
       "</tr>\n",
       "<tr>\n",
       "  <th>Date:</th>             <td>Fri, 01 Nov 2019</td> <th>  Prob (F-statistic):</th> <td>7.51e-08</td>\n",
       "</tr>\n",
       "<tr>\n",
       "  <th>Time:</th>                 <td>22:11:55</td>     <th>  Log-Likelihood:    </th> <td> -46.524</td>\n",
       "</tr>\n",
       "<tr>\n",
       "  <th>No. Observations:</th>      <td>   343</td>      <th>  AIC:               </th> <td>   103.0</td>\n",
       "</tr>\n",
       "<tr>\n",
       "  <th>Df Residuals:</th>          <td>   338</td>      <th>  BIC:               </th> <td>   122.2</td>\n",
       "</tr>\n",
       "<tr>\n",
       "  <th>Df Model:</th>              <td>     4</td>      <th>                     </th>     <td> </td>   \n",
       "</tr>\n",
       "<tr>\n",
       "  <th>Covariance Type:</th>      <td>nonrobust</td>    <th>                     </th>     <td> </td>   \n",
       "</tr>\n",
       "</table>\n",
       "<table class=\"simpletable\">\n",
       "<tr>\n",
       "            <td></td>              <th>coef</th>     <th>std err</th>      <th>t</th>      <th>P>|t|</th>  <th>[0.025</th>    <th>0.975]</th>  \n",
       "</tr>\n",
       "<tr>\n",
       "  <th>Intercept</th>            <td>    0.6376</td> <td>    0.031</td> <td>   20.855</td> <td> 0.000</td> <td>    0.577</td> <td>    0.698</td>\n",
       "</tr>\n",
       "<tr>\n",
       "  <th>C(time_budget)[T.30]</th> <td>   -0.0044</td> <td>    0.038</td> <td>   -0.116</td> <td> 0.908</td> <td>   -0.079</td> <td>    0.070</td>\n",
       "</tr>\n",
       "<tr>\n",
       "  <th>C(time_budget)[T.60]</th> <td>   -0.0024</td> <td>    0.037</td> <td>   -0.065</td> <td> 0.948</td> <td>   -0.075</td> <td>    0.070</td>\n",
       "</tr>\n",
       "<tr>\n",
       "  <th>C(methods)[T.3C]</th>     <td>    0.1964</td> <td>    0.039</td> <td>    5.004</td> <td> 0.000</td> <td>    0.119</td> <td>    0.274</td>\n",
       "</tr>\n",
       "<tr>\n",
       "  <th>C(methods)[T.fc]</th>     <td>    0.1923</td> <td>    0.037</td> <td>    5.257</td> <td> 0.000</td> <td>    0.120</td> <td>    0.264</td>\n",
       "</tr>\n",
       "</table>\n",
       "<table class=\"simpletable\">\n",
       "<tr>\n",
       "  <th>Omnibus:</th>       <td>51.392</td> <th>  Durbin-Watson:     </th> <td>   2.185</td>\n",
       "</tr>\n",
       "<tr>\n",
       "  <th>Prob(Omnibus):</th> <td> 0.000</td> <th>  Jarque-Bera (JB):  </th> <td>  71.949</td>\n",
       "</tr>\n",
       "<tr>\n",
       "  <th>Skew:</th>          <td>-1.119</td> <th>  Prob(JB):          </th> <td>2.38e-16</td>\n",
       "</tr>\n",
       "<tr>\n",
       "  <th>Kurtosis:</th>      <td> 3.173</td> <th>  Cond. No.          </th> <td>    4.17</td>\n",
       "</tr>\n",
       "</table><br/><br/>Warnings:<br/>[1] Standard Errors assume that the covariance matrix of the errors is correctly specified."
      ],
      "text/plain": [
       "<class 'statsmodels.iolib.summary.Summary'>\n",
       "\"\"\"\n",
       "                            OLS Regression Results                            \n",
       "==============================================================================\n",
       "Dep. Variable:                f1score   R-squared:                       0.108\n",
       "Model:                            OLS   Adj. R-squared:                  0.098\n",
       "Method:                 Least Squares   F-statistic:                     10.26\n",
       "Date:                Fri, 01 Nov 2019   Prob (F-statistic):           7.51e-08\n",
       "Time:                        22:11:55   Log-Likelihood:                -46.524\n",
       "No. Observations:                 343   AIC:                             103.0\n",
       "Df Residuals:                     338   BIC:                             122.2\n",
       "Df Model:                           4                                         \n",
       "Covariance Type:            nonrobust                                         \n",
       "========================================================================================\n",
       "                           coef    std err          t      P>|t|      [0.025      0.975]\n",
       "----------------------------------------------------------------------------------------\n",
       "Intercept                0.6376      0.031     20.855      0.000       0.577       0.698\n",
       "C(time_budget)[T.30]    -0.0044      0.038     -0.116      0.908      -0.079       0.070\n",
       "C(time_budget)[T.60]    -0.0024      0.037     -0.065      0.948      -0.075       0.070\n",
       "C(methods)[T.3C]         0.1964      0.039      5.004      0.000       0.119       0.274\n",
       "C(methods)[T.fc]         0.1923      0.037      5.257      0.000       0.120       0.264\n",
       "==============================================================================\n",
       "Omnibus:                       51.392   Durbin-Watson:                   2.185\n",
       "Prob(Omnibus):                  0.000   Jarque-Bera (JB):               71.949\n",
       "Skew:                          -1.119   Prob(JB):                     2.38e-16\n",
       "Kurtosis:                       3.173   Cond. No.                         4.17\n",
       "==============================================================================\n",
       "\n",
       "Warnings:\n",
       "[1] Standard Errors assume that the covariance matrix of the errors is correctly specified.\n",
       "\"\"\""
      ]
     },
     "execution_count": 12,
     "metadata": {},
     "output_type": "execute_result"
    }
   ],
   "source": [
    "model2.summary()"
   ]
  },
  {
   "cell_type": "code",
   "execution_count": 13,
   "metadata": {},
   "outputs": [
    {
     "data": {
      "text/html": [
       "<div>\n",
       "<style scoped>\n",
       "    .dataframe tbody tr th:only-of-type {\n",
       "        vertical-align: middle;\n",
       "    }\n",
       "\n",
       "    .dataframe tbody tr th {\n",
       "        vertical-align: top;\n",
       "    }\n",
       "\n",
       "    .dataframe thead th {\n",
       "        text-align: right;\n",
       "    }\n",
       "</style>\n",
       "<table border=\"1\" class=\"dataframe\">\n",
       "  <thead>\n",
       "    <tr style=\"text-align: right;\">\n",
       "      <th></th>\n",
       "      <th>sum_sq</th>\n",
       "      <th>df</th>\n",
       "      <th>F</th>\n",
       "      <th>PR(&gt;F)</th>\n",
       "    </tr>\n",
       "  </thead>\n",
       "  <tbody>\n",
       "    <tr>\n",
       "      <td>C(time_budget)</td>\n",
       "      <td>0.001045</td>\n",
       "      <td>2.0</td>\n",
       "      <td>0.006704</td>\n",
       "      <td>9.933188e-01</td>\n",
       "    </tr>\n",
       "    <tr>\n",
       "      <td>C(methods)</td>\n",
       "      <td>3.194879</td>\n",
       "      <td>2.0</td>\n",
       "      <td>20.497822</td>\n",
       "      <td>3.960405e-09</td>\n",
       "    </tr>\n",
       "    <tr>\n",
       "      <td>Residual</td>\n",
       "      <td>26.341072</td>\n",
       "      <td>338.0</td>\n",
       "      <td>NaN</td>\n",
       "      <td>NaN</td>\n",
       "    </tr>\n",
       "  </tbody>\n",
       "</table>\n",
       "</div>"
      ],
      "text/plain": [
       "                   sum_sq     df          F        PR(>F)\n",
       "C(time_budget)   0.001045    2.0   0.006704  9.933188e-01\n",
       "C(methods)       3.194879    2.0  20.497822  3.960405e-09\n",
       "Residual        26.341072  338.0        NaN           NaN"
      ]
     },
     "execution_count": 13,
     "metadata": {},
     "output_type": "execute_result"
    }
   ],
   "source": [
    "# Creates the ANOVA table\n",
    "res2 = sm.stats.anova_lm(model2, typ= 2)\n",
    "res2"
   ]
  },
  {
   "cell_type": "code",
   "execution_count": 14,
   "metadata": {},
   "outputs": [
    {
     "data": {
      "text/html": [
       "<div>\n",
       "<style scoped>\n",
       "    .dataframe tbody tr th:only-of-type {\n",
       "        vertical-align: middle;\n",
       "    }\n",
       "\n",
       "    .dataframe tbody tr th {\n",
       "        vertical-align: top;\n",
       "    }\n",
       "\n",
       "    .dataframe thead th {\n",
       "        text-align: right;\n",
       "    }\n",
       "</style>\n",
       "<table border=\"1\" class=\"dataframe\">\n",
       "  <thead>\n",
       "    <tr style=\"text-align: right;\">\n",
       "      <th></th>\n",
       "      <th>sum_sq</th>\n",
       "      <th>mean_sq</th>\n",
       "      <th>df</th>\n",
       "      <th>F</th>\n",
       "      <th>PR(&gt;F)</th>\n",
       "      <th>eta_sq</th>\n",
       "      <th>omega_sq</th>\n",
       "    </tr>\n",
       "  </thead>\n",
       "  <tbody>\n",
       "    <tr>\n",
       "      <td>C(time_budget)</td>\n",
       "      <td>0.001045</td>\n",
       "      <td>0.000522</td>\n",
       "      <td>2.0</td>\n",
       "      <td>0.006704</td>\n",
       "      <td>9.933188e-01</td>\n",
       "      <td>0.000035</td>\n",
       "      <td>-0.005228</td>\n",
       "    </tr>\n",
       "    <tr>\n",
       "      <td>C(methods)</td>\n",
       "      <td>3.194879</td>\n",
       "      <td>1.597440</td>\n",
       "      <td>2.0</td>\n",
       "      <td>20.497822</td>\n",
       "      <td>3.960405e-09</td>\n",
       "      <td>0.108165</td>\n",
       "      <td>0.102618</td>\n",
       "    </tr>\n",
       "    <tr>\n",
       "      <td>Residual</td>\n",
       "      <td>26.341072</td>\n",
       "      <td>0.077932</td>\n",
       "      <td>338.0</td>\n",
       "      <td>NaN</td>\n",
       "      <td>NaN</td>\n",
       "      <td>NaN</td>\n",
       "      <td>NaN</td>\n",
       "    </tr>\n",
       "  </tbody>\n",
       "</table>\n",
       "</div>"
      ],
      "text/plain": [
       "                   sum_sq   mean_sq     df          F        PR(>F)    eta_sq  \\\n",
       "C(time_budget)   0.001045  0.000522    2.0   0.006704  9.933188e-01  0.000035   \n",
       "C(methods)       3.194879  1.597440    2.0  20.497822  3.960405e-09  0.108165   \n",
       "Residual        26.341072  0.077932  338.0        NaN           NaN       NaN   \n",
       "\n",
       "                omega_sq  \n",
       "C(time_budget) -0.005228  \n",
       "C(methods)      0.102618  \n",
       "Residual             NaN  "
      ]
     },
     "execution_count": 14,
     "metadata": {},
     "output_type": "execute_result"
    }
   ],
   "source": [
    "# Calculating effect size\n",
    "def anova_table(aov):\n",
    "    aov['mean_sq'] = aov[:]['sum_sq']/aov[:]['df']\n",
    "    \n",
    "    aov['eta_sq'] = aov[:-1]['sum_sq']/sum(aov['sum_sq'])\n",
    "    \n",
    "    aov['omega_sq'] = (aov[:-1]['sum_sq']-(aov[:-1]['df']*aov['mean_sq'][-1]))/(sum(aov['sum_sq'])+aov['mean_sq'][-1])\n",
    "    \n",
    "    cols = ['sum_sq', 'mean_sq', 'df', 'F', 'PR(>F)', 'eta_sq', 'omega_sq']\n",
    "    aov = aov[cols]\n",
    "    return aov\n",
    "\n",
    "anova_table(res2)"
   ]
  },
  {
   "cell_type": "markdown",
   "metadata": {},
   "source": []
  },
  {
   "cell_type": "code",
   "execution_count": 15,
   "metadata": {},
   "outputs": [
    {
     "name": "stdout",
     "output_type": "stream",
     "text": [
      "Multiple Comparison of Means - Tukey HSD, FWER=0.05\n",
      "==================================================\n",
      "group1 group2 meandiff p-adj  lower  upper  reject\n",
      "--------------------------------------------------\n",
      "    1c     3C   0.1966 0.001  0.1045 0.2887   True\n",
      "    1c     fc   0.1923 0.001  0.1064 0.2781   True\n",
      "    3C     fc  -0.0043   0.9 -0.1108 0.1022  False\n",
      "--------------------------------------------------\n"
     ]
    }
   ],
   "source": [
    "mc = statsmodels.stats.multicomp.MultiComparison(df['f1score'], df['methods'])\n",
    "mc_results = mc.tukeyhsd()\n",
    "print(mc_results)"
   ]
  },
  {
   "cell_type": "code",
   "execution_count": 16,
   "metadata": {},
   "outputs": [
    {
     "name": "stdout",
     "output_type": "stream",
     "text": [
      "Multiple Comparison of Means - Tukey HSD, FWER=0.05\n",
      "==================================================\n",
      "group1 group2 meandiff p-adj  lower  upper  reject\n",
      "--------------------------------------------------\n",
      "    10     30  -0.0066   0.9 -0.1008 0.0877  False\n",
      "    10     60  -0.0065   0.9 -0.0981 0.0852  False\n",
      "    30     60   0.0001   0.9   -0.09 0.0902  False\n",
      "--------------------------------------------------\n"
     ]
    }
   ],
   "source": [
    "mc = statsmodels.stats.multicomp.MultiComparison(df['f1score'], df['time_budget'])\n",
    "mc_results = mc.tukeyhsd()\n",
    "print(mc_results)"
   ]
  },
  {
   "cell_type": "markdown",
   "metadata": {},
   "source": [
    "# Analysis <font color=blue>without </font> combining RF, DT and SVM into 1C"
   ]
  },
  {
   "cell_type": "code",
   "execution_count": 17,
   "metadata": {},
   "outputs": [
    {
     "ename": "NameError",
     "evalue": "name 'pandas' is not defined",
     "output_type": "error",
     "traceback": [
      "\u001b[1;31m---------------------------------------------------------------------------\u001b[0m",
      "\u001b[1;31mNameError\u001b[0m                                 Traceback (most recent call last)",
      "\u001b[1;32m<ipython-input-17-4e0f8b6a884a>\u001b[0m in \u001b[0;36m<module>\u001b[1;34m\u001b[0m\n\u001b[1;32m----> 1\u001b[1;33m \u001b[0mdf\u001b[0m \u001b[1;33m=\u001b[0m \u001b[0mpandas\u001b[0m\u001b[1;33m.\u001b[0m\u001b[0mread_excel\u001b[0m\u001b[1;33m(\u001b[0m\u001b[1;34mr\"C:\\Users\\HassanEldeeb\\Documents\\GitHub\\AutoMLBenchmarking\\logs_search_space/skout.xlsx\"\u001b[0m\u001b[1;33m)\u001b[0m\u001b[1;33m\u001b[0m\u001b[1;33m\u001b[0m\u001b[0m\n\u001b[0m\u001b[0;32m      2\u001b[0m \u001b[0mdf\u001b[0m \u001b[1;33m=\u001b[0m \u001b[0mdf\u001b[0m\u001b[1;33m[\u001b[0m\u001b[1;33m[\u001b[0m\u001b[1;34m'time_budget'\u001b[0m\u001b[1;33m,\u001b[0m \u001b[1;34m'methods'\u001b[0m\u001b[1;33m,\u001b[0m \u001b[1;34m'f1score'\u001b[0m\u001b[1;33m]\u001b[0m\u001b[1;33m]\u001b[0m\u001b[1;33m\u001b[0m\u001b[1;33m\u001b[0m\u001b[0m\n\u001b[0;32m      3\u001b[0m \u001b[0mdf\u001b[0m\u001b[1;33m.\u001b[0m\u001b[0mmethods\u001b[0m \u001b[1;33m=\u001b[0m \u001b[0mdf\u001b[0m\u001b[1;33m.\u001b[0m\u001b[0mmethods\u001b[0m\u001b[1;33m.\u001b[0m\u001b[0mreplace\u001b[0m\u001b[1;33m(\u001b[0m\u001b[1;34m\"['adaboost', 'bernoulli_nb', 'decision_tree', 'extra_trees', 'gaussian_nb', 'gradient_boosting', 'k_nearest_neighbors', 'lda', 'liblinear_svc', 'libsvm_svc', 'multinomial_nb', 'passive_aggressive', 'qda', 'random_forest', 'sgd']\"\u001b[0m\u001b[1;33m,\u001b[0m \u001b[1;34m\"fc\"\u001b[0m\u001b[1;33m)\u001b[0m\u001b[1;33m\u001b[0m\u001b[1;33m\u001b[0m\u001b[0m\n\u001b[0;32m      4\u001b[0m \u001b[0mdf\u001b[0m\u001b[1;33m.\u001b[0m\u001b[0mmethods\u001b[0m \u001b[1;33m=\u001b[0m \u001b[0mdf\u001b[0m\u001b[1;33m.\u001b[0m\u001b[0mmethods\u001b[0m\u001b[1;33m.\u001b[0m\u001b[0mreplace\u001b[0m\u001b[1;33m(\u001b[0m\u001b[1;34m\"['decision_tree', 'libsvm_svc', 'random_forest']\"\u001b[0m\u001b[1;33m,\u001b[0m \u001b[1;34m\"3c\"\u001b[0m\u001b[1;33m)\u001b[0m\u001b[1;33m\u001b[0m\u001b[1;33m\u001b[0m\u001b[0m\n\u001b[0;32m      5\u001b[0m \u001b[0mdf\u001b[0m\u001b[1;33m.\u001b[0m\u001b[0mmethods\u001b[0m \u001b[1;33m=\u001b[0m \u001b[0mdf\u001b[0m\u001b[1;33m.\u001b[0m\u001b[0mmethods\u001b[0m\u001b[1;33m.\u001b[0m\u001b[0mreplace\u001b[0m\u001b[1;33m(\u001b[0m\u001b[1;34m\"['libsvm_svc']\"\u001b[0m\u001b[1;33m,\u001b[0m \u001b[1;34m\"svm\"\u001b[0m\u001b[1;33m)\u001b[0m\u001b[1;33m\u001b[0m\u001b[1;33m\u001b[0m\u001b[0m\n",
      "\u001b[1;31mNameError\u001b[0m: name 'pandas' is not defined"
     ]
    }
   ],
   "source": [
    "df = pandas.read_excel(r\"C:\\Users\\HassanEldeeb\\Documents\\GitHub\\AutoMLBenchmarking\\logs_search_space/skout.xlsx\")\n",
    "df = df[['time_budget', 'methods', 'f1score']]\n",
    "df.methods = df.methods.replace(\"['adaboost', 'bernoulli_nb', 'decision_tree', 'extra_trees', 'gaussian_nb', 'gradient_boosting', 'k_nearest_neighbors', 'lda', 'liblinear_svc', 'libsvm_svc', 'multinomial_nb', 'passive_aggressive', 'qda', 'random_forest', 'sgd']\", \"fc\")\n",
    "df.methods = df.methods.replace(\"['decision_tree', 'libsvm_svc', 'random_forest']\", \"3c\")\n",
    "df.methods = df.methods.replace(\"['libsvm_svc']\", \"svm\")\n",
    "df.methods = df.methods.replace(\"['decision_tree']\", \"DT\")\n",
    "df.methods = df.methods.replace(\"['random_forest']\", \"RF\")\n",
    "#df.drop(df[(df.methods=='fc') & ((df.time_budget==30) | (df.time_budget==10))].index, inplace=True)\n",
    "#df.drop(df[(df.methods=='3c') & ((df.time_budget==60) | (df.time_budget==10))].index, inplace=True)\n",
    "df.shape"
   ]
  },
  {
   "cell_type": "code",
   "execution_count": null,
   "metadata": {},
   "outputs": [],
   "source": [
    "rp.summary_cont(df['f1score'])"
   ]
  },
  {
   "cell_type": "code",
   "execution_count": null,
   "metadata": {},
   "outputs": [],
   "source": [
    "rp.summary_cont(df.groupby(['time_budget']))['f1score']"
   ]
  },
  {
   "cell_type": "code",
   "execution_count": null,
   "metadata": {},
   "outputs": [],
   "source": [
    "rp.summary_cont(df.groupby(['methods']))['f1score']"
   ]
  },
  {
   "cell_type": "code",
   "execution_count": null,
   "metadata": {},
   "outputs": [],
   "source": [
    "rp.summary_cont(df.groupby(['time_budget', 'methods']))['f1score']"
   ]
  },
  {
   "cell_type": "code",
   "execution_count": null,
   "metadata": {},
   "outputs": [],
   "source": [
    "    # Fits the model with the interaction term\n",
    "    # This will also automatically include the main effects for each factor\n",
    "    model = ols('f1score ~ C(time_budget)*C(methods)', df).fit()\n",
    "\n",
    "    # Seeing if the overall model is significant\n",
    "    print(f\"Overall model F({model.df_model: .0f},{model.df_resid: .0f}) = {model.fvalue: .3f}, p = {model.f_pvalue: .4f}\")"
   ]
  },
  {
   "cell_type": "code",
   "execution_count": null,
   "metadata": {},
   "outputs": [],
   "source": [
    "model.summary()"
   ]
  },
  {
   "cell_type": "code",
   "execution_count": null,
   "metadata": {},
   "outputs": [],
   "source": [
    "# Creates the ANOVA table\n",
    "res = sm.stats.anova_lm(model, typ= 2)\n",
    "res"
   ]
  },
  {
   "cell_type": "code",
   "execution_count": null,
   "metadata": {},
   "outputs": [],
   "source": [
    "# Fits the model\n",
    "model2 = ols('f1score ~ C(time_budget)+ C(methods)', df).fit()\n",
    "\n",
    "print(f\"Overall model F({model2.df_model: .0f},{model2.df_resid: .0f}) = {model2.fvalue: .3f}, p = {model2.f_pvalue: .4f}\")"
   ]
  },
  {
   "cell_type": "code",
   "execution_count": null,
   "metadata": {},
   "outputs": [],
   "source": [
    "model2.summary()"
   ]
  },
  {
   "cell_type": "code",
   "execution_count": null,
   "metadata": {},
   "outputs": [],
   "source": [
    "# Creates the ANOVA table\n",
    "res2 = sm.stats.anova_lm(model2, typ= 2)\n",
    "res2"
   ]
  },
  {
   "cell_type": "code",
   "execution_count": null,
   "metadata": {},
   "outputs": [],
   "source": [
    "# Calculating effect size\n",
    "def anova_table(aov):\n",
    "    aov['mean_sq'] = aov[:]['sum_sq']/aov[:]['df']\n",
    "    \n",
    "    aov['eta_sq'] = aov[:-1]['sum_sq']/sum(aov['sum_sq'])\n",
    "    \n",
    "    aov['omega_sq'] = (aov[:-1]['sum_sq']-(aov[:-1]['df']*aov['mean_sq'][-1]))/(sum(aov['sum_sq'])+aov['mean_sq'][-1])\n",
    "    \n",
    "    cols = ['sum_sq', 'mean_sq', 'df', 'F', 'PR(>F)', 'eta_sq', 'omega_sq']\n",
    "    aov = aov[cols]\n",
    "    return aov\n",
    "\n",
    "anova_table(res2)"
   ]
  },
  {
   "cell_type": "markdown",
   "metadata": {},
   "source": []
  },
  {
   "cell_type": "code",
   "execution_count": null,
   "metadata": {},
   "outputs": [],
   "source": [
    "mc = statsmodels.stats.multicomp.MultiComparison(df['f1score'], df['methods'])\n",
    "mc_results = mc.tukeyhsd()\n",
    "print(mc_results)"
   ]
  },
  {
   "cell_type": "markdown",
   "metadata": {},
   "source": [
    "# Analysis <font color=blue>after </font> combining RF, DT and SVM into 1C \n",
    "# Comparing FC (60 min) with 3C(30)"
   ]
  },
  {
   "cell_type": "code",
   "execution_count": null,
   "metadata": {},
   "outputs": [],
   "source": [
    "df = pandas.read_excel(r\"C:\\Users\\HassanEldeeb\\Documents\\GitHub\\AutoMLBenchmarking\\logs_search_space/skout.xlsx\")\n",
    "df = df[['time_budget', 'methods', 'f1score']]\n",
    "df.methods = df.methods.replace(\"['adaboost', 'bernoulli_nb', 'decision_tree', 'extra_trees', 'gaussian_nb', 'gradient_boosting', 'k_nearest_neighbors', 'lda', 'liblinear_svc', 'libsvm_svc', 'multinomial_nb', 'passive_aggressive', 'qda', 'random_forest', 'sgd']\", \"fc\")\n",
    "df.methods = df.methods.replace(\"['decision_tree', 'libsvm_svc', 'random_forest']\", \"3c\")\n",
    "df.methods = df.methods.replace(\"['libsvm_svc']\", \"1c\")\n",
    "df.methods = df.methods.replace(\"['decision_tree']\", \"1c\")\n",
    "df.methods = df.methods.replace(\"['random_forest']\", \"1c\")\n",
    "df.drop(df[(df.methods=='fc') & ((df.time_budget==30) | (df.time_budget==10))].index, inplace=True)\n",
    "df.drop(df[(df.methods=='3c') & ((df.time_budget==60) | (df.time_budget==10))].index, inplace=True)\n",
    "df.drop(df[(df.methods=='1c') & ((df.time_budget==60) | (df.time_budget==10))].index, inplace=True)\n",
    "df.shape"
   ]
  },
  {
   "cell_type": "code",
   "execution_count": null,
   "metadata": {},
   "outputs": [],
   "source": [
    "rp.summary_cont(df['f1score'])"
   ]
  },
  {
   "cell_type": "code",
   "execution_count": null,
   "metadata": {},
   "outputs": [],
   "source": [
    "rp.summary_cont(df.groupby(['time_budget']))['f1score']"
   ]
  },
  {
   "cell_type": "code",
   "execution_count": null,
   "metadata": {},
   "outputs": [],
   "source": [
    "rp.summary_cont(df.groupby(['methods']))['f1score']"
   ]
  },
  {
   "cell_type": "code",
   "execution_count": null,
   "metadata": {},
   "outputs": [],
   "source": [
    "rp.summary_cont(df.groupby(['time_budget', 'methods']))['f1score']"
   ]
  },
  {
   "cell_type": "code",
   "execution_count": null,
   "metadata": {},
   "outputs": [],
   "source": [
    "    # Fits the model with the interaction term\n",
    "    # This will also automatically include the main effects for each factor\n",
    "    model = ols('f1score ~ C(time_budget)*C(methods)', df).fit()\n",
    "\n",
    "    # Seeing if the overall model is significant\n",
    "    print(f\"Overall model F({model.df_model: .0f},{model.df_resid: .0f}) = {model.fvalue: .3f}, p = {model.f_pvalue: .4f}\")"
   ]
  },
  {
   "cell_type": "code",
   "execution_count": null,
   "metadata": {},
   "outputs": [],
   "source": [
    "model.summary()"
   ]
  },
  {
   "cell_type": "code",
   "execution_count": null,
   "metadata": {},
   "outputs": [],
   "source": [
    "# Creates the ANOVA table\n",
    "res = sm.stats.anova_lm(model, typ= 2)\n",
    "res"
   ]
  },
  {
   "cell_type": "code",
   "execution_count": null,
   "metadata": {},
   "outputs": [],
   "source": [
    "# Fits the model\n",
    "model2 = ols('f1score ~ C(time_budget)+ C(methods)', df).fit()\n",
    "\n",
    "print(f\"Overall model F({model2.df_model: .0f},{model2.df_resid: .0f}) = {model2.fvalue: .3f}, p = {model2.f_pvalue: .4f}\")"
   ]
  },
  {
   "cell_type": "code",
   "execution_count": null,
   "metadata": {},
   "outputs": [],
   "source": [
    "model2.summary()"
   ]
  },
  {
   "cell_type": "code",
   "execution_count": null,
   "metadata": {},
   "outputs": [],
   "source": [
    "# Creates the ANOVA table\n",
    "res2 = sm.stats.anova_lm(model2, typ= 2)\n",
    "res2"
   ]
  },
  {
   "cell_type": "code",
   "execution_count": null,
   "metadata": {},
   "outputs": [],
   "source": [
    "# Calculating effect size\n",
    "def anova_table(aov):\n",
    "    aov['mean_sq'] = aov[:]['sum_sq']/aov[:]['df']\n",
    "    \n",
    "    aov['eta_sq'] = aov[:-1]['sum_sq']/sum(aov['sum_sq'])\n",
    "    \n",
    "    aov['omega_sq'] = (aov[:-1]['sum_sq']-(aov[:-1]['df']*aov['mean_sq'][-1]))/(sum(aov['sum_sq'])+aov['mean_sq'][-1])\n",
    "    \n",
    "    cols = ['sum_sq', 'mean_sq', 'df', 'F', 'PR(>F)', 'eta_sq', 'omega_sq']\n",
    "    aov = aov[cols]\n",
    "    return aov\n",
    "\n",
    "anova_table(res2)"
   ]
  },
  {
   "cell_type": "markdown",
   "metadata": {},
   "source": []
  },
  {
   "cell_type": "code",
   "execution_count": null,
   "metadata": {},
   "outputs": [],
   "source": [
    "mc = statsmodels.stats.multicomp.MultiComparison(df['f1score'], df['methods'])\n",
    "mc_results = mc.tukeyhsd()\n",
    "print(mc_results)"
   ]
  },
  {
   "cell_type": "markdown",
   "metadata": {},
   "source": [
    "# Wilcoxon signed-rank test"
   ]
  },
  {
   "cell_type": "code",
   "execution_count": null,
   "metadata": {},
   "outputs": [],
   "source": [
    "df = pandas.read_excel(r\"C:\\Users\\HassanEldeeb\\Documents\\GitHub\\AutoMLBenchmarking\\logs_search_space/skout.xlsx\")\n",
    "df = df[['time_budget', 'methods', 'f1score']]\n",
    "df.methods = df.methods.replace(\"['adaboost', 'bernoulli_nb', 'decision_tree', 'extra_trees', 'gaussian_nb', 'gradient_boosting', 'k_nearest_neighbors', 'lda', 'liblinear_svc', 'libsvm_svc', 'multinomial_nb', 'passive_aggressive', 'qda', 'random_forest', 'sgd']\", \"fc\")\n",
    "df.methods = df.methods.replace(\"['decision_tree', 'libsvm_svc', 'random_forest']\", \"3c\")\n",
    "df.methods = df.methods.replace(\"['libsvm_svc']\", \"svm\")\n",
    "df.methods = df.methods.replace(\"['decision_tree']\", \"DT\")\n",
    "df.methods = df.methods.replace(\"['random_forest']\", \"RF\")\n",
    "df.shape"
   ]
  },
  {
   "cell_type": "code",
   "execution_count": null,
   "metadata": {},
   "outputs": [],
   "source": [
    "# Wilcoxon signed-rank test\n",
    "from numpy.random import seed\n",
    "from numpy.random import randn\n",
    "from scipy.stats import wilcoxon\n",
    "# seed the random number generator\n",
    "seed(1)\n",
    "# generate two independent samples\n",
    "data1 = df.f1score[df.methods=='3c']\n",
    "data2 = df.f1score[df.methods=='fc']\n",
    "# compare samples\n",
    "stat, p = wilcoxon(data1, data2)\n",
    "print('Statistics=%.3f, p=%.3f' % (stat, p))\n",
    "# interpret\n",
    "alpha = 0.05\n",
    "if p > alpha:\n",
    "    print('Same distribution (fail to reject H0)')\n",
    "else:\n",
    "    print('Different distribution (reject H0)')"
   ]
  },
  {
   "cell_type": "code",
   "execution_count": null,
   "metadata": {},
   "outputs": [],
   "source": [
    "df = pandas.read_excel(r\"C:\\Users\\HassanEldeeb\\Documents\\GitHub\\AutoMLBenchmarking\\logs_search_space/skout.xlsx\")\n",
    "df = df[['time_budget', 'methods', 'f1score']]\n",
    "df.methods = df.methods.replace(\"['adaboost', 'bernoulli_nb', 'decision_tree', 'extra_trees', 'gaussian_nb', 'gradient_boosting', 'k_nearest_neighbors', 'lda', 'liblinear_svc', 'libsvm_svc', 'multinomial_nb', 'passive_aggressive', 'qda', 'random_forest', 'sgd']\", \"fc\")\n",
    "df.methods = df.methods.replace(\"['decision_tree', 'libsvm_svc', 'random_forest']\", \"3c\")\n",
    "df.methods = df.methods.replace(\"['libsvm_svc']\", \"svm\")\n",
    "df.methods = df.methods.replace(\"['decision_tree']\", \"DT\")\n",
    "df.methods = df.methods.replace(\"['random_forest']\", \"RF\")\n",
    "df.shape"
   ]
  },
  {
   "cell_type": "code",
   "execution_count": null,
   "metadata": {},
   "outputs": [],
   "source": [
    "# Wilcoxon signed-rank test\n",
    "from numpy.random import seed\n",
    "from numpy.random import randn\n",
    "from scipy.stats import wilcoxon\n",
    "# seed the random number generator\n",
    "seed(1)\n",
    "# generate two independent samples\n",
    "data1 = df.f1score[df.methods=='3c']\n",
    "data2 = df.f1score[df.methods=='fc']\n",
    "# compare samples\n",
    "stat, p = wilcoxon(data1, data2)\n",
    "print('Statistics=%.3f, p=%.3f' % (stat, p))\n",
    "# interpret\n",
    "alpha = 0.05\n",
    "if p > alpha:\n",
    "    print('Same distribution (fail to reject H0)')\n",
    "else:\n",
    "    print('Different distribution (reject H0)')"
   ]
  },
  {
   "cell_type": "code",
   "execution_count": null,
   "metadata": {},
   "outputs": [],
   "source": []
  }
 ],
 "metadata": {
  "kernelspec": {
   "display_name": "Python 3",
   "language": "python",
   "name": "python3"
  },
  "language_info": {
   "codemirror_mode": {
    "name": "ipython",
    "version": 3
   },
   "file_extension": ".py",
   "mimetype": "text/x-python",
   "name": "python",
   "nbconvert_exporter": "python",
   "pygments_lexer": "ipython3",
   "version": "3.7.4"
  }
 },
 "nbformat": 4,
 "nbformat_minor": 2
}
