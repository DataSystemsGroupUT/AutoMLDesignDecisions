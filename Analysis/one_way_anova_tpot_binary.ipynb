{
 "cells": [
  {
   "cell_type": "code",
   "execution_count": 1,
   "metadata": {},
   "outputs": [],
   "source": [
    "import pandas as pd\n",
    "import scipy.stats as stats\n",
    "import researchpy as rp\n",
    "import statsmodels.api as sm\n",
    "from statsmodels.formula.api import ols\n",
    "import os\n",
    "import ast\n",
    "import numpy as np\n",
    "import matplotlib.pyplot as plt\n"
   ]
  },
  {
   "cell_type": "markdown",
   "metadata": {},
   "source": [
    "# Analysis <font color=blue>after </font> combining RF, DT and SVM into 1C 10 min"
   ]
  },
  {
   "cell_type": "code",
   "execution_count": 2,
   "metadata": {},
   "outputs": [],
   "source": [
    "def get_class (model):\n",
    "    if isinstance(model, str):\n",
    "        model = '{' +'}'.join('{'.join(model.split('{')[1:]).split('}')[0:1]) + '}'\n",
    "        m = ast.literal_eval(model)\n",
    "        if 'classifier:__choice__' in m:\n",
    "            classifier = m['classifier:__choice__']\n",
    "        else:\n",
    "            classifier = ''\n",
    "        return classifier\n",
    "    else:\n",
    "        return ''\n",
    "\n",
    "\n",
    "def parse_tpot(directory):\n",
    "    result = pd.DataFrame(columns=['dataset', 'accuracy', 'model', 'precision', 'recall', 'f1score', 'time_budget', 'methods'])\n",
    "    for subdir, dirs, files in os.walk(directory):\n",
    "        for file in files:\n",
    "            if file.endswith('.csv'):\n",
    "                method = file.split('.')[0].split('_')[2]\n",
    "                time_budget = file.split('.')[0].split('_')[3]\n",
    "                run = []\n",
    "                sub_result = pd.read_csv(os.path.join(subdir, file))\n",
    "                sub_result.rename(columns={'Unnamed: 0': 'dataset'}, inplace = True)\n",
    "                run.append(sub_result[['dataset', 'accuracy_1', 'model_1', 'precision_1', 'recall_1', 'f1score_1']])\n",
    "                run.append(sub_result[['dataset', 'accuracy_2', 'model_2', 'precision_2', 'recall_2', 'f1score_2']])\n",
    "                run.append(sub_result[['dataset', 'accuracy_3', 'model_3', 'precision_3', 'recall_3', 'f1score_3']])\n",
    "                for i in range(3):\n",
    "                    run[i].rename(columns={'accuracy_'+str(i+1): 'accuracy',\n",
    "                                           'model_'+str(i+1): 'model',\n",
    "                                           'precision_'+str(i+1): 'precision',\n",
    "                                           'recall_'+str(i+1): 'recall',\n",
    "                                           'f1score_'+str(i+1): 'f1score'}, inplace=True)\n",
    "                    run[i]['methods'] = str(method)\n",
    "                    run[i]['time_budget'] = int(time_budget)\n",
    "                    result = pd.concat([result, run[i]], axis=0, sort=True, ignore_index=True)\n",
    "    result.model = result.model.apply(get_class)\n",
    "    result = result[~np.isnan(result.f1score)]\n",
    "    return result\n",
    "#parse_tpot(r\"C:\\Users\\HassanEldeeb\\Documents\\GitHub\\AutoMLBenchmarking\\logs_search_space/\")"
   ]
  },
  {
   "cell_type": "code",
   "execution_count": 3,
   "metadata": {},
   "outputs": [
    {
     "name": "stderr",
     "output_type": "stream",
     "text": [
      "C:\\Users\\HassanEldeeb\\Anaconda3\\lib\\site-packages\\pandas\\core\\frame.py:4223: SettingWithCopyWarning: \n",
      "A value is trying to be set on a copy of a slice from a DataFrame\n",
      "\n",
      "See the caveats in the documentation: http://pandas.pydata.org/pandas-docs/stable/user_guide/indexing.html#returning-a-view-versus-a-copy\n",
      "  return super().rename(**kwargs)\n",
      "C:\\Users\\HassanEldeeb\\Anaconda3\\lib\\site-packages\\ipykernel_launcher.py:33: SettingWithCopyWarning: \n",
      "A value is trying to be set on a copy of a slice from a DataFrame.\n",
      "Try using .loc[row_indexer,col_indexer] = value instead\n",
      "\n",
      "See the caveats in the documentation: http://pandas.pydata.org/pandas-docs/stable/user_guide/indexing.html#returning-a-view-versus-a-copy\n",
      "C:\\Users\\HassanEldeeb\\Anaconda3\\lib\\site-packages\\ipykernel_launcher.py:34: SettingWithCopyWarning: \n",
      "A value is trying to be set on a copy of a slice from a DataFrame.\n",
      "Try using .loc[row_indexer,col_indexer] = value instead\n",
      "\n",
      "See the caveats in the documentation: http://pandas.pydata.org/pandas-docs/stable/user_guide/indexing.html#returning-a-view-versus-a-copy\n"
     ]
    },
    {
     "data": {
      "text/plain": [
       "(343, 4)"
      ]
     },
     "execution_count": 3,
     "metadata": {},
     "output_type": "execute_result"
    }
   ],
   "source": [
    "df = parse_tpot(r\"C:\\Users\\HassanEldeeb\\Documents\\GitHub\\AutoMLBenchmarking\\logs_search_space/\")\n",
    "df = df[['dataset', 'time_budget', 'methods', 'f1score']]\n",
    "df.methods = df.methods.replace(\"default\", \"fc\")\n",
    "df.methods = df.methods.replace(\"3C\", \"3c\")\n",
    "df.methods = df.methods.replace(\"SVC\", \"1c\")\n",
    "df.methods = df.methods.replace(\"DT\", \"1c\")\n",
    "df.methods = df.methods.replace(\"RF\", \"1c\")\n",
    "fsIs_b = ['vowel', 'openml_phpJNxH0q', 'dataset_31_credit-g', 'dataset_40_sonar']\n",
    "fsIs_m = ['solar-flare_1', 'wine-quality-red', 'dataset_39_ecoli', 'synthetic_control']\n",
    "fsIl_b = ['AirlinesCodrnaAdult', 'MagicTelescope', 'electricity-normalized', 'phpmPOD5A']\n",
    "fsIl_m = ['pokerhand-normalized', 'eye_movements', 'avila-tr']\n",
    "flIs_b = ['audiology', 'arrhythmia', 'AP_Breast_Lung', 'AP_Omentum_Ovary']\n",
    "flIs_m = ['Amazon', 'umistfacescropped', 'phpGUrE90']\n",
    "flIl_b = ['gina_agnostic', 'hiva_agnostic', 'phpZrCzJR', 'phprAeXmK']\n",
    "flIl_m = ['KDDCup99', 'connect-4', 'dataset_60_waveform-5000', 'dataset_186_satimage']\n",
    "df_binary = df[df.dataset.isin(fsIs_b) | df.dataset.isin(fsIl_b) | df.dataset.isin(flIs_b) | df.dataset.isin(flIl_b)]\n",
    "df_multi = df[df.dataset.isin(fsIs_m) | df.dataset.isin(fsIl_m) | df.dataset.isin(flIs_m) | df.dataset.isin(flIl_m)]\n",
    "#df.drop(df[(df.methods=='fc') & ((df.time_budget==30) | (df.time_budget==10))].index, inplace=True)\n",
    "#df.drop(df[(df.methods=='3c') & ((df.time_budget==60) | (df.time_budget==10))].index, inplace=True)\n",
    "df=df_binary\n",
    "df10 = df[df.time_budget==10]\n",
    "df30 = df[df.time_budget==30]\n",
    "df60 = df[df.time_budget==60]\n",
    "\n",
    "df.shape"
   ]
  },
  {
   "cell_type": "code",
   "execution_count": 4,
   "metadata": {},
   "outputs": [
    {
     "name": "stdout",
     "output_type": "stream",
     "text": [
      "\n",
      "\n"
     ]
    },
    {
     "data": {
      "text/html": [
       "<div>\n",
       "<style scoped>\n",
       "    .dataframe tbody tr th:only-of-type {\n",
       "        vertical-align: middle;\n",
       "    }\n",
       "\n",
       "    .dataframe tbody tr th {\n",
       "        vertical-align: top;\n",
       "    }\n",
       "\n",
       "    .dataframe thead th {\n",
       "        text-align: right;\n",
       "    }\n",
       "</style>\n",
       "<table border=\"1\" class=\"dataframe\">\n",
       "  <thead>\n",
       "    <tr style=\"text-align: right;\">\n",
       "      <th></th>\n",
       "      <th>Variable</th>\n",
       "      <th>N</th>\n",
       "      <th>Mean</th>\n",
       "      <th>SD</th>\n",
       "      <th>SE</th>\n",
       "      <th>95% Conf.</th>\n",
       "      <th>Interval</th>\n",
       "    </tr>\n",
       "  </thead>\n",
       "  <tbody>\n",
       "    <tr>\n",
       "      <td>0</td>\n",
       "      <td>f1score</td>\n",
       "      <td>105.0</td>\n",
       "      <td>0.726433</td>\n",
       "      <td>0.290676</td>\n",
       "      <td>0.028367</td>\n",
       "      <td>0.67018</td>\n",
       "      <td>0.782686</td>\n",
       "    </tr>\n",
       "  </tbody>\n",
       "</table>\n",
       "</div>"
      ],
      "text/plain": [
       "  Variable      N      Mean        SD        SE  95% Conf.  Interval\n",
       "0  f1score  105.0  0.726433  0.290676  0.028367    0.67018  0.782686"
      ]
     },
     "execution_count": 4,
     "metadata": {},
     "output_type": "execute_result"
    }
   ],
   "source": [
    "rp.summary_cont(df10['f1score'])"
   ]
  },
  {
   "cell_type": "code",
   "execution_count": 5,
   "metadata": {},
   "outputs": [
    {
     "name": "stdout",
     "output_type": "stream",
     "text": [
      "\n",
      "\n"
     ]
    },
    {
     "data": {
      "text/html": [
       "<div>\n",
       "<style scoped>\n",
       "    .dataframe tbody tr th:only-of-type {\n",
       "        vertical-align: middle;\n",
       "    }\n",
       "\n",
       "    .dataframe tbody tr th {\n",
       "        vertical-align: top;\n",
       "    }\n",
       "\n",
       "    .dataframe thead th {\n",
       "        text-align: right;\n",
       "    }\n",
       "</style>\n",
       "<table border=\"1\" class=\"dataframe\">\n",
       "  <thead>\n",
       "    <tr style=\"text-align: right;\">\n",
       "      <th></th>\n",
       "      <th>Variable</th>\n",
       "      <th>N</th>\n",
       "      <th>Mean</th>\n",
       "      <th>SD</th>\n",
       "      <th>SE</th>\n",
       "      <th>95% Conf.</th>\n",
       "      <th>Interval</th>\n",
       "    </tr>\n",
       "  </thead>\n",
       "  <tbody>\n",
       "    <tr>\n",
       "      <td>0</td>\n",
       "      <td>f1score</td>\n",
       "      <td>112.0</td>\n",
       "      <td>0.719853</td>\n",
       "      <td>0.299978</td>\n",
       "      <td>0.028345</td>\n",
       "      <td>0.663685</td>\n",
       "      <td>0.776021</td>\n",
       "    </tr>\n",
       "  </tbody>\n",
       "</table>\n",
       "</div>"
      ],
      "text/plain": [
       "  Variable      N      Mean        SD        SE  95% Conf.  Interval\n",
       "0  f1score  112.0  0.719853  0.299978  0.028345   0.663685  0.776021"
      ]
     },
     "execution_count": 5,
     "metadata": {},
     "output_type": "execute_result"
    }
   ],
   "source": [
    "rp.summary_cont(df30['f1score'])"
   ]
  },
  {
   "cell_type": "code",
   "execution_count": 6,
   "metadata": {},
   "outputs": [
    {
     "name": "stdout",
     "output_type": "stream",
     "text": [
      "\n",
      "\n"
     ]
    },
    {
     "data": {
      "text/html": [
       "<div>\n",
       "<style scoped>\n",
       "    .dataframe tbody tr th:only-of-type {\n",
       "        vertical-align: middle;\n",
       "    }\n",
       "\n",
       "    .dataframe tbody tr th {\n",
       "        vertical-align: top;\n",
       "    }\n",
       "\n",
       "    .dataframe thead th {\n",
       "        text-align: right;\n",
       "    }\n",
       "</style>\n",
       "<table border=\"1\" class=\"dataframe\">\n",
       "  <thead>\n",
       "    <tr style=\"text-align: right;\">\n",
       "      <th></th>\n",
       "      <th>Variable</th>\n",
       "      <th>N</th>\n",
       "      <th>Mean</th>\n",
       "      <th>SD</th>\n",
       "      <th>SE</th>\n",
       "      <th>95% Conf.</th>\n",
       "      <th>Interval</th>\n",
       "    </tr>\n",
       "  </thead>\n",
       "  <tbody>\n",
       "    <tr>\n",
       "      <td>0</td>\n",
       "      <td>f1score</td>\n",
       "      <td>126.0</td>\n",
       "      <td>0.71997</td>\n",
       "      <td>0.293397</td>\n",
       "      <td>0.026138</td>\n",
       "      <td>0.66824</td>\n",
       "      <td>0.7717</td>\n",
       "    </tr>\n",
       "  </tbody>\n",
       "</table>\n",
       "</div>"
      ],
      "text/plain": [
       "  Variable      N     Mean        SD        SE  95% Conf.  Interval\n",
       "0  f1score  126.0  0.71997  0.293397  0.026138    0.66824    0.7717"
      ]
     },
     "execution_count": 6,
     "metadata": {},
     "output_type": "execute_result"
    }
   ],
   "source": [
    "rp.summary_cont(df60['f1score'])"
   ]
  },
  {
   "cell_type": "code",
   "execution_count": 7,
   "metadata": {},
   "outputs": [
    {
     "data": {
      "text/plain": [
       "F_onewayResult(statistic=4.897053243844356, pvalue=0.009316319845083165)"
      ]
     },
     "execution_count": 7,
     "metadata": {},
     "output_type": "execute_result"
    }
   ],
   "source": [
    "stats.f_oneway(df10['f1score'][df10['methods'] == '1c'], \n",
    "             df10['f1score'][df10['methods'] == '3c'],\n",
    "             df10['f1score'][df10['methods'] == 'fc'])"
   ]
  },
  {
   "cell_type": "code",
   "execution_count": 8,
   "metadata": {},
   "outputs": [
    {
     "data": {
      "text/plain": [
       "F_onewayResult(statistic=6.79851696978441, pvalue=0.0016503883328218578)"
      ]
     },
     "execution_count": 8,
     "metadata": {},
     "output_type": "execute_result"
    }
   ],
   "source": [
    "stats.f_oneway(df30['f1score'][df30['methods'] == '1c'], \n",
    "             df30['f1score'][df30['methods'] == '3c'],\n",
    "             df30['f1score'][df30['methods'] == 'fc'])"
   ]
  },
  {
   "cell_type": "code",
   "execution_count": 9,
   "metadata": {},
   "outputs": [
    {
     "data": {
      "text/plain": [
       "F_onewayResult(statistic=8.796702102734306, pvalue=0.00026873246292863557)"
      ]
     },
     "execution_count": 9,
     "metadata": {},
     "output_type": "execute_result"
    }
   ],
   "source": [
    "stats.f_oneway(df60['f1score'][df60['methods'] == '1c'], \n",
    "             df60['f1score'][df60['methods'] == '3c'],\n",
    "             df60['f1score'][df60['methods'] == 'fc'])"
   ]
  },
  {
   "cell_type": "code",
   "execution_count": 10,
   "metadata": {},
   "outputs": [
    {
     "name": "stdout",
     "output_type": "stream",
     "text": [
      "Overall model F( 2, 102) =  4.897, p =  0.0093\n"
     ]
    },
    {
     "data": {
      "text/html": [
       "<table class=\"simpletable\">\n",
       "<caption>OLS Regression Results</caption>\n",
       "<tr>\n",
       "  <th>Dep. Variable:</th>         <td>f1score</td>     <th>  R-squared:         </th> <td>   0.088</td>\n",
       "</tr>\n",
       "<tr>\n",
       "  <th>Model:</th>                   <td>OLS</td>       <th>  Adj. R-squared:    </th> <td>   0.070</td>\n",
       "</tr>\n",
       "<tr>\n",
       "  <th>Method:</th>             <td>Least Squares</td>  <th>  F-statistic:       </th> <td>   4.897</td>\n",
       "</tr>\n",
       "<tr>\n",
       "  <th>Date:</th>             <td>Fri, 01 Nov 2019</td> <th>  Prob (F-statistic):</th>  <td>0.00932</td>\n",
       "</tr>\n",
       "<tr>\n",
       "  <th>Time:</th>                 <td>22:27:21</td>     <th>  Log-Likelihood:    </th> <td> -13.940</td>\n",
       "</tr>\n",
       "<tr>\n",
       "  <th>No. Observations:</th>      <td>   105</td>      <th>  AIC:               </th> <td>   33.88</td>\n",
       "</tr>\n",
       "<tr>\n",
       "  <th>Df Residuals:</th>          <td>   102</td>      <th>  BIC:               </th> <td>   41.84</td>\n",
       "</tr>\n",
       "<tr>\n",
       "  <th>Df Model:</th>              <td>     2</td>      <th>                     </th>     <td> </td>   \n",
       "</tr>\n",
       "<tr>\n",
       "  <th>Covariance Type:</th>      <td>nonrobust</td>    <th>                     </th>     <td> </td>   \n",
       "</tr>\n",
       "</table>\n",
       "<table class=\"simpletable\">\n",
       "<tr>\n",
       "          <td></td>            <th>coef</th>     <th>std err</th>      <th>t</th>      <th>P>|t|</th>  <th>[0.025</th>    <th>0.975]</th>  \n",
       "</tr>\n",
       "<tr>\n",
       "  <th>Intercept</th>        <td>    0.6483</td> <td>    0.037</td> <td>   17.457</td> <td> 0.000</td> <td>    0.575</td> <td>    0.722</td>\n",
       "</tr>\n",
       "<tr>\n",
       "  <th>C(methods)[T.3c]</th> <td>    0.1843</td> <td>    0.069</td> <td>    2.661</td> <td> 0.009</td> <td>    0.047</td> <td>    0.322</td>\n",
       "</tr>\n",
       "<tr>\n",
       "  <th>C(methods)[T.fc]</th> <td>    0.1588</td> <td>    0.067</td> <td>    2.361</td> <td> 0.020</td> <td>    0.025</td> <td>    0.292</td>\n",
       "</tr>\n",
       "</table>\n",
       "<table class=\"simpletable\">\n",
       "<tr>\n",
       "  <th>Omnibus:</th>       <td>18.727</td> <th>  Durbin-Watson:     </th> <td>   2.208</td>\n",
       "</tr>\n",
       "<tr>\n",
       "  <th>Prob(Omnibus):</th> <td> 0.000</td> <th>  Jarque-Bera (JB):  </th> <td>  23.366</td>\n",
       "</tr>\n",
       "<tr>\n",
       "  <th>Skew:</th>          <td>-1.151</td> <th>  Prob(JB):          </th> <td>8.43e-06</td>\n",
       "</tr>\n",
       "<tr>\n",
       "  <th>Kurtosis:</th>      <td> 3.211</td> <th>  Cond. No.          </th> <td>    3.18</td>\n",
       "</tr>\n",
       "</table><br/><br/>Warnings:<br/>[1] Standard Errors assume that the covariance matrix of the errors is correctly specified."
      ],
      "text/plain": [
       "<class 'statsmodels.iolib.summary.Summary'>\n",
       "\"\"\"\n",
       "                            OLS Regression Results                            \n",
       "==============================================================================\n",
       "Dep. Variable:                f1score   R-squared:                       0.088\n",
       "Model:                            OLS   Adj. R-squared:                  0.070\n",
       "Method:                 Least Squares   F-statistic:                     4.897\n",
       "Date:                Fri, 01 Nov 2019   Prob (F-statistic):            0.00932\n",
       "Time:                        22:27:21   Log-Likelihood:                -13.940\n",
       "No. Observations:                 105   AIC:                             33.88\n",
       "Df Residuals:                     102   BIC:                             41.84\n",
       "Df Model:                           2                                         \n",
       "Covariance Type:            nonrobust                                         \n",
       "====================================================================================\n",
       "                       coef    std err          t      P>|t|      [0.025      0.975]\n",
       "------------------------------------------------------------------------------------\n",
       "Intercept            0.6483      0.037     17.457      0.000       0.575       0.722\n",
       "C(methods)[T.3c]     0.1843      0.069      2.661      0.009       0.047       0.322\n",
       "C(methods)[T.fc]     0.1588      0.067      2.361      0.020       0.025       0.292\n",
       "==============================================================================\n",
       "Omnibus:                       18.727   Durbin-Watson:                   2.208\n",
       "Prob(Omnibus):                  0.000   Jarque-Bera (JB):               23.366\n",
       "Skew:                          -1.151   Prob(JB):                     8.43e-06\n",
       "Kurtosis:                       3.211   Cond. No.                         3.18\n",
       "==============================================================================\n",
       "\n",
       "Warnings:\n",
       "[1] Standard Errors assume that the covariance matrix of the errors is correctly specified.\n",
       "\"\"\""
      ]
     },
     "execution_count": 10,
     "metadata": {},
     "output_type": "execute_result"
    }
   ],
   "source": [
    "    # Fits the model with the interaction term\n",
    "    # This will also automatically include the main effects for each factor\n",
    "    model10 = ols('f1score ~ C(methods)', df10).fit()\n",
    "\n",
    "    # Seeing if the overall model is significant\n",
    "    print(f\"Overall model F({model10.df_model: .0f},{model10.df_resid: .0f}) = {model10.fvalue: .3f}, p = {model10.f_pvalue: .4f}\")\n",
    "    model10.summary()"
   ]
  },
  {
   "cell_type": "code",
   "execution_count": 11,
   "metadata": {},
   "outputs": [
    {
     "name": "stdout",
     "output_type": "stream",
     "text": [
      "Overall model F( 2, 109) =  6.799, p =  0.0017\n"
     ]
    },
    {
     "data": {
      "text/html": [
       "<table class=\"simpletable\">\n",
       "<caption>OLS Regression Results</caption>\n",
       "<tr>\n",
       "  <th>Dep. Variable:</th>         <td>f1score</td>     <th>  R-squared:         </th> <td>   0.111</td>\n",
       "</tr>\n",
       "<tr>\n",
       "  <th>Model:</th>                   <td>OLS</td>       <th>  Adj. R-squared:    </th> <td>   0.095</td>\n",
       "</tr>\n",
       "<tr>\n",
       "  <th>Method:</th>             <td>Least Squares</td>  <th>  F-statistic:       </th> <td>   6.799</td>\n",
       "</tr>\n",
       "<tr>\n",
       "  <th>Date:</th>             <td>Fri, 01 Nov 2019</td> <th>  Prob (F-statistic):</th>  <td>0.00165</td>\n",
       "</tr>\n",
       "<tr>\n",
       "  <th>Time:</th>                 <td>22:27:21</td>     <th>  Log-Likelihood:    </th> <td> -16.983</td>\n",
       "</tr>\n",
       "<tr>\n",
       "  <th>No. Observations:</th>      <td>   112</td>      <th>  AIC:               </th> <td>   39.97</td>\n",
       "</tr>\n",
       "<tr>\n",
       "  <th>Df Residuals:</th>          <td>   109</td>      <th>  BIC:               </th> <td>   48.12</td>\n",
       "</tr>\n",
       "<tr>\n",
       "  <th>Df Model:</th>              <td>     2</td>      <th>                     </th>     <td> </td>   \n",
       "</tr>\n",
       "<tr>\n",
       "  <th>Covariance Type:</th>      <td>nonrobust</td>    <th>                     </th>     <td> </td>   \n",
       "</tr>\n",
       "</table>\n",
       "<table class=\"simpletable\">\n",
       "<tr>\n",
       "          <td></td>            <th>coef</th>     <th>std err</th>      <th>t</th>      <th>P>|t|</th>  <th>[0.025</th>    <th>0.975]</th>  \n",
       "</tr>\n",
       "<tr>\n",
       "  <th>Intercept</th>        <td>    0.6306</td> <td>    0.036</td> <td>   17.395</td> <td> 0.000</td> <td>    0.559</td> <td>    0.702</td>\n",
       "</tr>\n",
       "<tr>\n",
       "  <th>C(methods)[T.3c]</th> <td>    0.1950</td> <td>    0.072</td> <td>    2.706</td> <td> 0.008</td> <td>    0.052</td> <td>    0.338</td>\n",
       "</tr>\n",
       "<tr>\n",
       "  <th>C(methods)[T.fc]</th> <td>    0.2036</td> <td>    0.064</td> <td>    3.170</td> <td> 0.002</td> <td>    0.076</td> <td>    0.331</td>\n",
       "</tr>\n",
       "</table>\n",
       "<table class=\"simpletable\">\n",
       "<tr>\n",
       "  <th>Omnibus:</th>       <td>18.144</td> <th>  Durbin-Watson:     </th> <td>   2.195</td>\n",
       "</tr>\n",
       "<tr>\n",
       "  <th>Prob(Omnibus):</th> <td> 0.000</td> <th>  Jarque-Bera (JB):  </th> <td>  22.542</td>\n",
       "</tr>\n",
       "<tr>\n",
       "  <th>Skew:</th>          <td>-1.098</td> <th>  Prob(JB):          </th> <td>1.27e-05</td>\n",
       "</tr>\n",
       "<tr>\n",
       "  <th>Kurtosis:</th>      <td> 3.085</td> <th>  Cond. No.          </th> <td>    3.21</td>\n",
       "</tr>\n",
       "</table><br/><br/>Warnings:<br/>[1] Standard Errors assume that the covariance matrix of the errors is correctly specified."
      ],
      "text/plain": [
       "<class 'statsmodels.iolib.summary.Summary'>\n",
       "\"\"\"\n",
       "                            OLS Regression Results                            \n",
       "==============================================================================\n",
       "Dep. Variable:                f1score   R-squared:                       0.111\n",
       "Model:                            OLS   Adj. R-squared:                  0.095\n",
       "Method:                 Least Squares   F-statistic:                     6.799\n",
       "Date:                Fri, 01 Nov 2019   Prob (F-statistic):            0.00165\n",
       "Time:                        22:27:21   Log-Likelihood:                -16.983\n",
       "No. Observations:                 112   AIC:                             39.97\n",
       "Df Residuals:                     109   BIC:                             48.12\n",
       "Df Model:                           2                                         \n",
       "Covariance Type:            nonrobust                                         \n",
       "====================================================================================\n",
       "                       coef    std err          t      P>|t|      [0.025      0.975]\n",
       "------------------------------------------------------------------------------------\n",
       "Intercept            0.6306      0.036     17.395      0.000       0.559       0.702\n",
       "C(methods)[T.3c]     0.1950      0.072      2.706      0.008       0.052       0.338\n",
       "C(methods)[T.fc]     0.2036      0.064      3.170      0.002       0.076       0.331\n",
       "==============================================================================\n",
       "Omnibus:                       18.144   Durbin-Watson:                   2.195\n",
       "Prob(Omnibus):                  0.000   Jarque-Bera (JB):               22.542\n",
       "Skew:                          -1.098   Prob(JB):                     1.27e-05\n",
       "Kurtosis:                       3.085   Cond. No.                         3.21\n",
       "==============================================================================\n",
       "\n",
       "Warnings:\n",
       "[1] Standard Errors assume that the covariance matrix of the errors is correctly specified.\n",
       "\"\"\""
      ]
     },
     "execution_count": 11,
     "metadata": {},
     "output_type": "execute_result"
    }
   ],
   "source": [
    "    # Fits the model with the interaction term\n",
    "    # This will also automatically include the main effects for each factor\n",
    "    model30 = ols('f1score ~ C(methods)', df30).fit()\n",
    "\n",
    "    # Seeing if the overall model is significant\n",
    "    print(f\"Overall model F({model30.df_model: .0f},{model30.df_resid: .0f}) = {model30.fvalue: .3f}, p = {model30.f_pvalue: .4f}\")\n",
    "    model30.summary()"
   ]
  },
  {
   "cell_type": "code",
   "execution_count": 12,
   "metadata": {},
   "outputs": [
    {
     "name": "stdout",
     "output_type": "stream",
     "text": [
      "Overall model F( 2, 123) =  8.797, p =  0.0003\n"
     ]
    },
    {
     "data": {
      "text/html": [
       "<table class=\"simpletable\">\n",
       "<caption>OLS Regression Results</caption>\n",
       "<tr>\n",
       "  <th>Dep. Variable:</th>         <td>f1score</td>     <th>  R-squared:         </th> <td>   0.088</td>\n",
       "</tr>\n",
       "<tr>\n",
       "  <th>Model:</th>                   <td>OLS</td>       <th>  Adj. R-squared:    </th> <td>   0.070</td>\n",
       "</tr>\n",
       "<tr>\n",
       "  <th>Method:</th>             <td>Least Squares</td>  <th>  F-statistic:       </th> <td>   4.897</td>\n",
       "</tr>\n",
       "<tr>\n",
       "  <th>Date:</th>             <td>Fri, 01 Nov 2019</td> <th>  Prob (F-statistic):</th>  <td>0.00932</td>\n",
       "</tr>\n",
       "<tr>\n",
       "  <th>Time:</th>                 <td>22:27:21</td>     <th>  Log-Likelihood:    </th> <td> -13.940</td>\n",
       "</tr>\n",
       "<tr>\n",
       "  <th>No. Observations:</th>      <td>   105</td>      <th>  AIC:               </th> <td>   33.88</td>\n",
       "</tr>\n",
       "<tr>\n",
       "  <th>Df Residuals:</th>          <td>   102</td>      <th>  BIC:               </th> <td>   41.84</td>\n",
       "</tr>\n",
       "<tr>\n",
       "  <th>Df Model:</th>              <td>     2</td>      <th>                     </th>     <td> </td>   \n",
       "</tr>\n",
       "<tr>\n",
       "  <th>Covariance Type:</th>      <td>nonrobust</td>    <th>                     </th>     <td> </td>   \n",
       "</tr>\n",
       "</table>\n",
       "<table class=\"simpletable\">\n",
       "<tr>\n",
       "          <td></td>            <th>coef</th>     <th>std err</th>      <th>t</th>      <th>P>|t|</th>  <th>[0.025</th>    <th>0.975]</th>  \n",
       "</tr>\n",
       "<tr>\n",
       "  <th>Intercept</th>        <td>    0.6483</td> <td>    0.037</td> <td>   17.457</td> <td> 0.000</td> <td>    0.575</td> <td>    0.722</td>\n",
       "</tr>\n",
       "<tr>\n",
       "  <th>C(methods)[T.3c]</th> <td>    0.1843</td> <td>    0.069</td> <td>    2.661</td> <td> 0.009</td> <td>    0.047</td> <td>    0.322</td>\n",
       "</tr>\n",
       "<tr>\n",
       "  <th>C(methods)[T.fc]</th> <td>    0.1588</td> <td>    0.067</td> <td>    2.361</td> <td> 0.020</td> <td>    0.025</td> <td>    0.292</td>\n",
       "</tr>\n",
       "</table>\n",
       "<table class=\"simpletable\">\n",
       "<tr>\n",
       "  <th>Omnibus:</th>       <td>18.727</td> <th>  Durbin-Watson:     </th> <td>   2.208</td>\n",
       "</tr>\n",
       "<tr>\n",
       "  <th>Prob(Omnibus):</th> <td> 0.000</td> <th>  Jarque-Bera (JB):  </th> <td>  23.366</td>\n",
       "</tr>\n",
       "<tr>\n",
       "  <th>Skew:</th>          <td>-1.151</td> <th>  Prob(JB):          </th> <td>8.43e-06</td>\n",
       "</tr>\n",
       "<tr>\n",
       "  <th>Kurtosis:</th>      <td> 3.211</td> <th>  Cond. No.          </th> <td>    3.18</td>\n",
       "</tr>\n",
       "</table><br/><br/>Warnings:<br/>[1] Standard Errors assume that the covariance matrix of the errors is correctly specified."
      ],
      "text/plain": [
       "<class 'statsmodels.iolib.summary.Summary'>\n",
       "\"\"\"\n",
       "                            OLS Regression Results                            \n",
       "==============================================================================\n",
       "Dep. Variable:                f1score   R-squared:                       0.088\n",
       "Model:                            OLS   Adj. R-squared:                  0.070\n",
       "Method:                 Least Squares   F-statistic:                     4.897\n",
       "Date:                Fri, 01 Nov 2019   Prob (F-statistic):            0.00932\n",
       "Time:                        22:27:21   Log-Likelihood:                -13.940\n",
       "No. Observations:                 105   AIC:                             33.88\n",
       "Df Residuals:                     102   BIC:                             41.84\n",
       "Df Model:                           2                                         \n",
       "Covariance Type:            nonrobust                                         \n",
       "====================================================================================\n",
       "                       coef    std err          t      P>|t|      [0.025      0.975]\n",
       "------------------------------------------------------------------------------------\n",
       "Intercept            0.6483      0.037     17.457      0.000       0.575       0.722\n",
       "C(methods)[T.3c]     0.1843      0.069      2.661      0.009       0.047       0.322\n",
       "C(methods)[T.fc]     0.1588      0.067      2.361      0.020       0.025       0.292\n",
       "==============================================================================\n",
       "Omnibus:                       18.727   Durbin-Watson:                   2.208\n",
       "Prob(Omnibus):                  0.000   Jarque-Bera (JB):               23.366\n",
       "Skew:                          -1.151   Prob(JB):                     8.43e-06\n",
       "Kurtosis:                       3.211   Cond. No.                         3.18\n",
       "==============================================================================\n",
       "\n",
       "Warnings:\n",
       "[1] Standard Errors assume that the covariance matrix of the errors is correctly specified.\n",
       "\"\"\""
      ]
     },
     "execution_count": 12,
     "metadata": {},
     "output_type": "execute_result"
    }
   ],
   "source": [
    "    # Fits the model with the interaction term\n",
    "    # This will also automatically include the main effects for each factor\n",
    "    model60 = ols('f1score ~ C(methods)', df60).fit()\n",
    "\n",
    "    # Seeing if the overall model is significant\n",
    "    print(f\"Overall model F({model60.df_model: .0f},{model60.df_resid: .0f}) = {model60.fvalue: .3f}, p = {model60.f_pvalue: .4f}\")\n",
    "    model10.summary()"
   ]
  },
  {
   "cell_type": "code",
   "execution_count": 13,
   "metadata": {},
   "outputs": [
    {
     "name": "stdout",
     "output_type": "stream",
     "text": [
      "Multiple Comparison of Means - Tukey HSD, FWER=0.05\n",
      "===================================================\n",
      "group1 group2 meandiff p-adj   lower  upper  reject\n",
      "---------------------------------------------------\n",
      "    1c     3c   0.1843 0.0244  0.0195  0.349   True\n",
      "    1c     fc   0.1588 0.0521 -0.0012 0.3188  False\n",
      "    3c     fc  -0.0255    0.9 -0.2181 0.1672  False\n",
      "---------------------------------------------------\n"
     ]
    }
   ],
   "source": [
    "from statsmodels.stats.multicomp import pairwise_tukeyhsd\n",
    "from statsmodels.stats.multicomp import MultiComparison\n",
    "\n",
    "mc = MultiComparison(df10['f1score'], df10['methods'])\n",
    "mc_results = mc.tukeyhsd()\n",
    "print(mc_results)"
   ]
  },
  {
   "cell_type": "code",
   "execution_count": 14,
   "metadata": {},
   "outputs": [
    {
     "name": "stdout",
     "output_type": "stream",
     "text": [
      "Multiple Comparison of Means - Tukey HSD, FWER=0.05\n",
      "===================================================\n",
      "group1 group2 meandiff p-adj   lower  upper  reject\n",
      "---------------------------------------------------\n",
      "    1c     3c    0.195 0.0214  0.0238 0.3663   True\n",
      "    1c     fc   0.2036 0.0056   0.051 0.3562   True\n",
      "    3c     fc   0.0085    0.9 -0.1858 0.2029  False\n",
      "---------------------------------------------------\n"
     ]
    }
   ],
   "source": [
    "mc = MultiComparison(df30['f1score'], df30['methods'])\n",
    "mc_results = mc.tukeyhsd()\n",
    "print(mc_results)"
   ]
  },
  {
   "cell_type": "code",
   "execution_count": 15,
   "metadata": {},
   "outputs": [
    {
     "name": "stdout",
     "output_type": "stream",
     "text": [
      "Multiple Comparison of Means - Tukey HSD, FWER=0.05\n",
      "===================================================\n",
      "group1 group2 meandiff p-adj   lower  upper  reject\n",
      "---------------------------------------------------\n",
      "    1c     3c   0.2074 0.0046  0.0548 0.3601   True\n",
      "    1c     fc   0.2093  0.002  0.0663 0.3522   True\n",
      "    3c     fc   0.0018    0.9 -0.1759 0.1796  False\n",
      "---------------------------------------------------\n"
     ]
    }
   ],
   "source": [
    "mc = MultiComparison(df60['f1score'], df60['methods'])\n",
    "mc_results = mc.tukeyhsd()\n",
    "print(mc_results)"
   ]
  },
  {
   "cell_type": "markdown",
   "metadata": {},
   "source": [
    "# Analysis <font color=blue>without </font> combining RF, DT and SVM into 1C 10 min"
   ]
  },
  {
   "cell_type": "code",
   "execution_count": 16,
   "metadata": {},
   "outputs": [
    {
     "data": {
      "text/plain": [
       "(900, 3)"
      ]
     },
     "execution_count": 16,
     "metadata": {},
     "output_type": "execute_result"
    }
   ],
   "source": [
    "df = pd.read_excel(r\"C:\\Users\\HassanEldeeb\\Documents\\GitHub\\AutoMLBenchmarking\\logs_search_space/skout.xlsx\")\n",
    "df = df[['time_budget', 'methods', 'f1score']]\n",
    "df.methods = df.methods.replace(\"['adaboost', 'bernoulli_nb', 'decision_tree', 'extra_trees', 'gaussian_nb', 'gradient_boosting', 'k_nearest_neighbors', 'lda', 'liblinear_svc', 'libsvm_svc', 'multinomial_nb', 'passive_aggressive', 'qda', 'random_forest', 'sgd']\", \"fc\")\n",
    "df.methods = df.methods.replace(\"['decision_tree', 'libsvm_svc', 'random_forest']\", \"3c\")\n",
    "df.methods = df.methods.replace(\"['libsvm_svc']\", \"svc\")\n",
    "df.methods = df.methods.replace(\"['decision_tree']\", \"dt\")\n",
    "df.methods = df.methods.replace(\"['random_forest']\", \"rf\")\n",
    "df10 = df[df.time_budget==10]\n",
    "df30 = df[df.time_budget==30]\n",
    "df60 = df[df.time_budget==60]\n",
    "df.shape"
   ]
  },
  {
   "cell_type": "code",
   "execution_count": 17,
   "metadata": {},
   "outputs": [
    {
     "name": "stdout",
     "output_type": "stream",
     "text": [
      "\n",
      "\n"
     ]
    },
    {
     "data": {
      "text/html": [
       "<div>\n",
       "<style scoped>\n",
       "    .dataframe tbody tr th:only-of-type {\n",
       "        vertical-align: middle;\n",
       "    }\n",
       "\n",
       "    .dataframe tbody tr th {\n",
       "        vertical-align: top;\n",
       "    }\n",
       "\n",
       "    .dataframe thead th {\n",
       "        text-align: right;\n",
       "    }\n",
       "</style>\n",
       "<table border=\"1\" class=\"dataframe\">\n",
       "  <thead>\n",
       "    <tr style=\"text-align: right;\">\n",
       "      <th></th>\n",
       "      <th>Variable</th>\n",
       "      <th>N</th>\n",
       "      <th>Mean</th>\n",
       "      <th>SD</th>\n",
       "      <th>SE</th>\n",
       "      <th>95% Conf.</th>\n",
       "      <th>Interval</th>\n",
       "    </tr>\n",
       "  </thead>\n",
       "  <tbody>\n",
       "    <tr>\n",
       "      <td>0</td>\n",
       "      <td>f1score</td>\n",
       "      <td>300.0</td>\n",
       "      <td>0.748181</td>\n",
       "      <td>0.241727</td>\n",
       "      <td>0.013956</td>\n",
       "      <td>0.720717</td>\n",
       "      <td>0.775646</td>\n",
       "    </tr>\n",
       "  </tbody>\n",
       "</table>\n",
       "</div>"
      ],
      "text/plain": [
       "  Variable      N      Mean        SD        SE  95% Conf.  Interval\n",
       "0  f1score  300.0  0.748181  0.241727  0.013956   0.720717  0.775646"
      ]
     },
     "execution_count": 17,
     "metadata": {},
     "output_type": "execute_result"
    }
   ],
   "source": [
    "rp.summary_cont(df10['f1score'])"
   ]
  },
  {
   "cell_type": "code",
   "execution_count": 18,
   "metadata": {},
   "outputs": [
    {
     "name": "stdout",
     "output_type": "stream",
     "text": [
      "\n",
      "\n"
     ]
    },
    {
     "data": {
      "text/html": [
       "<div>\n",
       "<style scoped>\n",
       "    .dataframe tbody tr th:only-of-type {\n",
       "        vertical-align: middle;\n",
       "    }\n",
       "\n",
       "    .dataframe tbody tr th {\n",
       "        vertical-align: top;\n",
       "    }\n",
       "\n",
       "    .dataframe thead th {\n",
       "        text-align: right;\n",
       "    }\n",
       "</style>\n",
       "<table border=\"1\" class=\"dataframe\">\n",
       "  <thead>\n",
       "    <tr style=\"text-align: right;\">\n",
       "      <th></th>\n",
       "      <th>Variable</th>\n",
       "      <th>N</th>\n",
       "      <th>Mean</th>\n",
       "      <th>SD</th>\n",
       "      <th>SE</th>\n",
       "      <th>95% Conf.</th>\n",
       "      <th>Interval</th>\n",
       "    </tr>\n",
       "  </thead>\n",
       "  <tbody>\n",
       "    <tr>\n",
       "      <td>0</td>\n",
       "      <td>f1score</td>\n",
       "      <td>300.0</td>\n",
       "      <td>0.77951</td>\n",
       "      <td>0.202243</td>\n",
       "      <td>0.011677</td>\n",
       "      <td>0.756531</td>\n",
       "      <td>0.802488</td>\n",
       "    </tr>\n",
       "  </tbody>\n",
       "</table>\n",
       "</div>"
      ],
      "text/plain": [
       "  Variable      N     Mean        SD        SE  95% Conf.  Interval\n",
       "0  f1score  300.0  0.77951  0.202243  0.011677   0.756531  0.802488"
      ]
     },
     "execution_count": 18,
     "metadata": {},
     "output_type": "execute_result"
    }
   ],
   "source": [
    "rp.summary_cont(df30['f1score'])"
   ]
  },
  {
   "cell_type": "code",
   "execution_count": 19,
   "metadata": {},
   "outputs": [
    {
     "name": "stdout",
     "output_type": "stream",
     "text": [
      "\n",
      "\n"
     ]
    },
    {
     "data": {
      "text/html": [
       "<div>\n",
       "<style scoped>\n",
       "    .dataframe tbody tr th:only-of-type {\n",
       "        vertical-align: middle;\n",
       "    }\n",
       "\n",
       "    .dataframe tbody tr th {\n",
       "        vertical-align: top;\n",
       "    }\n",
       "\n",
       "    .dataframe thead th {\n",
       "        text-align: right;\n",
       "    }\n",
       "</style>\n",
       "<table border=\"1\" class=\"dataframe\">\n",
       "  <thead>\n",
       "    <tr style=\"text-align: right;\">\n",
       "      <th></th>\n",
       "      <th>Variable</th>\n",
       "      <th>N</th>\n",
       "      <th>Mean</th>\n",
       "      <th>SD</th>\n",
       "      <th>SE</th>\n",
       "      <th>95% Conf.</th>\n",
       "      <th>Interval</th>\n",
       "    </tr>\n",
       "  </thead>\n",
       "  <tbody>\n",
       "    <tr>\n",
       "      <td>0</td>\n",
       "      <td>f1score</td>\n",
       "      <td>300.0</td>\n",
       "      <td>0.772674</td>\n",
       "      <td>0.198329</td>\n",
       "      <td>0.011451</td>\n",
       "      <td>0.75014</td>\n",
       "      <td>0.795208</td>\n",
       "    </tr>\n",
       "  </tbody>\n",
       "</table>\n",
       "</div>"
      ],
      "text/plain": [
       "  Variable      N      Mean        SD        SE  95% Conf.  Interval\n",
       "0  f1score  300.0  0.772674  0.198329  0.011451    0.75014  0.795208"
      ]
     },
     "execution_count": 19,
     "metadata": {},
     "output_type": "execute_result"
    }
   ],
   "source": [
    "rp.summary_cont(df60['f1score'])"
   ]
  },
  {
   "cell_type": "code",
   "execution_count": 20,
   "metadata": {},
   "outputs": [
    {
     "name": "stderr",
     "output_type": "stream",
     "text": [
      "C:\\Users\\HassanEldeeb\\Anaconda3\\lib\\site-packages\\scipy\\stats\\stats.py:3225: RuntimeWarning: invalid value encountered in double_scalars\n",
      "  ssbn += _square_of_sums(a - offset) / len(a)\n"
     ]
    },
    {
     "data": {
      "text/plain": [
       "F_onewayResult(statistic=nan, pvalue=nan)"
      ]
     },
     "execution_count": 20,
     "metadata": {},
     "output_type": "execute_result"
    }
   ],
   "source": [
    "stats.f_oneway(df10['f1score'][df10['methods'] == '1c'], \n",
    "             df10['f1score'][df10['methods'] == '3c'],\n",
    "             df10['f1score'][df10['methods'] == 'fc'])"
   ]
  },
  {
   "cell_type": "code",
   "execution_count": 21,
   "metadata": {},
   "outputs": [
    {
     "data": {
      "text/plain": [
       "F_onewayResult(statistic=nan, pvalue=nan)"
      ]
     },
     "execution_count": 21,
     "metadata": {},
     "output_type": "execute_result"
    }
   ],
   "source": [
    "stats.f_oneway(df30['f1score'][df30['methods'] == '1c'], \n",
    "             df30['f1score'][df30['methods'] == '3c'],\n",
    "             df30['f1score'][df30['methods'] == 'fc'])"
   ]
  },
  {
   "cell_type": "code",
   "execution_count": 22,
   "metadata": {},
   "outputs": [
    {
     "data": {
      "text/plain": [
       "F_onewayResult(statistic=nan, pvalue=nan)"
      ]
     },
     "execution_count": 22,
     "metadata": {},
     "output_type": "execute_result"
    }
   ],
   "source": [
    "stats.f_oneway(df60['f1score'][df60['methods'] == '1c'], \n",
    "             df60['f1score'][df60['methods'] == '3c'],\n",
    "             df60['f1score'][df60['methods'] == 'fc'])"
   ]
  },
  {
   "cell_type": "code",
   "execution_count": 23,
   "metadata": {},
   "outputs": [
    {
     "name": "stdout",
     "output_type": "stream",
     "text": [
      "Overall model F( 4, 295) =  5.433, p =  0.0003\n"
     ]
    },
    {
     "data": {
      "text/html": [
       "<table class=\"simpletable\">\n",
       "<caption>OLS Regression Results</caption>\n",
       "<tr>\n",
       "  <th>Dep. Variable:</th>         <td>f1score</td>     <th>  R-squared:         </th> <td>   0.069</td>\n",
       "</tr>\n",
       "<tr>\n",
       "  <th>Model:</th>                   <td>OLS</td>       <th>  Adj. R-squared:    </th> <td>   0.056</td>\n",
       "</tr>\n",
       "<tr>\n",
       "  <th>Method:</th>             <td>Least Squares</td>  <th>  F-statistic:       </th> <td>   5.433</td>\n",
       "</tr>\n",
       "<tr>\n",
       "  <th>Date:</th>             <td>Fri, 01 Nov 2019</td> <th>  Prob (F-statistic):</th> <td>0.000311</td>\n",
       "</tr>\n",
       "<tr>\n",
       "  <th>Time:</th>                 <td>22:27:22</td>     <th>  Log-Likelihood:    </th> <td>  11.466</td>\n",
       "</tr>\n",
       "<tr>\n",
       "  <th>No. Observations:</th>      <td>   300</td>      <th>  AIC:               </th> <td>  -12.93</td>\n",
       "</tr>\n",
       "<tr>\n",
       "  <th>Df Residuals:</th>          <td>   295</td>      <th>  BIC:               </th> <td>   5.587</td>\n",
       "</tr>\n",
       "<tr>\n",
       "  <th>Df Model:</th>              <td>     4</td>      <th>                     </th>     <td> </td>   \n",
       "</tr>\n",
       "<tr>\n",
       "  <th>Covariance Type:</th>      <td>nonrobust</td>    <th>                     </th>     <td> </td>   \n",
       "</tr>\n",
       "</table>\n",
       "<table class=\"simpletable\">\n",
       "<tr>\n",
       "          <td></td>             <th>coef</th>     <th>std err</th>      <th>t</th>      <th>P>|t|</th>  <th>[0.025</th>    <th>0.975]</th>  \n",
       "</tr>\n",
       "<tr>\n",
       "  <th>Intercept</th>         <td>    0.8037</td> <td>    0.030</td> <td>   26.505</td> <td> 0.000</td> <td>    0.744</td> <td>    0.863</td>\n",
       "</tr>\n",
       "<tr>\n",
       "  <th>C(methods)[T.dt]</th>  <td>   -0.0791</td> <td>    0.043</td> <td>   -1.844</td> <td> 0.066</td> <td>   -0.163</td> <td>    0.005</td>\n",
       "</tr>\n",
       "<tr>\n",
       "  <th>C(methods)[T.fc]</th>  <td>    0.0012</td> <td>    0.043</td> <td>    0.028</td> <td> 0.978</td> <td>   -0.083</td> <td>    0.086</td>\n",
       "</tr>\n",
       "<tr>\n",
       "  <th>C(methods)[T.rf]</th>  <td>   -0.0318</td> <td>    0.043</td> <td>   -0.743</td> <td> 0.458</td> <td>   -0.116</td> <td>    0.053</td>\n",
       "</tr>\n",
       "<tr>\n",
       "  <th>C(methods)[T.svc]</th> <td>   -0.1676</td> <td>    0.043</td> <td>   -3.909</td> <td> 0.000</td> <td>   -0.252</td> <td>   -0.083</td>\n",
       "</tr>\n",
       "</table>\n",
       "<table class=\"simpletable\">\n",
       "<tr>\n",
       "  <th>Omnibus:</th>       <td>62.558</td> <th>  Durbin-Watson:     </th> <td>   0.434</td>\n",
       "</tr>\n",
       "<tr>\n",
       "  <th>Prob(Omnibus):</th> <td> 0.000</td> <th>  Jarque-Bera (JB):  </th> <td>  98.299</td>\n",
       "</tr>\n",
       "<tr>\n",
       "  <th>Skew:</th>          <td>-1.246</td> <th>  Prob(JB):          </th> <td>4.51e-22</td>\n",
       "</tr>\n",
       "<tr>\n",
       "  <th>Kurtosis:</th>      <td> 4.287</td> <th>  Cond. No.          </th> <td>    5.83</td>\n",
       "</tr>\n",
       "</table><br/><br/>Warnings:<br/>[1] Standard Errors assume that the covariance matrix of the errors is correctly specified."
      ],
      "text/plain": [
       "<class 'statsmodels.iolib.summary.Summary'>\n",
       "\"\"\"\n",
       "                            OLS Regression Results                            \n",
       "==============================================================================\n",
       "Dep. Variable:                f1score   R-squared:                       0.069\n",
       "Model:                            OLS   Adj. R-squared:                  0.056\n",
       "Method:                 Least Squares   F-statistic:                     5.433\n",
       "Date:                Fri, 01 Nov 2019   Prob (F-statistic):           0.000311\n",
       "Time:                        22:27:22   Log-Likelihood:                 11.466\n",
       "No. Observations:                 300   AIC:                            -12.93\n",
       "Df Residuals:                     295   BIC:                             5.587\n",
       "Df Model:                           4                                         \n",
       "Covariance Type:            nonrobust                                         \n",
       "=====================================================================================\n",
       "                        coef    std err          t      P>|t|      [0.025      0.975]\n",
       "-------------------------------------------------------------------------------------\n",
       "Intercept             0.8037      0.030     26.505      0.000       0.744       0.863\n",
       "C(methods)[T.dt]     -0.0791      0.043     -1.844      0.066      -0.163       0.005\n",
       "C(methods)[T.fc]      0.0012      0.043      0.028      0.978      -0.083       0.086\n",
       "C(methods)[T.rf]     -0.0318      0.043     -0.743      0.458      -0.116       0.053\n",
       "C(methods)[T.svc]    -0.1676      0.043     -3.909      0.000      -0.252      -0.083\n",
       "==============================================================================\n",
       "Omnibus:                       62.558   Durbin-Watson:                   0.434\n",
       "Prob(Omnibus):                  0.000   Jarque-Bera (JB):               98.299\n",
       "Skew:                          -1.246   Prob(JB):                     4.51e-22\n",
       "Kurtosis:                       4.287   Cond. No.                         5.83\n",
       "==============================================================================\n",
       "\n",
       "Warnings:\n",
       "[1] Standard Errors assume that the covariance matrix of the errors is correctly specified.\n",
       "\"\"\""
      ]
     },
     "execution_count": 23,
     "metadata": {},
     "output_type": "execute_result"
    }
   ],
   "source": [
    "    # Fits the model with the interaction term\n",
    "    # This will also automatically include the main effects for each factor\n",
    "    model10 = ols('f1score ~ C(methods)', df10).fit()\n",
    "\n",
    "    # Seeing if the overall model is significant\n",
    "    print(f\"Overall model F({model10.df_model: .0f},{model10.df_resid: .0f}) = {model10.fvalue: .3f}, p = {model10.f_pvalue: .4f}\")\n",
    "    model10.summary()"
   ]
  },
  {
   "cell_type": "code",
   "execution_count": 24,
   "metadata": {},
   "outputs": [
    {
     "name": "stdout",
     "output_type": "stream",
     "text": [
      "Overall model F( 4, 295) =  3.543, p =  0.0077\n"
     ]
    },
    {
     "data": {
      "text/html": [
       "<table class=\"simpletable\">\n",
       "<caption>OLS Regression Results</caption>\n",
       "<tr>\n",
       "  <th>Dep. Variable:</th>         <td>f1score</td>     <th>  R-squared:         </th> <td>   0.046</td>\n",
       "</tr>\n",
       "<tr>\n",
       "  <th>Model:</th>                   <td>OLS</td>       <th>  Adj. R-squared:    </th> <td>   0.033</td>\n",
       "</tr>\n",
       "<tr>\n",
       "  <th>Method:</th>             <td>Least Squares</td>  <th>  F-statistic:       </th> <td>   3.543</td>\n",
       "</tr>\n",
       "<tr>\n",
       "  <th>Date:</th>             <td>Fri, 01 Nov 2019</td> <th>  Prob (F-statistic):</th>  <td>0.00766</td>\n",
       "</tr>\n",
       "<tr>\n",
       "  <th>Time:</th>                 <td>22:27:22</td>     <th>  Log-Likelihood:    </th> <td>  61.342</td>\n",
       "</tr>\n",
       "<tr>\n",
       "  <th>No. Observations:</th>      <td>   300</td>      <th>  AIC:               </th> <td>  -112.7</td>\n",
       "</tr>\n",
       "<tr>\n",
       "  <th>Df Residuals:</th>          <td>   295</td>      <th>  BIC:               </th> <td>  -94.17</td>\n",
       "</tr>\n",
       "<tr>\n",
       "  <th>Df Model:</th>              <td>     4</td>      <th>                     </th>     <td> </td>   \n",
       "</tr>\n",
       "<tr>\n",
       "  <th>Covariance Type:</th>      <td>nonrobust</td>    <th>                     </th>     <td> </td>   \n",
       "</tr>\n",
       "</table>\n",
       "<table class=\"simpletable\">\n",
       "<tr>\n",
       "          <td></td>             <th>coef</th>     <th>std err</th>      <th>t</th>      <th>P>|t|</th>  <th>[0.025</th>    <th>0.975]</th>  \n",
       "</tr>\n",
       "<tr>\n",
       "  <th>Intercept</th>         <td>    0.8084</td> <td>    0.026</td> <td>   31.486</td> <td> 0.000</td> <td>    0.758</td> <td>    0.859</td>\n",
       "</tr>\n",
       "<tr>\n",
       "  <th>C(methods)[T.dt]</th>  <td>   -0.0452</td> <td>    0.036</td> <td>   -1.244</td> <td> 0.214</td> <td>   -0.117</td> <td>    0.026</td>\n",
       "</tr>\n",
       "<tr>\n",
       "  <th>C(methods)[T.fc]</th>  <td>    0.0017</td> <td>    0.036</td> <td>    0.047</td> <td> 0.963</td> <td>   -0.070</td> <td>    0.073</td>\n",
       "</tr>\n",
       "<tr>\n",
       "  <th>C(methods)[T.rf]</th>  <td>    0.0058</td> <td>    0.036</td> <td>    0.160</td> <td> 0.873</td> <td>   -0.066</td> <td>    0.077</td>\n",
       "</tr>\n",
       "<tr>\n",
       "  <th>C(methods)[T.svc]</th> <td>   -0.1070</td> <td>    0.036</td> <td>   -2.947</td> <td> 0.003</td> <td>   -0.178</td> <td>   -0.036</td>\n",
       "</tr>\n",
       "</table>\n",
       "<table class=\"simpletable\">\n",
       "<tr>\n",
       "  <th>Omnibus:</th>       <td>57.172</td> <th>  Durbin-Watson:     </th> <td>   0.495</td>\n",
       "</tr>\n",
       "<tr>\n",
       "  <th>Prob(Omnibus):</th> <td> 0.000</td> <th>  Jarque-Bera (JB):  </th> <td>  87.881</td>\n",
       "</tr>\n",
       "<tr>\n",
       "  <th>Skew:</th>          <td>-1.146</td> <th>  Prob(JB):          </th> <td>8.26e-20</td>\n",
       "</tr>\n",
       "<tr>\n",
       "  <th>Kurtosis:</th>      <td> 4.332</td> <th>  Cond. No.          </th> <td>    5.83</td>\n",
       "</tr>\n",
       "</table><br/><br/>Warnings:<br/>[1] Standard Errors assume that the covariance matrix of the errors is correctly specified."
      ],
      "text/plain": [
       "<class 'statsmodels.iolib.summary.Summary'>\n",
       "\"\"\"\n",
       "                            OLS Regression Results                            \n",
       "==============================================================================\n",
       "Dep. Variable:                f1score   R-squared:                       0.046\n",
       "Model:                            OLS   Adj. R-squared:                  0.033\n",
       "Method:                 Least Squares   F-statistic:                     3.543\n",
       "Date:                Fri, 01 Nov 2019   Prob (F-statistic):            0.00766\n",
       "Time:                        22:27:22   Log-Likelihood:                 61.342\n",
       "No. Observations:                 300   AIC:                            -112.7\n",
       "Df Residuals:                     295   BIC:                            -94.17\n",
       "Df Model:                           4                                         \n",
       "Covariance Type:            nonrobust                                         \n",
       "=====================================================================================\n",
       "                        coef    std err          t      P>|t|      [0.025      0.975]\n",
       "-------------------------------------------------------------------------------------\n",
       "Intercept             0.8084      0.026     31.486      0.000       0.758       0.859\n",
       "C(methods)[T.dt]     -0.0452      0.036     -1.244      0.214      -0.117       0.026\n",
       "C(methods)[T.fc]      0.0017      0.036      0.047      0.963      -0.070       0.073\n",
       "C(methods)[T.rf]      0.0058      0.036      0.160      0.873      -0.066       0.077\n",
       "C(methods)[T.svc]    -0.1070      0.036     -2.947      0.003      -0.178      -0.036\n",
       "==============================================================================\n",
       "Omnibus:                       57.172   Durbin-Watson:                   0.495\n",
       "Prob(Omnibus):                  0.000   Jarque-Bera (JB):               87.881\n",
       "Skew:                          -1.146   Prob(JB):                     8.26e-20\n",
       "Kurtosis:                       4.332   Cond. No.                         5.83\n",
       "==============================================================================\n",
       "\n",
       "Warnings:\n",
       "[1] Standard Errors assume that the covariance matrix of the errors is correctly specified.\n",
       "\"\"\""
      ]
     },
     "execution_count": 24,
     "metadata": {},
     "output_type": "execute_result"
    }
   ],
   "source": [
    "    # Fits the model with the interaction term\n",
    "    # This will also automatically include the main effects for each factor\n",
    "    model30 = ols('f1score ~ C(methods)', df30).fit()\n",
    "\n",
    "    # Seeing if the overall model is significant\n",
    "    print(f\"Overall model F({model30.df_model: .0f},{model30.df_resid: .0f}) = {model30.fvalue: .3f}, p = {model30.f_pvalue: .4f}\")\n",
    "    model30.summary()"
   ]
  },
  {
   "cell_type": "code",
   "execution_count": 25,
   "metadata": {},
   "outputs": [
    {
     "name": "stdout",
     "output_type": "stream",
     "text": [
      "Overall model F( 4, 295) =  2.383, p =  0.0515\n"
     ]
    },
    {
     "data": {
      "text/html": [
       "<table class=\"simpletable\">\n",
       "<caption>OLS Regression Results</caption>\n",
       "<tr>\n",
       "  <th>Dep. Variable:</th>         <td>f1score</td>     <th>  R-squared:         </th> <td>   0.069</td>\n",
       "</tr>\n",
       "<tr>\n",
       "  <th>Model:</th>                   <td>OLS</td>       <th>  Adj. R-squared:    </th> <td>   0.056</td>\n",
       "</tr>\n",
       "<tr>\n",
       "  <th>Method:</th>             <td>Least Squares</td>  <th>  F-statistic:       </th> <td>   5.433</td>\n",
       "</tr>\n",
       "<tr>\n",
       "  <th>Date:</th>             <td>Fri, 01 Nov 2019</td> <th>  Prob (F-statistic):</th> <td>0.000311</td>\n",
       "</tr>\n",
       "<tr>\n",
       "  <th>Time:</th>                 <td>22:27:22</td>     <th>  Log-Likelihood:    </th> <td>  11.466</td>\n",
       "</tr>\n",
       "<tr>\n",
       "  <th>No. Observations:</th>      <td>   300</td>      <th>  AIC:               </th> <td>  -12.93</td>\n",
       "</tr>\n",
       "<tr>\n",
       "  <th>Df Residuals:</th>          <td>   295</td>      <th>  BIC:               </th> <td>   5.587</td>\n",
       "</tr>\n",
       "<tr>\n",
       "  <th>Df Model:</th>              <td>     4</td>      <th>                     </th>     <td> </td>   \n",
       "</tr>\n",
       "<tr>\n",
       "  <th>Covariance Type:</th>      <td>nonrobust</td>    <th>                     </th>     <td> </td>   \n",
       "</tr>\n",
       "</table>\n",
       "<table class=\"simpletable\">\n",
       "<tr>\n",
       "          <td></td>             <th>coef</th>     <th>std err</th>      <th>t</th>      <th>P>|t|</th>  <th>[0.025</th>    <th>0.975]</th>  \n",
       "</tr>\n",
       "<tr>\n",
       "  <th>Intercept</th>         <td>    0.8037</td> <td>    0.030</td> <td>   26.505</td> <td> 0.000</td> <td>    0.744</td> <td>    0.863</td>\n",
       "</tr>\n",
       "<tr>\n",
       "  <th>C(methods)[T.dt]</th>  <td>   -0.0791</td> <td>    0.043</td> <td>   -1.844</td> <td> 0.066</td> <td>   -0.163</td> <td>    0.005</td>\n",
       "</tr>\n",
       "<tr>\n",
       "  <th>C(methods)[T.fc]</th>  <td>    0.0012</td> <td>    0.043</td> <td>    0.028</td> <td> 0.978</td> <td>   -0.083</td> <td>    0.086</td>\n",
       "</tr>\n",
       "<tr>\n",
       "  <th>C(methods)[T.rf]</th>  <td>   -0.0318</td> <td>    0.043</td> <td>   -0.743</td> <td> 0.458</td> <td>   -0.116</td> <td>    0.053</td>\n",
       "</tr>\n",
       "<tr>\n",
       "  <th>C(methods)[T.svc]</th> <td>   -0.1676</td> <td>    0.043</td> <td>   -3.909</td> <td> 0.000</td> <td>   -0.252</td> <td>   -0.083</td>\n",
       "</tr>\n",
       "</table>\n",
       "<table class=\"simpletable\">\n",
       "<tr>\n",
       "  <th>Omnibus:</th>       <td>62.558</td> <th>  Durbin-Watson:     </th> <td>   0.434</td>\n",
       "</tr>\n",
       "<tr>\n",
       "  <th>Prob(Omnibus):</th> <td> 0.000</td> <th>  Jarque-Bera (JB):  </th> <td>  98.299</td>\n",
       "</tr>\n",
       "<tr>\n",
       "  <th>Skew:</th>          <td>-1.246</td> <th>  Prob(JB):          </th> <td>4.51e-22</td>\n",
       "</tr>\n",
       "<tr>\n",
       "  <th>Kurtosis:</th>      <td> 4.287</td> <th>  Cond. No.          </th> <td>    5.83</td>\n",
       "</tr>\n",
       "</table><br/><br/>Warnings:<br/>[1] Standard Errors assume that the covariance matrix of the errors is correctly specified."
      ],
      "text/plain": [
       "<class 'statsmodels.iolib.summary.Summary'>\n",
       "\"\"\"\n",
       "                            OLS Regression Results                            \n",
       "==============================================================================\n",
       "Dep. Variable:                f1score   R-squared:                       0.069\n",
       "Model:                            OLS   Adj. R-squared:                  0.056\n",
       "Method:                 Least Squares   F-statistic:                     5.433\n",
       "Date:                Fri, 01 Nov 2019   Prob (F-statistic):           0.000311\n",
       "Time:                        22:27:22   Log-Likelihood:                 11.466\n",
       "No. Observations:                 300   AIC:                            -12.93\n",
       "Df Residuals:                     295   BIC:                             5.587\n",
       "Df Model:                           4                                         \n",
       "Covariance Type:            nonrobust                                         \n",
       "=====================================================================================\n",
       "                        coef    std err          t      P>|t|      [0.025      0.975]\n",
       "-------------------------------------------------------------------------------------\n",
       "Intercept             0.8037      0.030     26.505      0.000       0.744       0.863\n",
       "C(methods)[T.dt]     -0.0791      0.043     -1.844      0.066      -0.163       0.005\n",
       "C(methods)[T.fc]      0.0012      0.043      0.028      0.978      -0.083       0.086\n",
       "C(methods)[T.rf]     -0.0318      0.043     -0.743      0.458      -0.116       0.053\n",
       "C(methods)[T.svc]    -0.1676      0.043     -3.909      0.000      -0.252      -0.083\n",
       "==============================================================================\n",
       "Omnibus:                       62.558   Durbin-Watson:                   0.434\n",
       "Prob(Omnibus):                  0.000   Jarque-Bera (JB):               98.299\n",
       "Skew:                          -1.246   Prob(JB):                     4.51e-22\n",
       "Kurtosis:                       4.287   Cond. No.                         5.83\n",
       "==============================================================================\n",
       "\n",
       "Warnings:\n",
       "[1] Standard Errors assume that the covariance matrix of the errors is correctly specified.\n",
       "\"\"\""
      ]
     },
     "execution_count": 25,
     "metadata": {},
     "output_type": "execute_result"
    }
   ],
   "source": [
    "    # Fits the model with the interaction term\n",
    "    # This will also automatically include the main effects for each factor\n",
    "    model60 = ols('f1score ~ C(methods)', df60).fit()\n",
    "\n",
    "    # Seeing if the overall model is significant\n",
    "    print(f\"Overall model F({model60.df_model: .0f},{model60.df_resid: .0f}) = {model60.fvalue: .3f}, p = {model60.f_pvalue: .4f}\")\n",
    "    model10.summary()"
   ]
  },
  {
   "cell_type": "code",
   "execution_count": 26,
   "metadata": {},
   "outputs": [
    {
     "name": "stdout",
     "output_type": "stream",
     "text": [
      "Multiple Comparison of Means - Tukey HSD, FWER=0.05 \n",
      "====================================================\n",
      "group1 group2 meandiff p-adj   lower   upper  reject\n",
      "----------------------------------------------------\n",
      "    3c     dt  -0.0791 0.3507 -0.1968  0.0386  False\n",
      "    3c     fc   0.0012    0.9 -0.1165  0.1189  False\n",
      "    3c     rf  -0.0318    0.9 -0.1495  0.0858  False\n",
      "    3c    svc  -0.1676 0.0011 -0.2853 -0.0499   True\n",
      "    dt     fc   0.0803  0.335 -0.0374   0.198  False\n",
      "    dt     rf   0.0472 0.7803 -0.0705  0.1649  False\n",
      "    dt    svc  -0.0885  0.238 -0.2062  0.0291  False\n",
      "    fc     rf   -0.033    0.9 -0.1507  0.0847  False\n",
      "    fc    svc  -0.1688  0.001 -0.2865 -0.0511   True\n",
      "    rf    svc  -0.1358 0.0146 -0.2535 -0.0181   True\n",
      "----------------------------------------------------\n"
     ]
    }
   ],
   "source": [
    "from statsmodels.stats.multicomp import pairwise_tukeyhsd\n",
    "from statsmodels.stats.multicomp import MultiComparison\n",
    "\n",
    "mc = MultiComparison(df10['f1score'], df10['methods'])\n",
    "mc_results = mc.tukeyhsd()\n",
    "print(mc_results)"
   ]
  },
  {
   "cell_type": "code",
   "execution_count": 27,
   "metadata": {},
   "outputs": [
    {
     "name": "stdout",
     "output_type": "stream",
     "text": [
      "Multiple Comparison of Means - Tukey HSD, FWER=0.01\n",
      "===================================================\n",
      "group1 group2 meandiff p-adj   lower  upper  reject\n",
      "---------------------------------------------------\n",
      "    3c     dt  -0.0452 0.6994 -0.1674  0.077  False\n",
      "    3c     fc   0.0017    0.9 -0.1205 0.1239  False\n",
      "    3c     rf   0.0058    0.9 -0.1164  0.128  False\n",
      "    3c    svc   -0.107 0.0284 -0.2292 0.0152  False\n",
      "    dt     fc   0.0469  0.673 -0.0753 0.1691  False\n",
      "    dt     rf    0.051  0.609 -0.0712 0.1732  False\n",
      "    dt    svc  -0.0618 0.4356  -0.184 0.0604  False\n",
      "    fc     rf   0.0041    0.9 -0.1181 0.1263  False\n",
      "    fc    svc  -0.1087 0.0247 -0.2309 0.0135  False\n",
      "    rf    svc  -0.1128 0.0176  -0.235 0.0094  False\n",
      "---------------------------------------------------\n"
     ]
    }
   ],
   "source": [
    "mc = MultiComparison(df30['f1score'], df30['methods'])\n",
    "mc_results = mc.tukeyhsd(model30.f_pvalue)\n",
    "print(mc_results)"
   ]
  },
  {
   "cell_type": "code",
   "execution_count": 28,
   "metadata": {},
   "outputs": [
    {
     "name": "stdout",
     "output_type": "stream",
     "text": [
      "Multiple Comparison of Means - Tukey HSD, FWER=0.05 \n",
      "====================================================\n",
      "group1 group2 meandiff p-adj   lower   upper  reject\n",
      "----------------------------------------------------\n",
      "    3c     dt  -0.0309    0.9 -0.1289  0.0672  False\n",
      "    3c     fc   0.0296    0.9 -0.0685  0.1277  False\n",
      "    3c     rf   -0.002    0.9 -0.1001  0.0961  False\n",
      "    3c    svc  -0.0742  0.237 -0.1723  0.0239  False\n",
      "    dt     fc   0.0605 0.4463 -0.0376  0.1585  False\n",
      "    dt     rf   0.0289    0.9 -0.0692  0.1269  False\n",
      "    dt    svc  -0.0433 0.7204 -0.1414  0.0548  False\n",
      "    fc     rf  -0.0316    0.9 -0.1297  0.0665  False\n",
      "    fc    svc  -0.1038 0.0332 -0.2019 -0.0057   True\n",
      "    rf    svc  -0.0722 0.2629 -0.1703  0.0259  False\n",
      "----------------------------------------------------\n"
     ]
    }
   ],
   "source": [
    "mc = MultiComparison(df60['f1score'], df60['methods'])\n",
    "mc_results = mc.tukeyhsd(model60.f_pvalue)\n",
    "print(mc_results)"
   ]
  }
 ],
 "metadata": {
  "kernelspec": {
   "display_name": "Python 3",
   "language": "python",
   "name": "python3"
  },
  "language_info": {
   "codemirror_mode": {
    "name": "ipython",
    "version": 3
   },
   "file_extension": ".py",
   "mimetype": "text/x-python",
   "name": "python",
   "nbconvert_exporter": "python",
   "pygments_lexer": "ipython3",
   "version": "3.7.4"
  }
 },
 "nbformat": 4,
 "nbformat_minor": 2
}
