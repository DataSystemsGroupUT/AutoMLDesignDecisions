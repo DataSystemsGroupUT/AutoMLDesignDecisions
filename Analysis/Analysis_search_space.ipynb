{
 "cells": [
  {
   "cell_type": "code",
   "execution_count": 1,
   "metadata": {},
   "outputs": [],
   "source": [
    "#importing packages\n",
    "import pandas as pd\n",
    "import numpy as np\n",
    "import seaborn as sns\n",
    "import matplotlib.pyplot as plt\n",
    "import itertools\n",
    "from IPython.display import Image\n",
    "import copy\n",
    "import warnings\n",
    "warnings.simplefilter(\"ignore\")\n",
    "from IPython.display import display, HTML\n",
    "import re\n",
    "\n",
    "class Figure:\n",
    "    \n",
    "    \n",
    "    def __init__(self):\n",
    "        \n",
    "        self.d20 = [\"AirlinesCodrnaAdult\",\n",
    "                    \"Amazon\",\n",
    "                    \"AP_Breast_Lung\",\n",
    "                    \"arrhythmia\",\n",
    "                    \"audiology\",\n",
    "                    \"connect-4\",\n",
    "                    \"dataset_31_credit-g\",\n",
    "                    \"electricity-normalized\",\n",
    "                    \"eye_movements\",\n",
    "                    \"gina_agnostic\",\n",
    "                    \"hiva_agnostic\",\n",
    "                    \"KDDCup99\",\n",
    "                    \"MagicTelescope\",\n",
    "                    \"openml_phpJNxH0q\",\n",
    "                    \"phpZrCzJR\",\n",
    "                    \"pokerhand-normalized\",\n",
    "                    \"solar-flare_1\",\n",
    "                    \"umistfacescropped\",\n",
    "                    \"vowel\",\n",
    "                    \"wine-quality-red\"]\n",
    "        self.d10 = [\"dataset_39_ecoli\",\n",
    "                    \"synthetic_control\",\n",
    "                    \"avila-tr\",\n",
    "                    \"phpGUrE90\",\n",
    "                    \"dataset_60_waveform-5000\",\n",
    "                    \"dataset_186_satimage\",\n",
    "                    \"dataset_40_sonar\",\n",
    "                    \"phpmPOD5A\",\n",
    "                    \"AP_Omentum_Ovary\",\n",
    "                    \"phprAeXmK\"]\n",
    "        \n",
    "        \n",
    "        skout=r\"C:\\Users\\HassanEldeeb\\Documents\\GitHub\\AutoMLBenchmarking\\logs_search_space/skout.xlsx\"\n",
    "        self.skout = pd.read_excel(skout,\n",
    "                              null_values=['', 'NA', 'NAN', 'NaN', 'Nan', 'NA\\n', 'None'])\n",
    "        self.skout = self.skout[['dataset', 'time_budget', 'methods', 'f1score']]\n",
    "        self.skout.methods = self.skout.methods.replace(\"['adaboost', 'bernoulli_nb', 'decision_tree', 'extra_trees', 'gaussian_nb', 'gradient_boosting', 'k_nearest_neighbors', 'lda', 'liblinear_svc', 'libsvm_svc', 'multinomial_nb', 'passive_aggressive', 'qda', 'random_forest', 'sgd']\", \"fc\")\n",
    "        self.skout.methods = self.skout.methods.replace(\"['decision_tree', 'libsvm_svc', 'random_forest']\", \"3c\")\n",
    "        self.skout.methods = self.skout.methods.replace(\"['libsvm_svc']\", \"1c\")\n",
    "        self.skout.methods = self.skout.methods.replace(\"['decision_tree']\", \"1c\")\n",
    "        self.skout.methods = self.skout.methods.replace(\"['random_forest']\", \"1c\")\n",
    "        self.skout = self.clean(self.skout, is_30=True)\n",
    "        \n",
    "        atm=r\"C:\\Users\\HassanEldeeb\\Documents\\GitHub\\AutoMLBenchmarking\\logs_search_space/atmout.xlsx\"\n",
    "        self.atm = pd.read_excel(atm,\n",
    "                              null_values=['', 'NA', 'NAN', 'NaN', 'Nan', 'NA\\n', 'None'])\n",
    "        self.atm = self.atm[['dataset', 'time_budget', 'methods', 'f1score']]\n",
    "        self.atm.methods = self.atm.methods.replace(\"['logreg', 'svm', 'sgd', 'dt', 'et', 'rf', 'gnb', 'mnb', 'bnb', 'gp', 'pa', 'knn', 'mlp', 'ada']\", \"fc\")\n",
    "        self.atm.methods = self.atm.methods.replace(\"['rf', 'dt', 'svm']\", \"3c\")\n",
    "        self.atm.methods = self.atm.methods.replace(\"['logreg', 'dt', 'knn']\", \"def\")\n",
    "        self.atm.methods = self.atm.methods.replace(\"['svm']\", \"1c\")\n",
    "        self.atm.methods = self.atm.methods.replace(\"['dt']\", \"1c\")\n",
    "        self.atm.methods = self.atm.methods.replace(\"['rf']\", \"1c\")\n",
    "        self.atm = self.clean(self.atm)\n",
    "        \n",
    "        tpot=r\"C:\\Users\\HassanEldeeb\\Documents\\GitHub\\AutoMLBenchmarking\\logs_search_space/tpot.xlsx\"\n",
    "        self.tpot = pd.read_excel(tpot,\n",
    "                              null_values=['', 'NA', 'NAN', 'NaN', 'Nan', 'NA\\n', 'None'])\n",
    "        self.tpot = self.tpot[['dataset', 'time_budget', 'methods', 'f1score']]\n",
    "        self.tpot.methods = self.tpot.methods.replace(\"default\", \"fc\")\n",
    "        self.tpot.methods = self.tpot.methods.replace(\"3C\", \"3c\")\n",
    "        self.tpot.methods = self.tpot.methods.replace(\"SVC\", \"1c\")\n",
    "        self.tpot.methods = self.tpot.methods.replace(\"DT\", \"1c\")\n",
    "        self.tpot.methods = self.tpot.methods.replace(\"RF\", \"1c\")\n",
    "        self.tpot = self.clean(self.tpot)\n",
    "        \n",
    "    \n",
    "    \n",
    "    def clean(self, df, is_30 = False):\n",
    "        df = df[df.f1score != 0]\n",
    "#         if is_30:\n",
    "#             datasets = self.d20 + self.d10\n",
    "#         else:\n",
    "        datasets = self.d20\n",
    "        df = df[df.dataset.isin(datasets)]\n",
    "        for d in datasets:\n",
    "            for t in [10, 30, 60]:\n",
    "                for ss in ['fc', '3c', '1c']:\n",
    "                    if df[(df.methods == ss) & (df.time_budget == t) & (df.dataset == d)].shape[0] == 0:\n",
    "                        new_row = {'dataset': d, 'time_budget': t, 'methods':ss, 'f1score':0}\n",
    "                        df = df.append(new_row, ignore_index=True)\n",
    "        return df\n",
    "    \n",
    "    \n",
    "    def get_sheet(self):\n",
    "        return self.sheet\n",
    "    \n",
    "    def check(self):\n",
    "        return pd.DataFrame({ 'diff': self.diff, 'va11': self.var1, 'var2': self.var2 })\n",
    "    \n",
    "    \n",
    "    def compare_acc_scatter(self, var1, var2, x_label, y_label, title,\n",
    "                           legend_missing='Failed Run', legend_negative='-ve Dif',\n",
    "                           legend_zero='Zero Dif', legend_positive='+ve Dif',\n",
    "                           fig_size = (8, 8), legend_ncols=4, legend_x_shift=0, y_limit=None,\n",
    "                           x_axis_grid=False, divide_data=False):\n",
    "       \n",
    "        font_size=16\n",
    "        self.var1, self.var2 = var1.reset_index(drop=True).fillna(0), var2.reset_index(drop=True).fillna(0)\n",
    "        argsort = (self.var1 - self.var2).argsort()\n",
    "        self.var1 = self.var1[argsort].reset_index(drop=True)\n",
    "        self.var2 = self.var2[argsort].reset_index(drop=True)\n",
    "\n",
    "        self.diff = (self.var1 - self.var2).reset_index(drop=True)\n",
    "        y_limit = [1.1* min(self.diff), 1.1 * max(self.diff)]\n",
    "        if y_limit[0] == 0:\n",
    "            y_limit[0] = -0.1 * y_limit[1]\n",
    "        fig, ax = plt.subplots(figsize=fig_size)\n",
    "\n",
    "        dot_size=100\n",
    "        yy = self.diff[(self.diff <= -0.01) & (self.var1 != 0.0) & (self.var2 != 0)]\n",
    "        print('Average loss = {} from {} datasets'.format(round(100 * yy.mean(), 1), yy.size))\n",
    "        ax.scatter(x=yy.index, \n",
    "               y=yy,\n",
    "               color= 'red',\n",
    "               marker ='v',\n",
    "               label = 'Negative',\n",
    "                  s=dot_size)\n",
    "\n",
    "        yy = self.diff[(self.diff > -0.01) & (self.diff < 0.01) & (self.var1 != 0.0) & (self.var2 != 0)]\n",
    "        print(' {} datasets have the same performance'.format(yy.size))\n",
    "        ax.scatter(x=yy.index, \n",
    "               y=yy,\n",
    "               color= 'blue',\n",
    "               marker ='.',\n",
    "               label = 'Same',\n",
    "                  s=dot_size*3)\n",
    "\n",
    "        yy = self.diff[(self.diff >= 0.01)  & (self.var1 != 0.0) & (self.var2 != 0)]\n",
    "        print('Average gain = {} from {} datasets'.format(round(100 * yy.mean(), 1), yy.size))\n",
    "        ax.scatter(x=yy.index, \n",
    "               y=yy,\n",
    "               color= 'green',\n",
    "               marker ='^',\n",
    "               label = 'Positive',\n",
    "                  s=dot_size)\n",
    "\n",
    "        yy = self.diff[(self.var1 == 0.0) | (self.var2 == 0)]\n",
    "        ax.scatter(x=yy.index, \n",
    "               y=yy,\n",
    "               color= 'darkorange',\n",
    "               marker ='x',\n",
    "               label = 'Failed',\n",
    "                  s=dot_size)\n",
    "\n",
    "        l = ax.legend( ncol=legend_ncols, bbox_to_anchor=(legend_x_shift, 1), loc='lower left', fontsize=font_size)\n",
    "        \n",
    "        plt.xlabel(x_label, fontsize=font_size*1.2)\n",
    "        plt.ylabel(y_label, fontsize=font_size*1.2)\n",
    "        ax.yaxis.grid() # horizontal lines\n",
    "        if x_axis_grid:\n",
    "            ax.xaxis.grid()\n",
    "        plt.ylim(y_limit)\n",
    "        plt.xlim([-1,1+self.var1.shape[0]])\n",
    "        plt.xticks(np.arange(0, 1+self.var1.shape[0], 10), fontsize=font_size)\n",
    "        plt.yticks(fontsize=font_size)\n",
    "        plt.title(label = title, pad = 40, fontsize=font_size)\n",
    "        plt.tight_layout()\n",
    "        #plt.savefig('./search_space_figs/' + title.replace(' ', '_') + '.pdf', format='pdf')\n",
    "        plt.savefig('./search_space_figs/' + re.sub(r'\\W+', '', title) + '.pdf', format='pdf')\n",
    "        plt.show()\n",
    "        return\n"
   ]
  },
  {
   "cell_type": "code",
   "execution_count": 2,
   "metadata": {},
   "outputs": [
    {
     "name": "stdout",
     "output_type": "stream",
     "text": [
      "Average loss = -2.2 from 3 datasets\n",
      " 1 datasets have the same performance\n",
      "Average gain = 8.5 from 16 datasets\n"
     ]
    },
    {
     "ename": "FileNotFoundError",
     "evalue": "[Errno 2] No such file or directory: './search_space_figs/F1Differencebetweenfcand3cfor10minutesAutoSKLearn.pdf'",
     "output_type": "error",
     "traceback": [
      "\u001b[1;31m---------------------------------------------------------------------------\u001b[0m",
      "\u001b[1;31mFileNotFoundError\u001b[0m                         Traceback (most recent call last)",
      "\u001b[1;32m<ipython-input-2-f2c302a3b921>\u001b[0m in \u001b[0;36m<module>\u001b[1;34m\u001b[0m\n\u001b[0;32m      2\u001b[0m \u001b[0mvar1\u001b[0m \u001b[1;33m=\u001b[0m \u001b[0mfig\u001b[0m\u001b[1;33m.\u001b[0m\u001b[0mskout\u001b[0m\u001b[1;33m[\u001b[0m\u001b[1;33m(\u001b[0m\u001b[0mfig\u001b[0m\u001b[1;33m.\u001b[0m\u001b[0mskout\u001b[0m\u001b[1;33m.\u001b[0m\u001b[0mmethods\u001b[0m \u001b[1;33m==\u001b[0m \u001b[1;34m'fc'\u001b[0m\u001b[1;33m)\u001b[0m \u001b[1;33m&\u001b[0m \u001b[1;33m(\u001b[0m\u001b[0mfig\u001b[0m\u001b[1;33m.\u001b[0m\u001b[0mskout\u001b[0m\u001b[1;33m.\u001b[0m\u001b[0mtime_budget\u001b[0m\u001b[1;33m==\u001b[0m\u001b[1;36m10\u001b[0m\u001b[1;33m)\u001b[0m\u001b[1;33m]\u001b[0m\u001b[1;33m.\u001b[0m\u001b[0mgroupby\u001b[0m\u001b[1;33m(\u001b[0m\u001b[1;33m[\u001b[0m\u001b[1;34m'dataset'\u001b[0m\u001b[1;33m,\u001b[0m \u001b[1;34m'time_budget'\u001b[0m\u001b[1;33m,\u001b[0m \u001b[1;34m'methods'\u001b[0m\u001b[1;33m]\u001b[0m\u001b[1;33m)\u001b[0m\u001b[1;33m.\u001b[0m\u001b[0mmean\u001b[0m\u001b[1;33m(\u001b[0m\u001b[1;33m)\u001b[0m\u001b[1;33m.\u001b[0m\u001b[0mf1score\u001b[0m\u001b[1;33m\u001b[0m\u001b[1;33m\u001b[0m\u001b[0m\n\u001b[0;32m      3\u001b[0m \u001b[0mvar2\u001b[0m \u001b[1;33m=\u001b[0m \u001b[0mfig\u001b[0m\u001b[1;33m.\u001b[0m\u001b[0mskout\u001b[0m\u001b[1;33m[\u001b[0m\u001b[1;33m(\u001b[0m\u001b[0mfig\u001b[0m\u001b[1;33m.\u001b[0m\u001b[0mskout\u001b[0m\u001b[1;33m.\u001b[0m\u001b[0mmethods\u001b[0m \u001b[1;33m==\u001b[0m \u001b[1;34m'1c'\u001b[0m\u001b[1;33m)\u001b[0m \u001b[1;33m&\u001b[0m \u001b[1;33m(\u001b[0m\u001b[0mfig\u001b[0m\u001b[1;33m.\u001b[0m\u001b[0mskout\u001b[0m\u001b[1;33m.\u001b[0m\u001b[0mtime_budget\u001b[0m\u001b[1;33m==\u001b[0m\u001b[1;36m10\u001b[0m\u001b[1;33m)\u001b[0m\u001b[1;33m]\u001b[0m\u001b[1;33m.\u001b[0m\u001b[0mgroupby\u001b[0m\u001b[1;33m(\u001b[0m\u001b[1;33m[\u001b[0m\u001b[1;34m'dataset'\u001b[0m\u001b[1;33m,\u001b[0m \u001b[1;34m'time_budget'\u001b[0m\u001b[1;33m,\u001b[0m \u001b[1;34m'methods'\u001b[0m\u001b[1;33m]\u001b[0m\u001b[1;33m)\u001b[0m\u001b[1;33m.\u001b[0m\u001b[0mmean\u001b[0m\u001b[1;33m(\u001b[0m\u001b[1;33m)\u001b[0m\u001b[1;33m.\u001b[0m\u001b[0mf1score\u001b[0m\u001b[1;33m\u001b[0m\u001b[1;33m\u001b[0m\u001b[0m\n\u001b[1;32m----> 4\u001b[1;33m \u001b[0mfig\u001b[0m\u001b[1;33m.\u001b[0m\u001b[0mcompare_acc_scatter\u001b[0m\u001b[1;33m(\u001b[0m\u001b[0mvar1\u001b[0m\u001b[1;33m,\u001b[0m \u001b[0mvar2\u001b[0m\u001b[1;33m,\u001b[0m \u001b[1;34m'Data set'\u001b[0m\u001b[1;33m,\u001b[0m \u001b[1;34m'F1 Score difference FC-3C'\u001b[0m\u001b[1;33m,\u001b[0m \u001b[1;34m'F1 Difference between fc and 3c for 10 minutes - AutoSKLearn'\u001b[0m\u001b[1;33m,\u001b[0m \u001b[0mfig_size\u001b[0m \u001b[1;33m=\u001b[0m \u001b[1;33m(\u001b[0m\u001b[1;36m9\u001b[0m\u001b[1;33m,\u001b[0m \u001b[1;36m4\u001b[0m\u001b[1;33m)\u001b[0m\u001b[1;33m)\u001b[0m\u001b[1;33m\u001b[0m\u001b[1;33m\u001b[0m\u001b[0m\n\u001b[0m",
      "\u001b[1;32m<ipython-input-1-91b2fe331aad>\u001b[0m in \u001b[0;36mcompare_acc_scatter\u001b[1;34m(self, var1, var2, x_label, y_label, title, legend_missing, legend_negative, legend_zero, legend_positive, fig_size, legend_ncols, legend_x_shift, y_limit, x_axis_grid, divide_data)\u001b[0m\n\u001b[0;32m    176\u001b[0m         \u001b[0mplt\u001b[0m\u001b[1;33m.\u001b[0m\u001b[0mtight_layout\u001b[0m\u001b[1;33m(\u001b[0m\u001b[1;33m)\u001b[0m\u001b[1;33m\u001b[0m\u001b[1;33m\u001b[0m\u001b[0m\n\u001b[0;32m    177\u001b[0m         \u001b[1;31m#plt.savefig('./search_space_figs/' + title.replace(' ', '_') + '.pdf', format='pdf')\u001b[0m\u001b[1;33m\u001b[0m\u001b[1;33m\u001b[0m\u001b[1;33m\u001b[0m\u001b[0m\n\u001b[1;32m--> 178\u001b[1;33m         \u001b[0mplt\u001b[0m\u001b[1;33m.\u001b[0m\u001b[0msavefig\u001b[0m\u001b[1;33m(\u001b[0m\u001b[1;34m'./search_space_figs/'\u001b[0m \u001b[1;33m+\u001b[0m \u001b[0mre\u001b[0m\u001b[1;33m.\u001b[0m\u001b[0msub\u001b[0m\u001b[1;33m(\u001b[0m\u001b[1;34mr'\\W+'\u001b[0m\u001b[1;33m,\u001b[0m \u001b[1;34m''\u001b[0m\u001b[1;33m,\u001b[0m \u001b[0mtitle\u001b[0m\u001b[1;33m)\u001b[0m \u001b[1;33m+\u001b[0m \u001b[1;34m'.pdf'\u001b[0m\u001b[1;33m,\u001b[0m \u001b[0mformat\u001b[0m\u001b[1;33m=\u001b[0m\u001b[1;34m'pdf'\u001b[0m\u001b[1;33m)\u001b[0m\u001b[1;33m\u001b[0m\u001b[1;33m\u001b[0m\u001b[0m\n\u001b[0m\u001b[0;32m    179\u001b[0m         \u001b[0mplt\u001b[0m\u001b[1;33m.\u001b[0m\u001b[0mshow\u001b[0m\u001b[1;33m(\u001b[0m\u001b[1;33m)\u001b[0m\u001b[1;33m\u001b[0m\u001b[1;33m\u001b[0m\u001b[0m\n\u001b[0;32m    180\u001b[0m         \u001b[1;32mreturn\u001b[0m\u001b[1;33m\u001b[0m\u001b[1;33m\u001b[0m\u001b[0m\n",
      "\u001b[1;32m~\\Anaconda3\\lib\\site-packages\\matplotlib\\pyplot.py\u001b[0m in \u001b[0;36msavefig\u001b[1;34m(*args, **kwargs)\u001b[0m\n\u001b[0;32m    720\u001b[0m \u001b[1;32mdef\u001b[0m \u001b[0msavefig\u001b[0m\u001b[1;33m(\u001b[0m\u001b[1;33m*\u001b[0m\u001b[0margs\u001b[0m\u001b[1;33m,\u001b[0m \u001b[1;33m**\u001b[0m\u001b[0mkwargs\u001b[0m\u001b[1;33m)\u001b[0m\u001b[1;33m:\u001b[0m\u001b[1;33m\u001b[0m\u001b[1;33m\u001b[0m\u001b[0m\n\u001b[0;32m    721\u001b[0m     \u001b[0mfig\u001b[0m \u001b[1;33m=\u001b[0m \u001b[0mgcf\u001b[0m\u001b[1;33m(\u001b[0m\u001b[1;33m)\u001b[0m\u001b[1;33m\u001b[0m\u001b[1;33m\u001b[0m\u001b[0m\n\u001b[1;32m--> 722\u001b[1;33m     \u001b[0mres\u001b[0m \u001b[1;33m=\u001b[0m \u001b[0mfig\u001b[0m\u001b[1;33m.\u001b[0m\u001b[0msavefig\u001b[0m\u001b[1;33m(\u001b[0m\u001b[1;33m*\u001b[0m\u001b[0margs\u001b[0m\u001b[1;33m,\u001b[0m \u001b[1;33m**\u001b[0m\u001b[0mkwargs\u001b[0m\u001b[1;33m)\u001b[0m\u001b[1;33m\u001b[0m\u001b[1;33m\u001b[0m\u001b[0m\n\u001b[0m\u001b[0;32m    723\u001b[0m     \u001b[0mfig\u001b[0m\u001b[1;33m.\u001b[0m\u001b[0mcanvas\u001b[0m\u001b[1;33m.\u001b[0m\u001b[0mdraw_idle\u001b[0m\u001b[1;33m(\u001b[0m\u001b[1;33m)\u001b[0m   \u001b[1;31m# need this if 'transparent=True' to reset colors\u001b[0m\u001b[1;33m\u001b[0m\u001b[1;33m\u001b[0m\u001b[0m\n\u001b[0;32m    724\u001b[0m     \u001b[1;32mreturn\u001b[0m \u001b[0mres\u001b[0m\u001b[1;33m\u001b[0m\u001b[1;33m\u001b[0m\u001b[0m\n",
      "\u001b[1;32m~\\Anaconda3\\lib\\site-packages\\matplotlib\\figure.py\u001b[0m in \u001b[0;36msavefig\u001b[1;34m(self, fname, transparent, **kwargs)\u001b[0m\n\u001b[0;32m   2178\u001b[0m             \u001b[0mself\u001b[0m\u001b[1;33m.\u001b[0m\u001b[0mpatch\u001b[0m\u001b[1;33m.\u001b[0m\u001b[0mset_visible\u001b[0m\u001b[1;33m(\u001b[0m\u001b[0mframeon\u001b[0m\u001b[1;33m)\u001b[0m\u001b[1;33m\u001b[0m\u001b[1;33m\u001b[0m\u001b[0m\n\u001b[0;32m   2179\u001b[0m \u001b[1;33m\u001b[0m\u001b[0m\n\u001b[1;32m-> 2180\u001b[1;33m         \u001b[0mself\u001b[0m\u001b[1;33m.\u001b[0m\u001b[0mcanvas\u001b[0m\u001b[1;33m.\u001b[0m\u001b[0mprint_figure\u001b[0m\u001b[1;33m(\u001b[0m\u001b[0mfname\u001b[0m\u001b[1;33m,\u001b[0m \u001b[1;33m**\u001b[0m\u001b[0mkwargs\u001b[0m\u001b[1;33m)\u001b[0m\u001b[1;33m\u001b[0m\u001b[1;33m\u001b[0m\u001b[0m\n\u001b[0m\u001b[0;32m   2181\u001b[0m \u001b[1;33m\u001b[0m\u001b[0m\n\u001b[0;32m   2182\u001b[0m         \u001b[1;32mif\u001b[0m \u001b[0mframeon\u001b[0m\u001b[1;33m:\u001b[0m\u001b[1;33m\u001b[0m\u001b[1;33m\u001b[0m\u001b[0m\n",
      "\u001b[1;32m~\\Anaconda3\\lib\\site-packages\\matplotlib\\backend_bases.py\u001b[0m in \u001b[0;36mprint_figure\u001b[1;34m(self, filename, dpi, facecolor, edgecolor, orientation, format, bbox_inches, **kwargs)\u001b[0m\n\u001b[0;32m   2080\u001b[0m                     \u001b[0morientation\u001b[0m\u001b[1;33m=\u001b[0m\u001b[0morientation\u001b[0m\u001b[1;33m,\u001b[0m\u001b[1;33m\u001b[0m\u001b[1;33m\u001b[0m\u001b[0m\n\u001b[0;32m   2081\u001b[0m                     \u001b[0mbbox_inches_restore\u001b[0m\u001b[1;33m=\u001b[0m\u001b[0m_bbox_inches_restore\u001b[0m\u001b[1;33m,\u001b[0m\u001b[1;33m\u001b[0m\u001b[1;33m\u001b[0m\u001b[0m\n\u001b[1;32m-> 2082\u001b[1;33m                     **kwargs)\n\u001b[0m\u001b[0;32m   2083\u001b[0m             \u001b[1;32mfinally\u001b[0m\u001b[1;33m:\u001b[0m\u001b[1;33m\u001b[0m\u001b[1;33m\u001b[0m\u001b[0m\n\u001b[0;32m   2084\u001b[0m                 \u001b[1;32mif\u001b[0m \u001b[0mbbox_inches\u001b[0m \u001b[1;32mand\u001b[0m \u001b[0mrestore_bbox\u001b[0m\u001b[1;33m:\u001b[0m\u001b[1;33m\u001b[0m\u001b[1;33m\u001b[0m\u001b[0m\n",
      "\u001b[1;32m~\\Anaconda3\\lib\\site-packages\\matplotlib\\backends\\backend_pdf.py\u001b[0m in \u001b[0;36mprint_pdf\u001b[1;34m(self, filename, dpi, bbox_inches_restore, metadata, **kwargs)\u001b[0m\n\u001b[0;32m   2494\u001b[0m             \u001b[0mfile\u001b[0m \u001b[1;33m=\u001b[0m \u001b[0mfilename\u001b[0m\u001b[1;33m.\u001b[0m\u001b[0m_file\u001b[0m\u001b[1;33m\u001b[0m\u001b[1;33m\u001b[0m\u001b[0m\n\u001b[0;32m   2495\u001b[0m         \u001b[1;32melse\u001b[0m\u001b[1;33m:\u001b[0m\u001b[1;33m\u001b[0m\u001b[1;33m\u001b[0m\u001b[0m\n\u001b[1;32m-> 2496\u001b[1;33m             \u001b[0mfile\u001b[0m \u001b[1;33m=\u001b[0m \u001b[0mPdfFile\u001b[0m\u001b[1;33m(\u001b[0m\u001b[0mfilename\u001b[0m\u001b[1;33m,\u001b[0m \u001b[0mmetadata\u001b[0m\u001b[1;33m=\u001b[0m\u001b[0mmetadata\u001b[0m\u001b[1;33m)\u001b[0m\u001b[1;33m\u001b[0m\u001b[1;33m\u001b[0m\u001b[0m\n\u001b[0m\u001b[0;32m   2497\u001b[0m         \u001b[1;32mtry\u001b[0m\u001b[1;33m:\u001b[0m\u001b[1;33m\u001b[0m\u001b[1;33m\u001b[0m\u001b[0m\n\u001b[0;32m   2498\u001b[0m             \u001b[0mfile\u001b[0m\u001b[1;33m.\u001b[0m\u001b[0mnewPage\u001b[0m\u001b[1;33m(\u001b[0m\u001b[0mwidth\u001b[0m\u001b[1;33m,\u001b[0m \u001b[0mheight\u001b[0m\u001b[1;33m)\u001b[0m\u001b[1;33m\u001b[0m\u001b[1;33m\u001b[0m\u001b[0m\n",
      "\u001b[1;32m~\\Anaconda3\\lib\\site-packages\\matplotlib\\backends\\backend_pdf.py\u001b[0m in \u001b[0;36m__init__\u001b[1;34m(self, filename, metadata)\u001b[0m\n\u001b[0;32m    430\u001b[0m         \u001b[0mself\u001b[0m\u001b[1;33m.\u001b[0m\u001b[0moriginal_file_like\u001b[0m \u001b[1;33m=\u001b[0m \u001b[1;32mNone\u001b[0m\u001b[1;33m\u001b[0m\u001b[1;33m\u001b[0m\u001b[0m\n\u001b[0;32m    431\u001b[0m         \u001b[0mself\u001b[0m\u001b[1;33m.\u001b[0m\u001b[0mtell_base\u001b[0m \u001b[1;33m=\u001b[0m \u001b[1;36m0\u001b[0m\u001b[1;33m\u001b[0m\u001b[1;33m\u001b[0m\u001b[0m\n\u001b[1;32m--> 432\u001b[1;33m         \u001b[0mfh\u001b[0m\u001b[1;33m,\u001b[0m \u001b[0mopened\u001b[0m \u001b[1;33m=\u001b[0m \u001b[0mcbook\u001b[0m\u001b[1;33m.\u001b[0m\u001b[0mto_filehandle\u001b[0m\u001b[1;33m(\u001b[0m\u001b[0mfilename\u001b[0m\u001b[1;33m,\u001b[0m \u001b[1;34m\"wb\"\u001b[0m\u001b[1;33m,\u001b[0m \u001b[0mreturn_opened\u001b[0m\u001b[1;33m=\u001b[0m\u001b[1;32mTrue\u001b[0m\u001b[1;33m)\u001b[0m\u001b[1;33m\u001b[0m\u001b[1;33m\u001b[0m\u001b[0m\n\u001b[0m\u001b[0;32m    433\u001b[0m         \u001b[1;32mif\u001b[0m \u001b[1;32mnot\u001b[0m \u001b[0mopened\u001b[0m\u001b[1;33m:\u001b[0m\u001b[1;33m\u001b[0m\u001b[1;33m\u001b[0m\u001b[0m\n\u001b[0;32m    434\u001b[0m             \u001b[1;32mtry\u001b[0m\u001b[1;33m:\u001b[0m\u001b[1;33m\u001b[0m\u001b[1;33m\u001b[0m\u001b[0m\n",
      "\u001b[1;32m~\\Anaconda3\\lib\\site-packages\\matplotlib\\cbook\\__init__.py\u001b[0m in \u001b[0;36mto_filehandle\u001b[1;34m(fname, flag, return_opened, encoding)\u001b[0m\n\u001b[0;32m    430\u001b[0m             \u001b[0mfh\u001b[0m \u001b[1;33m=\u001b[0m \u001b[0mbz2\u001b[0m\u001b[1;33m.\u001b[0m\u001b[0mBZ2File\u001b[0m\u001b[1;33m(\u001b[0m\u001b[0mfname\u001b[0m\u001b[1;33m,\u001b[0m \u001b[0mflag\u001b[0m\u001b[1;33m)\u001b[0m\u001b[1;33m\u001b[0m\u001b[1;33m\u001b[0m\u001b[0m\n\u001b[0;32m    431\u001b[0m         \u001b[1;32melse\u001b[0m\u001b[1;33m:\u001b[0m\u001b[1;33m\u001b[0m\u001b[1;33m\u001b[0m\u001b[0m\n\u001b[1;32m--> 432\u001b[1;33m             \u001b[0mfh\u001b[0m \u001b[1;33m=\u001b[0m \u001b[0mopen\u001b[0m\u001b[1;33m(\u001b[0m\u001b[0mfname\u001b[0m\u001b[1;33m,\u001b[0m \u001b[0mflag\u001b[0m\u001b[1;33m,\u001b[0m \u001b[0mencoding\u001b[0m\u001b[1;33m=\u001b[0m\u001b[0mencoding\u001b[0m\u001b[1;33m)\u001b[0m\u001b[1;33m\u001b[0m\u001b[1;33m\u001b[0m\u001b[0m\n\u001b[0m\u001b[0;32m    433\u001b[0m         \u001b[0mopened\u001b[0m \u001b[1;33m=\u001b[0m \u001b[1;32mTrue\u001b[0m\u001b[1;33m\u001b[0m\u001b[1;33m\u001b[0m\u001b[0m\n\u001b[0;32m    434\u001b[0m     \u001b[1;32melif\u001b[0m \u001b[0mhasattr\u001b[0m\u001b[1;33m(\u001b[0m\u001b[0mfname\u001b[0m\u001b[1;33m,\u001b[0m \u001b[1;34m'seek'\u001b[0m\u001b[1;33m)\u001b[0m\u001b[1;33m:\u001b[0m\u001b[1;33m\u001b[0m\u001b[1;33m\u001b[0m\u001b[0m\n",
      "\u001b[1;31mFileNotFoundError\u001b[0m: [Errno 2] No such file or directory: './search_space_figs/F1Differencebetweenfcand3cfor10minutesAutoSKLearn.pdf'"
     ]
    },
    {
     "data": {
      "image/png": "[encoded data removed]",
      "text/plain": [
       "<Figure size 648x288 with 1 Axes>"
      ]
     },
     "metadata": {
      "needs_background": "light"
     },
     "output_type": "display_data"
    }
   ],
   "source": [
    "fig = Figure()\n",
    "var1 = fig.skout[(fig.skout.methods == 'fc') & (fig.skout.time_budget==10)].groupby(['dataset', 'time_budget', 'methods']).mean().f1score\n",
    "var2 = fig.skout[(fig.skout.methods == '1c') & (fig.skout.time_budget==10)].groupby(['dataset', 'time_budget', 'methods']).mean().f1score\n",
    "fig.compare_acc_scatter(var1, var2, 'Data set', 'F1 Score difference FC-3C', 'F1 Difference between fc and 3c for 10 minutes - AutoSKLearn', fig_size = (9, 4))"
   ]
  },
  {
   "cell_type": "code",
   "execution_count": null,
   "metadata": {},
   "outputs": [],
   "source": [
    "fig = Figure()\n",
    "var1 = fig.skout[(fig.skout.methods == '3c') & (fig.skout.time_budget==10)].groupby(['dataset', 'time_budget', 'methods']).mean().f1score\n",
    "var2 = fig.skout[(fig.skout.methods == '1c') & (fig.skout.time_budget==10)].groupby(['dataset', 'time_budget', 'methods']).mean().f1score\n",
    "fig.compare_acc_scatter(var1, var2, 'Data set', 'F1 Score difference FC-3C', 'F1 Difference between fc and 3c for 10 minutes - AutoSKLearn', fig_size = (9, 4))"
   ]
  },
  {
   "cell_type": "code",
   "execution_count": null,
   "metadata": {},
   "outputs": [],
   "source": [
    "fig = Figure()\n",
    "var1 = fig.skout[(fig.skout.methods == 'fc') & (fig.skout.time_budget==10)].groupby(['dataset', 'time_budget', 'methods']).mean().f1score\n",
    "var2 = fig.skout[(fig.skout.methods == '3c') & (fig.skout.time_budget==10)].groupby(['dataset', 'time_budget', 'methods']).mean().f1score\n",
    "fig.compare_acc_scatter(var1, var2, 'Data set', 'F1 Score difference FC-3C', 'F1 Difference between fc and 3c for 10 minutes - AutoSKLearn', fig_size = (9, 4))"
   ]
  },
  {
   "cell_type": "code",
   "execution_count": null,
   "metadata": {},
   "outputs": [],
   "source": [
    "var1 = fig.skout[(fig.skout.methods == 'fc') & (fig.skout.time_budget==30)].groupby(['dataset', 'time_budget', 'methods']).mean().f1score\n",
    "var2 = fig.skout[(fig.skout.methods == '1c') & (fig.skout.time_budget==30)].groupby(['dataset', 'time_budget', 'methods']).mean().f1score\n",
    "fig.compare_acc_scatter(var1, var2, 'Data set', 'F1 Score difference FC-3C', 'F1 Difference between fc and 3c for 30 minutes - AutoSKLearn', fig_size = (9, 4))\n",
    "df = pd.DataFrame({'dataset': fig.skout[(fig.skout.methods == 'fc') & (fig.skout.time_budget==30)].groupby(['dataset', 'time_budget', 'methods']).mean().index.get_level_values(0).values, 'var1': var1.values, 'var2': var2.values, 'diff': var1.values - var2.values})"
   ]
  },
  {
   "cell_type": "code",
   "execution_count": null,
   "metadata": {},
   "outputs": [],
   "source": [
    "var1 = fig.skout[(fig.skout.methods == '3c') & (fig.skout.time_budget==30)].groupby(['dataset', 'time_budget', 'methods']).mean().f1score\n",
    "var2 = fig.skout[(fig.skout.methods == '1c') & (fig.skout.time_budget==30)].groupby(['dataset', 'time_budget', 'methods']).mean().f1score\n",
    "fig.compare_acc_scatter(var1, var2, 'Data set', 'F1 Score difference FC-3C', 'F1 Difference between fc and 3c for 30 minutes - AutoSKLearn', fig_size = (9, 4))\n",
    "df = pd.DataFrame({'dataset': fig.skout[(fig.skout.methods == 'fc') & (fig.skout.time_budget==30)].groupby(['dataset', 'time_budget', 'methods']).mean().index.get_level_values(0).values, 'var1': var1.values, 'var2': var2.values, 'diff': var1.values - var2.values})"
   ]
  },
  {
   "cell_type": "code",
   "execution_count": null,
   "metadata": {},
   "outputs": [],
   "source": [
    "var1 = fig.skout[(fig.skout.methods == 'fc') & (fig.skout.time_budget==30)].groupby(['dataset', 'time_budget', 'methods']).mean().f1score\n",
    "var2 = fig.skout[(fig.skout.methods == '3c') & (fig.skout.time_budget==30)].groupby(['dataset', 'time_budget', 'methods']).mean().f1score\n",
    "fig.compare_acc_scatter(var1, var2, 'Data set', 'F1 Score difference FC-3C', 'F1 Difference between fc and 3c for 30 minutes - AutoSKLearn', fig_size = (9, 4))\n",
    "df = pd.DataFrame({'dataset': fig.skout[(fig.skout.methods == 'fc') & (fig.skout.time_budget==30)].groupby(['dataset', 'time_budget', 'methods']).mean().index.get_level_values(0).values, 'var1': var1.values, 'var2': var2.values, 'diff': var1.values - var2.values})"
   ]
  },
  {
   "cell_type": "code",
   "execution_count": null,
   "metadata": {},
   "outputs": [],
   "source": [
    "var1 = fig.skout[(fig.skout.methods == 'fc') & (fig.skout.time_budget==60)].groupby(['dataset', 'time_budget', 'methods']).mean().f1score\n",
    "var2 = fig.skout[(fig.skout.methods == '1c') & (fig.skout.time_budget==60)].groupby(['dataset', 'time_budget', 'methods']).mean().f1score\n",
    "fig.compare_acc_scatter(var1, var2, 'Data set', 'F1 Score difference FC-3C', 'F1 Difference between fc and 3c for 60 minutes - AutoSKLearn', fig_size = (9, 4))\n"
   ]
  },
  {
   "cell_type": "code",
   "execution_count": null,
   "metadata": {},
   "outputs": [],
   "source": [
    "var1 = fig.skout[(fig.skout.methods == '3c') & (fig.skout.time_budget==60)].groupby(['dataset', 'time_budget', 'methods']).mean().f1score\n",
    "var2 = fig.skout[(fig.skout.methods == '1c') & (fig.skout.time_budget==60)].groupby(['dataset', 'time_budget', 'methods']).mean().f1score\n",
    "fig.compare_acc_scatter(var1, var2, 'Data set', 'F1 Score difference FC-3C', 'F1 Difference between fc and 3c for 60 minutes - AutoSKLearn', fig_size = (9, 4))\n"
   ]
  },
  {
   "cell_type": "code",
   "execution_count": null,
   "metadata": {},
   "outputs": [],
   "source": [
    "var1 = fig.skout[(fig.skout.methods == 'fc') & (fig.skout.time_budget==60)].groupby(['dataset', 'time_budget', 'methods']).mean().f1score\n",
    "var2 = fig.skout[(fig.skout.methods == '3c') & (fig.skout.time_budget==60)].groupby(['dataset', 'time_budget', 'methods']).mean().f1score\n",
    "fig.compare_acc_scatter(var1, var2, 'Data set', 'F1 Score difference FC-3C', 'F1 Difference between fc and 3c for 60 minutes - AutoSKLearn', fig_size = (9, 4))\n"
   ]
  },
  {
   "cell_type": "code",
   "execution_count": null,
   "metadata": {},
   "outputs": [],
   "source": [
    "var1 = fig.tpot[(fig.tpot.methods == 'fc') & (fig.tpot.time_budget==10)].groupby(['dataset', 'time_budget', 'methods']).mean().f1score\n",
    "var2 = fig.tpot[(fig.tpot.methods == '1c') & (fig.tpot.time_budget==10)].groupby(['dataset', 'time_budget', 'methods']).mean().f1score\n",
    "fig.compare_acc_scatter(var1, var2, 'Data set', 'F1 Score difference FC-3C', 'F1 Difference between fc and 3c for 10 minutes - TPOT', fig_size = (9, 4))"
   ]
  },
  {
   "cell_type": "code",
   "execution_count": null,
   "metadata": {},
   "outputs": [],
   "source": [
    "var1 = fig.tpot[(fig.tpot.methods == '3c') & (fig.tpot.time_budget==10)].groupby(['dataset', 'time_budget', 'methods']).mean().f1score\n",
    "var2 = fig.tpot[(fig.tpot.methods == '1c') & (fig.tpot.time_budget==10)].groupby(['dataset', 'time_budget', 'methods']).mean().f1score\n",
    "fig.compare_acc_scatter(var1, var2, 'Data set', 'F1 Score difference FC-3C', 'F1 Difference between fc and 3c for 10 minutes - TPOT', fig_size = (9, 4))"
   ]
  },
  {
   "cell_type": "code",
   "execution_count": null,
   "metadata": {},
   "outputs": [],
   "source": [
    "var1 = fig.tpot[(fig.tpot.methods == 'fc') & (fig.tpot.time_budget==10)].groupby(['dataset', 'time_budget', 'methods']).mean().f1score\n",
    "var2 = fig.tpot[(fig.tpot.methods == '3c') & (fig.tpot.time_budget==10)].groupby(['dataset', 'time_budget', 'methods']).mean().f1score\n",
    "fig.compare_acc_scatter(var1, var2, 'Data set', 'F1 Score difference FC-3C', 'F1 Difference between fc and 3c for 10 minutes - TPOT', fig_size = (9, 4))"
   ]
  },
  {
   "cell_type": "code",
   "execution_count": null,
   "metadata": {},
   "outputs": [],
   "source": [
    "var1 = fig.tpot[(fig.tpot.methods == 'fc') & (fig.tpot.time_budget==30)].groupby(['dataset', 'time_budget', 'methods']).mean().f1score\n",
    "var2 = fig.tpot[(fig.tpot.methods == '1c') & (fig.tpot.time_budget==30)].groupby(['dataset', 'time_budget', 'methods']).mean().f1score\n",
    "fig.compare_acc_scatter(var1, var2, 'Data set', 'F1 Score difference FC-3C', 'F1 Difference between fc and 3c for 30 minutes - TPOT', fig_size = (9, 4))"
   ]
  },
  {
   "cell_type": "code",
   "execution_count": null,
   "metadata": {},
   "outputs": [],
   "source": [
    "var1 = fig.tpot[(fig.tpot.methods == '3c') & (fig.tpot.time_budget==30)].groupby(['dataset', 'time_budget', 'methods']).mean().f1score\n",
    "var2 = fig.tpot[(fig.tpot.methods == '1c') & (fig.tpot.time_budget==30)].groupby(['dataset', 'time_budget', 'methods']).mean().f1score\n",
    "fig.compare_acc_scatter(var1, var2, 'Data set', 'F1 Score difference FC-3C', 'F1 Difference between fc and 3c for 30 minutes - TPOT', fig_size = (9, 4))"
   ]
  },
  {
   "cell_type": "code",
   "execution_count": null,
   "metadata": {},
   "outputs": [],
   "source": [
    "var1 = fig.tpot[(fig.tpot.methods == 'fc') & (fig.tpot.time_budget==30)].groupby(['dataset', 'time_budget', 'methods']).mean().f1score\n",
    "var2 = fig.tpot[(fig.tpot.methods == '3c') & (fig.tpot.time_budget==30)].groupby(['dataset', 'time_budget', 'methods']).mean().f1score\n",
    "fig.compare_acc_scatter(var1, var2, 'Data set', 'F1 Score difference FC-3C', 'F1 Difference between fc and 3c for 30 minutes - TPOT', fig_size = (9, 4))"
   ]
  },
  {
   "cell_type": "code",
   "execution_count": null,
   "metadata": {},
   "outputs": [],
   "source": [
    "var1 = fig.tpot[(fig.tpot.methods == 'fc') & (fig.tpot.time_budget==60)].groupby(['dataset', 'time_budget', 'methods']).mean().f1score\n",
    "var2 = fig.tpot[(fig.tpot.methods == '1c') & (fig.tpot.time_budget==60)].groupby(['dataset', 'time_budget', 'methods']).mean().f1score\n",
    "fig.compare_acc_scatter(var1, var2, 'Data set', 'F1 Score difference FC-3C', 'F1 Difference between fc and 3c for 60 minutes - TPOT', fig_size = (9, 4))"
   ]
  },
  {
   "cell_type": "code",
   "execution_count": null,
   "metadata": {},
   "outputs": [],
   "source": [
    "var1 = fig.tpot[(fig.tpot.methods == '3c') & (fig.tpot.time_budget==60)].groupby(['dataset', 'time_budget', 'methods']).mean().f1score\n",
    "var2 = fig.tpot[(fig.tpot.methods == '1c') & (fig.tpot.time_budget==60)].groupby(['dataset', 'time_budget', 'methods']).mean().f1score\n",
    "fig.compare_acc_scatter(var1, var2, 'Data set', 'F1 Score difference FC-3C', 'F1 Difference between fc and 3c for 60 minutes - TPOT', fig_size = (9, 4))"
   ]
  },
  {
   "cell_type": "code",
   "execution_count": null,
   "metadata": {},
   "outputs": [],
   "source": [
    "var1 = fig.tpot[(fig.tpot.methods == 'fc') & (fig.tpot.time_budget==60)].groupby(['dataset', 'time_budget', 'methods']).mean().f1score\n",
    "var2 = fig.tpot[(fig.tpot.methods == '3c') & (fig.tpot.time_budget==60)].groupby(['dataset', 'time_budget', 'methods']).mean().f1score\n",
    "fig.compare_acc_scatter(var1, var2, 'Data set', 'F1 Score difference FC-3C', 'F1 Difference between fc and 3c for 60 minutes - TPOT', fig_size = (9, 4))"
   ]
  },
  {
   "cell_type": "code",
   "execution_count": null,
   "metadata": {},
   "outputs": [],
   "source": [
    "var1 = fig.atm[(fig.atm.methods == 'fc') & (fig.atm.time_budget==10)].groupby(['dataset', 'time_budget', 'methods']).mean().f1score\n",
    "var2 = fig.atm[(fig.atm.methods == '1c') & (fig.atm.time_budget==10)].groupby(['dataset', 'time_budget', 'methods']).mean().f1score\n",
    "fig.compare_acc_scatter(var1, var2, 'Data set', 'F1 Score difference FC-3C', 'F1 Difference between fc and 3c for 10 minutes - ATM', fig_size = (9, 4))"
   ]
  },
  {
   "cell_type": "code",
   "execution_count": null,
   "metadata": {},
   "outputs": [],
   "source": [
    "var1 = fig.atm[(fig.atm.methods == '3c') & (fig.atm.time_budget==10)].groupby(['dataset', 'time_budget', 'methods']).mean().f1score\n",
    "var2 = fig.atm[(fig.atm.methods == '1c') & (fig.atm.time_budget==10)].groupby(['dataset', 'time_budget', 'methods']).mean().f1score\n",
    "fig.compare_acc_scatter(var1, var2, 'Data set', 'F1 Score difference FC-3C', 'F1 Difference between fc and 3c for 10 minutes - ATM', fig_size = (9, 4))"
   ]
  },
  {
   "cell_type": "code",
   "execution_count": null,
   "metadata": {},
   "outputs": [],
   "source": [
    "var1 = fig.atm[(fig.atm.methods == 'fc') & (fig.atm.time_budget==10)].groupby(['dataset', 'time_budget', 'methods']).mean().f1score\n",
    "var2 = fig.atm[(fig.atm.methods == '3c') & (fig.atm.time_budget==10)].groupby(['dataset', 'time_budget', 'methods']).mean().f1score\n",
    "fig.compare_acc_scatter(var1, var2, 'Data set', 'F1 Score difference FC-3C', 'F1 Difference between fc and 3c for 10 minutes - ATM', fig_size = (9, 4))"
   ]
  },
  {
   "cell_type": "code",
   "execution_count": null,
   "metadata": {},
   "outputs": [],
   "source": [
    "var1 = fig.atm[(fig.atm.methods == 'fc') & (fig.atm.time_budget==30)].groupby(['dataset', 'time_budget', 'methods']).mean().f1score\n",
    "var2 = fig.atm[(fig.atm.methods == '1c') & (fig.atm.time_budget==30)].groupby(['dataset', 'time_budget', 'methods']).mean().f1score\n",
    "fig.compare_acc_scatter(var1, var2, 'Data set', 'F1 Score difference FC-3C', 'F1 Difference between fc and 3c for 30 minutes - ATM', fig_size = (9, 4))"
   ]
  },
  {
   "cell_type": "code",
   "execution_count": null,
   "metadata": {},
   "outputs": [],
   "source": [
    "var1 = fig.atm[(fig.atm.methods == '3c') & (fig.atm.time_budget==30)].groupby(['dataset', 'time_budget', 'methods']).mean().f1score\n",
    "var2 = fig.atm[(fig.atm.methods == '1c') & (fig.atm.time_budget==30)].groupby(['dataset', 'time_budget', 'methods']).mean().f1score\n",
    "fig.compare_acc_scatter(var1, var2, 'Data set', 'F1 Score difference FC-3C', 'F1 Difference between fc and 3c for 30 minutes - ATM', fig_size = (9, 4))"
   ]
  },
  {
   "cell_type": "code",
   "execution_count": null,
   "metadata": {},
   "outputs": [],
   "source": [
    "var1 = fig.atm[(fig.atm.methods == 'fc') & (fig.atm.time_budget==30)].groupby(['dataset', 'time_budget', 'methods']).mean().f1score\n",
    "var2 = fig.atm[(fig.atm.methods == '3c') & (fig.atm.time_budget==30)].groupby(['dataset', 'time_budget', 'methods']).mean().f1score\n",
    "fig.compare_acc_scatter(var1, var2, 'Data set', 'F1 Score difference FC-3C', 'F1 Difference between fc and 3c for 30 minutes - ATM', fig_size = (9, 4))"
   ]
  },
  {
   "cell_type": "code",
   "execution_count": null,
   "metadata": {},
   "outputs": [],
   "source": [
    "var1 = fig.atm[(fig.atm.methods == 'fc') & (fig.atm.time_budget==60)].groupby(['dataset', 'time_budget', 'methods']).mean().f1score\n",
    "var2 = fig.atm[(fig.atm.methods == '1c') & (fig.atm.time_budget==60)].groupby(['dataset', 'time_budget', 'methods']).mean().f1score\n",
    "fig.compare_acc_scatter(var1, var2, 'Data set', 'F1 Score difference FC-3C', 'F1 Difference between fc and 3c for 60 minutes - ATM', fig_size = (9, 4))"
   ]
  },
  {
   "cell_type": "code",
   "execution_count": null,
   "metadata": {},
   "outputs": [],
   "source": [
    "var1 = fig.atm[(fig.atm.methods == '3c') & (fig.atm.time_budget==60)].groupby(['dataset', 'time_budget', 'methods']).mean().f1score\n",
    "var2 = fig.atm[(fig.atm.methods == '1c') & (fig.atm.time_budget==60)].groupby(['dataset', 'time_budget', 'methods']).mean().f1score\n",
    "fig.compare_acc_scatter(var1, var2, 'Data set', 'F1 Score difference FC-3C', 'F1 Difference between fc and 3c for 60 minutes - ATM', fig_size = (9, 4))"
   ]
  },
  {
   "cell_type": "code",
   "execution_count": null,
   "metadata": {},
   "outputs": [],
   "source": [
    "var1 = fig.atm[(fig.atm.methods == 'fc') & (fig.atm.time_budget==60)].groupby(['dataset', 'time_budget', 'methods']).mean().f1score\n",
    "var2 = fig.atm[(fig.atm.methods == '3c') & (fig.atm.time_budget==60)].groupby(['dataset', 'time_budget', 'methods']).mean().f1score\n",
    "fig.compare_acc_scatter(var1, var2, 'Data set', 'F1 Score difference FC-3C', 'F1 Difference between fc and 3c for 60 minutes - ATM', fig_size = (9, 4))"
   ]
  },
  {
   "cell_type": "code",
   "execution_count": null,
   "metadata": {},
   "outputs": [],
   "source": [
    "var1 = fig.skout[(fig.skout.methods == 'fc') & (fig.skout.time_budget==30)].groupby(['dataset', 'time_budget', 'methods']).mean().f1score\n",
    "var2 = fig.skout[(fig.skout.methods == 'fc') & (fig.skout.time_budget==10)].groupby(['dataset', 'time_budget', 'methods']).mean().f1score\n",
    "fig.compare_acc_scatter(var1, var2, 'Data set', 'F1 Score difference 30-10', 'F1 Difference for FC Search Space (30-10) - AutoSKLearn', fig_size = (9, 4))"
   ]
  },
  {
   "cell_type": "code",
   "execution_count": null,
   "metadata": {},
   "outputs": [],
   "source": [
    "var1 = fig.skout[(fig.skout.methods == '3c') & (fig.skout.time_budget==30)].groupby(['dataset', 'time_budget', 'methods']).mean().f1score\n",
    "var2 = fig.skout[(fig.skout.methods == '3c') & (fig.skout.time_budget==10)].groupby(['dataset', 'time_budget', 'methods']).mean().f1score\n",
    "fig.compare_acc_scatter(var1, var2, 'Data set', 'F1 Score difference 30-10', 'F1 Difference for FC Search Space (30-10) - AutoSKLearn', fig_size = (9, 4))"
   ]
  },
  {
   "cell_type": "code",
   "execution_count": null,
   "metadata": {},
   "outputs": [],
   "source": [
    "var1 = fig.skout[(fig.skout.methods == '1c') & (fig.skout.time_budget==30)].groupby(['dataset', 'time_budget', 'methods']).mean().f1score\n",
    "var2 = fig.skout[(fig.skout.methods == '1c') & (fig.skout.time_budget==10)].groupby(['dataset', 'time_budget', 'methods']).mean().f1score\n",
    "fig.compare_acc_scatter(var1, var2, 'Data set', 'F1 Score difference 30-10', 'F1 Difference for FC Search Space (30-10) - AutoSKLearn', fig_size = (9, 4))"
   ]
  },
  {
   "cell_type": "code",
   "execution_count": null,
   "metadata": {},
   "outputs": [],
   "source": [
    "var1 = fig.skout[(fig.skout.methods == 'fc') & (fig.skout.time_budget==60)].groupby(['dataset', 'time_budget', 'methods']).mean().f1score\n",
    "var2 = fig.skout[(fig.skout.methods == 'fc') & (fig.skout.time_budget==10)].groupby(['dataset', 'time_budget', 'methods']).mean().f1score\n",
    "fig.compare_acc_scatter(var1, var2, 'Data set', 'F1 Score difference 60-10', 'F1 Difference for FC Search Space (60-10) - AutoSKLearn', fig_size = (9, 4))"
   ]
  },
  {
   "cell_type": "code",
   "execution_count": null,
   "metadata": {},
   "outputs": [],
   "source": [
    "var1 = fig.skout[(fig.skout.methods == '3c') & (fig.skout.time_budget==60)].groupby(['dataset', 'time_budget', 'methods']).mean().f1score\n",
    "var2 = fig.skout[(fig.skout.methods == '3c') & (fig.skout.time_budget==10)].groupby(['dataset', 'time_budget', 'methods']).mean().f1score\n",
    "fig.compare_acc_scatter(var1, var2, 'Data set', 'F1 Score difference 60-10', 'F1 Difference for FC Search Space (60-10) - AutoSKLearn', fig_size = (9, 4))"
   ]
  },
  {
   "cell_type": "code",
   "execution_count": null,
   "metadata": {},
   "outputs": [],
   "source": [
    "var1 = fig.skout[(fig.skout.methods == '1c') & (fig.skout.time_budget==60)].groupby(['dataset', 'time_budget', 'methods']).mean().f1score\n",
    "var2 = fig.skout[(fig.skout.methods == '1c') & (fig.skout.time_budget==10)].groupby(['dataset', 'time_budget', 'methods']).mean().f1score\n",
    "fig.compare_acc_scatter(var1, var2, 'Data set', 'F1 Score difference 60-10', 'F1 Difference for FC Search Space (60-10) - AutoSKLearn', fig_size = (9, 4))"
   ]
  },
  {
   "cell_type": "code",
   "execution_count": null,
   "metadata": {},
   "outputs": [],
   "source": [
    "var1 = fig.skout[(fig.skout.methods == 'fc') & (fig.skout.time_budget==60)].groupby(['dataset', 'time_budget', 'methods']).mean().f1score\n",
    "var2 = fig.skout[(fig.skout.methods == 'fc') & (fig.skout.time_budget==30)].groupby(['dataset', 'time_budget', 'methods']).mean().f1score\n",
    "fig.compare_acc_scatter(var1, var2, 'Data set', 'F1 Score difference 60-30', 'F1 Difference for FC Search Space (60-30) - AutoSKLearn', fig_size = (9, 4))"
   ]
  },
  {
   "cell_type": "code",
   "execution_count": null,
   "metadata": {},
   "outputs": [],
   "source": [
    "var1 = fig.skout[(fig.skout.methods == '3c') & (fig.skout.time_budget==60)].groupby(['dataset', 'time_budget', 'methods']).mean().f1score\n",
    "var2 = fig.skout[(fig.skout.methods == '3c') & (fig.skout.time_budget==30)].groupby(['dataset', 'time_budget', 'methods']).mean().f1score\n",
    "fig.compare_acc_scatter(var1, var2, 'Data set', 'F1 Score difference 60-30', 'F1 Difference for FC Search Space (60-30) - AutoSKLearn', fig_size = (9, 4))"
   ]
  },
  {
   "cell_type": "code",
   "execution_count": null,
   "metadata": {},
   "outputs": [],
   "source": [
    "var1 = fig.skout[(fig.skout.methods == '1c') & (fig.skout.time_budget==60)].groupby(['dataset', 'time_budget', 'methods']).mean().f1score\n",
    "var2 = fig.skout[(fig.skout.methods == '1c') & (fig.skout.time_budget==30)].groupby(['dataset', 'time_budget', 'methods']).mean().f1score\n",
    "fig.compare_acc_scatter(var1, var2, 'Data set', 'F1 Score difference 60-30', 'F1 Difference for FC Search Space (60-30) - AutoSKLearn', fig_size = (9, 4))"
   ]
  },
  {
   "cell_type": "code",
   "execution_count": null,
   "metadata": {},
   "outputs": [],
   "source": [
    "var1 = fig.tpot[(fig.tpot.methods == 'fc') & (fig.tpot.time_budget==30)].groupby(['dataset', 'time_budget', 'methods']).mean().f1score\n",
    "var2 = fig.tpot[(fig.tpot.methods == 'fc') & (fig.tpot.time_budget==10)].groupby(['dataset', 'time_budget', 'methods']).mean().f1score\n",
    "fig.compare_acc_scatter(var1, var2, 'Data set', 'F1 Score difference 30-10', 'F1 Difference for FC Search Space (30-10) - TPOT', fig_size = (9, 4))"
   ]
  },
  {
   "cell_type": "code",
   "execution_count": null,
   "metadata": {},
   "outputs": [],
   "source": [
    "var1 = fig.tpot[(fig.tpot.methods == '3c') & (fig.tpot.time_budget==30)].groupby(['dataset', 'time_budget', 'methods']).mean().f1score\n",
    "var2 = fig.tpot[(fig.tpot.methods == '3c') & (fig.tpot.time_budget==10)].groupby(['dataset', 'time_budget', 'methods']).mean().f1score\n",
    "fig.compare_acc_scatter(var1, var2, 'Data set', 'F1 Score difference 30-10', 'F1 Difference for FC Search Space (30-10) - TPOT', fig_size = (9, 4))"
   ]
  },
  {
   "cell_type": "code",
   "execution_count": null,
   "metadata": {},
   "outputs": [],
   "source": [
    "var1 = fig.tpot[(fig.tpot.methods == '1c') & (fig.tpot.time_budget==30)].groupby(['dataset', 'time_budget', 'methods']).mean().f1score\n",
    "var2 = fig.tpot[(fig.tpot.methods == '1c') & (fig.tpot.time_budget==10)].groupby(['dataset', 'time_budget', 'methods']).mean().f1score\n",
    "fig.compare_acc_scatter(var1, var2, 'Data set', 'F1 Score difference 30-10', 'F1 Difference for FC Search Space (30-10) - TPOT', fig_size = (9, 4))"
   ]
  },
  {
   "cell_type": "code",
   "execution_count": null,
   "metadata": {},
   "outputs": [],
   "source": [
    "var1 = fig.tpot[(fig.tpot.methods == 'fc') & (fig.tpot.time_budget==60)].groupby(['dataset', 'time_budget', 'methods']).mean().f1score\n",
    "var2 = fig.tpot[(fig.tpot.methods == 'fc') & (fig.tpot.time_budget==10)].groupby(['dataset', 'time_budget', 'methods']).mean().f1score\n",
    "fig.compare_acc_scatter(var1, var2, 'Data set', 'F1 Score difference 60-10', 'F1 Difference for FC Search Space (60-10) - TPOT', fig_size = (9, 4))"
   ]
  },
  {
   "cell_type": "code",
   "execution_count": null,
   "metadata": {},
   "outputs": [],
   "source": [
    "var1 = fig.tpot[(fig.tpot.methods == '3c') & (fig.tpot.time_budget==60)].groupby(['dataset', 'time_budget', 'methods']).mean().f1score\n",
    "var2 = fig.tpot[(fig.tpot.methods == '3c') & (fig.tpot.time_budget==10)].groupby(['dataset', 'time_budget', 'methods']).mean().f1score\n",
    "fig.compare_acc_scatter(var1, var2, 'Data set', 'F1 Score difference 60-10', 'F1 Difference for FC Search Space (60-10) - TPOT', fig_size = (9, 4))"
   ]
  },
  {
   "cell_type": "code",
   "execution_count": null,
   "metadata": {},
   "outputs": [],
   "source": [
    "var1 = fig.tpot[(fig.tpot.methods == '1c') & (fig.tpot.time_budget==60)].groupby(['dataset', 'time_budget', 'methods']).mean().f1score\n",
    "var2 = fig.tpot[(fig.tpot.methods == '1c') & (fig.tpot.time_budget==10)].groupby(['dataset', 'time_budget', 'methods']).mean().f1score\n",
    "fig.compare_acc_scatter(var1, var2, 'Data set', 'F1 Score difference 60-10', 'F1 Difference for FC Search Space (60-10) - TPOT', fig_size = (9, 4))"
   ]
  },
  {
   "cell_type": "code",
   "execution_count": null,
   "metadata": {},
   "outputs": [],
   "source": [
    "var1 = fig.tpot[(fig.tpot.methods == 'fc') & (fig.tpot.time_budget==60)].groupby(['dataset', 'time_budget', 'methods']).mean().f1score\n",
    "var2 = fig.tpot[(fig.tpot.methods == 'fc') & (fig.tpot.time_budget==30)].groupby(['dataset', 'time_budget', 'methods']).mean().f1score\n",
    "fig.compare_acc_scatter(var1, var2, 'Data set', 'F1 Score difference 60-30', 'F1 Difference for FC Search Space (60-30) - TPOT', fig_size = (9, 4))"
   ]
  },
  {
   "cell_type": "code",
   "execution_count": null,
   "metadata": {},
   "outputs": [],
   "source": [
    "var1 = fig.tpot[(fig.tpot.methods == '3c') & (fig.tpot.time_budget==60)].groupby(['dataset', 'time_budget', 'methods']).mean().f1score\n",
    "var2 = fig.tpot[(fig.tpot.methods == '3c') & (fig.tpot.time_budget==30)].groupby(['dataset', 'time_budget', 'methods']).mean().f1score\n",
    "fig.compare_acc_scatter(var1, var2, 'Data set', 'F1 Score difference 60-30', 'F1 Difference for FC Search Space (60-30) - TPOT', fig_size = (9, 4))"
   ]
  },
  {
   "cell_type": "code",
   "execution_count": null,
   "metadata": {},
   "outputs": [],
   "source": [
    "var1 = fig.tpot[(fig.tpot.methods == '1c') & (fig.tpot.time_budget==60)].groupby(['dataset', 'time_budget', 'methods']).mean().f1score\n",
    "var2 = fig.tpot[(fig.tpot.methods == '1c') & (fig.tpot.time_budget==30)].groupby(['dataset', 'time_budget', 'methods']).mean().f1score\n",
    "fig.compare_acc_scatter(var1, var2, 'Data set', 'F1 Score difference 60-30', 'F1 Difference for FC Search Space (60-30) - TPOT', fig_size = (9, 4))"
   ]
  },
  {
   "cell_type": "code",
   "execution_count": null,
   "metadata": {},
   "outputs": [],
   "source": [
    "var1 = fig.atm[(fig.atm.methods == 'fc') & (fig.atm.time_budget==30)].groupby(['dataset', 'time_budget', 'methods']).mean().f1score\n",
    "var2 = fig.atm[(fig.atm.methods == 'fc') & (fig.atm.time_budget==10)].groupby(['dataset', 'time_budget', 'methods']).mean().f1score\n",
    "fig.compare_acc_scatter(var1, var2, 'Data set', 'F1 Score difference 30-10', 'F1 Difference for FC Search Space (30-10) - ATM', fig_size = (9, 4))"
   ]
  },
  {
   "cell_type": "code",
   "execution_count": null,
   "metadata": {},
   "outputs": [],
   "source": [
    "var1 = fig.atm[(fig.atm.methods == '3c') & (fig.atm.time_budget==30)].groupby(['dataset', 'time_budget', 'methods']).mean().f1score\n",
    "var2 = fig.atm[(fig.atm.methods == '3c') & (fig.atm.time_budget==10)].groupby(['dataset', 'time_budget', 'methods']).mean().f1score\n",
    "fig.compare_acc_scatter(var1, var2, 'Data set', 'F1 Score difference 30-10', 'F1 Difference for FC Search Space (30-10) - ATM', fig_size = (9, 4))"
   ]
  },
  {
   "cell_type": "code",
   "execution_count": null,
   "metadata": {},
   "outputs": [],
   "source": [
    "var1 = fig.atm[(fig.atm.methods == '1c') & (fig.atm.time_budget==30)].groupby(['dataset', 'time_budget', 'methods']).mean().f1score\n",
    "var2 = fig.atm[(fig.atm.methods == '1c') & (fig.atm.time_budget==10)].groupby(['dataset', 'time_budget', 'methods']).mean().f1score\n",
    "fig.compare_acc_scatter(var1, var2, 'Data set', 'F1 Score difference 30-10', 'F1 Difference for FC Search Space (30-10) - ATM', fig_size = (9, 4))"
   ]
  },
  {
   "cell_type": "code",
   "execution_count": null,
   "metadata": {},
   "outputs": [],
   "source": [
    "var1 = fig.atm[(fig.atm.methods == 'fc') & (fig.atm.time_budget==60)].groupby(['dataset', 'time_budget', 'methods']).mean().f1score\n",
    "var2 = fig.atm[(fig.atm.methods == 'fc') & (fig.atm.time_budget==10)].groupby(['dataset', 'time_budget', 'methods']).mean().f1score\n",
    "fig.compare_acc_scatter(var1, var2, 'Data set', 'F1 Score difference 60-10', 'F1 Difference for FC Search Space (60-10) - ATM', fig_size = (9, 4))"
   ]
  },
  {
   "cell_type": "code",
   "execution_count": null,
   "metadata": {},
   "outputs": [],
   "source": [
    "var1 = fig.atm[(fig.atm.methods == '3c') & (fig.atm.time_budget==60)].groupby(['dataset', 'time_budget', 'methods']).mean().f1score\n",
    "var2 = fig.atm[(fig.atm.methods == '3c') & (fig.atm.time_budget==10)].groupby(['dataset', 'time_budget', 'methods']).mean().f1score\n",
    "fig.compare_acc_scatter(var1, var2, 'Data set', 'F1 Score difference 60-10', 'F1 Difference for FC Search Space (60-10) - ATM', fig_size = (9, 4))"
   ]
  },
  {
   "cell_type": "code",
   "execution_count": null,
   "metadata": {},
   "outputs": [],
   "source": [
    "var1 = fig.atm[(fig.atm.methods == '1c') & (fig.atm.time_budget==60)].groupby(['dataset', 'time_budget', 'methods']).mean().f1score\n",
    "var2 = fig.atm[(fig.atm.methods == '1c') & (fig.atm.time_budget==10)].groupby(['dataset', 'time_budget', 'methods']).mean().f1score\n",
    "fig.compare_acc_scatter(var1, var2, 'Data set', 'F1 Score difference 60-10', 'F1 Difference for FC Search Space (60-10) - ATM', fig_size = (9, 4))"
   ]
  },
  {
   "cell_type": "code",
   "execution_count": null,
   "metadata": {},
   "outputs": [],
   "source": [
    "var1 = fig.atm[(fig.atm.methods == 'fc') & (fig.atm.time_budget==60)].groupby(['dataset', 'time_budget', 'methods']).mean().f1score\n",
    "var2 = fig.atm[(fig.atm.methods == 'fc') & (fig.atm.time_budget==30)].groupby(['dataset', 'time_budget', 'methods']).mean().f1score\n",
    "fig.compare_acc_scatter(var1, var2, 'Data set', 'F1 Score difference 60-30', 'F1 Difference for FC Search Space (60-30) - ATM', fig_size = (9, 4))"
   ]
  },
  {
   "cell_type": "code",
   "execution_count": null,
   "metadata": {},
   "outputs": [],
   "source": [
    "var1 = fig.atm[(fig.atm.methods == '3c') & (fig.atm.time_budget==60)].groupby(['dataset', 'time_budget', 'methods']).mean().f1score\n",
    "var2 = fig.atm[(fig.atm.methods == '3c') & (fig.atm.time_budget==30)].groupby(['dataset', 'time_budget', 'methods']).mean().f1score\n",
    "fig.compare_acc_scatter(var1, var2, 'Data set', 'F1 Score difference 60-30', 'F1 Difference for FC Search Space (60-30) - ATM', fig_size = (9, 4))"
   ]
  },
  {
   "cell_type": "code",
   "execution_count": null,
   "metadata": {},
   "outputs": [],
   "source": [
    "var1 = fig.atm[(fig.atm.methods == '1c') & (fig.atm.time_budget==60)].groupby(['dataset', 'time_budget', 'methods']).mean().f1score\n",
    "var2 = fig.atm[(fig.atm.methods == '1c') & (fig.atm.time_budget==30)].groupby(['dataset', 'time_budget', 'methods']).mean().f1score\n",
    "fig.compare_acc_scatter(var1, var2, 'Data set', 'F1 Score difference 60-30', 'F1 Difference for FC Search Space (60-30) - ATM', fig_size = (9, 4))"
   ]
  }
 ],
 "metadata": {
  "kernelspec": {
   "display_name": "Python 3",
   "language": "python",
   "name": "python3"
  },
  "language_info": {
   "codemirror_mode": {
    "name": "ipython",
    "version": 3
   },
   "file_extension": ".py",
   "mimetype": "text/x-python",
   "name": "python",
   "nbconvert_exporter": "python",
   "pygments_lexer": "ipython3",
   "version": "3.7.4"
  }
 },
 "nbformat": 4,
 "nbformat_minor": 2
}
