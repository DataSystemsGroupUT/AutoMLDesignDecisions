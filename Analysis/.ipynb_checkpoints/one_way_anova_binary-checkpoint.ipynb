{
 "cells": [
  {
   "cell_type": "code",
   "execution_count": 32,
   "metadata": {},
   "outputs": [],
   "source": [
    "import pandas as pd\n",
    "import scipy.stats as stats\n",
    "import researchpy as rp\n",
    "import statsmodels.api as sm\n",
    "from statsmodels.formula.api import ols\n",
    "    \n",
    "import matplotlib.pyplot as plt\n"
   ]
  },
  {
   "cell_type": "markdown",
   "metadata": {},
   "source": [
    "# Analysis <font color=blue>after </font> combining RF, DT and SVM into 1C 10 min"
   ]
  },
  {
   "cell_type": "code",
   "execution_count": 60,
   "metadata": {},
   "outputs": [
    {
     "data": {
      "text/plain": [
       "(540, 4)"
      ]
     },
     "execution_count": 60,
     "metadata": {},
     "output_type": "execute_result"
    }
   ],
   "source": [
    "df = pandas.read_excel(r\"C:\\Users\\HassanEldeeb\\Documents\\GitHub\\AutoMLBenchmarking\\logs_search_space/atmout.xlsx\")\n",
    "df = df[['dataset', 'time_budget', 'methods', 'f1score']]\n",
    "df.methods = df.methods.replace(\"['logreg', 'svm', 'sgd', 'dt', 'et', 'rf', 'gnb', 'mnb', 'bnb', 'gp', 'pa', 'knn', 'mlp', 'ada']\", \"fc\")\n",
    "df.methods = df.methods.replace(\"['rf', 'dt', 'svm']\", \"3c\")\n",
    "df.methods = df.methods.replace(\"['logreg', 'dt', 'knn']\", \"def\")\n",
    "df.methods = df.methods.replace(\"['svm']\", \"1c\")\n",
    "df.methods = df.methods.replace(\"['dt']\", \"1c\")\n",
    "df.methods = df.methods.replace(\"['rf']\", \"1c\")\n",
    "\n",
    "fsIs_b = ['vowel', 'openml_phpJNxH0q', 'dataset_31_credit-g', 'dataset_40_sonar']\n",
    "fsIs_m = ['solar-flare_1', 'wine-quality-red', 'dataset_39_ecoli', 'synthetic_control']\n",
    "fsIl_b = ['AirlinesCodrnaAdult', 'MagicTelescope', 'electricity-normalized', 'phpmPOD5A']\n",
    "fsIl_m = ['pokerhand-normalized', 'eye_movements', 'avila-tr']\n",
    "flIs_b = ['audiology', 'arrhythmia', 'AP_Breast_Lung', 'AP_Omentum_Ovary']\n",
    "flIs_m = ['Amazon', 'umistfacescropped', 'phpGUrE90']\n",
    "flIl_b = ['gina_agnostic', 'hiva_agnostic', 'phpZrCzJR', 'phprAeXmK']\n",
    "flIl_m = ['KDDCup99', 'connect-4', 'dataset_60_waveform-5000', 'dataset_186_satimage']\n",
    "df_binary = df[df.dataset.isin(fsIs_b) | df.dataset.isin(fsIl_b) | df.dataset.isin(flIs_b) | df.dataset.isin(flIl_b)]\n",
    "df = df_binary\n",
    "df10 = df[df.time_budget==10]\n",
    "df30 = df[df.time_budget==30]\n",
    "df60 = df[df.time_budget==60]\n",
    "\n",
    "df.shape"
   ]
  },
  {
   "cell_type": "code",
   "execution_count": 61,
   "metadata": {},
   "outputs": [
    {
     "name": "stdout",
     "output_type": "stream",
     "text": [
      "\n",
      "\n"
     ]
    },
    {
     "data": {
      "text/html": [
       "<div>\n",
       "<style scoped>\n",
       "    .dataframe tbody tr th:only-of-type {\n",
       "        vertical-align: middle;\n",
       "    }\n",
       "\n",
       "    .dataframe tbody tr th {\n",
       "        vertical-align: top;\n",
       "    }\n",
       "\n",
       "    .dataframe thead th {\n",
       "        text-align: right;\n",
       "    }\n",
       "</style>\n",
       "<table border=\"1\" class=\"dataframe\">\n",
       "  <thead>\n",
       "    <tr style=\"text-align: right;\">\n",
       "      <th></th>\n",
       "      <th>Variable</th>\n",
       "      <th>N</th>\n",
       "      <th>Mean</th>\n",
       "      <th>SD</th>\n",
       "      <th>SE</th>\n",
       "      <th>95% Conf.</th>\n",
       "      <th>Interval</th>\n",
       "    </tr>\n",
       "  </thead>\n",
       "  <tbody>\n",
       "    <tr>\n",
       "      <td>0</td>\n",
       "      <td>f1score</td>\n",
       "      <td>180.0</td>\n",
       "      <td>0.765301</td>\n",
       "      <td>0.250066</td>\n",
       "      <td>0.018639</td>\n",
       "      <td>0.728521</td>\n",
       "      <td>0.802081</td>\n",
       "    </tr>\n",
       "  </tbody>\n",
       "</table>\n",
       "</div>"
      ],
      "text/plain": [
       "  Variable      N      Mean        SD        SE  95% Conf.  Interval\n",
       "0  f1score  180.0  0.765301  0.250066  0.018639   0.728521  0.802081"
      ]
     },
     "execution_count": 61,
     "metadata": {},
     "output_type": "execute_result"
    }
   ],
   "source": [
    "rp.summary_cont(df10['f1score'])"
   ]
  },
  {
   "cell_type": "code",
   "execution_count": 62,
   "metadata": {},
   "outputs": [
    {
     "name": "stdout",
     "output_type": "stream",
     "text": [
      "\n",
      "\n"
     ]
    },
    {
     "data": {
      "text/html": [
       "<div>\n",
       "<style scoped>\n",
       "    .dataframe tbody tr th:only-of-type {\n",
       "        vertical-align: middle;\n",
       "    }\n",
       "\n",
       "    .dataframe tbody tr th {\n",
       "        vertical-align: top;\n",
       "    }\n",
       "\n",
       "    .dataframe thead th {\n",
       "        text-align: right;\n",
       "    }\n",
       "</style>\n",
       "<table border=\"1\" class=\"dataframe\">\n",
       "  <thead>\n",
       "    <tr style=\"text-align: right;\">\n",
       "      <th></th>\n",
       "      <th>Variable</th>\n",
       "      <th>N</th>\n",
       "      <th>Mean</th>\n",
       "      <th>SD</th>\n",
       "      <th>SE</th>\n",
       "      <th>95% Conf.</th>\n",
       "      <th>Interval</th>\n",
       "    </tr>\n",
       "  </thead>\n",
       "  <tbody>\n",
       "    <tr>\n",
       "      <td>0</td>\n",
       "      <td>f1score</td>\n",
       "      <td>180.0</td>\n",
       "      <td>0.784569</td>\n",
       "      <td>0.219867</td>\n",
       "      <td>0.016388</td>\n",
       "      <td>0.752231</td>\n",
       "      <td>0.816908</td>\n",
       "    </tr>\n",
       "  </tbody>\n",
       "</table>\n",
       "</div>"
      ],
      "text/plain": [
       "  Variable      N      Mean        SD        SE  95% Conf.  Interval\n",
       "0  f1score  180.0  0.784569  0.219867  0.016388   0.752231  0.816908"
      ]
     },
     "execution_count": 62,
     "metadata": {},
     "output_type": "execute_result"
    }
   ],
   "source": [
    "rp.summary_cont(df30['f1score'])"
   ]
  },
  {
   "cell_type": "code",
   "execution_count": 63,
   "metadata": {},
   "outputs": [
    {
     "name": "stdout",
     "output_type": "stream",
     "text": [
      "\n",
      "\n"
     ]
    },
    {
     "data": {
      "text/html": [
       "<div>\n",
       "<style scoped>\n",
       "    .dataframe tbody tr th:only-of-type {\n",
       "        vertical-align: middle;\n",
       "    }\n",
       "\n",
       "    .dataframe tbody tr th {\n",
       "        vertical-align: top;\n",
       "    }\n",
       "\n",
       "    .dataframe thead th {\n",
       "        text-align: right;\n",
       "    }\n",
       "</style>\n",
       "<table border=\"1\" class=\"dataframe\">\n",
       "  <thead>\n",
       "    <tr style=\"text-align: right;\">\n",
       "      <th></th>\n",
       "      <th>Variable</th>\n",
       "      <th>N</th>\n",
       "      <th>Mean</th>\n",
       "      <th>SD</th>\n",
       "      <th>SE</th>\n",
       "      <th>95% Conf.</th>\n",
       "      <th>Interval</th>\n",
       "    </tr>\n",
       "  </thead>\n",
       "  <tbody>\n",
       "    <tr>\n",
       "      <td>0</td>\n",
       "      <td>f1score</td>\n",
       "      <td>180.0</td>\n",
       "      <td>0.774665</td>\n",
       "      <td>0.213975</td>\n",
       "      <td>0.015949</td>\n",
       "      <td>0.743194</td>\n",
       "      <td>0.806137</td>\n",
       "    </tr>\n",
       "  </tbody>\n",
       "</table>\n",
       "</div>"
      ],
      "text/plain": [
       "  Variable      N      Mean        SD        SE  95% Conf.  Interval\n",
       "0  f1score  180.0  0.774665  0.213975  0.015949   0.743194  0.806137"
      ]
     },
     "execution_count": 63,
     "metadata": {},
     "output_type": "execute_result"
    }
   ],
   "source": [
    "rp.summary_cont(df60['f1score'])"
   ]
  },
  {
   "cell_type": "code",
   "execution_count": 64,
   "metadata": {},
   "outputs": [
    {
     "data": {
      "text/plain": [
       "F_onewayResult(statistic=nan, pvalue=nan)"
      ]
     },
     "execution_count": 64,
     "metadata": {},
     "output_type": "execute_result"
    }
   ],
   "source": [
    "stats.f_oneway(df10['f1score'][df10['methods'] == '1c'], \n",
    "             df10['f1score'][df10['methods'] == '3c'],\n",
    "             df10['f1score'][df10['methods'] == 'def'],\n",
    "             df10['f1score'][df10['methods'] == 'fc'])"
   ]
  },
  {
   "cell_type": "code",
   "execution_count": 65,
   "metadata": {},
   "outputs": [
    {
     "data": {
      "text/plain": [
       "F_onewayResult(statistic=nan, pvalue=nan)"
      ]
     },
     "execution_count": 65,
     "metadata": {},
     "output_type": "execute_result"
    }
   ],
   "source": [
    "stats.f_oneway(df30['f1score'][df30['methods'] == '1c'], \n",
    "             df30['f1score'][df30['methods'] == '3c'],\n",
    "             df30['f1score'][df30['methods'] == 'def'],\n",
    "             df30['f1score'][df30['methods'] == 'fc'])"
   ]
  },
  {
   "cell_type": "code",
   "execution_count": 66,
   "metadata": {},
   "outputs": [
    {
     "data": {
      "text/plain": [
       "F_onewayResult(statistic=nan, pvalue=nan)"
      ]
     },
     "execution_count": 66,
     "metadata": {},
     "output_type": "execute_result"
    }
   ],
   "source": [
    "stats.f_oneway(df60['f1score'][df60['methods'] == '1c'], \n",
    "             df60['f1score'][df60['methods'] == '3c'],\n",
    "             df60['f1score'][df60['methods'] == 'def'],\n",
    "             df60['f1score'][df60['methods'] == 'fc'])"
   ]
  },
  {
   "cell_type": "code",
   "execution_count": 67,
   "metadata": {},
   "outputs": [
    {
     "name": "stdout",
     "output_type": "stream",
     "text": [
      "Overall model F( 2, 177) =  1.828, p =  0.1638\n"
     ]
    },
    {
     "data": {
      "text/html": [
       "<table class=\"simpletable\">\n",
       "<caption>OLS Regression Results</caption>\n",
       "<tr>\n",
       "  <th>Dep. Variable:</th>         <td>f1score</td>     <th>  R-squared:         </th> <td>   0.020</td>\n",
       "</tr>\n",
       "<tr>\n",
       "  <th>Model:</th>                   <td>OLS</td>       <th>  Adj. R-squared:    </th> <td>   0.009</td>\n",
       "</tr>\n",
       "<tr>\n",
       "  <th>Method:</th>             <td>Least Squares</td>  <th>  F-statistic:       </th> <td>   1.828</td>\n",
       "</tr>\n",
       "<tr>\n",
       "  <th>Date:</th>             <td>Fri, 01 Nov 2019</td> <th>  Prob (F-statistic):</th>  <td> 0.164</td> \n",
       "</tr>\n",
       "<tr>\n",
       "  <th>Time:</th>                 <td>16:28:32</td>     <th>  Log-Likelihood:    </th> <td> -3.5822</td>\n",
       "</tr>\n",
       "<tr>\n",
       "  <th>No. Observations:</th>      <td>   180</td>      <th>  AIC:               </th> <td>   13.16</td>\n",
       "</tr>\n",
       "<tr>\n",
       "  <th>Df Residuals:</th>          <td>   177</td>      <th>  BIC:               </th> <td>   22.74</td>\n",
       "</tr>\n",
       "<tr>\n",
       "  <th>Df Model:</th>              <td>     2</td>      <th>                     </th>     <td> </td>   \n",
       "</tr>\n",
       "<tr>\n",
       "  <th>Covariance Type:</th>      <td>nonrobust</td>    <th>                     </th>     <td> </td>   \n",
       "</tr>\n",
       "</table>\n",
       "<table class=\"simpletable\">\n",
       "<tr>\n",
       "          <td></td>            <th>coef</th>     <th>std err</th>      <th>t</th>      <th>P>|t|</th>  <th>[0.025</th>    <th>0.975]</th>  \n",
       "</tr>\n",
       "<tr>\n",
       "  <th>Intercept</th>        <td>    0.7363</td> <td>    0.024</td> <td>   30.742</td> <td> 0.000</td> <td>    0.689</td> <td>    0.784</td>\n",
       "</tr>\n",
       "<tr>\n",
       "  <th>C(methods)[T.3c]</th> <td>    0.0717</td> <td>    0.048</td> <td>    1.496</td> <td> 0.136</td> <td>   -0.023</td> <td>    0.166</td>\n",
       "</tr>\n",
       "<tr>\n",
       "  <th>C(methods)[T.fc]</th> <td>    0.0731</td> <td>    0.048</td> <td>    1.527</td> <td> 0.129</td> <td>   -0.021</td> <td>    0.168</td>\n",
       "</tr>\n",
       "</table>\n",
       "<table class=\"simpletable\">\n",
       "<tr>\n",
       "  <th>Omnibus:</th>       <td>58.492</td> <th>  Durbin-Watson:     </th> <td>   0.394</td>\n",
       "</tr>\n",
       "<tr>\n",
       "  <th>Prob(Omnibus):</th> <td> 0.000</td> <th>  Jarque-Bera (JB):  </th> <td> 107.693</td>\n",
       "</tr>\n",
       "<tr>\n",
       "  <th>Skew:</th>          <td>-1.650</td> <th>  Prob(JB):          </th> <td>4.12e-24</td>\n",
       "</tr>\n",
       "<tr>\n",
       "  <th>Kurtosis:</th>      <td> 4.864</td> <th>  Cond. No.          </th> <td>    3.15</td>\n",
       "</tr>\n",
       "</table><br/><br/>Warnings:<br/>[1] Standard Errors assume that the covariance matrix of the errors is correctly specified."
      ],
      "text/plain": [
       "<class 'statsmodels.iolib.summary.Summary'>\n",
       "\"\"\"\n",
       "                            OLS Regression Results                            \n",
       "==============================================================================\n",
       "Dep. Variable:                f1score   R-squared:                       0.020\n",
       "Model:                            OLS   Adj. R-squared:                  0.009\n",
       "Method:                 Least Squares   F-statistic:                     1.828\n",
       "Date:                Fri, 01 Nov 2019   Prob (F-statistic):              0.164\n",
       "Time:                        16:28:32   Log-Likelihood:                -3.5822\n",
       "No. Observations:                 180   AIC:                             13.16\n",
       "Df Residuals:                     177   BIC:                             22.74\n",
       "Df Model:                           2                                         \n",
       "Covariance Type:            nonrobust                                         \n",
       "====================================================================================\n",
       "                       coef    std err          t      P>|t|      [0.025      0.975]\n",
       "------------------------------------------------------------------------------------\n",
       "Intercept            0.7363      0.024     30.742      0.000       0.689       0.784\n",
       "C(methods)[T.3c]     0.0717      0.048      1.496      0.136      -0.023       0.166\n",
       "C(methods)[T.fc]     0.0731      0.048      1.527      0.129      -0.021       0.168\n",
       "==============================================================================\n",
       "Omnibus:                       58.492   Durbin-Watson:                   0.394\n",
       "Prob(Omnibus):                  0.000   Jarque-Bera (JB):              107.693\n",
       "Skew:                          -1.650   Prob(JB):                     4.12e-24\n",
       "Kurtosis:                       4.864   Cond. No.                         3.15\n",
       "==============================================================================\n",
       "\n",
       "Warnings:\n",
       "[1] Standard Errors assume that the covariance matrix of the errors is correctly specified.\n",
       "\"\"\""
      ]
     },
     "execution_count": 67,
     "metadata": {},
     "output_type": "execute_result"
    }
   ],
   "source": [
    "    # Fits the model with the interaction term\n",
    "    # This will also automatically include the main effects for each factor\n",
    "    model10 = ols('f1score ~ C(methods)', df10).fit()\n",
    "\n",
    "    # Seeing if the overall model is significant\n",
    "    print(f\"Overall model F({model10.df_model: .0f},{model10.df_resid: .0f}) = {model10.fvalue: .3f}, p = {model10.f_pvalue: .4f}\")\n",
    "    model10.summary()"
   ]
  },
  {
   "cell_type": "code",
   "execution_count": 68,
   "metadata": {},
   "outputs": [
    {
     "name": "stdout",
     "output_type": "stream",
     "text": [
      "Overall model F( 2, 177) =  1.203, p =  0.3029\n"
     ]
    },
    {
     "data": {
      "text/html": [
       "<table class=\"simpletable\">\n",
       "<caption>OLS Regression Results</caption>\n",
       "<tr>\n",
       "  <th>Dep. Variable:</th>         <td>f1score</td>     <th>  R-squared:         </th> <td>   0.013</td>\n",
       "</tr>\n",
       "<tr>\n",
       "  <th>Model:</th>                   <td>OLS</td>       <th>  Adj. R-squared:    </th> <td>   0.002</td>\n",
       "</tr>\n",
       "<tr>\n",
       "  <th>Method:</th>             <td>Least Squares</td>  <th>  F-statistic:       </th> <td>   1.203</td>\n",
       "</tr>\n",
       "<tr>\n",
       "  <th>Date:</th>             <td>Fri, 01 Nov 2019</td> <th>  Prob (F-statistic):</th>  <td> 0.303</td> \n",
       "</tr>\n",
       "<tr>\n",
       "  <th>Time:</th>                 <td>16:28:33</td>     <th>  Log-Likelihood:    </th> <td>  18.959</td>\n",
       "</tr>\n",
       "<tr>\n",
       "  <th>No. Observations:</th>      <td>   180</td>      <th>  AIC:               </th> <td>  -31.92</td>\n",
       "</tr>\n",
       "<tr>\n",
       "  <th>Df Residuals:</th>          <td>   177</td>      <th>  BIC:               </th> <td>  -22.34</td>\n",
       "</tr>\n",
       "<tr>\n",
       "  <th>Df Model:</th>              <td>     2</td>      <th>                     </th>     <td> </td>   \n",
       "</tr>\n",
       "<tr>\n",
       "  <th>Covariance Type:</th>      <td>nonrobust</td>    <th>                     </th>     <td> </td>   \n",
       "</tr>\n",
       "</table>\n",
       "<table class=\"simpletable\">\n",
       "<tr>\n",
       "          <td></td>            <th>coef</th>     <th>std err</th>      <th>t</th>      <th>P>|t|</th>  <th>[0.025</th>    <th>0.975]</th>  \n",
       "</tr>\n",
       "<tr>\n",
       "  <th>Intercept</th>        <td>    0.7641</td> <td>    0.021</td> <td>   36.157</td> <td> 0.000</td> <td>    0.722</td> <td>    0.806</td>\n",
       "</tr>\n",
       "<tr>\n",
       "  <th>C(methods)[T.3c]</th> <td>    0.0448</td> <td>    0.042</td> <td>    1.059</td> <td> 0.291</td> <td>   -0.039</td> <td>    0.128</td>\n",
       "</tr>\n",
       "<tr>\n",
       "  <th>C(methods)[T.fc]</th> <td>    0.0576</td> <td>    0.042</td> <td>    1.362</td> <td> 0.175</td> <td>   -0.026</td> <td>    0.141</td>\n",
       "</tr>\n",
       "</table>\n",
       "<table class=\"simpletable\">\n",
       "<tr>\n",
       "  <th>Omnibus:</th>       <td>64.245</td> <th>  Durbin-Watson:     </th> <td>   0.489</td>\n",
       "</tr>\n",
       "<tr>\n",
       "  <th>Prob(Omnibus):</th> <td> 0.000</td> <th>  Jarque-Bera (JB):  </th> <td> 131.873</td>\n",
       "</tr>\n",
       "<tr>\n",
       "  <th>Skew:</th>          <td>-1.711</td> <th>  Prob(JB):          </th> <td>2.31e-29</td>\n",
       "</tr>\n",
       "<tr>\n",
       "  <th>Kurtosis:</th>      <td> 5.422</td> <th>  Cond. No.          </th> <td>    3.15</td>\n",
       "</tr>\n",
       "</table><br/><br/>Warnings:<br/>[1] Standard Errors assume that the covariance matrix of the errors is correctly specified."
      ],
      "text/plain": [
       "<class 'statsmodels.iolib.summary.Summary'>\n",
       "\"\"\"\n",
       "                            OLS Regression Results                            \n",
       "==============================================================================\n",
       "Dep. Variable:                f1score   R-squared:                       0.013\n",
       "Model:                            OLS   Adj. R-squared:                  0.002\n",
       "Method:                 Least Squares   F-statistic:                     1.203\n",
       "Date:                Fri, 01 Nov 2019   Prob (F-statistic):              0.303\n",
       "Time:                        16:28:33   Log-Likelihood:                 18.959\n",
       "No. Observations:                 180   AIC:                            -31.92\n",
       "Df Residuals:                     177   BIC:                            -22.34\n",
       "Df Model:                           2                                         \n",
       "Covariance Type:            nonrobust                                         \n",
       "====================================================================================\n",
       "                       coef    std err          t      P>|t|      [0.025      0.975]\n",
       "------------------------------------------------------------------------------------\n",
       "Intercept            0.7641      0.021     36.157      0.000       0.722       0.806\n",
       "C(methods)[T.3c]     0.0448      0.042      1.059      0.291      -0.039       0.128\n",
       "C(methods)[T.fc]     0.0576      0.042      1.362      0.175      -0.026       0.141\n",
       "==============================================================================\n",
       "Omnibus:                       64.245   Durbin-Watson:                   0.489\n",
       "Prob(Omnibus):                  0.000   Jarque-Bera (JB):              131.873\n",
       "Skew:                          -1.711   Prob(JB):                     2.31e-29\n",
       "Kurtosis:                       5.422   Cond. No.                         3.15\n",
       "==============================================================================\n",
       "\n",
       "Warnings:\n",
       "[1] Standard Errors assume that the covariance matrix of the errors is correctly specified.\n",
       "\"\"\""
      ]
     },
     "execution_count": 68,
     "metadata": {},
     "output_type": "execute_result"
    }
   ],
   "source": [
    "    # Fits the model with the interaction term\n",
    "    # This will also automatically include the main effects for each factor\n",
    "    model30 = ols('f1score ~ C(methods)', df30).fit()\n",
    "\n",
    "    # Seeing if the overall model is significant\n",
    "    print(f\"Overall model F({model30.df_model: .0f},{model30.df_resid: .0f}) = {model30.fvalue: .3f}, p = {model30.f_pvalue: .4f}\")\n",
    "    model30.summary()"
   ]
  },
  {
   "cell_type": "code",
   "execution_count": 69,
   "metadata": {},
   "outputs": [
    {
     "name": "stdout",
     "output_type": "stream",
     "text": [
      "Overall model F( 2, 177) =  1.068, p =  0.3458\n"
     ]
    },
    {
     "data": {
      "text/html": [
       "<table class=\"simpletable\">\n",
       "<caption>OLS Regression Results</caption>\n",
       "<tr>\n",
       "  <th>Dep. Variable:</th>         <td>f1score</td>     <th>  R-squared:         </th> <td>   0.020</td>\n",
       "</tr>\n",
       "<tr>\n",
       "  <th>Model:</th>                   <td>OLS</td>       <th>  Adj. R-squared:    </th> <td>   0.009</td>\n",
       "</tr>\n",
       "<tr>\n",
       "  <th>Method:</th>             <td>Least Squares</td>  <th>  F-statistic:       </th> <td>   1.828</td>\n",
       "</tr>\n",
       "<tr>\n",
       "  <th>Date:</th>             <td>Fri, 01 Nov 2019</td> <th>  Prob (F-statistic):</th>  <td> 0.164</td> \n",
       "</tr>\n",
       "<tr>\n",
       "  <th>Time:</th>                 <td>16:28:34</td>     <th>  Log-Likelihood:    </th> <td> -3.5822</td>\n",
       "</tr>\n",
       "<tr>\n",
       "  <th>No. Observations:</th>      <td>   180</td>      <th>  AIC:               </th> <td>   13.16</td>\n",
       "</tr>\n",
       "<tr>\n",
       "  <th>Df Residuals:</th>          <td>   177</td>      <th>  BIC:               </th> <td>   22.74</td>\n",
       "</tr>\n",
       "<tr>\n",
       "  <th>Df Model:</th>              <td>     2</td>      <th>                     </th>     <td> </td>   \n",
       "</tr>\n",
       "<tr>\n",
       "  <th>Covariance Type:</th>      <td>nonrobust</td>    <th>                     </th>     <td> </td>   \n",
       "</tr>\n",
       "</table>\n",
       "<table class=\"simpletable\">\n",
       "<tr>\n",
       "          <td></td>            <th>coef</th>     <th>std err</th>      <th>t</th>      <th>P>|t|</th>  <th>[0.025</th>    <th>0.975]</th>  \n",
       "</tr>\n",
       "<tr>\n",
       "  <th>Intercept</th>        <td>    0.7363</td> <td>    0.024</td> <td>   30.742</td> <td> 0.000</td> <td>    0.689</td> <td>    0.784</td>\n",
       "</tr>\n",
       "<tr>\n",
       "  <th>C(methods)[T.3c]</th> <td>    0.0717</td> <td>    0.048</td> <td>    1.496</td> <td> 0.136</td> <td>   -0.023</td> <td>    0.166</td>\n",
       "</tr>\n",
       "<tr>\n",
       "  <th>C(methods)[T.fc]</th> <td>    0.0731</td> <td>    0.048</td> <td>    1.527</td> <td> 0.129</td> <td>   -0.021</td> <td>    0.168</td>\n",
       "</tr>\n",
       "</table>\n",
       "<table class=\"simpletable\">\n",
       "<tr>\n",
       "  <th>Omnibus:</th>       <td>58.492</td> <th>  Durbin-Watson:     </th> <td>   0.394</td>\n",
       "</tr>\n",
       "<tr>\n",
       "  <th>Prob(Omnibus):</th> <td> 0.000</td> <th>  Jarque-Bera (JB):  </th> <td> 107.693</td>\n",
       "</tr>\n",
       "<tr>\n",
       "  <th>Skew:</th>          <td>-1.650</td> <th>  Prob(JB):          </th> <td>4.12e-24</td>\n",
       "</tr>\n",
       "<tr>\n",
       "  <th>Kurtosis:</th>      <td> 4.864</td> <th>  Cond. No.          </th> <td>    3.15</td>\n",
       "</tr>\n",
       "</table><br/><br/>Warnings:<br/>[1] Standard Errors assume that the covariance matrix of the errors is correctly specified."
      ],
      "text/plain": [
       "<class 'statsmodels.iolib.summary.Summary'>\n",
       "\"\"\"\n",
       "                            OLS Regression Results                            \n",
       "==============================================================================\n",
       "Dep. Variable:                f1score   R-squared:                       0.020\n",
       "Model:                            OLS   Adj. R-squared:                  0.009\n",
       "Method:                 Least Squares   F-statistic:                     1.828\n",
       "Date:                Fri, 01 Nov 2019   Prob (F-statistic):              0.164\n",
       "Time:                        16:28:34   Log-Likelihood:                -3.5822\n",
       "No. Observations:                 180   AIC:                             13.16\n",
       "Df Residuals:                     177   BIC:                             22.74\n",
       "Df Model:                           2                                         \n",
       "Covariance Type:            nonrobust                                         \n",
       "====================================================================================\n",
       "                       coef    std err          t      P>|t|      [0.025      0.975]\n",
       "------------------------------------------------------------------------------------\n",
       "Intercept            0.7363      0.024     30.742      0.000       0.689       0.784\n",
       "C(methods)[T.3c]     0.0717      0.048      1.496      0.136      -0.023       0.166\n",
       "C(methods)[T.fc]     0.0731      0.048      1.527      0.129      -0.021       0.168\n",
       "==============================================================================\n",
       "Omnibus:                       58.492   Durbin-Watson:                   0.394\n",
       "Prob(Omnibus):                  0.000   Jarque-Bera (JB):              107.693\n",
       "Skew:                          -1.650   Prob(JB):                     4.12e-24\n",
       "Kurtosis:                       4.864   Cond. No.                         3.15\n",
       "==============================================================================\n",
       "\n",
       "Warnings:\n",
       "[1] Standard Errors assume that the covariance matrix of the errors is correctly specified.\n",
       "\"\"\""
      ]
     },
     "execution_count": 69,
     "metadata": {},
     "output_type": "execute_result"
    }
   ],
   "source": [
    "    # Fits the model with the interaction term\n",
    "    # This will also automatically include the main effects for each factor\n",
    "    model60 = ols('f1score ~ C(methods)', df60).fit()\n",
    "\n",
    "    # Seeing if the overall model is significant\n",
    "    print(f\"Overall model F({model60.df_model: .0f},{model60.df_resid: .0f}) = {model60.fvalue: .3f}, p = {model60.f_pvalue: .4f}\")\n",
    "    model10.summary()"
   ]
  },
  {
   "cell_type": "code",
   "execution_count": 70,
   "metadata": {},
   "outputs": [
    {
     "name": "stdout",
     "output_type": "stream",
     "text": [
      "Multiple Comparison of Means - Tukey HSD, FWER=0.05\n",
      "===================================================\n",
      "group1 group2 meandiff p-adj   lower  upper  reject\n",
      "---------------------------------------------------\n",
      "    1c     3c   0.0717 0.2958 -0.0416 0.1849  False\n",
      "    1c     fc   0.0731 0.2814 -0.0401 0.1864  False\n",
      "    3c     fc   0.0015    0.9 -0.1372 0.1401  False\n",
      "---------------------------------------------------\n"
     ]
    }
   ],
   "source": [
    "from statsmodels.stats.multicomp import pairwise_tukeyhsd\n",
    "from statsmodels.stats.multicomp import MultiComparison\n",
    "\n",
    "mc = MultiComparison(df10['f1score'], df10['methods'])\n",
    "mc_results = mc.tukeyhsd()\n",
    "print(mc_results)"
   ]
  },
  {
   "cell_type": "code",
   "execution_count": 71,
   "metadata": {},
   "outputs": [
    {
     "name": "stdout",
     "output_type": "stream",
     "text": [
      "Multiple Comparison of Means - Tukey HSD, FWER=0.30\n",
      "===================================================\n",
      "group1 group2 meandiff p-adj   lower  upper  reject\n",
      "---------------------------------------------------\n",
      "    1c     3c   0.0448 0.5389 -0.0179 0.1074  False\n",
      "    1c     fc   0.0576 0.3643  -0.005 0.1202  False\n",
      "    3c     fc   0.0128    0.9 -0.0639 0.0895  False\n",
      "---------------------------------------------------\n"
     ]
    }
   ],
   "source": [
    "mc = MultiComparison(df30['f1score'], df30['methods'])\n",
    "mc_results = mc.tukeyhsd(model30.f_pvalue)\n",
    "print(mc_results)"
   ]
  },
  {
   "cell_type": "code",
   "execution_count": 18,
   "metadata": {},
   "outputs": [
    {
     "name": "stdout",
     "output_type": "stream",
     "text": [
      "Multiple Comparison of Means - Tukey HSD, FWER=0.35\n",
      "===================================================\n",
      "group1 group2 meandiff p-adj   lower  upper  reject\n",
      "---------------------------------------------------\n",
      "    1c     3c   0.0404 0.5826  -0.017 0.0979  False\n",
      "    1c     fc   0.0532 0.4022 -0.0042 0.1107  False\n",
      "    3c     fc   0.0128    0.9 -0.0576 0.0832  False\n",
      "---------------------------------------------------\n"
     ]
    }
   ],
   "source": [
    "mc = MultiComparison(df60['f1score'], df60['methods'])\n",
    "mc_results = mc.tukeyhsd(model60.f_pvalue)\n",
    "print(mc_results)"
   ]
  },
  {
   "cell_type": "markdown",
   "metadata": {},
   "source": [
    "# Analysis <font color=blue>without </font> combining RF, DT and SVM into 1C 10 min"
   ]
  },
  {
   "cell_type": "code",
   "execution_count": 19,
   "metadata": {},
   "outputs": [
    {
     "data": {
      "text/plain": [
       "(540, 4)"
      ]
     },
     "execution_count": 19,
     "metadata": {},
     "output_type": "execute_result"
    }
   ],
   "source": [
    "df = pd.read_excel(r\"C:\\Users\\HassanEldeeb\\Documents\\GitHub\\AutoMLBenchmarking\\logs_search_space/skout.xlsx\")\n",
    "df = df[['dataset', 'time_budget', 'methods', 'f1score']]\n",
    "df.methods = df.methods.replace(\"['adaboost', 'bernoulli_nb', 'decision_tree', 'extra_trees', 'gaussian_nb', 'gradient_boosting', 'k_nearest_neighbors', 'lda', 'liblinear_svc', 'libsvm_svc', 'multinomial_nb', 'passive_aggressive', 'qda', 'random_forest', 'sgd']\", \"fc\")\n",
    "df.methods = df.methods.replace(\"['decision_tree', 'libsvm_svc', 'random_forest']\", \"3c\")\n",
    "df.methods = df.methods.replace(\"['libsvm_svc']\", \"svc\")\n",
    "df.methods = df.methods.replace(\"['decision_tree']\", \"dt\")\n",
    "df.methods = df.methods.replace(\"['random_forest']\", \"rf\")\n",
    "fsIs_b = ['vowel', 'openml_phpJNxH0q', 'dataset_31_credit-g', 'dataset_40_sonar']\n",
    "fsIs_m = ['solar-flare_1', 'wine-quality-red', 'dataset_39_ecoli', 'synthetic_control']\n",
    "fsIl_b = ['AirlinesCodrnaAdult', 'MagicTelescope', 'electricity-normalized', 'phpmPOD5A']\n",
    "fsIl_m = ['pokerhand-normalized', 'eye_movements', 'avila-tr']\n",
    "flIs_b = ['audiology', 'arrhythmia', 'AP_Breast_Lung', 'AP_Omentum_Ovary']\n",
    "flIs_m = ['Amazon', 'umistfacescropped', 'phpGUrE90']\n",
    "flIl_b = ['gina_agnostic', 'hiva_agnostic', 'phpZrCzJR', 'phprAeXmK']\n",
    "flIl_m = ['KDDCup99', 'connect-4', 'dataset_60_waveform-5000', 'dataset_186_satimage']\n",
    "df_binary = df[df.dataset.isin(fsIs_b) | df.dataset.isin(fsIl_b) | df.dataset.isin(flIs_b) | df.dataset.isin(flIl_b)]\n",
    "df = df_binary\n",
    "df10 = df[df.time_budget==10]\n",
    "df30 = df[df.time_budget==30]\n",
    "df60 = df[df.time_budget==60]\n",
    "df.shape"
   ]
  },
  {
   "cell_type": "code",
   "execution_count": 20,
   "metadata": {},
   "outputs": [
    {
     "name": "stdout",
     "output_type": "stream",
     "text": [
      "\n",
      "\n"
     ]
    },
    {
     "data": {
      "text/html": [
       "<div>\n",
       "<style scoped>\n",
       "    .dataframe tbody tr th:only-of-type {\n",
       "        vertical-align: middle;\n",
       "    }\n",
       "\n",
       "    .dataframe tbody tr th {\n",
       "        vertical-align: top;\n",
       "    }\n",
       "\n",
       "    .dataframe thead th {\n",
       "        text-align: right;\n",
       "    }\n",
       "</style>\n",
       "<table border=\"1\" class=\"dataframe\">\n",
       "  <thead>\n",
       "    <tr style=\"text-align: right;\">\n",
       "      <th></th>\n",
       "      <th>Variable</th>\n",
       "      <th>N</th>\n",
       "      <th>Mean</th>\n",
       "      <th>SD</th>\n",
       "      <th>SE</th>\n",
       "      <th>95% Conf.</th>\n",
       "      <th>Interval</th>\n",
       "    </tr>\n",
       "  </thead>\n",
       "  <tbody>\n",
       "    <tr>\n",
       "      <td>0</td>\n",
       "      <td>f1score</td>\n",
       "      <td>180.0</td>\n",
       "      <td>0.765301</td>\n",
       "      <td>0.250066</td>\n",
       "      <td>0.018639</td>\n",
       "      <td>0.728521</td>\n",
       "      <td>0.802081</td>\n",
       "    </tr>\n",
       "  </tbody>\n",
       "</table>\n",
       "</div>"
      ],
      "text/plain": [
       "  Variable      N      Mean        SD        SE  95% Conf.  Interval\n",
       "0  f1score  180.0  0.765301  0.250066  0.018639   0.728521  0.802081"
      ]
     },
     "execution_count": 20,
     "metadata": {},
     "output_type": "execute_result"
    }
   ],
   "source": [
    "rp.summary_cont(df10['f1score'])"
   ]
  },
  {
   "cell_type": "code",
   "execution_count": 21,
   "metadata": {},
   "outputs": [
    {
     "name": "stdout",
     "output_type": "stream",
     "text": [
      "\n",
      "\n"
     ]
    },
    {
     "data": {
      "text/html": [
       "<div>\n",
       "<style scoped>\n",
       "    .dataframe tbody tr th:only-of-type {\n",
       "        vertical-align: middle;\n",
       "    }\n",
       "\n",
       "    .dataframe tbody tr th {\n",
       "        vertical-align: top;\n",
       "    }\n",
       "\n",
       "    .dataframe thead th {\n",
       "        text-align: right;\n",
       "    }\n",
       "</style>\n",
       "<table border=\"1\" class=\"dataframe\">\n",
       "  <thead>\n",
       "    <tr style=\"text-align: right;\">\n",
       "      <th></th>\n",
       "      <th>Variable</th>\n",
       "      <th>N</th>\n",
       "      <th>Mean</th>\n",
       "      <th>SD</th>\n",
       "      <th>SE</th>\n",
       "      <th>95% Conf.</th>\n",
       "      <th>Interval</th>\n",
       "    </tr>\n",
       "  </thead>\n",
       "  <tbody>\n",
       "    <tr>\n",
       "      <td>0</td>\n",
       "      <td>f1score</td>\n",
       "      <td>180.0</td>\n",
       "      <td>0.784569</td>\n",
       "      <td>0.219867</td>\n",
       "      <td>0.016388</td>\n",
       "      <td>0.752231</td>\n",
       "      <td>0.816908</td>\n",
       "    </tr>\n",
       "  </tbody>\n",
       "</table>\n",
       "</div>"
      ],
      "text/plain": [
       "  Variable      N      Mean        SD        SE  95% Conf.  Interval\n",
       "0  f1score  180.0  0.784569  0.219867  0.016388   0.752231  0.816908"
      ]
     },
     "execution_count": 21,
     "metadata": {},
     "output_type": "execute_result"
    }
   ],
   "source": [
    "rp.summary_cont(df30['f1score'])"
   ]
  },
  {
   "cell_type": "code",
   "execution_count": 22,
   "metadata": {},
   "outputs": [
    {
     "name": "stdout",
     "output_type": "stream",
     "text": [
      "\n",
      "\n"
     ]
    },
    {
     "data": {
      "text/html": [
       "<div>\n",
       "<style scoped>\n",
       "    .dataframe tbody tr th:only-of-type {\n",
       "        vertical-align: middle;\n",
       "    }\n",
       "\n",
       "    .dataframe tbody tr th {\n",
       "        vertical-align: top;\n",
       "    }\n",
       "\n",
       "    .dataframe thead th {\n",
       "        text-align: right;\n",
       "    }\n",
       "</style>\n",
       "<table border=\"1\" class=\"dataframe\">\n",
       "  <thead>\n",
       "    <tr style=\"text-align: right;\">\n",
       "      <th></th>\n",
       "      <th>Variable</th>\n",
       "      <th>N</th>\n",
       "      <th>Mean</th>\n",
       "      <th>SD</th>\n",
       "      <th>SE</th>\n",
       "      <th>95% Conf.</th>\n",
       "      <th>Interval</th>\n",
       "    </tr>\n",
       "  </thead>\n",
       "  <tbody>\n",
       "    <tr>\n",
       "      <td>0</td>\n",
       "      <td>f1score</td>\n",
       "      <td>180.0</td>\n",
       "      <td>0.774665</td>\n",
       "      <td>0.213975</td>\n",
       "      <td>0.015949</td>\n",
       "      <td>0.743194</td>\n",
       "      <td>0.806137</td>\n",
       "    </tr>\n",
       "  </tbody>\n",
       "</table>\n",
       "</div>"
      ],
      "text/plain": [
       "  Variable      N      Mean        SD        SE  95% Conf.  Interval\n",
       "0  f1score  180.0  0.774665  0.213975  0.015949   0.743194  0.806137"
      ]
     },
     "execution_count": 22,
     "metadata": {},
     "output_type": "execute_result"
    }
   ],
   "source": [
    "rp.summary_cont(df60['f1score'])"
   ]
  },
  {
   "cell_type": "code",
   "execution_count": 23,
   "metadata": {},
   "outputs": [
    {
     "name": "stderr",
     "output_type": "stream",
     "text": [
      "C:\\Users\\HassanEldeeb\\Anaconda3\\lib\\site-packages\\scipy\\stats\\stats.py:3225: RuntimeWarning: invalid value encountered in double_scalars\n",
      "  ssbn += _square_of_sums(a - offset) / len(a)\n"
     ]
    },
    {
     "data": {
      "text/plain": [
       "F_onewayResult(statistic=nan, pvalue=nan)"
      ]
     },
     "execution_count": 23,
     "metadata": {},
     "output_type": "execute_result"
    }
   ],
   "source": [
    "stats.f_oneway(df10['f1score'][df10['methods'] == '1c'], \n",
    "             df10['f1score'][df10['methods'] == '3c'],\n",
    "             df10['f1score'][df10['methods'] == 'fc'])"
   ]
  },
  {
   "cell_type": "code",
   "execution_count": 24,
   "metadata": {},
   "outputs": [
    {
     "data": {
      "text/plain": [
       "F_onewayResult(statistic=nan, pvalue=nan)"
      ]
     },
     "execution_count": 24,
     "metadata": {},
     "output_type": "execute_result"
    }
   ],
   "source": [
    "stats.f_oneway(df30['f1score'][df30['methods'] == '1c'], \n",
    "             df30['f1score'][df30['methods'] == '3c'],\n",
    "             df30['f1score'][df30['methods'] == 'fc'])"
   ]
  },
  {
   "cell_type": "code",
   "execution_count": 25,
   "metadata": {},
   "outputs": [
    {
     "data": {
      "text/plain": [
       "F_onewayResult(statistic=nan, pvalue=nan)"
      ]
     },
     "execution_count": 25,
     "metadata": {},
     "output_type": "execute_result"
    }
   ],
   "source": [
    "stats.f_oneway(df60['f1score'][df60['methods'] == '1c'], \n",
    "             df60['f1score'][df60['methods'] == '3c'],\n",
    "             df60['f1score'][df60['methods'] == 'fc'])"
   ]
  },
  {
   "cell_type": "code",
   "execution_count": 26,
   "metadata": {},
   "outputs": [
    {
     "name": "stdout",
     "output_type": "stream",
     "text": [
      "Overall model F( 4, 175) =  1.624, p =  0.1703\n"
     ]
    },
    {
     "data": {
      "text/html": [
       "<table class=\"simpletable\">\n",
       "<caption>OLS Regression Results</caption>\n",
       "<tr>\n",
       "  <th>Dep. Variable:</th>         <td>f1score</td>     <th>  R-squared:         </th> <td>   0.036</td>\n",
       "</tr>\n",
       "<tr>\n",
       "  <th>Model:</th>                   <td>OLS</td>       <th>  Adj. R-squared:    </th> <td>   0.014</td>\n",
       "</tr>\n",
       "<tr>\n",
       "  <th>Method:</th>             <td>Least Squares</td>  <th>  F-statistic:       </th> <td>   1.624</td>\n",
       "</tr>\n",
       "<tr>\n",
       "  <th>Date:</th>             <td>Fri, 01 Nov 2019</td> <th>  Prob (F-statistic):</th>  <td> 0.170</td> \n",
       "</tr>\n",
       "<tr>\n",
       "  <th>Time:</th>                 <td>10:28:26</td>     <th>  Log-Likelihood:    </th> <td> -2.1416</td>\n",
       "</tr>\n",
       "<tr>\n",
       "  <th>No. Observations:</th>      <td>   180</td>      <th>  AIC:               </th> <td>   14.28</td>\n",
       "</tr>\n",
       "<tr>\n",
       "  <th>Df Residuals:</th>          <td>   175</td>      <th>  BIC:               </th> <td>   30.25</td>\n",
       "</tr>\n",
       "<tr>\n",
       "  <th>Df Model:</th>              <td>     4</td>      <th>                     </th>     <td> </td>   \n",
       "</tr>\n",
       "<tr>\n",
       "  <th>Covariance Type:</th>      <td>nonrobust</td>    <th>                     </th>     <td> </td>   \n",
       "</tr>\n",
       "</table>\n",
       "<table class=\"simpletable\">\n",
       "<tr>\n",
       "          <td></td>             <th>coef</th>     <th>std err</th>      <th>t</th>      <th>P>|t|</th>  <th>[0.025</th>    <th>0.975]</th>  \n",
       "</tr>\n",
       "<tr>\n",
       "  <th>Intercept</th>         <td>    0.8080</td> <td>    0.041</td> <td>   19.522</td> <td> 0.000</td> <td>    0.726</td> <td>    0.890</td>\n",
       "</tr>\n",
       "<tr>\n",
       "  <th>C(methods)[T.dt]</th>  <td>   -0.0432</td> <td>    0.059</td> <td>   -0.738</td> <td> 0.461</td> <td>   -0.159</td> <td>    0.072</td>\n",
       "</tr>\n",
       "<tr>\n",
       "  <th>C(methods)[T.fc]</th>  <td>    0.0015</td> <td>    0.059</td> <td>    0.025</td> <td> 0.980</td> <td>   -0.114</td> <td>    0.117</td>\n",
       "</tr>\n",
       "<tr>\n",
       "  <th>C(methods)[T.rf]</th>  <td>   -0.0433</td> <td>    0.059</td> <td>   -0.740</td> <td> 0.460</td> <td>   -0.159</td> <td>    0.072</td>\n",
       "</tr>\n",
       "<tr>\n",
       "  <th>C(methods)[T.svc]</th> <td>   -0.1285</td> <td>    0.059</td> <td>   -2.195</td> <td> 0.030</td> <td>   -0.244</td> <td>   -0.013</td>\n",
       "</tr>\n",
       "</table>\n",
       "<table class=\"simpletable\">\n",
       "<tr>\n",
       "  <th>Omnibus:</th>       <td>52.081</td> <th>  Durbin-Watson:     </th> <td>   0.377</td>\n",
       "</tr>\n",
       "<tr>\n",
       "  <th>Prob(Omnibus):</th> <td> 0.000</td> <th>  Jarque-Bera (JB):  </th> <td>  88.277</td>\n",
       "</tr>\n",
       "<tr>\n",
       "  <th>Skew:</th>          <td>-1.533</td> <th>  Prob(JB):          </th> <td>6.77e-20</td>\n",
       "</tr>\n",
       "<tr>\n",
       "  <th>Kurtosis:</th>      <td> 4.541</td> <th>  Cond. No.          </th> <td>    5.83</td>\n",
       "</tr>\n",
       "</table><br/><br/>Warnings:<br/>[1] Standard Errors assume that the covariance matrix of the errors is correctly specified."
      ],
      "text/plain": [
       "<class 'statsmodels.iolib.summary.Summary'>\n",
       "\"\"\"\n",
       "                            OLS Regression Results                            \n",
       "==============================================================================\n",
       "Dep. Variable:                f1score   R-squared:                       0.036\n",
       "Model:                            OLS   Adj. R-squared:                  0.014\n",
       "Method:                 Least Squares   F-statistic:                     1.624\n",
       "Date:                Fri, 01 Nov 2019   Prob (F-statistic):              0.170\n",
       "Time:                        10:28:26   Log-Likelihood:                -2.1416\n",
       "No. Observations:                 180   AIC:                             14.28\n",
       "Df Residuals:                     175   BIC:                             30.25\n",
       "Df Model:                           4                                         \n",
       "Covariance Type:            nonrobust                                         \n",
       "=====================================================================================\n",
       "                        coef    std err          t      P>|t|      [0.025      0.975]\n",
       "-------------------------------------------------------------------------------------\n",
       "Intercept             0.8080      0.041     19.522      0.000       0.726       0.890\n",
       "C(methods)[T.dt]     -0.0432      0.059     -0.738      0.461      -0.159       0.072\n",
       "C(methods)[T.fc]      0.0015      0.059      0.025      0.980      -0.114       0.117\n",
       "C(methods)[T.rf]     -0.0433      0.059     -0.740      0.460      -0.159       0.072\n",
       "C(methods)[T.svc]    -0.1285      0.059     -2.195      0.030      -0.244      -0.013\n",
       "==============================================================================\n",
       "Omnibus:                       52.081   Durbin-Watson:                   0.377\n",
       "Prob(Omnibus):                  0.000   Jarque-Bera (JB):               88.277\n",
       "Skew:                          -1.533   Prob(JB):                     6.77e-20\n",
       "Kurtosis:                       4.541   Cond. No.                         5.83\n",
       "==============================================================================\n",
       "\n",
       "Warnings:\n",
       "[1] Standard Errors assume that the covariance matrix of the errors is correctly specified.\n",
       "\"\"\""
      ]
     },
     "execution_count": 26,
     "metadata": {},
     "output_type": "execute_result"
    }
   ],
   "source": [
    "    # Fits the model with the interaction term\n",
    "    # This will also automatically include the main effects for each factor\n",
    "    model10 = ols('f1score ~ C(methods)', df10).fit()\n",
    "\n",
    "    # Seeing if the overall model is significant\n",
    "    print(f\"Overall model F({model10.df_model: .0f},{model10.df_resid: .0f}) = {model10.fvalue: .3f}, p = {model10.f_pvalue: .4f}\")\n",
    "    model10.summary()"
   ]
  },
  {
   "cell_type": "code",
   "execution_count": 27,
   "metadata": {},
   "outputs": [
    {
     "name": "stdout",
     "output_type": "stream",
     "text": [
      "Overall model F( 4, 175) =  1.969, p =  0.1013\n"
     ]
    },
    {
     "data": {
      "text/html": [
       "<table class=\"simpletable\">\n",
       "<caption>OLS Regression Results</caption>\n",
       "<tr>\n",
       "  <th>Dep. Variable:</th>         <td>f1score</td>     <th>  R-squared:         </th> <td>   0.043</td>\n",
       "</tr>\n",
       "<tr>\n",
       "  <th>Model:</th>                   <td>OLS</td>       <th>  Adj. R-squared:    </th> <td>   0.021</td>\n",
       "</tr>\n",
       "<tr>\n",
       "  <th>Method:</th>             <td>Least Squares</td>  <th>  F-statistic:       </th> <td>   1.969</td>\n",
       "</tr>\n",
       "<tr>\n",
       "  <th>Date:</th>             <td>Fri, 01 Nov 2019</td> <th>  Prob (F-statistic):</th>  <td> 0.101</td> \n",
       "</tr>\n",
       "<tr>\n",
       "  <th>Time:</th>                 <td>10:28:27</td>     <th>  Log-Likelihood:    </th> <td>  21.706</td>\n",
       "</tr>\n",
       "<tr>\n",
       "  <th>No. Observations:</th>      <td>   180</td>      <th>  AIC:               </th> <td>  -33.41</td>\n",
       "</tr>\n",
       "<tr>\n",
       "  <th>Df Residuals:</th>          <td>   175</td>      <th>  BIC:               </th> <td>  -17.45</td>\n",
       "</tr>\n",
       "<tr>\n",
       "  <th>Df Model:</th>              <td>     4</td>      <th>                     </th>     <td> </td>   \n",
       "</tr>\n",
       "<tr>\n",
       "  <th>Covariance Type:</th>      <td>nonrobust</td>    <th>                     </th>     <td> </td>   \n",
       "</tr>\n",
       "</table>\n",
       "<table class=\"simpletable\">\n",
       "<tr>\n",
       "          <td></td>             <th>coef</th>     <th>std err</th>      <th>t</th>      <th>P>|t|</th>  <th>[0.025</th>    <th>0.975]</th>  \n",
       "</tr>\n",
       "<tr>\n",
       "  <th>Intercept</th>         <td>    0.8089</td> <td>    0.036</td> <td>   22.311</td> <td> 0.000</td> <td>    0.737</td> <td>    0.880</td>\n",
       "</tr>\n",
       "<tr>\n",
       "  <th>C(methods)[T.dt]</th>  <td>   -0.0297</td> <td>    0.051</td> <td>   -0.580</td> <td> 0.562</td> <td>   -0.131</td> <td>    0.071</td>\n",
       "</tr>\n",
       "<tr>\n",
       "  <th>C(methods)[T.fc]</th>  <td>    0.0128</td> <td>    0.051</td> <td>    0.250</td> <td> 0.803</td> <td>   -0.088</td> <td>    0.114</td>\n",
       "</tr>\n",
       "<tr>\n",
       "  <th>C(methods)[T.rf]</th>  <td>    0.0060</td> <td>    0.051</td> <td>    0.117</td> <td> 0.907</td> <td>   -0.095</td> <td>    0.107</td>\n",
       "</tr>\n",
       "<tr>\n",
       "  <th>C(methods)[T.svc]</th> <td>   -0.1105</td> <td>    0.051</td> <td>   -2.156</td> <td> 0.032</td> <td>   -0.212</td> <td>   -0.009</td>\n",
       "</tr>\n",
       "</table>\n",
       "<table class=\"simpletable\">\n",
       "<tr>\n",
       "  <th>Omnibus:</th>       <td>51.642</td> <th>  Durbin-Watson:     </th> <td>   0.437</td>\n",
       "</tr>\n",
       "<tr>\n",
       "  <th>Prob(Omnibus):</th> <td> 0.000</td> <th>  Jarque-Bera (JB):  </th> <td>  88.342</td>\n",
       "</tr>\n",
       "<tr>\n",
       "  <th>Skew:</th>          <td>-1.495</td> <th>  Prob(JB):          </th> <td>6.56e-20</td>\n",
       "</tr>\n",
       "<tr>\n",
       "  <th>Kurtosis:</th>      <td> 4.686</td> <th>  Cond. No.          </th> <td>    5.83</td>\n",
       "</tr>\n",
       "</table><br/><br/>Warnings:<br/>[1] Standard Errors assume that the covariance matrix of the errors is correctly specified."
      ],
      "text/plain": [
       "<class 'statsmodels.iolib.summary.Summary'>\n",
       "\"\"\"\n",
       "                            OLS Regression Results                            \n",
       "==============================================================================\n",
       "Dep. Variable:                f1score   R-squared:                       0.043\n",
       "Model:                            OLS   Adj. R-squared:                  0.021\n",
       "Method:                 Least Squares   F-statistic:                     1.969\n",
       "Date:                Fri, 01 Nov 2019   Prob (F-statistic):              0.101\n",
       "Time:                        10:28:27   Log-Likelihood:                 21.706\n",
       "No. Observations:                 180   AIC:                            -33.41\n",
       "Df Residuals:                     175   BIC:                            -17.45\n",
       "Df Model:                           4                                         \n",
       "Covariance Type:            nonrobust                                         \n",
       "=====================================================================================\n",
       "                        coef    std err          t      P>|t|      [0.025      0.975]\n",
       "-------------------------------------------------------------------------------------\n",
       "Intercept             0.8089      0.036     22.311      0.000       0.737       0.880\n",
       "C(methods)[T.dt]     -0.0297      0.051     -0.580      0.562      -0.131       0.071\n",
       "C(methods)[T.fc]      0.0128      0.051      0.250      0.803      -0.088       0.114\n",
       "C(methods)[T.rf]      0.0060      0.051      0.117      0.907      -0.095       0.107\n",
       "C(methods)[T.svc]    -0.1105      0.051     -2.156      0.032      -0.212      -0.009\n",
       "==============================================================================\n",
       "Omnibus:                       51.642   Durbin-Watson:                   0.437\n",
       "Prob(Omnibus):                  0.000   Jarque-Bera (JB):               88.342\n",
       "Skew:                          -1.495   Prob(JB):                     6.56e-20\n",
       "Kurtosis:                       4.686   Cond. No.                         5.83\n",
       "==============================================================================\n",
       "\n",
       "Warnings:\n",
       "[1] Standard Errors assume that the covariance matrix of the errors is correctly specified.\n",
       "\"\"\""
      ]
     },
     "execution_count": 27,
     "metadata": {},
     "output_type": "execute_result"
    }
   ],
   "source": [
    "    # Fits the model with the interaction term\n",
    "    # This will also automatically include the main effects for each factor\n",
    "    model30 = ols('f1score ~ C(methods)', df30).fit()\n",
    "\n",
    "    # Seeing if the overall model is significant\n",
    "    print(f\"Overall model F({model30.df_model: .0f},{model30.df_resid: .0f}) = {model30.fvalue: .3f}, p = {model30.f_pvalue: .4f}\")\n",
    "    model30.summary()"
   ]
  },
  {
   "cell_type": "code",
   "execution_count": 28,
   "metadata": {},
   "outputs": [
    {
     "name": "stdout",
     "output_type": "stream",
     "text": [
      "Overall model F( 4, 175) =  1.650, p =  0.1639\n"
     ]
    },
    {
     "data": {
      "text/html": [
       "<table class=\"simpletable\">\n",
       "<caption>OLS Regression Results</caption>\n",
       "<tr>\n",
       "  <th>Dep. Variable:</th>         <td>f1score</td>     <th>  R-squared:         </th> <td>   0.036</td>\n",
       "</tr>\n",
       "<tr>\n",
       "  <th>Model:</th>                   <td>OLS</td>       <th>  Adj. R-squared:    </th> <td>   0.014</td>\n",
       "</tr>\n",
       "<tr>\n",
       "  <th>Method:</th>             <td>Least Squares</td>  <th>  F-statistic:       </th> <td>   1.624</td>\n",
       "</tr>\n",
       "<tr>\n",
       "  <th>Date:</th>             <td>Fri, 01 Nov 2019</td> <th>  Prob (F-statistic):</th>  <td> 0.170</td> \n",
       "</tr>\n",
       "<tr>\n",
       "  <th>Time:</th>                 <td>10:28:28</td>     <th>  Log-Likelihood:    </th> <td> -2.1416</td>\n",
       "</tr>\n",
       "<tr>\n",
       "  <th>No. Observations:</th>      <td>   180</td>      <th>  AIC:               </th> <td>   14.28</td>\n",
       "</tr>\n",
       "<tr>\n",
       "  <th>Df Residuals:</th>          <td>   175</td>      <th>  BIC:               </th> <td>   30.25</td>\n",
       "</tr>\n",
       "<tr>\n",
       "  <th>Df Model:</th>              <td>     4</td>      <th>                     </th>     <td> </td>   \n",
       "</tr>\n",
       "<tr>\n",
       "  <th>Covariance Type:</th>      <td>nonrobust</td>    <th>                     </th>     <td> </td>   \n",
       "</tr>\n",
       "</table>\n",
       "<table class=\"simpletable\">\n",
       "<tr>\n",
       "          <td></td>             <th>coef</th>     <th>std err</th>      <th>t</th>      <th>P>|t|</th>  <th>[0.025</th>    <th>0.975]</th>  \n",
       "</tr>\n",
       "<tr>\n",
       "  <th>Intercept</th>         <td>    0.8080</td> <td>    0.041</td> <td>   19.522</td> <td> 0.000</td> <td>    0.726</td> <td>    0.890</td>\n",
       "</tr>\n",
       "<tr>\n",
       "  <th>C(methods)[T.dt]</th>  <td>   -0.0432</td> <td>    0.059</td> <td>   -0.738</td> <td> 0.461</td> <td>   -0.159</td> <td>    0.072</td>\n",
       "</tr>\n",
       "<tr>\n",
       "  <th>C(methods)[T.fc]</th>  <td>    0.0015</td> <td>    0.059</td> <td>    0.025</td> <td> 0.980</td> <td>   -0.114</td> <td>    0.117</td>\n",
       "</tr>\n",
       "<tr>\n",
       "  <th>C(methods)[T.rf]</th>  <td>   -0.0433</td> <td>    0.059</td> <td>   -0.740</td> <td> 0.460</td> <td>   -0.159</td> <td>    0.072</td>\n",
       "</tr>\n",
       "<tr>\n",
       "  <th>C(methods)[T.svc]</th> <td>   -0.1285</td> <td>    0.059</td> <td>   -2.195</td> <td> 0.030</td> <td>   -0.244</td> <td>   -0.013</td>\n",
       "</tr>\n",
       "</table>\n",
       "<table class=\"simpletable\">\n",
       "<tr>\n",
       "  <th>Omnibus:</th>       <td>52.081</td> <th>  Durbin-Watson:     </th> <td>   0.377</td>\n",
       "</tr>\n",
       "<tr>\n",
       "  <th>Prob(Omnibus):</th> <td> 0.000</td> <th>  Jarque-Bera (JB):  </th> <td>  88.277</td>\n",
       "</tr>\n",
       "<tr>\n",
       "  <th>Skew:</th>          <td>-1.533</td> <th>  Prob(JB):          </th> <td>6.77e-20</td>\n",
       "</tr>\n",
       "<tr>\n",
       "  <th>Kurtosis:</th>      <td> 4.541</td> <th>  Cond. No.          </th> <td>    5.83</td>\n",
       "</tr>\n",
       "</table><br/><br/>Warnings:<br/>[1] Standard Errors assume that the covariance matrix of the errors is correctly specified."
      ],
      "text/plain": [
       "<class 'statsmodels.iolib.summary.Summary'>\n",
       "\"\"\"\n",
       "                            OLS Regression Results                            \n",
       "==============================================================================\n",
       "Dep. Variable:                f1score   R-squared:                       0.036\n",
       "Model:                            OLS   Adj. R-squared:                  0.014\n",
       "Method:                 Least Squares   F-statistic:                     1.624\n",
       "Date:                Fri, 01 Nov 2019   Prob (F-statistic):              0.170\n",
       "Time:                        10:28:28   Log-Likelihood:                -2.1416\n",
       "No. Observations:                 180   AIC:                             14.28\n",
       "Df Residuals:                     175   BIC:                             30.25\n",
       "Df Model:                           4                                         \n",
       "Covariance Type:            nonrobust                                         \n",
       "=====================================================================================\n",
       "                        coef    std err          t      P>|t|      [0.025      0.975]\n",
       "-------------------------------------------------------------------------------------\n",
       "Intercept             0.8080      0.041     19.522      0.000       0.726       0.890\n",
       "C(methods)[T.dt]     -0.0432      0.059     -0.738      0.461      -0.159       0.072\n",
       "C(methods)[T.fc]      0.0015      0.059      0.025      0.980      -0.114       0.117\n",
       "C(methods)[T.rf]     -0.0433      0.059     -0.740      0.460      -0.159       0.072\n",
       "C(methods)[T.svc]    -0.1285      0.059     -2.195      0.030      -0.244      -0.013\n",
       "==============================================================================\n",
       "Omnibus:                       52.081   Durbin-Watson:                   0.377\n",
       "Prob(Omnibus):                  0.000   Jarque-Bera (JB):               88.277\n",
       "Skew:                          -1.533   Prob(JB):                     6.77e-20\n",
       "Kurtosis:                       4.541   Cond. No.                         5.83\n",
       "==============================================================================\n",
       "\n",
       "Warnings:\n",
       "[1] Standard Errors assume that the covariance matrix of the errors is correctly specified.\n",
       "\"\"\""
      ]
     },
     "execution_count": 28,
     "metadata": {},
     "output_type": "execute_result"
    }
   ],
   "source": [
    "    # Fits the model with the interaction term\n",
    "    # This will also automatically include the main effects for each factor\n",
    "    model60 = ols('f1score ~ C(methods)', df60).fit()\n",
    "\n",
    "    # Seeing if the overall model is significant\n",
    "    print(f\"Overall model F({model60.df_model: .0f},{model60.df_resid: .0f}) = {model60.fvalue: .3f}, p = {model60.f_pvalue: .4f}\")\n",
    "    model10.summary()"
   ]
  },
  {
   "cell_type": "code",
   "execution_count": 29,
   "metadata": {},
   "outputs": [
    {
     "name": "stdout",
     "output_type": "stream",
     "text": [
      "Multiple Comparison of Means - Tukey HSD, FWER=0.05\n",
      "===================================================\n",
      "group1 group2 meandiff p-adj   lower  upper  reject\n",
      "---------------------------------------------------\n",
      "    3c     dt  -0.0432    0.9 -0.2046 0.1181  False\n",
      "    3c     fc   0.0015    0.9 -0.1599 0.1628  False\n",
      "    3c     rf  -0.0433    0.9 -0.2047  0.118  False\n",
      "    3c    svc  -0.1285 0.1865 -0.2898 0.0329  False\n",
      "    dt     fc   0.0447    0.9 -0.1167  0.206  False\n",
      "    dt     rf  -0.0001    0.9 -0.1615 0.1612  False\n",
      "    dt    svc  -0.0853   0.58 -0.2466 0.0761  False\n",
      "    fc     rf  -0.0448    0.9 -0.2062 0.1165  False\n",
      "    fc    svc  -0.1299 0.1772 -0.2913 0.0314  False\n",
      "    rf    svc  -0.0851 0.5813 -0.2465 0.0762  False\n",
      "---------------------------------------------------\n"
     ]
    }
   ],
   "source": [
    "from statsmodels.stats.multicomp import pairwise_tukeyhsd\n",
    "from statsmodels.stats.multicomp import MultiComparison\n",
    "\n",
    "mc = MultiComparison(df10['f1score'], df10['methods'])\n",
    "mc_results = mc.tukeyhsd()\n",
    "print(mc_results)"
   ]
  },
  {
   "cell_type": "code",
   "execution_count": 30,
   "metadata": {},
   "outputs": [
    {
     "name": "stdout",
     "output_type": "stream",
     "text": [
      "Multiple Comparison of Means - Tukey HSD, FWER=0.10\n",
      "===================================================\n",
      "group1 group2 meandiff p-adj   lower  upper  reject\n",
      "---------------------------------------------------\n",
      "    3c     dt  -0.0297    0.9 -0.1566 0.0971  False\n",
      "    3c     fc   0.0128    0.9  -0.114 0.1397  False\n",
      "    3c     rf    0.006    0.9 -0.1208 0.1329  False\n",
      "    3c    svc  -0.1105 0.2016 -0.2374 0.0163  False\n",
      "    dt     fc   0.0426    0.9 -0.0843 0.1694  False\n",
      "    dt     rf   0.0358    0.9 -0.0911 0.1626  False\n",
      "    dt    svc  -0.0808 0.5128 -0.2076 0.0461  False\n",
      "    fc     rf  -0.0068    0.9 -0.1336 0.1201  False\n",
      "    fc    svc  -0.1233 0.1189 -0.2502 0.0035  False\n",
      "    rf    svc  -0.1165 0.1587 -0.2434 0.0103  False\n",
      "---------------------------------------------------\n"
     ]
    }
   ],
   "source": [
    "mc = MultiComparison(df30['f1score'], df30['methods'])\n",
    "mc_results = mc.tukeyhsd(model30.f_pvalue)\n",
    "print(mc_results)"
   ]
  },
  {
   "cell_type": "code",
   "execution_count": 31,
   "metadata": {},
   "outputs": [
    {
     "name": "stdout",
     "output_type": "stream",
     "text": [
      "Multiple Comparison of Means - Tukey HSD, FWER=0.16\n",
      "===================================================\n",
      "group1 group2 meandiff p-adj   lower  upper  reject\n",
      "---------------------------------------------------\n",
      "    3c     dt  -0.0268    0.9 -0.1399 0.0862  False\n",
      "    3c     fc   0.0128    0.9 -0.1003 0.1259  False\n",
      "    3c     rf   0.0041    0.9 -0.1089 0.1172  False\n",
      "    3c    svc  -0.0986 0.2853 -0.2117 0.0144  False\n",
      "    dt     fc   0.0396    0.9 -0.0734 0.1527  False\n",
      "    dt     rf    0.031    0.9 -0.0821  0.144  False\n",
      "    dt    svc  -0.0718 0.5929 -0.1848 0.0413  False\n",
      "    fc     rf  -0.0087    0.9 -0.1217 0.1044  False\n",
      "    fc    svc  -0.1114 0.1751 -0.2245 0.0016  False\n",
      "    rf    svc  -0.1028 0.2458 -0.2158 0.0103  False\n",
      "---------------------------------------------------\n"
     ]
    }
   ],
   "source": [
    "mc = MultiComparison(df60['f1score'], df60['methods'])\n",
    "mc_results = mc.tukeyhsd(model60.f_pvalue)\n",
    "print(mc_results)"
   ]
  },
  {
   "cell_type": "code",
   "execution_count": null,
   "metadata": {},
   "outputs": [],
   "source": []
  }
 ],
 "metadata": {
  "kernelspec": {
   "display_name": "Python 3",
   "language": "python",
   "name": "python3"
  },
  "language_info": {
   "codemirror_mode": {
    "name": "ipython",
    "version": 3
   },
   "file_extension": ".py",
   "mimetype": "text/x-python",
   "name": "python",
   "nbconvert_exporter": "python",
   "pygments_lexer": "ipython3",
   "version": "3.7.4"
  }
 },
 "nbformat": 4,
 "nbformat_minor": 2
}
