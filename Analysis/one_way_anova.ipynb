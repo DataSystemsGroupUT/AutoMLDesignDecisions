{
 "cells": [
  {
   "cell_type": "code",
   "execution_count": 1,
   "metadata": {},
   "outputs": [],
   "source": [
    "import pandas as pd\n",
    "import scipy.stats as stats\n",
    "import researchpy as rp\n",
    "import statsmodels.api as sm\n",
    "from statsmodels.formula.api import ols\n",
    "    \n",
    "import matplotlib.pyplot as plt\n"
   ]
  },
  {
   "cell_type": "markdown",
   "metadata": {},
   "source": [
    "# Analysis <font color=blue>after </font> combining RF, DT and SVM into 1C 10 min"
   ]
  },
  {
   "cell_type": "code",
   "execution_count": 2,
   "metadata": {},
   "outputs": [
    {
     "data": {
      "text/plain": [
       "(1350, 4)"
      ]
     },
     "execution_count": 2,
     "metadata": {},
     "output_type": "execute_result"
    }
   ],
   "source": [
    "df = pd.read_excel(r\"C:\\Users\\HassanEldeeb\\Documents\\GitHub\\AutoMLBenchmarking\\logs_search_space/skout.xlsx\")\n",
    "df = df[['dataset', 'time_budget', 'methods', 'f1score']]\n",
    "df.methods = df.methods.replace(\"['adaboost', 'bernoulli_nb', 'decision_tree', 'extra_trees', 'gaussian_nb', 'gradient_boosting', 'k_nearest_neighbors', 'lda', 'liblinear_svc', 'libsvm_svc', 'multinomial_nb', 'passive_aggressive', 'qda', 'random_forest', 'sgd']\", \"fc\")\n",
    "df.methods = df.methods.replace(\"['decision_tree', 'libsvm_svc', 'random_forest']\", \"3c\")\n",
    "df.methods = df.methods.replace(\"['libsvm_svc']\", \"1c\")\n",
    "df.methods = df.methods.replace(\"['decision_tree']\", \"1c\")\n",
    "df.methods = df.methods.replace(\"['random_forest']\", \"1c\")\n",
    "df10 = df[df.time_budget==10]\n",
    "df30 = df[df.time_budget==30]\n",
    "df60 = df[df.time_budget==60]\n",
    "fsIs_b = ['vowel', 'openml_phpJNxH0q', 'dataset_31_credit-g', 'dataset_40_sonar']\n",
    "fsIs_m = ['solar-flare_1', 'wine-quality-red', 'dataset_39_ecoli', 'synthetic_control']\n",
    "fsIl_b = ['AirlinesCodrnaAdult', 'MagicTelescope', 'electricity-normalized', 'phpmPOD5A']\n",
    "fsIl_m = ['pokerhand-normalized', 'eye_movements', 'avila-tr']\n",
    "flIs_b = ['audiology', 'arrhythmia', 'AP_Breast_Lung', 'AP_Omentum_Ovary']\n",
    "flIs_m = ['Amazon', 'umistfacescropped', 'phpGUrE90']\n",
    "flIl_b = ['gina_agnostic', 'hiva_agnostic', 'phpZrCzJR', 'phprAeXmK']\n",
    "flIl_m = ['KDDCup99', 'connect-4', 'dataset_60_waveform-5000', 'dataset_186_satimage']\n",
    "\n",
    "\n",
    "df.shape"
   ]
  },
  {
   "cell_type": "code",
   "execution_count": 3,
   "metadata": {},
   "outputs": [
    {
     "name": "stdout",
     "output_type": "stream",
     "text": [
      "\n",
      "\n"
     ]
    },
    {
     "data": {
      "text/html": [
       "<div>\n",
       "<style scoped>\n",
       "    .dataframe tbody tr th:only-of-type {\n",
       "        vertical-align: middle;\n",
       "    }\n",
       "\n",
       "    .dataframe tbody tr th {\n",
       "        vertical-align: top;\n",
       "    }\n",
       "\n",
       "    .dataframe thead th {\n",
       "        text-align: right;\n",
       "    }\n",
       "</style>\n",
       "<table border=\"1\" class=\"dataframe\">\n",
       "  <thead>\n",
       "    <tr style=\"text-align: right;\">\n",
       "      <th></th>\n",
       "      <th>Variable</th>\n",
       "      <th>N</th>\n",
       "      <th>Mean</th>\n",
       "      <th>SD</th>\n",
       "      <th>SE</th>\n",
       "      <th>95% Conf.</th>\n",
       "      <th>Interval</th>\n",
       "    </tr>\n",
       "  </thead>\n",
       "  <tbody>\n",
       "    <tr>\n",
       "      <td>0</td>\n",
       "      <td>f1score</td>\n",
       "      <td>450.0</td>\n",
       "      <td>0.795257</td>\n",
       "      <td>0.216084</td>\n",
       "      <td>0.010186</td>\n",
       "      <td>0.775238</td>\n",
       "      <td>0.815276</td>\n",
       "    </tr>\n",
       "  </tbody>\n",
       "</table>\n",
       "</div>"
      ],
      "text/plain": [
       "  Variable      N      Mean        SD        SE  95% Conf.  Interval\n",
       "0  f1score  450.0  0.795257  0.216084  0.010186   0.775238  0.815276"
      ]
     },
     "execution_count": 3,
     "metadata": {},
     "output_type": "execute_result"
    }
   ],
   "source": [
    "rp.summary_cont(df10['f1score'])"
   ]
  },
  {
   "cell_type": "code",
   "execution_count": 4,
   "metadata": {},
   "outputs": [
    {
     "name": "stdout",
     "output_type": "stream",
     "text": [
      "\n",
      "\n"
     ]
    },
    {
     "data": {
      "text/html": [
       "<div>\n",
       "<style scoped>\n",
       "    .dataframe tbody tr th:only-of-type {\n",
       "        vertical-align: middle;\n",
       "    }\n",
       "\n",
       "    .dataframe tbody tr th {\n",
       "        vertical-align: top;\n",
       "    }\n",
       "\n",
       "    .dataframe thead th {\n",
       "        text-align: right;\n",
       "    }\n",
       "</style>\n",
       "<table border=\"1\" class=\"dataframe\">\n",
       "  <thead>\n",
       "    <tr style=\"text-align: right;\">\n",
       "      <th></th>\n",
       "      <th>Variable</th>\n",
       "      <th>N</th>\n",
       "      <th>Mean</th>\n",
       "      <th>SD</th>\n",
       "      <th>SE</th>\n",
       "      <th>95% Conf.</th>\n",
       "      <th>Interval</th>\n",
       "    </tr>\n",
       "  </thead>\n",
       "  <tbody>\n",
       "    <tr>\n",
       "      <td>0</td>\n",
       "      <td>f1score</td>\n",
       "      <td>450.0</td>\n",
       "      <td>0.815889</td>\n",
       "      <td>0.182823</td>\n",
       "      <td>0.008618</td>\n",
       "      <td>0.798951</td>\n",
       "      <td>0.832826</td>\n",
       "    </tr>\n",
       "  </tbody>\n",
       "</table>\n",
       "</div>"
      ],
      "text/plain": [
       "  Variable      N      Mean        SD        SE  95% Conf.  Interval\n",
       "0  f1score  450.0  0.815889  0.182823  0.008618   0.798951  0.832826"
      ]
     },
     "execution_count": 4,
     "metadata": {},
     "output_type": "execute_result"
    }
   ],
   "source": [
    "rp.summary_cont(df30['f1score'])"
   ]
  },
  {
   "cell_type": "code",
   "execution_count": 5,
   "metadata": {},
   "outputs": [
    {
     "name": "stdout",
     "output_type": "stream",
     "text": [
      "\n",
      "\n"
     ]
    },
    {
     "data": {
      "text/html": [
       "<div>\n",
       "<style scoped>\n",
       "    .dataframe tbody tr th:only-of-type {\n",
       "        vertical-align: middle;\n",
       "    }\n",
       "\n",
       "    .dataframe tbody tr th {\n",
       "        vertical-align: top;\n",
       "    }\n",
       "\n",
       "    .dataframe thead th {\n",
       "        text-align: right;\n",
       "    }\n",
       "</style>\n",
       "<table border=\"1\" class=\"dataframe\">\n",
       "  <thead>\n",
       "    <tr style=\"text-align: right;\">\n",
       "      <th></th>\n",
       "      <th>Variable</th>\n",
       "      <th>N</th>\n",
       "      <th>Mean</th>\n",
       "      <th>SD</th>\n",
       "      <th>SE</th>\n",
       "      <th>95% Conf.</th>\n",
       "      <th>Interval</th>\n",
       "    </tr>\n",
       "  </thead>\n",
       "  <tbody>\n",
       "    <tr>\n",
       "      <td>0</td>\n",
       "      <td>f1score</td>\n",
       "      <td>450.0</td>\n",
       "      <td>0.812907</td>\n",
       "      <td>0.181568</td>\n",
       "      <td>0.008559</td>\n",
       "      <td>0.796086</td>\n",
       "      <td>0.829728</td>\n",
       "    </tr>\n",
       "  </tbody>\n",
       "</table>\n",
       "</div>"
      ],
      "text/plain": [
       "  Variable      N      Mean        SD        SE  95% Conf.  Interval\n",
       "0  f1score  450.0  0.812907  0.181568  0.008559   0.796086  0.829728"
      ]
     },
     "execution_count": 5,
     "metadata": {},
     "output_type": "execute_result"
    }
   ],
   "source": [
    "rp.summary_cont(df60['f1score'])"
   ]
  },
  {
   "cell_type": "code",
   "execution_count": 6,
   "metadata": {},
   "outputs": [
    {
     "data": {
      "text/plain": [
       "F_onewayResult(statistic=4.446174253904444, pvalue=0.012246349267659598)"
      ]
     },
     "execution_count": 6,
     "metadata": {},
     "output_type": "execute_result"
    }
   ],
   "source": [
    "stats.f_oneway(df10['f1score'][df10['methods'] == '1c'], \n",
    "             df10['f1score'][df10['methods'] == '3c'],\n",
    "             df10['f1score'][df10['methods'] == 'fc'])"
   ]
  },
  {
   "cell_type": "code",
   "execution_count": 7,
   "metadata": {},
   "outputs": [
    {
     "data": {
      "text/plain": [
       "F_onewayResult(statistic=2.6810256892006237, pvalue=0.06959428489379779)"
      ]
     },
     "execution_count": 7,
     "metadata": {},
     "output_type": "execute_result"
    }
   ],
   "source": [
    "stats.f_oneway(df30['f1score'][df30['methods'] == '1c'], \n",
    "             df30['f1score'][df30['methods'] == '3c'],\n",
    "             df30['f1score'][df30['methods'] == 'fc'])"
   ]
  },
  {
   "cell_type": "code",
   "execution_count": 8,
   "metadata": {},
   "outputs": [
    {
     "data": {
      "text/plain": [
       "F_onewayResult(statistic=3.0851938917156594, pvalue=0.04669613690602985)"
      ]
     },
     "execution_count": 8,
     "metadata": {},
     "output_type": "execute_result"
    }
   ],
   "source": [
    "stats.f_oneway(df60['f1score'][df60['methods'] == '1c'], \n",
    "             df60['f1score'][df60['methods'] == '3c'],\n",
    "             df60['f1score'][df60['methods'] == 'fc'])"
   ]
  },
  {
   "cell_type": "code",
   "execution_count": 9,
   "metadata": {},
   "outputs": [
    {
     "name": "stdout",
     "output_type": "stream",
     "text": [
      "Overall model F( 2, 447) =  4.446, p =  0.0122\n"
     ]
    },
    {
     "data": {
      "text/html": [
       "<table class=\"simpletable\">\n",
       "<caption>OLS Regression Results</caption>\n",
       "<tr>\n",
       "  <th>Dep. Variable:</th>         <td>f1score</td>     <th>  R-squared:         </th> <td>   0.020</td>\n",
       "</tr>\n",
       "<tr>\n",
       "  <th>Model:</th>                   <td>OLS</td>       <th>  Adj. R-squared:    </th> <td>   0.015</td>\n",
       "</tr>\n",
       "<tr>\n",
       "  <th>Method:</th>             <td>Least Squares</td>  <th>  F-statistic:       </th> <td>   4.446</td>\n",
       "</tr>\n",
       "<tr>\n",
       "  <th>Date:</th>             <td>Sun, 03 Nov 2019</td> <th>  Prob (F-statistic):</th>  <td>0.0122</td> \n",
       "</tr>\n",
       "<tr>\n",
       "  <th>Time:</th>                 <td>19:29:03</td>     <th>  Log-Likelihood:    </th> <td>  55.850</td>\n",
       "</tr>\n",
       "<tr>\n",
       "  <th>No. Observations:</th>      <td>   450</td>      <th>  AIC:               </th> <td>  -105.7</td>\n",
       "</tr>\n",
       "<tr>\n",
       "  <th>Df Residuals:</th>          <td>   447</td>      <th>  BIC:               </th> <td>  -93.37</td>\n",
       "</tr>\n",
       "<tr>\n",
       "  <th>Df Model:</th>              <td>     2</td>      <th>                     </th>     <td> </td>   \n",
       "</tr>\n",
       "<tr>\n",
       "  <th>Covariance Type:</th>      <td>nonrobust</td>    <th>                     </th>     <td> </td>   \n",
       "</tr>\n",
       "</table>\n",
       "<table class=\"simpletable\">\n",
       "<tr>\n",
       "          <td></td>            <th>coef</th>     <th>std err</th>      <th>t</th>      <th>P>|t|</th>  <th>[0.025</th>    <th>0.975]</th>  \n",
       "</tr>\n",
       "<tr>\n",
       "  <th>Intercept</th>        <td>    0.7707</td> <td>    0.013</td> <td>   59.053</td> <td> 0.000</td> <td>    0.745</td> <td>    0.796</td>\n",
       "</tr>\n",
       "<tr>\n",
       "  <th>C(methods)[T.3c]</th> <td>    0.0589</td> <td>    0.026</td> <td>    2.256</td> <td> 0.025</td> <td>    0.008</td> <td>    0.110</td>\n",
       "</tr>\n",
       "<tr>\n",
       "  <th>C(methods)[T.fc]</th> <td>    0.0640</td> <td>    0.026</td> <td>    2.452</td> <td> 0.015</td> <td>    0.013</td> <td>    0.115</td>\n",
       "</tr>\n",
       "</table>\n",
       "<table class=\"simpletable\">\n",
       "<tr>\n",
       "  <th>Omnibus:</th>       <td>163.452</td> <th>  Durbin-Watson:     </th> <td>   0.428</td>\n",
       "</tr>\n",
       "<tr>\n",
       "  <th>Prob(Omnibus):</th> <td> 0.000</td>  <th>  Jarque-Bera (JB):  </th> <td> 453.240</td>\n",
       "</tr>\n",
       "<tr>\n",
       "  <th>Skew:</th>          <td>-1.785</td>  <th>  Prob(JB):          </th> <td>3.80e-99</td>\n",
       "</tr>\n",
       "<tr>\n",
       "  <th>Kurtosis:</th>      <td> 6.380</td>  <th>  Cond. No.          </th> <td>    3.15</td>\n",
       "</tr>\n",
       "</table><br/><br/>Warnings:<br/>[1] Standard Errors assume that the covariance matrix of the errors is correctly specified."
      ],
      "text/plain": [
       "<class 'statsmodels.iolib.summary.Summary'>\n",
       "\"\"\"\n",
       "                            OLS Regression Results                            \n",
       "==============================================================================\n",
       "Dep. Variable:                f1score   R-squared:                       0.020\n",
       "Model:                            OLS   Adj. R-squared:                  0.015\n",
       "Method:                 Least Squares   F-statistic:                     4.446\n",
       "Date:                Sun, 03 Nov 2019   Prob (F-statistic):             0.0122\n",
       "Time:                        19:29:03   Log-Likelihood:                 55.850\n",
       "No. Observations:                 450   AIC:                            -105.7\n",
       "Df Residuals:                     447   BIC:                            -93.37\n",
       "Df Model:                           2                                         \n",
       "Covariance Type:            nonrobust                                         \n",
       "====================================================================================\n",
       "                       coef    std err          t      P>|t|      [0.025      0.975]\n",
       "------------------------------------------------------------------------------------\n",
       "Intercept            0.7707      0.013     59.053      0.000       0.745       0.796\n",
       "C(methods)[T.3c]     0.0589      0.026      2.256      0.025       0.008       0.110\n",
       "C(methods)[T.fc]     0.0640      0.026      2.452      0.015       0.013       0.115\n",
       "==============================================================================\n",
       "Omnibus:                      163.452   Durbin-Watson:                   0.428\n",
       "Prob(Omnibus):                  0.000   Jarque-Bera (JB):              453.240\n",
       "Skew:                          -1.785   Prob(JB):                     3.80e-99\n",
       "Kurtosis:                       6.380   Cond. No.                         3.15\n",
       "==============================================================================\n",
       "\n",
       "Warnings:\n",
       "[1] Standard Errors assume that the covariance matrix of the errors is correctly specified.\n",
       "\"\"\""
      ]
     },
     "execution_count": 9,
     "metadata": {},
     "output_type": "execute_result"
    }
   ],
   "source": [
    "    # Fits the model with the interaction term\n",
    "    # This will also automatically include the main effects for each factor\n",
    "    model10 = ols('f1score ~ C(methods)', df10).fit()\n",
    "\n",
    "    # Seeing if the overall model is significant\n",
    "    print(f\"Overall model F({model10.df_model: .0f},{model10.df_resid: .0f}) = {model10.fvalue: .3f}, p = {model10.f_pvalue: .4f}\")\n",
    "    model10.summary()"
   ]
  },
  {
   "cell_type": "code",
   "execution_count": 10,
   "metadata": {},
   "outputs": [
    {
     "name": "stdout",
     "output_type": "stream",
     "text": [
      "Overall model F( 2, 447) =  2.681, p =  0.0696\n"
     ]
    },
    {
     "data": {
      "text/html": [
       "<table class=\"simpletable\">\n",
       "<caption>OLS Regression Results</caption>\n",
       "<tr>\n",
       "  <th>Dep. Variable:</th>         <td>f1score</td>     <th>  R-squared:         </th> <td>   0.012</td>\n",
       "</tr>\n",
       "<tr>\n",
       "  <th>Model:</th>                   <td>OLS</td>       <th>  Adj. R-squared:    </th> <td>   0.007</td>\n",
       "</tr>\n",
       "<tr>\n",
       "  <th>Method:</th>             <td>Least Squares</td>  <th>  F-statistic:       </th> <td>   2.681</td>\n",
       "</tr>\n",
       "<tr>\n",
       "  <th>Date:</th>             <td>Sun, 03 Nov 2019</td> <th>  Prob (F-statistic):</th>  <td>0.0696</td> \n",
       "</tr>\n",
       "<tr>\n",
       "  <th>Time:</th>                 <td>19:29:03</td>     <th>  Log-Likelihood:    </th> <td>  129.32</td>\n",
       "</tr>\n",
       "<tr>\n",
       "  <th>No. Observations:</th>      <td>   450</td>      <th>  AIC:               </th> <td>  -252.6</td>\n",
       "</tr>\n",
       "<tr>\n",
       "  <th>Df Residuals:</th>          <td>   447</td>      <th>  BIC:               </th> <td>  -240.3</td>\n",
       "</tr>\n",
       "<tr>\n",
       "  <th>Df Model:</th>              <td>     2</td>      <th>                     </th>     <td> </td>   \n",
       "</tr>\n",
       "<tr>\n",
       "  <th>Covariance Type:</th>      <td>nonrobust</td>    <th>                     </th>     <td> </td>   \n",
       "</tr>\n",
       "</table>\n",
       "<table class=\"simpletable\">\n",
       "<tr>\n",
       "          <td></td>            <th>coef</th>     <th>std err</th>      <th>t</th>      <th>P>|t|</th>  <th>[0.025</th>    <th>0.975]</th>  \n",
       "</tr>\n",
       "<tr>\n",
       "  <th>Intercept</th>        <td>    0.7997</td> <td>    0.011</td> <td>   72.140</td> <td> 0.000</td> <td>    0.778</td> <td>    0.821</td>\n",
       "</tr>\n",
       "<tr>\n",
       "  <th>C(methods)[T.3c]</th> <td>    0.0415</td> <td>    0.022</td> <td>    1.873</td> <td> 0.062</td> <td>   -0.002</td> <td>    0.085</td>\n",
       "</tr>\n",
       "<tr>\n",
       "  <th>C(methods)[T.fc]</th> <td>    0.0396</td> <td>    0.022</td> <td>    1.786</td> <td> 0.075</td> <td>   -0.004</td> <td>    0.083</td>\n",
       "</tr>\n",
       "</table>\n",
       "<table class=\"simpletable\">\n",
       "<tr>\n",
       "  <th>Omnibus:</th>       <td>144.228</td> <th>  Durbin-Watson:     </th> <td>   0.483</td>\n",
       "</tr>\n",
       "<tr>\n",
       "  <th>Prob(Omnibus):</th> <td> 0.000</td>  <th>  Jarque-Bera (JB):  </th> <td> 373.912</td>\n",
       "</tr>\n",
       "<tr>\n",
       "  <th>Skew:</th>          <td>-1.587</td>  <th>  Prob(JB):          </th> <td>6.40e-82</td>\n",
       "</tr>\n",
       "<tr>\n",
       "  <th>Kurtosis:</th>      <td> 6.141</td>  <th>  Cond. No.          </th> <td>    3.15</td>\n",
       "</tr>\n",
       "</table><br/><br/>Warnings:<br/>[1] Standard Errors assume that the covariance matrix of the errors is correctly specified."
      ],
      "text/plain": [
       "<class 'statsmodels.iolib.summary.Summary'>\n",
       "\"\"\"\n",
       "                            OLS Regression Results                            \n",
       "==============================================================================\n",
       "Dep. Variable:                f1score   R-squared:                       0.012\n",
       "Model:                            OLS   Adj. R-squared:                  0.007\n",
       "Method:                 Least Squares   F-statistic:                     2.681\n",
       "Date:                Sun, 03 Nov 2019   Prob (F-statistic):             0.0696\n",
       "Time:                        19:29:03   Log-Likelihood:                 129.32\n",
       "No. Observations:                 450   AIC:                            -252.6\n",
       "Df Residuals:                     447   BIC:                            -240.3\n",
       "Df Model:                           2                                         \n",
       "Covariance Type:            nonrobust                                         \n",
       "====================================================================================\n",
       "                       coef    std err          t      P>|t|      [0.025      0.975]\n",
       "------------------------------------------------------------------------------------\n",
       "Intercept            0.7997      0.011     72.140      0.000       0.778       0.821\n",
       "C(methods)[T.3c]     0.0415      0.022      1.873      0.062      -0.002       0.085\n",
       "C(methods)[T.fc]     0.0396      0.022      1.786      0.075      -0.004       0.083\n",
       "==============================================================================\n",
       "Omnibus:                      144.228   Durbin-Watson:                   0.483\n",
       "Prob(Omnibus):                  0.000   Jarque-Bera (JB):              373.912\n",
       "Skew:                          -1.587   Prob(JB):                     6.40e-82\n",
       "Kurtosis:                       6.141   Cond. No.                         3.15\n",
       "==============================================================================\n",
       "\n",
       "Warnings:\n",
       "[1] Standard Errors assume that the covariance matrix of the errors is correctly specified.\n",
       "\"\"\""
      ]
     },
     "execution_count": 10,
     "metadata": {},
     "output_type": "execute_result"
    }
   ],
   "source": [
    "    # Fits the model with the interaction term\n",
    "    # This will also automatically include the main effects for each factor\n",
    "    model30 = ols('f1score ~ C(methods)', df30).fit()\n",
    "\n",
    "    # Seeing if the overall model is significant\n",
    "    print(f\"Overall model F({model30.df_model: .0f},{model30.df_resid: .0f}) = {model30.fvalue: .3f}, p = {model30.f_pvalue: .4f}\")\n",
    "    model30.summary()"
   ]
  },
  {
   "cell_type": "code",
   "execution_count": 11,
   "metadata": {},
   "outputs": [
    {
     "name": "stdout",
     "output_type": "stream",
     "text": [
      "Overall model F( 2, 447) =  3.085, p =  0.0467\n"
     ]
    },
    {
     "data": {
      "text/html": [
       "<table class=\"simpletable\">\n",
       "<caption>OLS Regression Results</caption>\n",
       "<tr>\n",
       "  <th>Dep. Variable:</th>         <td>f1score</td>     <th>  R-squared:         </th> <td>   0.020</td>\n",
       "</tr>\n",
       "<tr>\n",
       "  <th>Model:</th>                   <td>OLS</td>       <th>  Adj. R-squared:    </th> <td>   0.015</td>\n",
       "</tr>\n",
       "<tr>\n",
       "  <th>Method:</th>             <td>Least Squares</td>  <th>  F-statistic:       </th> <td>   4.446</td>\n",
       "</tr>\n",
       "<tr>\n",
       "  <th>Date:</th>             <td>Sun, 03 Nov 2019</td> <th>  Prob (F-statistic):</th>  <td>0.0122</td> \n",
       "</tr>\n",
       "<tr>\n",
       "  <th>Time:</th>                 <td>19:29:03</td>     <th>  Log-Likelihood:    </th> <td>  55.850</td>\n",
       "</tr>\n",
       "<tr>\n",
       "  <th>No. Observations:</th>      <td>   450</td>      <th>  AIC:               </th> <td>  -105.7</td>\n",
       "</tr>\n",
       "<tr>\n",
       "  <th>Df Residuals:</th>          <td>   447</td>      <th>  BIC:               </th> <td>  -93.37</td>\n",
       "</tr>\n",
       "<tr>\n",
       "  <th>Df Model:</th>              <td>     2</td>      <th>                     </th>     <td> </td>   \n",
       "</tr>\n",
       "<tr>\n",
       "  <th>Covariance Type:</th>      <td>nonrobust</td>    <th>                     </th>     <td> </td>   \n",
       "</tr>\n",
       "</table>\n",
       "<table class=\"simpletable\">\n",
       "<tr>\n",
       "          <td></td>            <th>coef</th>     <th>std err</th>      <th>t</th>      <th>P>|t|</th>  <th>[0.025</th>    <th>0.975]</th>  \n",
       "</tr>\n",
       "<tr>\n",
       "  <th>Intercept</th>        <td>    0.7707</td> <td>    0.013</td> <td>   59.053</td> <td> 0.000</td> <td>    0.745</td> <td>    0.796</td>\n",
       "</tr>\n",
       "<tr>\n",
       "  <th>C(methods)[T.3c]</th> <td>    0.0589</td> <td>    0.026</td> <td>    2.256</td> <td> 0.025</td> <td>    0.008</td> <td>    0.110</td>\n",
       "</tr>\n",
       "<tr>\n",
       "  <th>C(methods)[T.fc]</th> <td>    0.0640</td> <td>    0.026</td> <td>    2.452</td> <td> 0.015</td> <td>    0.013</td> <td>    0.115</td>\n",
       "</tr>\n",
       "</table>\n",
       "<table class=\"simpletable\">\n",
       "<tr>\n",
       "  <th>Omnibus:</th>       <td>163.452</td> <th>  Durbin-Watson:     </th> <td>   0.428</td>\n",
       "</tr>\n",
       "<tr>\n",
       "  <th>Prob(Omnibus):</th> <td> 0.000</td>  <th>  Jarque-Bera (JB):  </th> <td> 453.240</td>\n",
       "</tr>\n",
       "<tr>\n",
       "  <th>Skew:</th>          <td>-1.785</td>  <th>  Prob(JB):          </th> <td>3.80e-99</td>\n",
       "</tr>\n",
       "<tr>\n",
       "  <th>Kurtosis:</th>      <td> 6.380</td>  <th>  Cond. No.          </th> <td>    3.15</td>\n",
       "</tr>\n",
       "</table><br/><br/>Warnings:<br/>[1] Standard Errors assume that the covariance matrix of the errors is correctly specified."
      ],
      "text/plain": [
       "<class 'statsmodels.iolib.summary.Summary'>\n",
       "\"\"\"\n",
       "                            OLS Regression Results                            \n",
       "==============================================================================\n",
       "Dep. Variable:                f1score   R-squared:                       0.020\n",
       "Model:                            OLS   Adj. R-squared:                  0.015\n",
       "Method:                 Least Squares   F-statistic:                     4.446\n",
       "Date:                Sun, 03 Nov 2019   Prob (F-statistic):             0.0122\n",
       "Time:                        19:29:03   Log-Likelihood:                 55.850\n",
       "No. Observations:                 450   AIC:                            -105.7\n",
       "Df Residuals:                     447   BIC:                            -93.37\n",
       "Df Model:                           2                                         \n",
       "Covariance Type:            nonrobust                                         \n",
       "====================================================================================\n",
       "                       coef    std err          t      P>|t|      [0.025      0.975]\n",
       "------------------------------------------------------------------------------------\n",
       "Intercept            0.7707      0.013     59.053      0.000       0.745       0.796\n",
       "C(methods)[T.3c]     0.0589      0.026      2.256      0.025       0.008       0.110\n",
       "C(methods)[T.fc]     0.0640      0.026      2.452      0.015       0.013       0.115\n",
       "==============================================================================\n",
       "Omnibus:                      163.452   Durbin-Watson:                   0.428\n",
       "Prob(Omnibus):                  0.000   Jarque-Bera (JB):              453.240\n",
       "Skew:                          -1.785   Prob(JB):                     3.80e-99\n",
       "Kurtosis:                       6.380   Cond. No.                         3.15\n",
       "==============================================================================\n",
       "\n",
       "Warnings:\n",
       "[1] Standard Errors assume that the covariance matrix of the errors is correctly specified.\n",
       "\"\"\""
      ]
     },
     "execution_count": 11,
     "metadata": {},
     "output_type": "execute_result"
    }
   ],
   "source": [
    "    # Fits the model with the interaction term\n",
    "    # This will also automatically include the main effects for each factor\n",
    "    model60 = ols('f1score ~ C(methods)', df60).fit()\n",
    "\n",
    "    # Seeing if the overall model is significant\n",
    "    print(f\"Overall model F({model60.df_model: .0f},{model60.df_resid: .0f}) = {model60.fvalue: .3f}, p = {model60.f_pvalue: .4f}\")\n",
    "    model10.summary()"
   ]
  },
  {
   "cell_type": "code",
   "execution_count": 12,
   "metadata": {},
   "outputs": [
    {
     "name": "stdout",
     "output_type": "stream",
     "text": [
      "Multiple Comparison of Means - Tukey HSD, FWER=0.05\n",
      "===================================================\n",
      "group1 group2 meandiff p-adj   lower  upper  reject\n",
      "---------------------------------------------------\n",
      "    1c     3c   0.0589 0.0633 -0.0025 0.1203  False\n",
      "    1c     fc    0.064 0.0387  0.0026 0.1254   True\n",
      "    3c     fc   0.0051    0.9 -0.0701 0.0803  False\n",
      "---------------------------------------------------\n"
     ]
    }
   ],
   "source": [
    "from statsmodels.stats.multicomp import pairwise_tukeyhsd\n",
    "from statsmodels.stats.multicomp import MultiComparison\n",
    "\n",
    "mc = MultiComparison(df10['f1score'], df10['methods'])\n",
    "mc_results = mc.tukeyhsd()\n",
    "print(mc_results)"
   ]
  },
  {
   "cell_type": "code",
   "execution_count": 13,
   "metadata": {},
   "outputs": [
    {
     "name": "stdout",
     "output_type": "stream",
     "text": [
      "Multiple Comparison of Means - Tukey HSD, FWER=0.07\n",
      "===================================================\n",
      "group1 group2 meandiff p-adj   lower  upper  reject\n",
      "---------------------------------------------------\n",
      "    1c     3c   0.0415 0.1478 -0.0076 0.0907  False\n",
      "    1c     fc   0.0396 0.1754 -0.0095 0.0887  False\n",
      "    3c     fc  -0.0019    0.9 -0.0621 0.0583  False\n",
      "---------------------------------------------------\n"
     ]
    }
   ],
   "source": [
    "mc = MultiComparison(df30['f1score'], df30['methods'])\n",
    "mc_results = mc.tukeyhsd(model30.f_pvalue)\n",
    "print(mc_results)"
   ]
  },
  {
   "cell_type": "code",
   "execution_count": 14,
   "metadata": {},
   "outputs": [
    {
     "name": "stdout",
     "output_type": "stream",
     "text": [
      "Multiple Comparison of Means - Tukey HSD, FWER=0.05\n",
      "===================================================\n",
      "group1 group2 meandiff p-adj   lower  upper  reject\n",
      "---------------------------------------------------\n",
      "    1c     3c   0.0313 0.3313 -0.0211 0.0836  False\n",
      "    1c     fc   0.0512 0.0531 -0.0011 0.1035  False\n",
      "    3c     fc   0.0199 0.7206 -0.0441  0.084  False\n",
      "---------------------------------------------------\n"
     ]
    }
   ],
   "source": [
    "mc = MultiComparison(df60['f1score'], df60['methods'])\n",
    "mc_results = mc.tukeyhsd(model60.f_pvalue)\n",
    "print(mc_results)"
   ]
  },
  {
   "cell_type": "markdown",
   "metadata": {},
   "source": [
    "# Analysis <font color=blue>without </font> combining RF, DT and SVM into 1C 10 min"
   ]
  },
  {
   "cell_type": "code",
   "execution_count": 15,
   "metadata": {},
   "outputs": [
    {
     "data": {
      "text/plain": [
       "(1350, 3)"
      ]
     },
     "execution_count": 15,
     "metadata": {},
     "output_type": "execute_result"
    }
   ],
   "source": [
    "df = pd.read_excel(r\"C:\\Users\\HassanEldeeb\\Documents\\GitHub\\AutoMLBenchmarking\\logs_search_space/skout.xlsx\")\n",
    "df = df[['time_budget', 'methods', 'f1score']]\n",
    "df.methods = df.methods.replace(\"['adaboost', 'bernoulli_nb', 'decision_tree', 'extra_trees', 'gaussian_nb', 'gradient_boosting', 'k_nearest_neighbors', 'lda', 'liblinear_svc', 'libsvm_svc', 'multinomial_nb', 'passive_aggressive', 'qda', 'random_forest', 'sgd']\", \"fc\")\n",
    "df.methods = df.methods.replace(\"['decision_tree', 'libsvm_svc', 'random_forest']\", \"3c\")\n",
    "df.methods = df.methods.replace(\"['libsvm_svc']\", \"svc\")\n",
    "df.methods = df.methods.replace(\"['decision_tree']\", \"dt\")\n",
    "df.methods = df.methods.replace(\"['random_forest']\", \"rf\")\n",
    "df10 = df[df.time_budget==10]\n",
    "df30 = df[df.time_budget==30]\n",
    "df60 = df[df.time_budget==60]\n",
    "df.shape"
   ]
  },
  {
   "cell_type": "code",
   "execution_count": 16,
   "metadata": {},
   "outputs": [
    {
     "name": "stdout",
     "output_type": "stream",
     "text": [
      "\n",
      "\n"
     ]
    },
    {
     "data": {
      "text/html": [
       "<div>\n",
       "<style scoped>\n",
       "    .dataframe tbody tr th:only-of-type {\n",
       "        vertical-align: middle;\n",
       "    }\n",
       "\n",
       "    .dataframe tbody tr th {\n",
       "        vertical-align: top;\n",
       "    }\n",
       "\n",
       "    .dataframe thead th {\n",
       "        text-align: right;\n",
       "    }\n",
       "</style>\n",
       "<table border=\"1\" class=\"dataframe\">\n",
       "  <thead>\n",
       "    <tr style=\"text-align: right;\">\n",
       "      <th></th>\n",
       "      <th>Variable</th>\n",
       "      <th>N</th>\n",
       "      <th>Mean</th>\n",
       "      <th>SD</th>\n",
       "      <th>SE</th>\n",
       "      <th>95% Conf.</th>\n",
       "      <th>Interval</th>\n",
       "    </tr>\n",
       "  </thead>\n",
       "  <tbody>\n",
       "    <tr>\n",
       "      <td>0</td>\n",
       "      <td>f1score</td>\n",
       "      <td>450.0</td>\n",
       "      <td>0.795257</td>\n",
       "      <td>0.216084</td>\n",
       "      <td>0.010186</td>\n",
       "      <td>0.775238</td>\n",
       "      <td>0.815276</td>\n",
       "    </tr>\n",
       "  </tbody>\n",
       "</table>\n",
       "</div>"
      ],
      "text/plain": [
       "  Variable      N      Mean        SD        SE  95% Conf.  Interval\n",
       "0  f1score  450.0  0.795257  0.216084  0.010186   0.775238  0.815276"
      ]
     },
     "execution_count": 16,
     "metadata": {},
     "output_type": "execute_result"
    }
   ],
   "source": [
    "rp.summary_cont(df10['f1score'])"
   ]
  },
  {
   "cell_type": "code",
   "execution_count": 17,
   "metadata": {},
   "outputs": [
    {
     "name": "stdout",
     "output_type": "stream",
     "text": [
      "\n",
      "\n"
     ]
    },
    {
     "data": {
      "text/html": [
       "<div>\n",
       "<style scoped>\n",
       "    .dataframe tbody tr th:only-of-type {\n",
       "        vertical-align: middle;\n",
       "    }\n",
       "\n",
       "    .dataframe tbody tr th {\n",
       "        vertical-align: top;\n",
       "    }\n",
       "\n",
       "    .dataframe thead th {\n",
       "        text-align: right;\n",
       "    }\n",
       "</style>\n",
       "<table border=\"1\" class=\"dataframe\">\n",
       "  <thead>\n",
       "    <tr style=\"text-align: right;\">\n",
       "      <th></th>\n",
       "      <th>Variable</th>\n",
       "      <th>N</th>\n",
       "      <th>Mean</th>\n",
       "      <th>SD</th>\n",
       "      <th>SE</th>\n",
       "      <th>95% Conf.</th>\n",
       "      <th>Interval</th>\n",
       "    </tr>\n",
       "  </thead>\n",
       "  <tbody>\n",
       "    <tr>\n",
       "      <td>0</td>\n",
       "      <td>f1score</td>\n",
       "      <td>450.0</td>\n",
       "      <td>0.815889</td>\n",
       "      <td>0.182823</td>\n",
       "      <td>0.008618</td>\n",
       "      <td>0.798951</td>\n",
       "      <td>0.832826</td>\n",
       "    </tr>\n",
       "  </tbody>\n",
       "</table>\n",
       "</div>"
      ],
      "text/plain": [
       "  Variable      N      Mean        SD        SE  95% Conf.  Interval\n",
       "0  f1score  450.0  0.815889  0.182823  0.008618   0.798951  0.832826"
      ]
     },
     "execution_count": 17,
     "metadata": {},
     "output_type": "execute_result"
    }
   ],
   "source": [
    "rp.summary_cont(df30['f1score'])"
   ]
  },
  {
   "cell_type": "code",
   "execution_count": 18,
   "metadata": {},
   "outputs": [
    {
     "name": "stdout",
     "output_type": "stream",
     "text": [
      "\n",
      "\n"
     ]
    },
    {
     "data": {
      "text/html": [
       "<div>\n",
       "<style scoped>\n",
       "    .dataframe tbody tr th:only-of-type {\n",
       "        vertical-align: middle;\n",
       "    }\n",
       "\n",
       "    .dataframe tbody tr th {\n",
       "        vertical-align: top;\n",
       "    }\n",
       "\n",
       "    .dataframe thead th {\n",
       "        text-align: right;\n",
       "    }\n",
       "</style>\n",
       "<table border=\"1\" class=\"dataframe\">\n",
       "  <thead>\n",
       "    <tr style=\"text-align: right;\">\n",
       "      <th></th>\n",
       "      <th>Variable</th>\n",
       "      <th>N</th>\n",
       "      <th>Mean</th>\n",
       "      <th>SD</th>\n",
       "      <th>SE</th>\n",
       "      <th>95% Conf.</th>\n",
       "      <th>Interval</th>\n",
       "    </tr>\n",
       "  </thead>\n",
       "  <tbody>\n",
       "    <tr>\n",
       "      <td>0</td>\n",
       "      <td>f1score</td>\n",
       "      <td>450.0</td>\n",
       "      <td>0.812907</td>\n",
       "      <td>0.181568</td>\n",
       "      <td>0.008559</td>\n",
       "      <td>0.796086</td>\n",
       "      <td>0.829728</td>\n",
       "    </tr>\n",
       "  </tbody>\n",
       "</table>\n",
       "</div>"
      ],
      "text/plain": [
       "  Variable      N      Mean        SD        SE  95% Conf.  Interval\n",
       "0  f1score  450.0  0.812907  0.181568  0.008559   0.796086  0.829728"
      ]
     },
     "execution_count": 18,
     "metadata": {},
     "output_type": "execute_result"
    }
   ],
   "source": [
    "rp.summary_cont(df60['f1score'])"
   ]
  },
  {
   "cell_type": "code",
   "execution_count": 19,
   "metadata": {},
   "outputs": [
    {
     "name": "stderr",
     "output_type": "stream",
     "text": [
      "C:\\Users\\HassanEldeeb\\Anaconda3\\lib\\site-packages\\scipy\\stats\\stats.py:3225: RuntimeWarning: invalid value encountered in double_scalars\n",
      "  ssbn += _square_of_sums(a - offset) / len(a)\n"
     ]
    },
    {
     "data": {
      "text/plain": [
       "F_onewayResult(statistic=nan, pvalue=nan)"
      ]
     },
     "execution_count": 19,
     "metadata": {},
     "output_type": "execute_result"
    }
   ],
   "source": [
    "stats.f_oneway(df10['f1score'][df10['methods'] == '1c'], \n",
    "             df10['f1score'][df10['methods'] == '3c'],\n",
    "             df10['f1score'][df10['methods'] == 'fc'])"
   ]
  },
  {
   "cell_type": "code",
   "execution_count": 20,
   "metadata": {},
   "outputs": [
    {
     "data": {
      "text/plain": [
       "F_onewayResult(statistic=nan, pvalue=nan)"
      ]
     },
     "execution_count": 20,
     "metadata": {},
     "output_type": "execute_result"
    }
   ],
   "source": [
    "stats.f_oneway(df30['f1score'][df30['methods'] == '1c'], \n",
    "             df30['f1score'][df30['methods'] == '3c'],\n",
    "             df30['f1score'][df30['methods'] == 'fc'])"
   ]
  },
  {
   "cell_type": "code",
   "execution_count": 21,
   "metadata": {},
   "outputs": [
    {
     "data": {
      "text/plain": [
       "F_onewayResult(statistic=nan, pvalue=nan)"
      ]
     },
     "execution_count": 21,
     "metadata": {},
     "output_type": "execute_result"
    }
   ],
   "source": [
    "stats.f_oneway(df60['f1score'][df60['methods'] == '1c'], \n",
    "             df60['f1score'][df60['methods'] == '3c'],\n",
    "             df60['f1score'][df60['methods'] == 'fc'])"
   ]
  },
  {
   "cell_type": "code",
   "execution_count": 22,
   "metadata": {},
   "outputs": [
    {
     "name": "stdout",
     "output_type": "stream",
     "text": [
      "Overall model F( 4, 445) =  5.003, p =  0.0006\n"
     ]
    },
    {
     "data": {
      "text/html": [
       "<table class=\"simpletable\">\n",
       "<caption>OLS Regression Results</caption>\n",
       "<tr>\n",
       "  <th>Dep. Variable:</th>         <td>f1score</td>     <th>  R-squared:         </th> <td>   0.043</td>\n",
       "</tr>\n",
       "<tr>\n",
       "  <th>Model:</th>                   <td>OLS</td>       <th>  Adj. R-squared:    </th> <td>   0.034</td>\n",
       "</tr>\n",
       "<tr>\n",
       "  <th>Method:</th>             <td>Least Squares</td>  <th>  F-statistic:       </th> <td>   5.003</td>\n",
       "</tr>\n",
       "<tr>\n",
       "  <th>Date:</th>             <td>Sun, 03 Nov 2019</td> <th>  Prob (F-statistic):</th> <td>0.000594</td>\n",
       "</tr>\n",
       "<tr>\n",
       "  <th>Time:</th>                 <td>19:29:04</td>     <th>  Log-Likelihood:    </th> <td>  61.315</td>\n",
       "</tr>\n",
       "<tr>\n",
       "  <th>No. Observations:</th>      <td>   450</td>      <th>  AIC:               </th> <td>  -112.6</td>\n",
       "</tr>\n",
       "<tr>\n",
       "  <th>Df Residuals:</th>          <td>   445</td>      <th>  BIC:               </th> <td>  -92.08</td>\n",
       "</tr>\n",
       "<tr>\n",
       "  <th>Df Model:</th>              <td>     4</td>      <th>                     </th>     <td> </td>   \n",
       "</tr>\n",
       "<tr>\n",
       "  <th>Covariance Type:</th>      <td>nonrobust</td>    <th>                     </th>     <td> </td>   \n",
       "</tr>\n",
       "</table>\n",
       "<table class=\"simpletable\">\n",
       "<tr>\n",
       "          <td></td>             <th>coef</th>     <th>std err</th>      <th>t</th>      <th>P>|t|</th>  <th>[0.025</th>    <th>0.975]</th>  \n",
       "</tr>\n",
       "<tr>\n",
       "  <th>Intercept</th>         <td>    0.8296</td> <td>    0.022</td> <td>   37.065</td> <td> 0.000</td> <td>    0.786</td> <td>    0.874</td>\n",
       "</tr>\n",
       "<tr>\n",
       "  <th>C(methods)[T.dt]</th>  <td>   -0.0510</td> <td>    0.032</td> <td>   -1.612</td> <td> 0.108</td> <td>   -0.113</td> <td>    0.011</td>\n",
       "</tr>\n",
       "<tr>\n",
       "  <th>C(methods)[T.fc]</th>  <td>    0.0051</td> <td>    0.032</td> <td>    0.161</td> <td> 0.872</td> <td>   -0.057</td> <td>    0.067</td>\n",
       "</tr>\n",
       "<tr>\n",
       "  <th>C(methods)[T.rf]</th>  <td>   -0.0109</td> <td>    0.032</td> <td>   -0.345</td> <td> 0.730</td> <td>   -0.073</td> <td>    0.051</td>\n",
       "</tr>\n",
       "<tr>\n",
       "  <th>C(methods)[T.svc]</th> <td>   -0.1147</td> <td>    0.032</td> <td>   -3.625</td> <td> 0.000</td> <td>   -0.177</td> <td>   -0.053</td>\n",
       "</tr>\n",
       "</table>\n",
       "<table class=\"simpletable\">\n",
       "<tr>\n",
       "  <th>Omnibus:</th>       <td>150.624</td> <th>  Durbin-Watson:     </th> <td>   0.421</td>\n",
       "</tr>\n",
       "<tr>\n",
       "  <th>Prob(Omnibus):</th> <td> 0.000</td>  <th>  Jarque-Bera (JB):  </th> <td> 382.223</td>\n",
       "</tr>\n",
       "<tr>\n",
       "  <th>Skew:</th>          <td>-1.681</td>  <th>  Prob(JB):          </th> <td>1.00e-83</td>\n",
       "</tr>\n",
       "<tr>\n",
       "  <th>Kurtosis:</th>      <td> 6.014</td>  <th>  Cond. No.          </th> <td>    5.83</td>\n",
       "</tr>\n",
       "</table><br/><br/>Warnings:<br/>[1] Standard Errors assume that the covariance matrix of the errors is correctly specified."
      ],
      "text/plain": [
       "<class 'statsmodels.iolib.summary.Summary'>\n",
       "\"\"\"\n",
       "                            OLS Regression Results                            \n",
       "==============================================================================\n",
       "Dep. Variable:                f1score   R-squared:                       0.043\n",
       "Model:                            OLS   Adj. R-squared:                  0.034\n",
       "Method:                 Least Squares   F-statistic:                     5.003\n",
       "Date:                Sun, 03 Nov 2019   Prob (F-statistic):           0.000594\n",
       "Time:                        19:29:04   Log-Likelihood:                 61.315\n",
       "No. Observations:                 450   AIC:                            -112.6\n",
       "Df Residuals:                     445   BIC:                            -92.08\n",
       "Df Model:                           4                                         \n",
       "Covariance Type:            nonrobust                                         \n",
       "=====================================================================================\n",
       "                        coef    std err          t      P>|t|      [0.025      0.975]\n",
       "-------------------------------------------------------------------------------------\n",
       "Intercept             0.8296      0.022     37.065      0.000       0.786       0.874\n",
       "C(methods)[T.dt]     -0.0510      0.032     -1.612      0.108      -0.113       0.011\n",
       "C(methods)[T.fc]      0.0051      0.032      0.161      0.872      -0.057       0.067\n",
       "C(methods)[T.rf]     -0.0109      0.032     -0.345      0.730      -0.073       0.051\n",
       "C(methods)[T.svc]    -0.1147      0.032     -3.625      0.000      -0.177      -0.053\n",
       "==============================================================================\n",
       "Omnibus:                      150.624   Durbin-Watson:                   0.421\n",
       "Prob(Omnibus):                  0.000   Jarque-Bera (JB):              382.223\n",
       "Skew:                          -1.681   Prob(JB):                     1.00e-83\n",
       "Kurtosis:                       6.014   Cond. No.                         5.83\n",
       "==============================================================================\n",
       "\n",
       "Warnings:\n",
       "[1] Standard Errors assume that the covariance matrix of the errors is correctly specified.\n",
       "\"\"\""
      ]
     },
     "execution_count": 22,
     "metadata": {},
     "output_type": "execute_result"
    }
   ],
   "source": [
    "    # Fits the model with the interaction term\n",
    "    # This will also automatically include the main effects for each factor\n",
    "    model10 = ols('f1score ~ C(methods)', df10).fit()\n",
    "\n",
    "    # Seeing if the overall model is significant\n",
    "    print(f\"Overall model F({model10.df_model: .0f},{model10.df_resid: .0f}) = {model10.fvalue: .3f}, p = {model10.f_pvalue: .4f}\")\n",
    "    model10.summary()"
   ]
  },
  {
   "cell_type": "code",
   "execution_count": 23,
   "metadata": {},
   "outputs": [
    {
     "name": "stdout",
     "output_type": "stream",
     "text": [
      "Overall model F( 4, 445) =  3.572, p =  0.0070\n"
     ]
    },
    {
     "data": {
      "text/html": [
       "<table class=\"simpletable\">\n",
       "<caption>OLS Regression Results</caption>\n",
       "<tr>\n",
       "  <th>Dep. Variable:</th>         <td>f1score</td>     <th>  R-squared:         </th> <td>   0.031</td>\n",
       "</tr>\n",
       "<tr>\n",
       "  <th>Model:</th>                   <td>OLS</td>       <th>  Adj. R-squared:    </th> <td>   0.022</td>\n",
       "</tr>\n",
       "<tr>\n",
       "  <th>Method:</th>             <td>Least Squares</td>  <th>  F-statistic:       </th> <td>   3.572</td>\n",
       "</tr>\n",
       "<tr>\n",
       "  <th>Date:</th>             <td>Sun, 03 Nov 2019</td> <th>  Prob (F-statistic):</th>  <td>0.00700</td>\n",
       "</tr>\n",
       "<tr>\n",
       "  <th>Time:</th>                 <td>19:29:04</td>     <th>  Log-Likelihood:    </th> <td>  133.75</td>\n",
       "</tr>\n",
       "<tr>\n",
       "  <th>No. Observations:</th>      <td>   450</td>      <th>  AIC:               </th> <td>  -257.5</td>\n",
       "</tr>\n",
       "<tr>\n",
       "  <th>Df Residuals:</th>          <td>   445</td>      <th>  BIC:               </th> <td>  -236.9</td>\n",
       "</tr>\n",
       "<tr>\n",
       "  <th>Df Model:</th>              <td>     4</td>      <th>                     </th>     <td> </td>   \n",
       "</tr>\n",
       "<tr>\n",
       "  <th>Covariance Type:</th>      <td>nonrobust</td>    <th>                     </th>     <td> </td>   \n",
       "</tr>\n",
       "</table>\n",
       "<table class=\"simpletable\">\n",
       "<tr>\n",
       "          <td></td>             <th>coef</th>     <th>std err</th>      <th>t</th>      <th>P>|t|</th>  <th>[0.025</th>    <th>0.975]</th>  \n",
       "</tr>\n",
       "<tr>\n",
       "  <th>Intercept</th>         <td>    0.8412</td> <td>    0.019</td> <td>   44.147</td> <td> 0.000</td> <td>    0.804</td> <td>    0.879</td>\n",
       "</tr>\n",
       "<tr>\n",
       "  <th>C(methods)[T.dt]</th>  <td>   -0.0384</td> <td>    0.027</td> <td>   -1.425</td> <td> 0.155</td> <td>   -0.091</td> <td>    0.015</td>\n",
       "</tr>\n",
       "<tr>\n",
       "  <th>C(methods)[T.fc]</th>  <td>   -0.0019</td> <td>    0.027</td> <td>   -0.071</td> <td> 0.943</td> <td>   -0.055</td> <td>    0.051</td>\n",
       "</tr>\n",
       "<tr>\n",
       "  <th>C(methods)[T.rf]</th>  <td>   -0.0031</td> <td>    0.027</td> <td>   -0.115</td> <td> 0.908</td> <td>   -0.056</td> <td>    0.050</td>\n",
       "</tr>\n",
       "<tr>\n",
       "  <th>C(methods)[T.svc]</th> <td>   -0.0831</td> <td>    0.027</td> <td>   -3.082</td> <td> 0.002</td> <td>   -0.136</td> <td>   -0.030</td>\n",
       "</tr>\n",
       "</table>\n",
       "<table class=\"simpletable\">\n",
       "<tr>\n",
       "  <th>Omnibus:</th>       <td>129.208</td> <th>  Durbin-Watson:     </th> <td>   0.475</td>\n",
       "</tr>\n",
       "<tr>\n",
       "  <th>Prob(Omnibus):</th> <td> 0.000</td>  <th>  Jarque-Bera (JB):  </th> <td> 295.681</td>\n",
       "</tr>\n",
       "<tr>\n",
       "  <th>Skew:</th>          <td>-1.479</td>  <th>  Prob(JB):          </th> <td>6.22e-65</td>\n",
       "</tr>\n",
       "<tr>\n",
       "  <th>Kurtosis:</th>      <td> 5.650</td>  <th>  Cond. No.          </th> <td>    5.83</td>\n",
       "</tr>\n",
       "</table><br/><br/>Warnings:<br/>[1] Standard Errors assume that the covariance matrix of the errors is correctly specified."
      ],
      "text/plain": [
       "<class 'statsmodels.iolib.summary.Summary'>\n",
       "\"\"\"\n",
       "                            OLS Regression Results                            \n",
       "==============================================================================\n",
       "Dep. Variable:                f1score   R-squared:                       0.031\n",
       "Model:                            OLS   Adj. R-squared:                  0.022\n",
       "Method:                 Least Squares   F-statistic:                     3.572\n",
       "Date:                Sun, 03 Nov 2019   Prob (F-statistic):            0.00700\n",
       "Time:                        19:29:04   Log-Likelihood:                 133.75\n",
       "No. Observations:                 450   AIC:                            -257.5\n",
       "Df Residuals:                     445   BIC:                            -236.9\n",
       "Df Model:                           4                                         \n",
       "Covariance Type:            nonrobust                                         \n",
       "=====================================================================================\n",
       "                        coef    std err          t      P>|t|      [0.025      0.975]\n",
       "-------------------------------------------------------------------------------------\n",
       "Intercept             0.8412      0.019     44.147      0.000       0.804       0.879\n",
       "C(methods)[T.dt]     -0.0384      0.027     -1.425      0.155      -0.091       0.015\n",
       "C(methods)[T.fc]     -0.0019      0.027     -0.071      0.943      -0.055       0.051\n",
       "C(methods)[T.rf]     -0.0031      0.027     -0.115      0.908      -0.056       0.050\n",
       "C(methods)[T.svc]    -0.0831      0.027     -3.082      0.002      -0.136      -0.030\n",
       "==============================================================================\n",
       "Omnibus:                      129.208   Durbin-Watson:                   0.475\n",
       "Prob(Omnibus):                  0.000   Jarque-Bera (JB):              295.681\n",
       "Skew:                          -1.479   Prob(JB):                     6.22e-65\n",
       "Kurtosis:                       5.650   Cond. No.                         5.83\n",
       "==============================================================================\n",
       "\n",
       "Warnings:\n",
       "[1] Standard Errors assume that the covariance matrix of the errors is correctly specified.\n",
       "\"\"\""
      ]
     },
     "execution_count": 23,
     "metadata": {},
     "output_type": "execute_result"
    }
   ],
   "source": [
    "    # Fits the model with the interaction term\n",
    "    # This will also automatically include the main effects for each factor\n",
    "    model30 = ols('f1score ~ C(methods)', df30).fit()\n",
    "\n",
    "    # Seeing if the overall model is significant\n",
    "    print(f\"Overall model F({model30.df_model: .0f},{model30.df_resid: .0f}) = {model30.fvalue: .3f}, p = {model30.f_pvalue: .4f}\")\n",
    "    model30.summary()"
   ]
  },
  {
   "cell_type": "code",
   "execution_count": 24,
   "metadata": {},
   "outputs": [
    {
     "name": "stdout",
     "output_type": "stream",
     "text": [
      "Overall model F( 4, 445) =  2.206, p =  0.0674\n"
     ]
    },
    {
     "data": {
      "text/html": [
       "<table class=\"simpletable\">\n",
       "<caption>OLS Regression Results</caption>\n",
       "<tr>\n",
       "  <th>Dep. Variable:</th>         <td>f1score</td>     <th>  R-squared:         </th> <td>   0.043</td>\n",
       "</tr>\n",
       "<tr>\n",
       "  <th>Model:</th>                   <td>OLS</td>       <th>  Adj. R-squared:    </th> <td>   0.034</td>\n",
       "</tr>\n",
       "<tr>\n",
       "  <th>Method:</th>             <td>Least Squares</td>  <th>  F-statistic:       </th> <td>   5.003</td>\n",
       "</tr>\n",
       "<tr>\n",
       "  <th>Date:</th>             <td>Sun, 03 Nov 2019</td> <th>  Prob (F-statistic):</th> <td>0.000594</td>\n",
       "</tr>\n",
       "<tr>\n",
       "  <th>Time:</th>                 <td>19:29:04</td>     <th>  Log-Likelihood:    </th> <td>  61.315</td>\n",
       "</tr>\n",
       "<tr>\n",
       "  <th>No. Observations:</th>      <td>   450</td>      <th>  AIC:               </th> <td>  -112.6</td>\n",
       "</tr>\n",
       "<tr>\n",
       "  <th>Df Residuals:</th>          <td>   445</td>      <th>  BIC:               </th> <td>  -92.08</td>\n",
       "</tr>\n",
       "<tr>\n",
       "  <th>Df Model:</th>              <td>     4</td>      <th>                     </th>     <td> </td>   \n",
       "</tr>\n",
       "<tr>\n",
       "  <th>Covariance Type:</th>      <td>nonrobust</td>    <th>                     </th>     <td> </td>   \n",
       "</tr>\n",
       "</table>\n",
       "<table class=\"simpletable\">\n",
       "<tr>\n",
       "          <td></td>             <th>coef</th>     <th>std err</th>      <th>t</th>      <th>P>|t|</th>  <th>[0.025</th>    <th>0.975]</th>  \n",
       "</tr>\n",
       "<tr>\n",
       "  <th>Intercept</th>         <td>    0.8296</td> <td>    0.022</td> <td>   37.065</td> <td> 0.000</td> <td>    0.786</td> <td>    0.874</td>\n",
       "</tr>\n",
       "<tr>\n",
       "  <th>C(methods)[T.dt]</th>  <td>   -0.0510</td> <td>    0.032</td> <td>   -1.612</td> <td> 0.108</td> <td>   -0.113</td> <td>    0.011</td>\n",
       "</tr>\n",
       "<tr>\n",
       "  <th>C(methods)[T.fc]</th>  <td>    0.0051</td> <td>    0.032</td> <td>    0.161</td> <td> 0.872</td> <td>   -0.057</td> <td>    0.067</td>\n",
       "</tr>\n",
       "<tr>\n",
       "  <th>C(methods)[T.rf]</th>  <td>   -0.0109</td> <td>    0.032</td> <td>   -0.345</td> <td> 0.730</td> <td>   -0.073</td> <td>    0.051</td>\n",
       "</tr>\n",
       "<tr>\n",
       "  <th>C(methods)[T.svc]</th> <td>   -0.1147</td> <td>    0.032</td> <td>   -3.625</td> <td> 0.000</td> <td>   -0.177</td> <td>   -0.053</td>\n",
       "</tr>\n",
       "</table>\n",
       "<table class=\"simpletable\">\n",
       "<tr>\n",
       "  <th>Omnibus:</th>       <td>150.624</td> <th>  Durbin-Watson:     </th> <td>   0.421</td>\n",
       "</tr>\n",
       "<tr>\n",
       "  <th>Prob(Omnibus):</th> <td> 0.000</td>  <th>  Jarque-Bera (JB):  </th> <td> 382.223</td>\n",
       "</tr>\n",
       "<tr>\n",
       "  <th>Skew:</th>          <td>-1.681</td>  <th>  Prob(JB):          </th> <td>1.00e-83</td>\n",
       "</tr>\n",
       "<tr>\n",
       "  <th>Kurtosis:</th>      <td> 6.014</td>  <th>  Cond. No.          </th> <td>    5.83</td>\n",
       "</tr>\n",
       "</table><br/><br/>Warnings:<br/>[1] Standard Errors assume that the covariance matrix of the errors is correctly specified."
      ],
      "text/plain": [
       "<class 'statsmodels.iolib.summary.Summary'>\n",
       "\"\"\"\n",
       "                            OLS Regression Results                            \n",
       "==============================================================================\n",
       "Dep. Variable:                f1score   R-squared:                       0.043\n",
       "Model:                            OLS   Adj. R-squared:                  0.034\n",
       "Method:                 Least Squares   F-statistic:                     5.003\n",
       "Date:                Sun, 03 Nov 2019   Prob (F-statistic):           0.000594\n",
       "Time:                        19:29:04   Log-Likelihood:                 61.315\n",
       "No. Observations:                 450   AIC:                            -112.6\n",
       "Df Residuals:                     445   BIC:                            -92.08\n",
       "Df Model:                           4                                         \n",
       "Covariance Type:            nonrobust                                         \n",
       "=====================================================================================\n",
       "                        coef    std err          t      P>|t|      [0.025      0.975]\n",
       "-------------------------------------------------------------------------------------\n",
       "Intercept             0.8296      0.022     37.065      0.000       0.786       0.874\n",
       "C(methods)[T.dt]     -0.0510      0.032     -1.612      0.108      -0.113       0.011\n",
       "C(methods)[T.fc]      0.0051      0.032      0.161      0.872      -0.057       0.067\n",
       "C(methods)[T.rf]     -0.0109      0.032     -0.345      0.730      -0.073       0.051\n",
       "C(methods)[T.svc]    -0.1147      0.032     -3.625      0.000      -0.177      -0.053\n",
       "==============================================================================\n",
       "Omnibus:                      150.624   Durbin-Watson:                   0.421\n",
       "Prob(Omnibus):                  0.000   Jarque-Bera (JB):              382.223\n",
       "Skew:                          -1.681   Prob(JB):                     1.00e-83\n",
       "Kurtosis:                       6.014   Cond. No.                         5.83\n",
       "==============================================================================\n",
       "\n",
       "Warnings:\n",
       "[1] Standard Errors assume that the covariance matrix of the errors is correctly specified.\n",
       "\"\"\""
      ]
     },
     "execution_count": 24,
     "metadata": {},
     "output_type": "execute_result"
    }
   ],
   "source": [
    "    # Fits the model with the interaction term\n",
    "    # This will also automatically include the main effects for each factor\n",
    "    model60 = ols('f1score ~ C(methods)', df60).fit()\n",
    "\n",
    "    # Seeing if the overall model is significant\n",
    "    print(f\"Overall model F({model60.df_model: .0f},{model60.df_resid: .0f}) = {model60.fvalue: .3f}, p = {model60.f_pvalue: .4f}\")\n",
    "    model10.summary()"
   ]
  },
  {
   "cell_type": "code",
   "execution_count": 25,
   "metadata": {},
   "outputs": [
    {
     "name": "stdout",
     "output_type": "stream",
     "text": [
      "Multiple Comparison of Means - Tukey HSD, FWER=0.05 \n",
      "====================================================\n",
      "group1 group2 meandiff p-adj   lower   upper  reject\n",
      "----------------------------------------------------\n",
      "    3c     dt   -0.051 0.4908 -0.1377  0.0357  False\n",
      "    3c     fc   0.0051    0.9 -0.0816  0.0918  False\n",
      "    3c     rf  -0.0109    0.9 -0.0976  0.0758  False\n",
      "    3c    svc  -0.1147  0.003 -0.2014  -0.028   True\n",
      "    dt     fc   0.0561  0.392 -0.0306  0.1428  False\n",
      "    dt     rf   0.0401 0.6869 -0.0466  0.1268  False\n",
      "    dt    svc  -0.0637 0.2614 -0.1504   0.023  False\n",
      "    fc     rf   -0.016    0.9 -0.1027  0.0707  False\n",
      "    fc    svc  -0.1198 0.0016 -0.2065 -0.0331   True\n",
      "    rf    svc  -0.1038 0.0098 -0.1905 -0.0171   True\n",
      "----------------------------------------------------\n"
     ]
    }
   ],
   "source": [
    "from statsmodels.stats.multicomp import pairwise_tukeyhsd\n",
    "from statsmodels.stats.multicomp import MultiComparison\n",
    "\n",
    "mc = MultiComparison(df10['f1score'], df10['methods'])\n",
    "mc_results = mc.tukeyhsd()\n",
    "print(mc_results)"
   ]
  },
  {
   "cell_type": "code",
   "execution_count": 26,
   "metadata": {},
   "outputs": [
    {
     "name": "stdout",
     "output_type": "stream",
     "text": [
      "Multiple Comparison of Means - Tukey HSD, FWER=0.01\n",
      "===================================================\n",
      "group1 group2 meandiff p-adj   lower  upper  reject\n",
      "---------------------------------------------------\n",
      "    3c     dt  -0.0384 0.5968 -0.1295 0.0527  False\n",
      "    3c     fc  -0.0019    0.9  -0.093 0.0892  False\n",
      "    3c     rf  -0.0031    0.9 -0.0942  0.088  False\n",
      "    3c    svc  -0.0831 0.0185 -0.1742 0.0081  False\n",
      "    dt     fc   0.0365 0.6372 -0.0546 0.1276  False\n",
      "    dt     rf   0.0353 0.6621 -0.0558 0.1264  False\n",
      "    dt    svc  -0.0446 0.4632 -0.1358 0.0465  False\n",
      "    fc     rf  -0.0012    0.9 -0.0923 0.0899  False\n",
      "    fc    svc  -0.0811  0.023 -0.1723   0.01  False\n",
      "    rf    svc    -0.08 0.0262 -0.1711 0.0112  False\n",
      "---------------------------------------------------\n"
     ]
    }
   ],
   "source": [
    "mc = MultiComparison(df30['f1score'], df30['methods'])\n",
    "mc_results = mc.tukeyhsd(model30.f_pvalue)\n",
    "print(mc_results)"
   ]
  },
  {
   "cell_type": "code",
   "execution_count": 27,
   "metadata": {},
   "outputs": [
    {
     "name": "stdout",
     "output_type": "stream",
     "text": [
      "Multiple Comparison of Means - Tukey HSD, FWER=0.07 \n",
      "====================================================\n",
      "group1 group2 meandiff p-adj   lower   upper  reject\n",
      "----------------------------------------------------\n",
      "    3c     dt  -0.0297 0.7794 -0.1004   0.041  False\n",
      "    3c     fc   0.0199    0.9 -0.0508  0.0907  False\n",
      "    3c     rf  -0.0102    0.9 -0.0809  0.0605  False\n",
      "    3c    svc  -0.0539 0.2665 -0.1246  0.0168  False\n",
      "    dt     fc   0.0496 0.3503 -0.0211  0.1204  False\n",
      "    dt     rf   0.0195    0.9 -0.0512  0.0902  False\n",
      "    dt    svc  -0.0242 0.8946 -0.0949  0.0465  False\n",
      "    fc     rf  -0.0301 0.7701 -0.1009  0.0406  False\n",
      "    fc    svc  -0.0739 0.0495 -0.1446 -0.0031   True\n",
      "    rf    svc  -0.0437 0.4835 -0.1144   0.027  False\n",
      "----------------------------------------------------\n"
     ]
    }
   ],
   "source": [
    "mc = MultiComparison(df60['f1score'], df60['methods'])\n",
    "mc_results = mc.tukeyhsd(model60.f_pvalue)\n",
    "print(mc_results)"
   ]
  }
 ],
 "metadata": {
  "kernelspec": {
   "display_name": "Python 3",
   "language": "python",
   "name": "python3"
  },
  "language_info": {
   "codemirror_mode": {
    "name": "ipython",
    "version": 3
   },
   "file_extension": ".py",
   "mimetype": "text/x-python",
   "name": "python",
   "nbconvert_exporter": "python",
   "pygments_lexer": "ipython3",
   "version": "3.7.4"
  }
 },
 "nbformat": 4,
 "nbformat_minor": 2
}
